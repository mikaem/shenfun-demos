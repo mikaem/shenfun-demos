{
 "cells": [
  {
   "cell_type": "markdown",
   "id": "58c5d26f",
   "metadata": {
    "editable": true
   },
   "source": [
    "<!-- File automatically generated using DocOnce (https://github.com/doconce/doconce/):\n",
    "doconce format ipynb sparsity.do.txt  -->\n",
    "\n",
    "# Demo - Sparse Chebyshev-Petrov-Galerkin methods for differentiation\n",
    "**Mikael Mortensen** (email: `mikaem@math.uio.no`), Department of Mathematics, University of Oslo.\n",
    "\n",
    "Date: **October 26, 2021**\n",
    "\n",
    "**Summary.** This demo explores how to use sparse Chebyshev-Petrov-Galerkin methods for finding Chebyshev coefficients of\n",
    "the derivatives of smooth functions. We will compare the methods to the more commonly adopted\n",
    "recursion methods that are found in most spectral textbooks."
   ]
  },
  {
   "cell_type": "markdown",
   "id": "9f55e322",
   "metadata": {
    "editable": true
   },
   "source": [
    "## Introduction\n",
    "\n",
    "The Chebyshev polynomials of the first kind can be defined as"
   ]
  },
  {
   "cell_type": "markdown",
   "id": "ba100439",
   "metadata": {
    "editable": true
   },
   "source": [
    "<!-- Equation labels as ordinary links -->\n",
    "<a id=\"eq:chebTU\"></a>\n",
    "\n",
    "$$\n",
    "\\begin{equation}\n",
    "\\label{eq:chebTU} \\tag{1}\n",
    "    T_k(x) = \\cos(k\\theta),\n",
    "\\end{equation}\n",
    "$$"
   ]
  },
  {
   "cell_type": "markdown",
   "id": "536f01d0",
   "metadata": {
    "editable": true
   },
   "source": [
    "where $\\theta = \\cos^{-1} x$, $k$ is a positive integer and $x \\in [-1, 1]$.\n",
    "The Chebyshev polynomials span the discrete space $S_N = \\text{span}\\{T_k\\}_{k=0}^{N-1}$,\n",
    "and a function $u(x)$ can be approximated in this space as"
   ]
  },
  {
   "cell_type": "markdown",
   "id": "011d2ba0",
   "metadata": {
    "editable": true
   },
   "source": [
    "<!-- Equation labels as ordinary links -->\n",
    "<a id=\"eq:uT\"></a>\n",
    "\n",
    "$$\n",
    "\\begin{equation}\n",
    "u_N(x) = \\sum_{k=0}^{N-1} \\hat{u}_k T_k(x).\n",
    "\\label{eq:uT} \\tag{2}\n",
    "\\end{equation}\n",
    "$$"
   ]
  },
  {
   "cell_type": "markdown",
   "id": "bcdd46fb",
   "metadata": {
    "editable": true
   },
   "source": [
    "Consider the expansion of the function $u(x)=\\sin(\\pi x)$, created in `shenfun` as"
   ]
  },
  {
   "cell_type": "code",
   "execution_count": null,
   "id": "7c9b7aab",
   "metadata": {
    "editable": true
   },
   "outputs": [],
   "source": [
    "from shenfun import *\n",
    "import sympy as sp\n",
    "x = sp.Symbol('x')\n",
    "ue = sp.sin(sp.pi*x)\n",
    "N = 16\n",
    "SN = FunctionSpace(N, 'C')\n",
    "uN = Function(SN, buffer=ue)\n",
    "uN"
   ]
  },
  {
   "cell_type": "markdown",
   "id": "6664485f",
   "metadata": {
    "editable": true
   },
   "source": [
    "The Python Function `uN` represents the expansion ([2](#eq:uT)), and the printed\n",
    "values represent $\\boldsymbol{\\hat{u}} = \\{\\hat{u}_k\\}_{k=0}^{N-1}$. The expansion is fairly well resolved since\n",
    "the highest values of $\\{\\hat{u}_k\\}_{k=0}^{N-1}$ approach 0.\n",
    "Note that the coefficients obtained are based on interpolation at\n",
    "quadrature points and they do not agree completely with the coefficients truncated from an\n",
    "infinite series $u(x) = \\sum_{k=0}^{\\infty} \\hat{u}_k T_k$. The obtained series is\n",
    "often denoted as $u_N(x) = I_N u(x)$, where $I_N$ is an interpolation operator.\n",
    "Under the hood the coefficients are found by projection using quadrature for the integrals:\n",
    "find $u_N \\in S_N$ such that"
   ]
  },
  {
   "cell_type": "markdown",
   "id": "0dc4bb99",
   "metadata": {
    "editable": true
   },
   "source": [
    "$$\n",
    "(u_N-u, v)_{\\omega^{-1/2}} = 0, \\quad \\forall v \\in S_N,\n",
    "$$"
   ]
  },
  {
   "cell_type": "markdown",
   "id": "5d24300e",
   "metadata": {
    "editable": true
   },
   "source": [
    "where $\\omega = (1-x^2)$ and the scalar product notation\n",
    "$(a, b)_{\\omega^{-1/2}} = \\sum_{j=0}^{N-1} a(x_j)b(x_j)\\omega_j \\approx \\int_{-1}^{1} a(x)b(x) \\omega(x)^{-1/2} dx$,\n",
    "where $\\{\\omega_j\\}_{j=0}^{N-1}$ are the quadrature weights. The quadrature approach ensures\n",
    "that $u(x_j) = u_N(x_j)$ for all quadrature points $\\{x_j\\}_{j=0}^{N-1}$.\n",
    "In `shenfun` we compute the following under the hood: insert for $u_N = \\sum_{j=0}^{N-1} \\hat{u}_j T_j$,\n",
    "$u=\\sin(\\pi x)$ and $v = T_k$ to get"
   ]
  },
  {
   "cell_type": "markdown",
   "id": "a171894c",
   "metadata": {
    "editable": true
   },
   "source": [
    "$$\n",
    "\\sum_{j=0}^{N-1}(T_j, T_k)_{\\omega^{-1/2}} \\hat{u}_j = (\\sin(\\pi x), T_k)_{\\omega^{-1/2}},\n",
    "$$"
   ]
  },
  {
   "cell_type": "markdown",
   "id": "f35293d1",
   "metadata": {
    "editable": true
   },
   "source": [
    "This has now become a linear algebra problem, and we recognise the matrix $d^{(0)}_{kj} = (T_j, T_k)_{\\omega^{-1/2}}=c_k \\pi /2 \\delta_{kj}$,\n",
    "where $\\delta_{kj}$ is the Kronecker delta function, and $c_0=2$ and $c_k=1$ for $k>0$.\n",
    "The problem is solved trivially since $d^{(0)}_{kj}$ is diagonal,\n",
    "and thus"
   ]
  },
  {
   "cell_type": "markdown",
   "id": "20f0991c",
   "metadata": {
    "editable": true
   },
   "source": [
    "$$\n",
    "\\hat{u}_k = \\frac{2}{c_k \\pi} (\\sin(\\pi x), T_k)_{\\omega^{-1/2}}, \\quad \\forall \\, k\\in I^N,\n",
    "$$"
   ]
  },
  {
   "cell_type": "markdown",
   "id": "c853b848",
   "metadata": {
    "editable": true
   },
   "source": [
    "where $I^N = \\{0, 1, \\ldots, N-1\\}$.\n",
    "We can compare this to the truncated coefficients, where the integral $(\\sin(\\pi x), T_k)_{\\omega^{-1/2}}$\n",
    "is computed with high precision. To this end we could use adaptive quadrature, or symbolic integration\n",
    "with sympy, but it is sufficient to use a large enough number of polynomials to fully resolve the\n",
    "function. Below we find this number to be 22 and we see that the absolute error in\n",
    "the highest wavenumber $\\hat{u}_{15} \\approx 10^{-11}$."
   ]
  },
  {
   "cell_type": "code",
   "execution_count": null,
   "id": "5f0e2926",
   "metadata": {
    "editable": true
   },
   "outputs": [],
   "source": [
    "SM = FunctionSpace(0, 'C')\n",
    "uM = Function(SM, buffer=ue, abstol=1e-16, reltol=1e-16)\n",
    "print(uM[:N] - uN[:N])\n",
    "print(len(uM))"
   ]
  },
  {
   "cell_type": "markdown",
   "id": "bbfe70f2",
   "metadata": {
    "editable": true
   },
   "source": [
    "## Differentiation\n",
    "\n",
    "Let us now consider the $n$'th derivative of $u(x)$ instead, denoted here as $u^{(n)}$.\n",
    "We want to find $u^{(n)}$ in the space $S_N$, which means that we want to obtain\n",
    "the following expansion"
   ]
  },
  {
   "cell_type": "markdown",
   "id": "b4ff2822",
   "metadata": {
    "editable": true
   },
   "source": [
    "$$\n",
    "u_N^{(n)} = \\sum_{k=0}^{N-1} \\hat{u}^{(n)}_k T_k.\n",
    "$$"
   ]
  },
  {
   "cell_type": "markdown",
   "id": "43e3cbc6",
   "metadata": {
    "editable": true
   },
   "source": [
    "First note that this expansion is not the same as the derivative of\n",
    "the previously found $u_N$, which is"
   ]
  },
  {
   "cell_type": "markdown",
   "id": "db843bd3",
   "metadata": {
    "editable": true
   },
   "source": [
    "$$\n",
    "(u_N)^{(n)} = \\sum_{k=0}^{N-1} \\hat{u}_k T^{(n)}_k,\n",
    "$$"
   ]
  },
  {
   "cell_type": "markdown",
   "id": "4dfc3646",
   "metadata": {
    "editable": true
   },
   "source": [
    "where $T^{(n)}_k$ is the $n$'th derivative of $T_k$, a polynomial of order $k-n$.\n",
    "We again use projection to find $u_N^{(n)} \\in S_N$ such that"
   ]
  },
  {
   "cell_type": "markdown",
   "id": "2b6e1e00",
   "metadata": {
    "editable": true
   },
   "source": [
    "$$\n",
    "(u_N^{(n)}-u^{(n)}, v)_{\\omega^{-1/2}} = 0, \\quad \\forall v \\in S_N.\n",
    "$$"
   ]
  },
  {
   "cell_type": "markdown",
   "id": "911a5b05",
   "metadata": {
    "editable": true
   },
   "source": [
    "Inserting for $u_N^{(n)}$ and $u^{(n)} = (u_N)^{(n)}$ we get"
   ]
  },
  {
   "cell_type": "markdown",
   "id": "e62b57bb",
   "metadata": {
    "editable": true
   },
   "source": [
    "<!-- Equation labels as ordinary links -->\n",
    "<a id=\"_auto1\"></a>\n",
    "\n",
    "$$\n",
    "\\begin{equation}\n",
    "    \\sum_{j=0}^{N-1}(T_j, T_k)_{\\omega^{-1/2}} \\hat{u}_j^{(n)} = (T_j^{(n)}, T_k)_{\\omega^{-1/2}} \\hat{u}_j, \n",
    "\\label{_auto1} \\tag{3}\n",
    "\\end{equation}\n",
    "$$"
   ]
  },
  {
   "cell_type": "markdown",
   "id": "d86b0100",
   "metadata": {
    "editable": true
   },
   "source": [
    "<!-- Equation labels as ordinary links -->\n",
    "<a id=\"_auto2\"></a>\n",
    "\n",
    "$$\n",
    "\\begin{equation}  \n",
    "    \\sum_{j=0}^{N-1} d^{(0)}_{kj} \\hat{u}_j^{(n)}  = \\sum_{j=0}^{N-1} d^{(n)}_{kj} \\hat{u}_j,\n",
    "\\label{_auto2} \\tag{4}\n",
    "\\end{equation}\n",
    "$$"
   ]
  },
  {
   "cell_type": "markdown",
   "id": "8550ad83",
   "metadata": {
    "editable": true
   },
   "source": [
    "where $d^{(n)}_{kj} = (T_j^{(n)}, T_k)_{\\omega^{-1/2}}$.\n",
    "We compute $\\hat{u}_k^{(n)}$ by inverting the diagonal $d^{(0)}_{kj}$"
   ]
  },
  {
   "cell_type": "markdown",
   "id": "795186cd",
   "metadata": {
    "editable": true
   },
   "source": [
    "<!-- Equation labels as ordinary links -->\n",
    "<a id=\"eq:fhat\"></a>\n",
    "\n",
    "$$\n",
    "\\begin{equation}\n",
    "\\hat{u}_k^{(n)} = \\frac{2}{c_k \\pi} \\sum_{j=0}^{N-1} d^{(n)}_{kj} \\hat{u}_j, \\quad \\forall \\, k \\in I^{N}.\n",
    "\\label{eq:fhat} \\tag{5}\n",
    "\\end{equation}\n",
    "$$"
   ]
  },
  {
   "cell_type": "markdown",
   "id": "366e9fb0",
   "metadata": {
    "editable": true
   },
   "source": [
    "The matrix $d^{(n)}_{kj}$ is upper triangular, and the last $n$ rows are zero. Since $d^{(n)}_{kj}$ is\n",
    "dense the matrix vector product $\\sum_{j=0}^{N-1} d^{(n)}_{kj} \\hat{u}_j$ is costly\n",
    "and also susceptible to roundoff errors if the structure of the matrix is\n",
    "not taken advantage of. But computing it in shenfun\n",
    "is straightforward, for $n=1$ and $2$:"
   ]
  },
  {
   "cell_type": "code",
   "execution_count": null,
   "id": "f16f8fce",
   "metadata": {
    "editable": true
   },
   "outputs": [],
   "source": [
    "uN1 = project(Dx(uN, 0, 1), SN)\n",
    "uN2 = project(Dx(uN, 0, 2), SN)\n",
    "uN1"
   ]
  },
  {
   "cell_type": "markdown",
   "id": "4a7ab3ed",
   "metadata": {
    "editable": true
   },
   "source": [
    "where `uN1` $=u_N^{(1)}$ and `uN2` $=u_N^{(2)}$.\n",
    "Alternatively, doing all the work that goes on under the hood"
   ]
  },
  {
   "cell_type": "code",
   "execution_count": null,
   "id": "528f1b32",
   "metadata": {
    "editable": true
   },
   "outputs": [],
   "source": [
    "u = TrialFunction(SN)\n",
    "v = TestFunction(SN)\n",
    "D0 = inner(u, v)\n",
    "D1 = inner(Dx(u, 0, 1), v)\n",
    "D2 = inner(Dx(u, 0, 2), v)\n",
    "w0 = Function(SN) # work array\n",
    "uN1 = Function(SN)\n",
    "uN2 = Function(SN)\n",
    "uN1 = D0.solve(D1.matvec(uN, w0), uN1)\n",
    "uN2 = D0.solve(D2.matvec(uN, w0), uN2)\n",
    "uN1"
   ]
  },
  {
   "cell_type": "markdown",
   "id": "4aff5680",
   "metadata": {
    "editable": true
   },
   "source": [
    "We can look at the sparsity patterns of $(d^{(1)}_{kj})$ and $(d^{(2)}_{kj})$"
   ]
  },
  {
   "cell_type": "code",
   "execution_count": null,
   "id": "4085593e",
   "metadata": {
    "editable": true
   },
   "outputs": [],
   "source": [
    "%matplotlib inline\n",
    "\n",
    "import matplotlib.pyplot as plt\n",
    "fig, (ax1, ax2) = plt.subplots(1, 2)\n",
    "ax1.spy(D1.diags(), markersize=2, color='r')\n",
    "ax2.spy(D2.diags(), markersize=2, color='b')"
   ]
  },
  {
   "cell_type": "markdown",
   "id": "96da26ef",
   "metadata": {
    "editable": true
   },
   "source": [
    "just to see that they are upper triangular. We now ask is there a better and faster\n",
    "way to get `uN1` and `uN2`? A better approach would involve only sparse\n",
    "matrices, like the diagonal $(d^{(0)}_{kj})$. But how do we get there?\n",
    "Most textbooks on spectral methods use fast recursive methods to\n",
    "find the coefficients $\\{\\hat{u}_k^{(n)}\\}$. Here we will show a fast Galerkin approach.\n",
    "\n",
    "It turns out that a simple change of test space/function will be sufficient.\n",
    "Let us first replace the test space $S_N$ with\n",
    "the Dirichlet space $D_N=\\{v \\in S_N | v(\\pm 1) = 0\\}$ using basis\n",
    "functions $v=T_k-T_{k+2}$ and see\n",
    "what happens. Because of the two boundary conditions,\n",
    "the number of degrees of freedom is reduced by two, and we need to use a\n",
    "space with $N+2$ quadrature points in order to get a square matrix system.\n",
    "The method now becomes classified as Chebyshev-Petrov-Galerkin, as we\n",
    "wish to find $u_N^{(1)} \\in S_N$ such that"
   ]
  },
  {
   "cell_type": "markdown",
   "id": "50ee347c",
   "metadata": {
    "editable": true
   },
   "source": [
    "$$\n",
    "(u_N^{(1)}-u^{(1)}, v)_{\\omega^{-1/2}} = 0, \\quad \\forall v \\in D_{N+2}.\n",
    "$$"
   ]
  },
  {
   "cell_type": "markdown",
   "id": "c9045cd8",
   "metadata": {
    "editable": true
   },
   "source": [
    "The implementation is straightforward"
   ]
  },
  {
   "cell_type": "code",
   "execution_count": null,
   "id": "a33ea5e1",
   "metadata": {
    "editable": true
   },
   "outputs": [],
   "source": [
    "DN = FunctionSpace(N+2, 'C', bc=(0, 0))\n",
    "v = TestFunction(DN)\n",
    "D0 = inner(u, v)\n",
    "D1 = inner(Dx(u, 0, 1), v)\n",
    "uN11 = Function(SN)\n",
    "uN11 = D0.solve(D1.matvec(uN, w0), uN11)\n",
    "print(uN11-uN1)"
   ]
  },
  {
   "cell_type": "markdown",
   "id": "81940cd8",
   "metadata": {
    "editable": true
   },
   "source": [
    "and since `uN11 = uN1` we see that we have achived the same result as in\n",
    "the regular projection. However, the matrices in use now look like"
   ]
  },
  {
   "cell_type": "code",
   "execution_count": null,
   "id": "b31866ee",
   "metadata": {
    "editable": true
   },
   "outputs": [],
   "source": [
    "fig, (ax1, ax2) = plt.subplots(1, 2)\n",
    "ax1.spy(D0.diags(), markersize=2, color='r')\n",
    "ax2.spy(D1.diags(), markersize=2, color='b')"
   ]
  },
  {
   "cell_type": "markdown",
   "id": "4c73ea47",
   "metadata": {
    "editable": true
   },
   "source": [
    "So $(d^{(0)}_{kj})$ now contains two nonzero diagonals, whereas $(d^{(1)}_{kj})$ is\n",
    "a matrix with one single diagonal. There is no longer a `full` differentiation\n",
    "matrix, and we can easily perform this projection for millions of degrees of freedom.\n",
    "What about $(d^{(2)}_{kj})$? We can now use biharmonic test functions that\n",
    "satisfy four boundary conditions in the space $B_N = \\{v \\in S_N | v(\\pm 1) = v'(\\pm 1) =0\\}$,\n",
    "and continue in a similar fashion:"
   ]
  },
  {
   "cell_type": "code",
   "execution_count": null,
   "id": "4f6fa8ab",
   "metadata": {
    "editable": true
   },
   "outputs": [],
   "source": [
    "BN = FunctionSpace(N+4, 'C', bc=(0, 0, 0, 0))\n",
    "v = TestFunction(BN)\n",
    "D0 = inner(u, v)\n",
    "D2 = inner(Dx(u, 0, 2), v)\n",
    "uN22 = Function(SN)\n",
    "uN22 = D0.solve(D2.matvec(uN, w0), uN22)\n",
    "print(uN22-uN2)"
   ]
  },
  {
   "cell_type": "markdown",
   "id": "99183750",
   "metadata": {
    "editable": true
   },
   "source": [
    "We get that `uN22 = uN2`, so the Chebyshev-Petrov-Galerkin projection works. The matrices involved are now"
   ]
  },
  {
   "cell_type": "code",
   "execution_count": null,
   "id": "35b01605",
   "metadata": {
    "editable": true
   },
   "outputs": [],
   "source": [
    "fig, (ax1, ax2) = plt.subplots(1, 2)\n",
    "ax1.spy(D0.diags(), markersize=2, color='r')\n",
    "ax2.spy(D2.diags(), markersize=2, color='b')"
   ]
  },
  {
   "cell_type": "markdown",
   "id": "672ad6bb",
   "metadata": {
    "editable": true
   },
   "source": [
    "So there are now three nonzero diagonals in $(d^{(0)}_{kj})$, whereas the differentiation matrix\n",
    "$(d^{(2)}_{kj})$ contains only one nonzero diagonal.\n",
    "\n",
    "Why does this work so well? The Chebyshev polynomials and their derivatives satisfy the following orthogonality relation"
   ]
  },
  {
   "cell_type": "markdown",
   "id": "0a46fd09",
   "metadata": {
    "editable": true
   },
   "source": [
    "<!-- Equation labels as ordinary links -->\n",
    "<a id=\"eq:orthon\"></a>\n",
    "\n",
    "$$\n",
    "\\begin{equation}\n",
    "\\label{eq:orthon} \\tag{6}\n",
    "  \\int_{-1}^{1} T^{(n)}_j T^{(n)}_k \\omega^{n-1/2} dx = \\alpha^{n}_k \\delta_{kj}, \\quad \\text{for}\\, n \\ge 0,\n",
    "\\end{equation}\n",
    "$$"
   ]
  },
  {
   "cell_type": "markdown",
   "id": "9a18d407",
   "metadata": {
    "editable": true
   },
   "source": [
    "where"
   ]
  },
  {
   "cell_type": "markdown",
   "id": "b4706c27",
   "metadata": {
    "editable": true
   },
   "source": [
    "<!-- Equation labels as ordinary links -->\n",
    "<a id=\"_auto3\"></a>\n",
    "\n",
    "$$\n",
    "\\begin{equation}\n",
    "    \\alpha^n_k = \\frac{c_{k+n}\\pi k (k+n-1)!}{2(k-n)!}.\n",
    "\\label{_auto3} \\tag{7}\n",
    "\\end{equation}\n",
    "$$"
   ]
  },
  {
   "cell_type": "markdown",
   "id": "457af8ca",
   "metadata": {
    "editable": true
   },
   "source": [
    "So when we choose a test function $\\omega^n T^{(n)}_k$ and a trial function $T_j$,\n",
    "we get the diagonal differentiation matrix"
   ]
  },
  {
   "cell_type": "markdown",
   "id": "97b1878d",
   "metadata": {
    "editable": true
   },
   "source": [
    "<!-- Equation labels as ordinary links -->\n",
    "<a id=\"_auto4\"></a>\n",
    "\n",
    "$$\n",
    "\\begin{equation}\n",
    "  d^{(n)}_{kj} = \\int_{-1}^{1} T^{(n)}_j (\\omega^n T^{(n)}_k) \\omega^{-1/2} dx = \\alpha^{n}_k \\delta_{kj}, \\quad \\text{for}\\, n \\ge 0.\n",
    "\\label{_auto4} \\tag{8}\n",
    "\\end{equation}\n",
    "$$"
   ]
  },
  {
   "cell_type": "markdown",
   "id": "517d775c",
   "metadata": {
    "editable": true
   },
   "source": [
    "The two chosen test functions above are both proportional to $\\omega^n T^{(n)}_k$. More precisely,\n",
    "$T_k-T_{k+2} = \\frac{2}{k+1} \\omega T^{(1)}_{k+1}$ and the biharmonic test function is\n",
    "$T_k-\\frac{2(k+2)}{k+3}T_{k+2} + \\frac{k+1}{k+3}T_{k+4} = \\frac{4 \\omega^2T^{(2)}_{k+2}}{(k+2)(k+3)}$.\n",
    "Using these very specific test functions correponds closely to using the Chebyshev\n",
    "recursion formulas that are found in most textbooks. Here they are adapted to\n",
    "a Chebyshev-Petrov-Galerkin method, where we simply choose test and trial functions and everything\n",
    "else falls into place in a few lines of code."
   ]
  },
  {
   "cell_type": "markdown",
   "id": "1d92f7df",
   "metadata": {
    "editable": true
   },
   "source": [
    "## Recursion\n",
    "\n",
    "Let us for completion show how to\n",
    "find $\\hat{u}_N^{(1)}$ with a recursive approach. The Chebyshev polynomials\n",
    "satisfy"
   ]
  },
  {
   "cell_type": "markdown",
   "id": "0a638222",
   "metadata": {
    "editable": true
   },
   "source": [
    "<!-- Equation labels as ordinary links -->\n",
    "<a id=\"eq:Trec1\"></a>\n",
    "\n",
    "$$\n",
    "\\begin{equation}\n",
    "2T_k = \\frac{1}{k+1}T'_{k+1}- \\frac{1}{k-1} T'_{k-1}, \\quad k \\ge 1.\n",
    "\\label{eq:Trec1} \\tag{9}\n",
    "\\end{equation}\n",
    "$$"
   ]
  },
  {
   "cell_type": "markdown",
   "id": "dd256c2b",
   "metadata": {
    "editable": true
   },
   "source": [
    "By using this and setting $u' = \\sum_{k=0}^{\\infty} \\hat{u}^{(1)}_k T_k = \\sum_{k=0}^{\\infty} \\hat{u}_k T'_k$\n",
    "we get"
   ]
  },
  {
   "cell_type": "markdown",
   "id": "fea1e484",
   "metadata": {
    "editable": true
   },
   "source": [
    "<!-- Equation labels as ordinary links -->\n",
    "<a id=\"eq:Trec2\"></a>\n",
    "\n",
    "$$\n",
    "\\begin{equation}\n",
    "2k\\hat{u}_k = c_{k-1}\\hat{u}^{(1)}_{k-1} - \\hat{u}^{(1)}_{k+1}, \\quad k \\ge 1.\n",
    "\\label{eq:Trec2} \\tag{10}\n",
    "\\end{equation}\n",
    "$$"
   ]
  },
  {
   "cell_type": "markdown",
   "id": "af5d9ea2",
   "metadata": {
    "editable": true
   },
   "source": [
    "Using this recursion on a discrete series, together with $\\hat{u}^{(1)}_{N} = \\hat{u}^{(1)}_{N-1} = 0$, we get\n",
    "(see [[canuto]](#canuto) Eq. (2.4.24))"
   ]
  },
  {
   "cell_type": "markdown",
   "id": "872bafce",
   "metadata": {
    "editable": true
   },
   "source": [
    "<!-- Equation labels as ordinary links -->\n",
    "<a id=\"eq:Trec3\"></a>\n",
    "\n",
    "$$\n",
    "\\begin{equation}\n",
    "c_k \\hat{u}^{(1)}_k = \\hat{u}^{(1)}_{k+2} + 2(k+1)\\hat{u}_{k+1}, \\quad 0 \\le k \\le N-2,\n",
    "\\label{eq:Trec3} \\tag{11}\n",
    "\\end{equation}\n",
    "$$"
   ]
  },
  {
   "cell_type": "markdown",
   "id": "46f9ad37",
   "metadata": {
    "editable": true
   },
   "source": [
    "which is easily implemented in a (slow) for-loop"
   ]
  },
  {
   "cell_type": "code",
   "execution_count": null,
   "id": "8c214de4",
   "metadata": {
    "editable": true
   },
   "outputs": [],
   "source": [
    "f1 = np.zeros(N+1)\n",
    "ck = np.ones(N); ck[0] = 2\n",
    "for k in range(N-2, -1, -1):\n",
    "    f1[k] = (f1[k+2]+2*(k+1)*uN[k+1])/ck[k]\n",
    "print(f1[:-1]-uN1)"
   ]
  },
  {
   "cell_type": "markdown",
   "id": "7fa6e896",
   "metadata": {
    "editable": true
   },
   "source": [
    "which evidently is exactly the same result. It turns out that this is not strange. If we multiply\n",
    "([11](#eq:Trec3)) by $\\pi/2$, rearrange a little bit and move to a matrix form we get"
   ]
  },
  {
   "cell_type": "markdown",
   "id": "d906cf65",
   "metadata": {
    "editable": true
   },
   "source": [
    "<!-- Equation labels as ordinary links -->\n",
    "<a id=\"_auto5\"></a>\n",
    "\n",
    "$$\n",
    "\\begin{equation}\n",
    "c_k \\pi/2 \\hat{u}^{(1)}_k -  \\pi/2 \\hat{u}^{(1)}_{k+2} = (k+1)\\pi \\hat{u}_{k+1} \n",
    "\\label{_auto5} \\tag{12}\n",
    "\\end{equation}\n",
    "$$"
   ]
  },
  {
   "cell_type": "markdown",
   "id": "b375158a",
   "metadata": {
    "editable": true
   },
   "source": [
    "<!-- Equation labels as ordinary links -->\n",
    "<a id=\"_auto6\"></a>\n",
    "\n",
    "$$\n",
    "\\begin{equation}  \n",
    "\\underbrace{(c_k \\pi/2 \\delta_{kj} - \\pi/2 \\delta_{k, j-2})}_{(D^0)_{kj}} \\hat{u}^{(1)}_j = \\underbrace{(k+1)\\pi \\delta_{k,j-1}}_{(D^1)_{kj}} \\hat{u}_{j} \n",
    "\\label{_auto6} \\tag{13}\n",
    "\\end{equation}\n",
    "$$"
   ]
  },
  {
   "cell_type": "markdown",
   "id": "54d26604",
   "metadata": {
    "editable": true
   },
   "source": [
    "<!-- Equation labels as ordinary links -->\n",
    "<a id=\"_auto7\"></a>\n",
    "\n",
    "$$\n",
    "\\begin{equation}  \n",
    "D^0 \\boldsymbol{\\hat{u}} = D^1 \\boldsymbol{\\hat{u}} \n",
    "\\label{_auto7} \\tag{14}\n",
    "\\end{equation}\n",
    "$$"
   ]
  },
  {
   "cell_type": "markdown",
   "id": "15167617",
   "metadata": {
    "editable": true
   },
   "source": [
    "<!-- Equation labels as ordinary links -->\n",
    "<a id=\"_auto8\"></a>\n",
    "\n",
    "$$\n",
    "\\begin{equation}  \n",
    "\\boldsymbol{\\hat{u}^{(1)}} = (D^0)^{-1} D^1 \\boldsymbol{\\hat{u}}\n",
    "\\label{_auto8} \\tag{15}\n",
    "\\end{equation}\n",
    "$$"
   ]
  },
  {
   "cell_type": "markdown",
   "id": "58f55380",
   "metadata": {
    "editable": true
   },
   "source": [
    "which is exactly how $\\boldsymbol{\\hat{u}^{(1)}}$ was computed above with the Chebyshev-Petrov-Galerkin approach\n",
    "(compare with the code line `uN11 = D0.solve(D1.matvec(uN, w0), uN11)`). Not convinced? Check that the matrices\n",
    "`D0` and `D1` are truly as stated above. The matrices below are printed as dictionaries with diagonal\n",
    "number as key (main is 0, first upper is 1 etc) and diagonal values as values:"
   ]
  },
  {
   "cell_type": "code",
   "execution_count": null,
   "id": "24802c29",
   "metadata": {
    "editable": true
   },
   "outputs": [],
   "source": [
    "import pprint\n",
    "DN = FunctionSpace(N+2, 'C', bc=(0, 0))\n",
    "v = TestFunction(DN)\n",
    "D0 = inner(u, v)\n",
    "D1 = inner(Dx(u, 0, 1), v)\n",
    "pprint.pprint(dict(D0))\n",
    "pprint.pprint(dict(D1))"
   ]
  },
  {
   "cell_type": "markdown",
   "id": "c2ffbfae",
   "metadata": {
    "editable": true
   },
   "source": [
    "In conclusion, we have shown that we can use an efficient Chebyshev-Petrov-Galerkin approach to obtain\n",
    "the discrete Chebyshev coefficients for the derivatives\n",
    "of a function. By inspection, it turns out that this approach is identical to the common methods based on\n",
    "well-known Chebyshev recursion formulas.\n",
    "\n",
    "<!-- ======= Bibliography ======= -->\n",
    "\n",
    "1. <a id=\"canuto\"></a> **C. Canuto, M. Hussaini, A. Quarteroni and J. T. A.**.  *Spectral Methods in Fluid Dynamics*, *Scientific Computation*, Springer, 2012."
   ]
  }
 ],
 "metadata": {
  "kernelspec": {
   "display_name": "shenfun",
   "language": "python3",
   "name": "shenfun"
  }
 },
 "nbformat": 4,
 "nbformat_minor": 5
}
