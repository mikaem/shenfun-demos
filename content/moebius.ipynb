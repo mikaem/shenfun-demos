{
 "cells": [
  {
   "cell_type": "markdown",
   "metadata": {},
   "source": [
    "<!-- dom:TITLE: Demo - Eigenvalues on the Möbius strip -->\n",
    "# Demo - Eigenvalues on the Möbius strip\n",
    "<!-- dom:AUTHOR: Mikael Mortensen Email:mikaem@math.uio.no at Department of Mathematics, University of Oslo. -->\n",
    "<!-- Author: -->  \n",
    "**Mikael Mortensen** (email: `mikaem@math.uio.no`), Department of Mathematics, University of Oslo.\n",
    "\n",
    "Date: **Oct 15, 2020**\n",
    "\n",
    "Copyright 2020, Mikael Mortensen. Released under CC Attribution 4.0 license\n",
    "\n",
    "**Summary.** This is a demonstration of how the Python module [shenfun](https://github.com/spectralDNS/shenfun) can be used to\n",
    "compute the eigenvalues and vectors of the Laplace Beltrami\n",
    "operator on the Möbius strip. The absolute value of the eigenvector\n",
    "corresponding to the eigth smallest eigenvalue $\\lambda=8.054788196$\n",
    "is shown in the figure below\n",
    "\n",
    "<!-- dom:FIGURE: [https://cdn.jsdelivr.net/gh/spectralDNS/spectralutilities@master/figures/moebius8_trans.png] -->\n",
    "<!-- begin figure -->\n",
    "\n",
    "<p></p>\n",
    "<img src=\"https://cdn.jsdelivr.net/gh/spectralDNS/spectralutilities@master/figures/moebius8_trans.png\" >\n",
    "\n",
    "<!-- end figure -->\n",
    "\n",
    "\n",
    "\n",
    "\n",
    "\n",
    "\n",
    "\n",
    "\n",
    "\n",
    "\n",
    "\n",
    "\n",
    "\n",
    "## The Möbius strip\n",
    "\n",
    "A Möbius strip is the simplest non-orientable surface embedded in\n",
    "$\\mathbb{R}^3$. There are seveal realizations possible, and we\n",
    "will here consider the one parametrized by [[Kalvoda2020]](#Kalvoda2020)"
   ]
  },
  {
   "cell_type": "markdown",
   "metadata": {},
   "source": [
    "<!-- Equation labels as ordinary links -->\n",
    "<a id=\"_auto1\"></a>\n",
    "\n",
    "$$\n",
    "\\begin{equation}\n",
    "    x(\\theta, t) = \\left(R-t\\cos\\frac{\\theta}{2R}\\right) \\cos \\frac{\\theta}{R}, \n",
    "\\label{_auto1} \\tag{1}\n",
    "\\end{equation}\n",
    "$$"
   ]
  },
  {
   "cell_type": "markdown",
   "metadata": {},
   "source": [
    "<!-- Equation labels as ordinary links -->\n",
    "<a id=\"_auto2\"></a>\n",
    "\n",
    "$$\n",
    "\\begin{equation}  \n",
    "    y(\\theta, t) = \\left(R-t\\cos\\frac{\\theta}{2R}\\right) \\sin \\frac{\\theta}{R}, \n",
    "\\label{_auto2} \\tag{2}\n",
    "\\end{equation}\n",
    "$$"
   ]
  },
  {
   "cell_type": "markdown",
   "metadata": {},
   "source": [
    "<!-- Equation labels as ordinary links -->\n",
    "<a id=\"_auto3\"></a>\n",
    "\n",
    "$$\n",
    "\\begin{equation}  \n",
    "    z(\\theta, t) = -t \\sin \\frac{\\theta}{2 R},\n",
    "\\label{_auto3} \\tag{3}\n",
    "\\end{equation}\n",
    "$$"
   ]
  },
  {
   "cell_type": "markdown",
   "metadata": {},
   "source": [
    "where $R$ is the main radius of the strip. $\\theta$ is the parameter that determines\n",
    "the angle for moving around the strip, like the angle of a circle.\n",
    "For one trip around the strip move $\\theta$ from $\\theta_0$ to $\\theta_0+2\\pi R$.\n",
    "A function in Cartesian coordinates $u(\\mathbf{x})$ for $\\mathbf{x} \\in \\mathbb{R}^3$\n",
    "is mapped to computational coordinates as $u(\\mathbf{x}) = \\tilde{u}(\\theta, t)$.\n",
    "By moving once around the strip a function can be seen to be twisted periodic,\n",
    "such that"
   ]
  },
  {
   "cell_type": "markdown",
   "metadata": {},
   "source": [
    "<!-- Equation labels as ordinary links -->\n",
    "<a id=\"_auto4\"></a>\n",
    "\n",
    "$$\n",
    "\\begin{equation}\n",
    "    \\tilde{u}(\\theta_0, t) = \\tilde{u}(\\theta_0 + 2\\pi R, -t), \n",
    "\\label{_auto4} \\tag{4}\n",
    "\\end{equation}\n",
    "$$"
   ]
  },
  {
   "cell_type": "markdown",
   "metadata": {},
   "source": [
    "<!-- Equation labels as ordinary links -->\n",
    "<a id=\"_auto5\"></a>\n",
    "\n",
    "$$\n",
    "\\begin{equation}  \n",
    "    \\frac{\\partial \\tilde{u}}{\\partial \\theta}(\\theta_0, t) = \\frac{\\partial \\tilde{u}}{\\partial \\theta}(\\theta_0 + 2\\pi R, -t).\n",
    "\\label{_auto5} \\tag{5}\n",
    "\\end{equation}\n",
    "$$"
   ]
  },
  {
   "cell_type": "markdown",
   "metadata": {},
   "source": [
    "The twisted condition does not lend itself easily to a regular tensor\n",
    "product basis. On the other hand, by moving twice around the strip,\n",
    "regular periodic boundary conditions"
   ]
  },
  {
   "cell_type": "markdown",
   "metadata": {},
   "source": [
    "<!-- Equation labels as ordinary links -->\n",
    "<a id=\"_auto6\"></a>\n",
    "\n",
    "$$\n",
    "\\begin{equation}\n",
    "    \\tilde{u}(\\theta_0, t) = \\tilde{u}(\\theta_0 + 4\\pi R, t),\n",
    "\\label{_auto6} \\tag{6}\n",
    "\\end{equation}\n",
    "$$"
   ]
  },
  {
   "cell_type": "markdown",
   "metadata": {},
   "source": [
    "will apply [[Kalvoda2020]](#Kalvoda2020), and we can discretize using Fourier\n",
    "exponentials in the $\\theta$-direction. Since the reference domain of Fourier\n",
    "exponentials is $[-\\pi, \\pi]$ we define $\\varphi = \\theta /(2 R)$, such that\n",
    "the computational domain is $(\\varphi, t) \\in \\mathbb{I}^2 = [-\\pi, \\pi] \\times [-1, 1]$,\n",
    "with the parametrization"
   ]
  },
  {
   "cell_type": "markdown",
   "metadata": {},
   "source": [
    "<!-- Equation labels as ordinary links -->\n",
    "<a id=\"_auto7\"></a>\n",
    "\n",
    "$$\n",
    "\\begin{equation}\n",
    "    x(\\varphi, t) = \\left(R-t\\cos {\\varphi}\\right) \\cos {2 \\varphi}, \n",
    "\\label{_auto7} \\tag{7}\n",
    "\\end{equation}\n",
    "$$"
   ]
  },
  {
   "cell_type": "markdown",
   "metadata": {},
   "source": [
    "<!-- Equation labels as ordinary links -->\n",
    "<a id=\"_auto8\"></a>\n",
    "\n",
    "$$\n",
    "\\begin{equation}  \n",
    "    y(\\varphi, t) = \\left(R-t\\cos {\\varphi}\\right) \\sin {2 \\varphi}, \n",
    "\\label{_auto8} \\tag{8}\n",
    "\\end{equation}\n",
    "$$"
   ]
  },
  {
   "cell_type": "markdown",
   "metadata": {},
   "source": [
    "<!-- Equation labels as ordinary links -->\n",
    "<a id=\"_auto9\"></a>\n",
    "\n",
    "$$\n",
    "\\begin{equation}  \n",
    "    z(\\varphi, t) = -t \\sin {\\varphi}.\n",
    "\\label{_auto9} \\tag{9}\n",
    "\\end{equation}\n",
    "$$"
   ]
  },
  {
   "cell_type": "markdown",
   "metadata": {},
   "source": [
    "Note that the reference domain corresponds to $(\\theta, t) \\in = [-2\\pi R, 2\\pi R] \\times [-1, 1]$.\n",
    "It is also trivial to adjust the $t$-domain with an affine map for a more narrow or\n",
    "wider strip, but this added complexity is not discussed here. One can simply\n",
    "choose the width of the strip below when choosing function space for the\n",
    "$t$-direction.\n",
    "\n",
    "For the $t$-direction, a mixed Legendre,\n",
    "$\\psi_{i_1} = L_{i_1} - L_{i_1+2}$, or Chebyshev, $\\psi_{i_1} = T_{i_1} - T_{i_1+2}$,\n",
    "basis can be used and we obtain a regular tensor product basis.\n",
    "Here we will make use of the Legendre basis, since it\n",
    "leads to more sparse matrices. Note that the same problem is\n",
    "solved by Kalvoda et al. [[Kalvoda2020]](#Kalvoda2020) using a tensor product\n",
    "basis with Fourier exponentials for the $\\theta$-direction and a mix\n",
    "of cosines and sines for the $t$-direction. Kalvoda et al. cannot\n",
    "make use of tensor product matrices and integrates using a\n",
    "two-dimensional quadrature scheme over the entire domain, leading\n",
    "to a dense matrix. We will here only use 1D quadrature and\n",
    "tensor products to get the coefficient matrix.\n",
    "\n",
    "## The Laplace Beltrami operator\n",
    "\n",
    "We consider the eigenvalue problem of the\n",
    "Laplace Beltrami operator by solving"
   ]
  },
  {
   "cell_type": "markdown",
   "metadata": {},
   "source": [
    "<!-- Equation labels as ordinary links -->\n",
    "<a id=\"_auto10\"></a>\n",
    "\n",
    "$$\n",
    "\\begin{equation}\n",
    "    -\\nabla^2 u(\\mathbf{x}) = \\lambda u(\\mathbf{x}), \\quad \\text{ for } \\mathbf{x} \\in \\Omega,\n",
    "\\label{_auto10} \\tag{10}\n",
    "\\end{equation}\n",
    "$$"
   ]
  },
  {
   "cell_type": "markdown",
   "metadata": {},
   "source": [
    "where $u$ is the solution, $\\lambda$ the eigenvalues and $\\Omega$ the Möbius\n",
    "strip. We consider only homogeneous Dirichlet boundary conditions on the boundary.\n",
    "\n",
    "\n",
    "It is now easily verified that\n",
    "the variational Laplace eigenvalue problem becomes"
   ]
  },
  {
   "cell_type": "markdown",
   "metadata": {},
   "source": [
    "$$\n",
    "\\begin{align*}\n",
    "    -\\int_{\\mathbb{I}^2}  \\Big\\{ \\frac{1}{\\sqrt{g}}\\frac{\\partial^2 \\tilde{u}}{\\partial \\varphi^2 } &+\\frac{4 t \\sin \\varphi \\left(t \\cos {\\varphi} -R \\right) }{g^{\\frac{3}{2}}}\\frac{\\partial \\tilde{u}}{\\partial \\varphi  } \\notag \\\\ \n",
    "    & +\\sqrt{g}\\frac{\\partial^2 \\tilde{u}}{\\partial t^2 }\n",
    "    +\\frac{4 \\cos {\\varphi} (t \\cos \\varphi -R) + t}{ \\sqrt{g}}\\frac{\\partial  \\tilde{u}}{\\partial t  }  \\Big\\} \\tilde{v}^* \\tilde{\\omega} d\\varphi dt \\notag \\\\ \n",
    "    &= \\int_{\\mathbb{I}^2} \\lambda \\tilde{u} \\tilde{v}^* \\tilde{\\omega} \\sqrt{g} d\\varphi dt,\n",
    "\\end{align*}\n",
    "$$"
   ]
  },
  {
   "cell_type": "markdown",
   "metadata": {},
   "source": [
    "with"
   ]
  },
  {
   "cell_type": "markdown",
   "metadata": {},
   "source": [
    "<!-- Equation labels as ordinary links -->\n",
    "<a id=\"_auto11\"></a>\n",
    "\n",
    "$$\n",
    "\\begin{equation}\n",
    "    {g} = (2R-2t\\cos \\varphi)^2+t^2.\n",
    "\\label{_auto11} \\tag{11}\n",
    "\\end{equation}\n",
    "$$"
   ]
  },
  {
   "cell_type": "markdown",
   "metadata": {},
   "source": [
    "Note that the variational problem contains unseparable variable coefficients,\n",
    "like $1/\\sqrt{g}$ and $\\sqrt{g}$ and as such cannot\n",
    "easily be solved using efficient tensor product algebra.\n",
    "However, note that both $g$ and $g^2$ are separable, and using\n",
    "$\\tilde{\\omega} = g^{3/2}$ we get"
   ]
  },
  {
   "cell_type": "markdown",
   "metadata": {},
   "source": [
    "$$\n",
    "\\begin{align*}\n",
    "    -\\int_{\\mathbb{I}^2}  \\Big\\{ g \\frac{\\partial^2 \\tilde{u}}{\\partial \\varphi^2 } &+ {4 t \\sin \\varphi \\left(t \\cos {\\varphi} -R \\right) } \\frac{\\partial \\tilde{u}}{\\partial \\varphi  } \\notag \\\\ \n",
    "    & + g^2 \\frac{\\partial^2 \\tilde{u}}{\\partial t^2 }\n",
    "    +g \\left({4 \\cos {\\varphi} (t \\cos \\varphi -R) + t} \\right) \\frac{\\partial  \\tilde{u}}{\\partial t  }  \\Big\\} \\tilde{v}^* d\\varphi dt \\notag \\\\ \n",
    "    &= \\int_{\\mathbb{I}^2} \\lambda g^{2} \\tilde{u} \\tilde{v}^* d\\varphi dt,\n",
    "\\end{align*}\n",
    "$$"
   ]
  },
  {
   "cell_type": "markdown",
   "metadata": {},
   "source": [
    "where the left hand side can be assembled using tensor product matrices,\n",
    "where no single 1D matrix has more than 9 diagonals.\n",
    "\n",
    "Now let's see how this problem can be handled with shenfun.\n",
    "\n",
    "## Implementation\n",
    "\n",
    "First we need to create function spaces for each direction $\\varphi$\n",
    "and $t$, and then a tensor product space of the two. We use the\n",
    "parametrization given above and shenfun will then automatically\n",
    "differentiate to create basis functions and metrics, like $g$.\n",
    "One important factor, though. Sympy's [simplify](https://docs.sympy.org/latest/modules/simplify/simplify.html)\n",
    "will sometimes have problems finding the best possible simplification\n",
    "of a term, like $g$. And in this particular case we need\n",
    "to discourage the use of powers, or else sympy will end at a\n",
    "much more complicated $g$ than we get below."
   ]
  },
  {
   "cell_type": "code",
   "execution_count": null,
   "metadata": {},
   "outputs": [],
   "source": [
    "from shenfun import *\n",
    "import sympy as sp\n",
    "from IPython.display import Math, Latex, display\n",
    "from scipy.sparse.linalg import eigs\n",
    "\n",
    "u, v = psi = sp.symbols('x,y', real=True)\n",
    "\n",
    "RR = sp.Rational(132, 20)/sp.pi\n",
    "#RR = 2\n",
    "# Use a symbolic R first, then later substitute for the value in RR\n",
    "R = sp.Symbol('R', real=True, positive=True)\n",
    "rv = ((R-v*sp.cos(u))*sp.cos(2*u),\n",
    "      (R-v*sp.cos(u))*sp.sin(2*u),\n",
    "       -v*sp.sin(u))\n",
    "\n",
    "def discourage_powers(expr):\n",
    "    POW = sp.Symbol('POW')\n",
    "    count = sp.count_ops(expr, visual=True)\n",
    "    count = count.replace(POW, 100)\n",
    "    count = count.replace(sp.Symbol, type(sp.S.One))\n",
    "    return count\n",
    "\n",
    "N = (80, 40)\n",
    "B0 = FunctionSpace(N[0], 'F', domain=(-np.pi, np.pi), dtype='D')\n",
    "B1 = FunctionSpace(N[1], 'L', bc=(0, 0), domain=(-0.75, 0.75))\n",
    "T = TensorProductSpace(comm, (B0, B1), coordinates=(psi, rv, True, (), discourage_powers), axes=(1, 0))\n",
    "\n",
    "p = TrialFunction(T)\n",
    "q = TestFunction(T)"
   ]
  },
  {
   "cell_type": "markdown",
   "metadata": {},
   "source": [
    "Note the `discourage_powers` function. Try to turn it off (if\n",
    "you are watching this in an interactive setting) and see what happens\n",
    "to, e.g., `T.coors.sg`, which is $\\sqrt{g}$.\n",
    "\n",
    "We can now check to see what the Laplace-Beltrami operator\n",
    "looks like when computed with shenfun:"
   ]
  },
  {
   "cell_type": "code",
   "execution_count": null,
   "metadata": {},
   "outputs": [],
   "source": [
    "g = sp.Function('g')(u, v)\n",
    "replace = [(T.coors.sg**2, g)]\n",
    "Math((div(grad(p))).tolatex(funcname='f', symbol_names={u:'u', v:'v'}, replace=replace))"
   ]
  },
  {
   "cell_type": "markdown",
   "metadata": {},
   "source": [
    "Not surprisingly, this is the same (except not multiplied by $\\sqrt{g}$) as what\n",
    "is seen in the variational form above.\n",
    "\n",
    "At this point we replace the symbol R with a number in order to\n",
    "assemble floating point matrices. We multiply forms with\n",
    "$g^{3/2}$ before assembling to get separable variational forms,\n",
    "leading to sparse tensor product matrices."
   ]
  },
  {
   "cell_type": "code",
   "execution_count": null,
   "metadata": {},
   "outputs": [],
   "source": [
    "T.coors.subs(R, RR)\n",
    "M = inner(q*T.coors.sg**3, -div(grad(p)), level=2)\n",
    "B = inner(p, q*T.coors.sg**3, level=2)"
   ]
  },
  {
   "cell_type": "markdown",
   "metadata": {},
   "source": [
    "Here `M` and `B` are lists of instances of the tensor product\n",
    "matrix class [TPMatrix](https://shenfun.readthedocs.io/en/latest/shenfun.html#shenfun.matrixbase.TPMatrix)."
   ]
  },
  {
   "cell_type": "code",
   "execution_count": null,
   "metadata": {},
   "outputs": [],
   "source": [
    "print(f'Number of matrices for M = {len(M)} and B = {len(B)}')"
   ]
  },
  {
   "cell_type": "markdown",
   "metadata": {},
   "source": [
    "So quite a few matrices, but they are all sparse. We solve by\n",
    "using a Kronecker product solver [Solver2D](https://shenfun.readthedocs.io/en/latest/shenfun.html#shenfun.la.Solver2D) that flattens the\n",
    "tensor product matrices and solution vector C-style."
   ]
  },
  {
   "cell_type": "code",
   "execution_count": null,
   "metadata": {},
   "outputs": [],
   "source": [
    "mm = la.Solver2D(M)\n",
    "bb = la.Solver2D(B)\n",
    "Mc = mm.M.copy()\n",
    "Bc = bb.M.copy()"
   ]
  },
  {
   "cell_type": "markdown",
   "metadata": {},
   "source": [
    "Finally, solve the eigenvalue problem using a sparse eigenvalue solver\n",
    "from scipy, which is wrapping ARPACK. Note that ARPACK is better at\n",
    "finding large than small eigenvalues and for this reason we use a shift-inverted\n",
    "version, see [https://docs.scipy.org/doc/scipy/reference/tutorial/arpack.html](https://docs.scipy.org/doc/scipy/reference/tutorial/arpack.html)."
   ]
  },
  {
   "cell_type": "code",
   "execution_count": null,
   "metadata": {},
   "outputs": [],
   "source": [
    "f = eigs(Mc, k=40, M=Bc, which='LM', sigma=0)"
   ]
  },
  {
   "cell_type": "markdown",
   "metadata": {},
   "source": [
    "We have now found all eigenvalues on the Möbius strip with two rotations. So\n",
    "some of the eigenvalues/eigenvectors will not have the correct twisted\n",
    "periodic boundary conditions. To get only the correct eigenvalues, we filter a little\n",
    "bit, checking the boundary:"
   ]
  },
  {
   "cell_type": "code",
   "execution_count": null,
   "metadata": {},
   "outputs": [],
   "source": [
    "u_hat = Function(T)\n",
    "eigvals = []\n",
    "for i in range(f[1].shape[1]):\n",
    "    u_hat[:, :-2] = np.reshape(f[1][:, i], T.dims())\n",
    "    tt = u_hat.eval(np.array([[-np.pi, 0, -np.pi, 0], [0.5, -0.5, 0.65, -0.65]]))\n",
    "    dt = Dx(u_hat, 0, 1).eval(np.array([[-np.pi, 0, -np.pi, 0], [0.5, -0.5, 0.65, -0.65]]))\n",
    "    # Check for twisted periodic\n",
    "    if abs(tt[0]-tt[1]+tt[2]-tt[3]) < 1e-7 and abs(dt[0]-dt[1]+dt[2]-dt[3]) < 1e-8:\n",
    "        eigvals.append((i, f[0][i].real))\n",
    "        print(f'Twisted eigenvalue {len(eigvals):2d} {i:2d} {f[0][i].real:2.12e} Error {np.linalg.norm(Mc*f[1][:, i] - f[0][i]*Bc*f[1][:, i]):2.4e}')"
   ]
  },
  {
   "cell_type": "markdown",
   "metadata": {},
   "source": [
    "These are the lowest true eigenvalues of the Möbius strip. We can now\n",
    "plot the eigenvectors using, e.g., mayavi or plotly.\n",
    "\n",
    "Choose the eigenvalue number first and then the rest follows"
   ]
  },
  {
   "cell_type": "code",
   "execution_count": null,
   "metadata": {},
   "outputs": [],
   "source": [
    "l = 7\n",
    "u_hat[:, :-2] = np.reshape(f[1][:, eigvals[l][0]], T.dims())\n",
    "u_hat2 = u_hat.refine([2*N[0], 2*N[1]])\n",
    "N0 = u_hat2.function_space().shape(False)[0]//2+1\n",
    "fig = surf3D(u_hat2, slices=(slice(0, N0), slice(None)))\n",
    "fig.show()"
   ]
  },
  {
   "cell_type": "markdown",
   "metadata": {},
   "source": [
    "Or make subplot of several of the eigenvectors:"
   ]
  },
  {
   "cell_type": "code",
   "execution_count": null,
   "metadata": {},
   "outputs": [],
   "source": [
    "import plotly\n",
    "from plotly.subplots import make_subplots\n",
    "import plotly.graph_objects as go\n",
    "rows = 3\n",
    "cols = 2\n",
    "fig = make_subplots(rows=rows, cols=cols, start_cell=\"top-left\", specs=[[dict(type='surface')]*cols]*rows,\n",
    "                    subplot_titles=(f'$\\lambda_1={eigvals[0][1]:2.5f}$', f'$\\lambda_3={eigvals[2][1]:2.5f}$',\n",
    "                                    f'$\\lambda_5={eigvals[4][1]:2.5f}$', f'$\\lambda_7={eigvals[6][1]:2.5f}$',\n",
    "                                    f'$\\lambda_9={eigvals[8][1]:2.5f}$', f'$\\lambda_{{11}}={eigvals[10][1]:2.5f}$'))\n",
    "N0 = T.shape(False)[0]//2+1 # Remember, data is for two rounds around the strip, we need only 1\n",
    "x, y, z = T.local_cartesian_mesh()\n",
    "x, y, z = x[:N0], y[:N0], z[:N0]\n",
    "d = {'visible': False, 'showgrid': False, 'zeroline': False}\n",
    "for l in range(rows*cols):\n",
    "    u_hat[:, :-2] = np.reshape(f[1][:, eigvals[2*l][0]], T.dims())\n",
    "    s = go.Surface(x=x, y=y, z=z, surfacecolor=abs(u_hat.backward()[:N0]),\n",
    "                   colorscale=plotly.colors.sequential.Jet,\n",
    "                   showscale=False)\n",
    "    fig.add_trace(s, row=l//cols+1, col=l%cols+1)\n",
    "    scene = 'scene' if l == 0 else f'scene{l+1}'\n",
    "    fig.update_layout({scene: {'xaxis': d, 'yaxis': d, 'zaxis': d, 'camera': {'eye': dict(x=0.85, y=0.85, z=0.85)}}})\n",
    "fig.show()"
   ]
  },
  {
   "cell_type": "markdown",
   "metadata": {},
   "source": [
    "Finally, plot the sparsity pattern of the coefficient matrix."
   ]
  },
  {
   "cell_type": "code",
   "execution_count": null,
   "metadata": {},
   "outputs": [],
   "source": [
    "%matplotlib inline\n",
    "\n",
    "%matplotlib notebook\n",
    "import matplotlib.pyplot as plt\n",
    "plt.spy(mm.M, markersize=0.2)"
   ]
  },
  {
   "cell_type": "markdown",
   "metadata": {},
   "source": [
    "<!-- ======= Bibliography ======= -->\n",
    "\n",
    "\n",
    "\n",
    "1. <a id=\"Kalvoda2020\"></a> **T. Kalvoda, D. Krejcirik and K. Zahradová**. \n",
    "    Effective Quantum Dynamics on the Möbius Strip,\n",
    "    *Journal of Physics A: Mathematical and Theoretical*,\n",
    "    53(37),\n",
    "    pp. 375201,\n",
    "    [doi: 10.1088/1751-8121/ab8b3a](http://dx.doi.org/10.1088/1751-8121/ab8b3a),\n",
    "    2020."
   ]
  }
 ],
 "metadata": {},
 "nbformat": 4,
 "nbformat_minor": 4
}
