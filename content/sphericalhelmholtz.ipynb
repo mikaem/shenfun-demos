{
 "cells": [
  {
   "cell_type": "markdown",
   "id": "5de90e34",
   "metadata": {
    "editable": true
   },
   "source": [
    "<!-- File automatically generated using DocOnce (https://github.com/doconce/doconce/):\n",
    "doconce format ipynb sphericalhelmholtz.do.txt  -->\n",
    "\n",
    "# Demo - Helmholtz equation on the unit sphere\n",
    "**Mikael Mortensen** (email: `mikaem@math.uio.no`), Department of Mathematics, University of Oslo.\n",
    "\n",
    "Date: **April 20, 2020**\n",
    "\n",
    "**Summary.** This is a demonstration of how the Python module [shenfun](https://github.com/spectralDNS/shenfun) can be used to solve the\n",
    "Helmholtz equation on a unit sphere, using spherical\n",
    "coordinates. This demo is implemented in\n",
    "a single Python file [sphere_helmholtz.py](https://github.com/spectralDNS/shenfun/blob/master/demo/sphere_helmholtz.py).\n",
    "If requested the solver will run in parallel using MPI.\n",
    "\n",
    "<!-- dom:FIGURE: [https://rawgit.com/spectralDNS/spectralutilities/master/figures/spherewhite4.png, width=700 frac=1] Helmholtz on the unit sphere. <a id=\"fig:helmholtz\"></a> -->\n",
    "<!-- begin figure -->\n",
    "<a id=\"fig:helmholtz\"></a>\n",
    "\n",
    "<img src=\"https://rawgit.com/spectralDNS/spectralutilities/master/figures/spherewhite4.png\" width=\"700\"><p style=\"font-size: 0.9em\"><i>Figure 1: Helmholtz on the unit sphere.</i></p>\n",
    "<!-- end figure -->"
   ]
  },
  {
   "cell_type": "markdown",
   "id": "9a414ca4",
   "metadata": {
    "editable": true
   },
   "source": [
    "## Helmholtz equation\n",
    "<a id=\"demo:spherical_helmholtz\"></a>\n",
    "\n",
    "The Helmholtz equation is given as"
   ]
  },
  {
   "cell_type": "markdown",
   "id": "ea773903",
   "metadata": {
    "editable": true
   },
   "source": [
    "<!-- Equation labels as ordinary links -->\n",
    "<a id=\"eq:helmholtz\"></a>\n",
    "\n",
    "$$\n",
    "\\begin{equation}\n",
    "-\\nabla^2 u(\\boldsymbol{x}) + \\alpha u(\\boldsymbol{x}) = f(\\boldsymbol{x}) \\quad \\text{for }\\, \\boldsymbol{x} \\in \\Omega = \\{(x, y, z): x^2+y^2+z^2 = 1\\}, \\label{eq:helmholtz} \\tag{1}\n",
    "\\end{equation}\n",
    "$$"
   ]
  },
  {
   "cell_type": "markdown",
   "id": "47dfd240",
   "metadata": {
    "editable": true
   },
   "source": [
    "where $u(\\boldsymbol{x})$ is the solution, $f(\\boldsymbol{x})$ is a function and $\\alpha$ a constant.\n",
    "We use spherical coordinates $(\\theta, \\phi)$, defined as"
   ]
  },
  {
   "cell_type": "markdown",
   "id": "b3d6f472",
   "metadata": {
    "editable": true
   },
   "source": [
    "<!-- Equation labels as ordinary links -->\n",
    "<a id=\"_auto1\"></a>\n",
    "\n",
    "$$\n",
    "\\begin{equation}\n",
    " x = r \\sin \\theta \\cos \\phi , \n",
    "\\label{_auto1} \\tag{2}\n",
    "\\end{equation}\n",
    "$$"
   ]
  },
  {
   "cell_type": "markdown",
   "id": "8c52b732",
   "metadata": {
    "editable": true
   },
   "source": [
    "<!-- Equation labels as ordinary links -->\n",
    "<a id=\"_auto2\"></a>\n",
    "\n",
    "$$\n",
    "\\begin{equation}  \n",
    " y = r \\sin \\theta \\sin \\phi, \n",
    "\\label{_auto2} \\tag{3}\n",
    "\\end{equation}\n",
    "$$"
   ]
  },
  {
   "cell_type": "markdown",
   "id": "386b8357",
   "metadata": {
    "editable": true
   },
   "source": [
    "<!-- Equation labels as ordinary links -->\n",
    "<a id=\"_auto3\"></a>\n",
    "\n",
    "$$\n",
    "\\begin{equation}  \n",
    " z = r \\cos \\theta\n",
    "\\label{_auto3} \\tag{4}\n",
    "\\end{equation}\n",
    "$$"
   ]
  },
  {
   "cell_type": "markdown",
   "id": "efd85d57",
   "metadata": {
    "editable": true
   },
   "source": [
    "which (with $r=1$) leads to a 2D Cartesian product mesh $(\\theta, \\phi) \\in (0, \\pi) \\times [0, 2\\pi)$\n",
    "suitable for numerical implementations. There are no boundary\n",
    "conditions on the problem under consideration.\n",
    "However, with the chosen Cartesian mesh, periodic\n",
    "boundary conditions are required for the $\\phi$-direction. As such,\n",
    "the $\\phi$-direction will use a Fourier basis $\\exp(\\imath k \\phi)$.\n",
    "\n",
    "A regular Chebyshev or Legendre basis\n",
    "$\\psi_j(\\theta) = \\gamma_j(2\\theta/\\pi-1)$ will be\n",
    "used for the $\\theta$-direction, where $\\gamma_j$ could be either\n",
    "the Chebyshev polynomial of first kind $T_j$ or the Legendre\n",
    "polynomial $L_j$. Note the mapping from real coordinates $\\theta$\n",
    "to computational coordinates in domain $[-1, 1]$.\n",
    "\n",
    "The spherical basis functions are as such"
   ]
  },
  {
   "cell_type": "markdown",
   "id": "8cb3b69c",
   "metadata": {
    "editable": true
   },
   "source": [
    "$$\n",
    "v_{jk}(\\theta, \\phi) = \\psi_j(\\theta) \\exp(\\imath k \\phi),\n",
    "$$"
   ]
  },
  {
   "cell_type": "markdown",
   "id": "82343a8f",
   "metadata": {
    "editable": true
   },
   "source": [
    "and we look for solutions"
   ]
  },
  {
   "cell_type": "markdown",
   "id": "002bc5cd",
   "metadata": {
    "editable": true
   },
   "source": [
    "$$\n",
    "u(\\theta, \\phi) = \\sum_{j} \\sum_{k} \\hat{u}_{jk} v_{jk}(\\theta, \\phi).\n",
    "$$"
   ]
  },
  {
   "cell_type": "markdown",
   "id": "fe1a5adf",
   "metadata": {
    "editable": true
   },
   "source": [
    "A discrete Fourier approximation space with $N$ basis functions is then"
   ]
  },
  {
   "cell_type": "markdown",
   "id": "4ab7082f",
   "metadata": {
    "editable": true
   },
   "source": [
    "$$\n",
    "V_F^N = \\text{span} \\{\\exp(\\imath k \\theta)\\}, \\text{ for } k \\in K,\n",
    "$$"
   ]
  },
  {
   "cell_type": "markdown",
   "id": "f28325e3",
   "metadata": {
    "editable": true
   },
   "source": [
    "where $K = \\{-N/2, -N/2+1, \\ldots, N/2-1\\}$. For this demo we assume\n",
    "that the solution is complex, and as such there is no simplification\n",
    "possible for Hermitian symmetry.\n",
    "\n",
    "The following approximation space is used for the $\\theta$-direction"
   ]
  },
  {
   "cell_type": "markdown",
   "id": "002ce152",
   "metadata": {
    "editable": true
   },
   "source": [
    "<!-- Equation labels as ordinary links -->\n",
    "<a id=\"_auto4\"></a>\n",
    "\n",
    "$$\n",
    "\\begin{equation}\n",
    "V^N = \\text{span} \\{\\psi_j\\}_{j=0}^{N-1},\n",
    "\\label{_auto4} \\tag{5}\n",
    "\\end{equation}\n",
    "$$"
   ]
  },
  {
   "cell_type": "markdown",
   "id": "d176fd36",
   "metadata": {
    "editable": true
   },
   "source": [
    "and the variational formulation of the problem reads:\n",
    "find $u \\in V^N \\otimes V_F^N$ such that"
   ]
  },
  {
   "cell_type": "markdown",
   "id": "dadbbade",
   "metadata": {
    "editable": true
   },
   "source": [
    "<!-- Equation labels as ordinary links -->\n",
    "<a id=\"eq:u0\"></a>\n",
    "\n",
    "$$\n",
    "\\begin{equation}\n",
    "   \\int_{\\Omega} (-\\nabla^2 u + \\alpha u) v w d\\sigma = \\int_{\\Omega} f v w d\\sigma, \\quad \\forall \\, v \\in V^N \\otimes V_F^N.\n",
    "\\label{eq:u0} \\tag{6}\n",
    "   \\end{equation}\n",
    "$$"
   ]
  },
  {
   "cell_type": "markdown",
   "id": "d0ba1aeb",
   "metadata": {
    "editable": true
   },
   "source": [
    "Note that integration over the domain is done using\n",
    "spherical coordinates with an integral measure of $d\\sigma=\\sin \\theta d\\theta d\\phi$."
   ]
  },
  {
   "cell_type": "markdown",
   "id": "ab68e8f4",
   "metadata": {
    "editable": true
   },
   "source": [
    "## Implementation\n",
    "<a id=\"demo:sphericalimplementation\"></a>\n",
    "\n",
    "A complete implementation is found in the file [sphere_helmholtz.py](https://github.com/spectralDNS/shenfun/blob/master/demo/sphere_helmholtz.py).\n",
    "Here we give a brief explanation for the implementation. Start by\n",
    "importing all functionality from [shenfun](https://github.com/spectralDNS/shenfun)\n",
    "and [sympy](https://sympy.org), where Sympy is required for handeling the\n",
    "spherical coordinates."
   ]
  },
  {
   "cell_type": "code",
   "execution_count": null,
   "id": "5042b35b",
   "metadata": {
    "editable": true
   },
   "outputs": [],
   "source": [
    "from shenfun import *\n",
    "import sympy as sp\n",
    "\n",
    "# Define spherical coordinates with unit radius\n",
    "r = 1\n",
    "theta, phi = sp.symbols('x,y', real=True, positive=True)\n",
    "psi = (theta, phi)\n",
    "rv = (r*sp.sin(theta)*sp.cos(phi), r*sp.sin(theta)*sp.sin(phi), r*sp.cos(theta))"
   ]
  },
  {
   "cell_type": "markdown",
   "id": "ad6f5806",
   "metadata": {
    "editable": true
   },
   "source": [
    "Note that the position vector `rv` has three components (for $(x, y, z)$)\n",
    "even though the computational domain is only 2D.\n",
    "Also note that Sympy symbols are both positive and real, and $\\theta$ is\n",
    "chosen to be along the first axis and $\\phi$ second. This has to agree with\n",
    "the next step, which is the creation of tensorproductspaces\n",
    "$V^N \\otimes V_F^N$."
   ]
  },
  {
   "cell_type": "code",
   "execution_count": null,
   "id": "02b92c75",
   "metadata": {
    "editable": true
   },
   "outputs": [],
   "source": [
    "N, M = 40, 30\n",
    "L0 = FunctionSpace(N, 'C', domain=(0, np.pi))\n",
    "F1 = FunctionSpace(M, 'F', dtype='D')\n",
    "T = TensorProductSpace(comm, (L0, F1), coordinates=(psi, rv, sp.Q.positive(sp.sin(theta))))"
   ]
  },
  {
   "cell_type": "markdown",
   "id": "ef6493df",
   "metadata": {
    "editable": true
   },
   "source": [
    "Spherical coordinates are ensured by feeding `coordinates=(psi, rv, sp.Q.positive(sp.sin(theta)))`\n",
    "to [TensorProductSpace](https://shenfun.readthedocs.io/en/latest/shenfun.html#shenfun.tensorproductspace.TensorProductSpace), where the restriction `sp.Q.positive(sp.sin(theta))` is there\n",
    "to help sympy. Operators like [div()](https://shenfun.readthedocs.io/en/latest/shenfun.forms.html#shenfun.forms.operators.div),\n",
    "[grad()](https://shenfun.readthedocs.io/en/latest/shenfun.forms.html#shenfun.forms.operators.grad) and  [curl()](https://shenfun.readthedocs.io/en/latest/shenfun.forms.html#shenfun.forms.operators.curl) will now work on\n",
    "items of [Function](https://shenfun.readthedocs.io/en/latest/shenfun.forms.html#shenfun.forms.arguments.Function), [TestFunction](https://shenfun.readthedocs.io/en/latest/shenfun.forms.html#shenfun.forms.arguments.TestFunction) and\n",
    "[TrialFunction](https://shenfun.readthedocs.io/en/latest/shenfun.forms.html#shenfun.forms.arguments.TrialFunction) using a spherical coordinate system.\n",
    "\n",
    "To define the equation ([6](#eq:u0)) we first declare\n",
    "these test- and trialfunctions, and then use code that\n",
    "is very similar to the mathematics."
   ]
  },
  {
   "cell_type": "code",
   "execution_count": null,
   "id": "1a3d5be6",
   "metadata": {
    "editable": true
   },
   "outputs": [],
   "source": [
    "alpha = 2\n",
    "v = TestFunction(T)\n",
    "u = TrialFunction(T)\n",
    "mats = inner(v, -div(grad(u))+alpha*u)"
   ]
  },
  {
   "cell_type": "markdown",
   "id": "62fca774",
   "metadata": {
    "editable": true
   },
   "source": [
    "Here `mats` will be a list containing several tensor product\n",
    "matrices in the form of\n",
    "[TPMatrix](https://shenfun.readthedocs.io/en/latest/shenfun.html#shenfun.matrixbase.TPMatrix). Since there is only one directions with\n",
    "non-diagonal matrices ($\\theta$-direction) we\n",
    "can use the generic [SolverGeneric1ND](https://shenfun.readthedocs.io/en/latest/shenfun.html#shenfun.la.SolverGeneric1ND) solver.\n",
    "Note that some of the non-diagonal matrices will be dense,\n",
    "which is a weakness of the current method. Also note\n",
    "that with Legendre one can use integration by parts\n",
    "instead"
   ]
  },
  {
   "cell_type": "markdown",
   "id": "d0b900dc",
   "metadata": {
    "editable": true
   },
   "source": [
    "```Python\n",
    "        mats = inner(grad(v), grad(u))\n",
    "        mats += [inner(v, alpha*u)]\n",
    "```"
   ]
  },
  {
   "cell_type": "markdown",
   "id": "6ff6b47a",
   "metadata": {
    "editable": true
   },
   "source": [
    "To solve the problem we also need to define the function $f(\\theta, r)$.\n",
    "To this end we use sympy and the method of\n",
    "manufactured solution to define a possible solution `ue`,\n",
    "and then compute `f` exactly using exact differentiation. We use\n",
    "the [spherical harmonics function](https://docs.sympy.org/latest/modules/functions/special.html#spherical-harmonics)\n",
    "to define an analytical solution"
   ]
  },
  {
   "cell_type": "code",
   "execution_count": null,
   "id": "c6e403ab",
   "metadata": {
    "editable": true
   },
   "outputs": [],
   "source": [
    "alpha = 2\n",
    "sph = sp.functions.special.spherical_harmonics.Ynm\n",
    "ue = sph(6, 3, theta, phi)\n",
    "\n",
    "# Compute the right hand side on the quadrature mesh\n",
    "# That is, compute f = -div(grad(ue)) + alpha*ue\n",
    "f = (-div(grad(u))+alpha*u).tosympy(basis=ue, psi=psi)\n",
    "fj = Array(T, buffer=f)\n",
    "\n",
    "# Take scalar product\n",
    "f_hat = Function(T)\n",
    "f_hat = inner(v, fj, output_array=f_hat)\n",
    "\n",
    "u_hat = Function(T)\n",
    "Sol = la.SolverGeneric1ND(mats)\n",
    "u_hat = Sol(f_hat, u_hat)"
   ]
  },
  {
   "cell_type": "markdown",
   "id": "9973f1bb",
   "metadata": {
    "editable": true
   },
   "source": [
    "Having found the solution in spectral space all that is\n",
    "left is to transform it back to real space."
   ]
  },
  {
   "cell_type": "code",
   "execution_count": null,
   "id": "1ad0641a",
   "metadata": {
    "editable": true
   },
   "outputs": [],
   "source": [
    "uj = u_hat.backward()\n",
    "uq = Array(T, buffer=ue)\n",
    "print('Error =', np.linalg.norm(uj-uq))"
   ]
  },
  {
   "cell_type": "markdown",
   "id": "0ec3c879",
   "metadata": {
    "editable": true
   },
   "source": [
    "## Postprocessing\n",
    "We can refine the solution to make it look better,\n",
    "and plot on the unit sphere using either [mayavi](https://docs.enthought.com/mayavi/mayavi/)\n",
    "or [plotly](https://plotly.com/) using the shenfun function\n",
    "[surf3D()](https://shenfun.readthedocs.io/en/latest/shenfun.utilities.html#shenfun.utilities.surf3D)."
   ]
  },
  {
   "cell_type": "code",
   "execution_count": null,
   "id": "b1d34f9a",
   "metadata": {
    "editable": true
   },
   "outputs": [],
   "source": [
    "u_hat2 = u_hat.refine([N*2, M*2])\n",
    "fig = surf3D(u_hat2.backward().real, wrapaxes=[1])\n",
    "fig.show()"
   ]
  },
  {
   "cell_type": "markdown",
   "id": "2bdef48e",
   "metadata": {
    "editable": true
   },
   "source": [
    "<!-- ===== Bibliography ===== -->"
   ]
  }
 ],
 "metadata": {
  "kernelspec": {
   "display_name": "shenfun",
   "language": "python3",
   "name": "shenfun"
  }
 },
 "nbformat": 4,
 "nbformat_minor": 5
}
