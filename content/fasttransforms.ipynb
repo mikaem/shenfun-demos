{
 "cells": [
  {
   "cell_type": "markdown",
   "metadata": {},
   "source": [
    "<!-- dom:TITLE: Demo - Some fast transforms -->\n",
    "# Demo - Some fast transforms\n",
    "<!-- dom:AUTHOR: Mikael Mortensen Email:mikaem@math.uio.no at Department of Mathematics, University of Oslo. -->\n",
    "<!-- Author: -->  \n",
    "**Mikael Mortensen** (email: `mikaem@math.uio.no`), Department of Mathematics, University of Oslo.\n",
    "\n",
    "Date: **Mar 22, 2021**\n",
    "\n",
    "Copyright 2021, Mikael Mortensen. Released under CC Attribution 4.0 license\n",
    "\n",
    "**Summary.** This demo shows how to compute fast forward transforms for three\n",
    "different Dirichlet bases.\n",
    "\n",
    "\n",
    "\n",
    "\n",
    "\n",
    "\n",
    "\n",
    "\n",
    "\n",
    "\n",
    "\n",
    "\n",
    "## The fast transforms\n",
    "\n",
    "We will consider the fast forward transforms for the three\n",
    "Chebyshev Dirichlet basis functions"
   ]
  },
  {
   "cell_type": "markdown",
   "metadata": {},
   "source": [
    "<!-- Equation labels as ordinary links -->\n",
    "<a id=\"eq:shen\"></a>\n",
    "\n",
    "$$\n",
    "\\label{eq:shen} \\tag{1}\n",
    "\\phi_k = T_k-T_{k+2}, \\quad k=0,1, \\ldots, N-3,\n",
    "$$"
   ]
  },
  {
   "cell_type": "markdown",
   "metadata": {},
   "source": [
    "<!-- Equation labels as ordinary links -->\n",
    "<a id=\"eq:heinrichs\"></a>\n",
    "\n",
    "$$\n",
    "\\label{eq:heinrichs} \\tag{2}\n",
    "\\varphi_k = (1-x^2)T_k, \\quad k=0,1, \\ldots, N-3,\n",
    "$$"
   ]
  },
  {
   "cell_type": "markdown",
   "metadata": {},
   "source": [
    "<!-- Equation labels as ordinary links -->\n",
    "<a id=\"eq:dirichletU\"></a>\n",
    "\n",
    "$$\n",
    "\\label{eq:dirichletU} \\tag{3}\n",
    "\\psi_k = U_k-\\frac{k+1}{k+3}U_{k+2}, \\quad k=0,1, \\ldots, N-3,\n",
    "$$"
   ]
  },
  {
   "cell_type": "markdown",
   "metadata": {},
   "source": [
    "That is, we test fast methods for projection of a function\n",
    "$u(x)$ into spaces $V_{\\phi} = \\text{span}\\{\\phi_k\\}_{k=0}^{N-3}$,\n",
    "$V_{\\varphi} = \\text{span}\\{\\varphi_k\\}_{k=0}^{N-3}$ and\n",
    "$V_{\\psi} = \\text{span}\\{\\psi_k\\}_{k=0}^{N-3}$.\n",
    "For each space the projection is:\n",
    "find $u_N \\in V_{\\alpha}$ such that"
   ]
  },
  {
   "cell_type": "markdown",
   "metadata": {},
   "source": [
    "<!-- Equation labels as ordinary links -->\n",
    "<a id=\"eq:projection\"></a>\n",
    "\n",
    "$$\n",
    "\\label{eq:projection} \\tag{4}\n",
    "(u_N-u, v)_{\\omega} = 0, \\quad \\forall \\, v \\in V_{\\alpha},\n",
    "$$"
   ]
  },
  {
   "cell_type": "markdown",
   "metadata": {},
   "source": [
    "where $\\alpha \\in (\\phi, \\varphi, \\psi)$. The solutions we are after are\n",
    "\n",
    "$$\n",
    "u_N(x) = \\sum_{k=0}^{N-3} \\hat{u}_k^{\\phi} \\phi_k = \\sum_{k=0}^{N-3} \\hat{u}_k^{\\varphi} \\varphi_k = \\sum_{k=0}^{N-3} \\hat{u}_k^{\\psi} \\psi_k,\n",
    "$$\n",
    "\n",
    "where $\\hat{u}_k^{\\alpha}, \\, \\alpha \\in (\\phi, \\varphi, \\psi)$ are the unknown degrees of freedom. Generically, we write\n",
    "\n",
    "$$\n",
    "u(x) = \\sum_{k=0}^{N-3} \\hat{u}_k \\xi_k(x),\n",
    "$$\n",
    "\n",
    "where $\\xi_k$ can be any of the three basis functions $(\\phi_k, \\varphi_k, \\psi_k)$.\n",
    "\n",
    "A direct method to solve Eq. ([4](#eq:projection)) is to insert for $u_N = \\sum_{k=0}^{N-3}\\hat{u}_k \\xi_k$ and $v = \\xi_j$ to obtain"
   ]
  },
  {
   "cell_type": "markdown",
   "metadata": {},
   "source": [
    "$$\n",
    "(\\xi_j, \\xi_k)_{\\omega} \\hat{u}_j = (u, \\xi_k)_{\\omega},\n",
    "$$"
   ]
  },
  {
   "cell_type": "markdown",
   "metadata": {},
   "source": [
    "which on algebraic form is"
   ]
  },
  {
   "cell_type": "markdown",
   "metadata": {},
   "source": [
    "$$\n",
    "\\begin{align*}\n",
    "B \\hat{\\mathbf{u}} &= \\tilde{\\mathbf{u}}, \\\\ \n",
    "\\hat{\\mathbf{u}} &= B^{-1} \\tilde{\\mathbf{u}},\n",
    "\\end{align*}\n",
    "$$"
   ]
  },
  {
   "cell_type": "markdown",
   "metadata": {},
   "source": [
    "where the mass matrix $B \\in \\mathbb{R}^{N-2 \\times N-2} = \\{(\\xi_j, \\xi_k)_{\\omega}\\}_{k,j=0}^{N-3}$, $\\tilde{\\mathbf{u}} = \\{(u, \\xi_k)_{\\omega}\\}_{k=0}^{N-3}$ and $\\mathbf{u} = \\{\\hat{u}_k\\}_{k=0}^{N-3}$. A fast method is found if $B$ is diagonal, so that the inversion $B^{-1}$ is trivial. In this case the projection becomes orthogonal. It can be shown that the three bases are orthogonal using weights $\\omega = (1-x^2)^{\\sigma}$, where $\\sigma = -3/2, -5/2$ and $-1/2$, for ([1](#eq:shen)), ([2](#eq:heinrichs)) and ([3](#eq:dirichletU)), respectively.\n",
    "\n",
    "In the following all methods will make use of Gauss-Chebyshev quadrature with Gauss-Chebyshev collocation points $\\boldsymbol{x}=\\{x_i\\}_{i=0}^{N-1}$, where $x_i = \\cos(\\theta_i)$, $\\theta_i=\\pi (2i+1)/(2N)$ and $\\mathbf{\\theta}=\\{\\theta_i\\}_{i=0}^{N-1}$. The quadrature weights are then constant $w_i = \\pi/N$ for $i=0,1, \\ldots, N-1$.\n",
    "\n",
    "The fast orthogonal projection for the Dirichlet basis ([1](#eq:shen)) simplifies to"
   ]
  },
  {
   "cell_type": "markdown",
   "metadata": {},
   "source": [
    "<!-- Equation labels as ordinary links -->\n",
    "<a id=\"eq:sol0\"></a>\n",
    "\n",
    "$$\n",
    "\\label{eq:sol0} \\tag{5}\n",
    "\\hat{u}_k^{\\phi} = \\frac{1}{2N} \\text{dst}^{II}(\\mathbf{u}/\\sin \\mathbf{\\theta})_k, \\quad k=0,1, \\ldots, N-3.\n",
    "$$"
   ]
  },
  {
   "cell_type": "markdown",
   "metadata": {},
   "source": [
    "For basis ([2](#eq:heinrichs)) it is"
   ]
  },
  {
   "cell_type": "markdown",
   "metadata": {},
   "source": [
    "$$\n",
    "\\hat{u}_k^{\\varphi} = \\frac{1}{c_k N} \\text{dct}^{II} (\\mathbf{u}/\\sin^2 \\mathbf{\\theta})_k, \\quad k=0, 1, \\ldots, N-3,\n",
    "$$"
   ]
  },
  {
   "cell_type": "markdown",
   "metadata": {},
   "source": [
    "and for the basis ([3](#eq:dirichletU)) it is"
   ]
  },
  {
   "cell_type": "markdown",
   "metadata": {},
   "source": [
    "$$\n",
    "\\hat{u}_k^{\\psi} = \\frac{k+3}{2(k+1)}\\hat{u}_k^{\\phi} - \\frac{1}{2}\\hat{u}_{k+2}^{\\phi}, \\quad k=0, 1, \\ldots, N-3.\n",
    "$$"
   ]
  },
  {
   "cell_type": "markdown",
   "metadata": {},
   "source": [
    "## Implementation\n",
    "\n",
    "To validate these methods we compute the projection first regularly\n",
    "using the Shenfun function [project](https://github.com/spectralDNS/shenfun/blob/master/shenfun/forms/project.py),\n",
    "which is using $\\sigma=-1/2$, and then using the fast methods above.\n",
    "\n",
    "Start by importing necessary modules from Shenfun and mpi4py-fft"
   ]
  },
  {
   "cell_type": "code",
   "execution_count": null,
   "metadata": {
    "tags": [
     "thebe-init"
    ]
   },
   "outputs": [],
   "source": [
    "from shenfun import *\n",
    "from mpi4py_fft import fftw"
   ]
  },
  {
   "cell_type": "markdown",
   "metadata": {},
   "source": [
    "Create function spaces for all three Dirichlet bases. Decide on a number of quadrature points (not important), and just use default quadrature scheme, which is the Gauss-Chebyshev points."
   ]
  },
  {
   "cell_type": "code",
   "execution_count": null,
   "metadata": {
    "tags": [
     "thebe-init"
    ]
   },
   "outputs": [],
   "source": [
    "N = 20\n",
    "D0 = FunctionSpace(N, 'C', basis='ShenDirichlet')\n",
    "D1 = FunctionSpace(N, 'C', basis='Heinrichs')\n",
    "D2 = FunctionSpace(N, 'C', basis='DirichletU')"
   ]
  },
  {
   "cell_type": "markdown",
   "metadata": {},
   "source": [
    "Create a random vector that we will use for testing."
   ]
  },
  {
   "cell_type": "code",
   "execution_count": null,
   "metadata": {
    "tags": [
     "thebe-init"
    ]
   },
   "outputs": [],
   "source": [
    "f = Function(D0, buffer=np.random.random(N))\n",
    "f[-2:] = 0\n",
    "f[:] = f.backward().forward()\n",
    "fb = f.backward().copy()"
   ]
  },
  {
   "cell_type": "markdown",
   "metadata": {},
   "source": [
    "Do the regular projection. Now `f0`, `f1` and `f2` will be the three solution vectors $\\mathbf{\\hat{u}}^{\\phi}$, $\\mathbf{\\hat{u}}^{\\varphi}$ and $\\mathbf{\\hat{u}}^{\\psi}$."
   ]
  },
  {
   "cell_type": "code",
   "execution_count": null,
   "metadata": {
    "tags": [
     "thebe-init"
    ]
   },
   "outputs": [],
   "source": [
    "f0 = project(fb, D0)\n",
    "f1 = project(fb, D1)\n",
    "f2 = project(fb, D2)"
   ]
  },
  {
   "cell_type": "markdown",
   "metadata": {},
   "source": [
    "Now compute the fast transforms and assert that they are equal to `f0`, `f1` and `f2`"
   ]
  },
  {
   "cell_type": "code",
   "execution_count": null,
   "metadata": {
    "tags": [
     "thebe-init"
    ]
   },
   "outputs": [],
   "source": [
    "theta = np.pi*(2*np.arange(N)+1)/(2*N)\n",
    "dst = fftw.dstn(fb, type=2)\n",
    "d0 = dst(fb/np.sin(theta))/(2*N)\n",
    "assert np.linalg.norm(d0-f0) < 1e-8\n",
    "dct = fftw.dctn(fb, type=2)\n",
    "ck = np.ones(N); ck[0] = 2\n",
    "d1 = dct(fb/np.sin(theta)**2)/(ck*N)\n",
    "assert np.linalg.norm(d1-f1) < 1e-8, np.linalg.norm(d1-f1)\n",
    "ut = d0\n",
    "k = np.arange(N)\n",
    "d2 = Function(D2)\n",
    "d2[:-2] = (k[:-2]+3)/2/(k[:-2]+1)*ut[:-2]\n",
    "d2[:-2] = d2[:-2] - 0.5*ut[2:]\n",
    "assert np.linalg.norm(d2-f2) < 1e-8"
   ]
  },
  {
   "cell_type": "markdown",
   "metadata": {},
   "source": [
    "That's it! If you make it to here with no errors, then the three tests pass, and the fast transforms are equal to the slow ones, at least within given precision.\n",
    "\n",
    "Let's try some timings"
   ]
  },
  {
   "cell_type": "code",
   "execution_count": null,
   "metadata": {
    "tags": [
     "thebe-init"
    ]
   },
   "outputs": [],
   "source": [
    "%timeit project(fb, D0)"
   ]
  },
  {
   "cell_type": "code",
   "execution_count": null,
   "metadata": {
    "tags": [
     "thebe-init"
    ]
   },
   "outputs": [],
   "source": [
    "%timeit dst(fb/np.sin(theta))/(2*N)"
   ]
  },
  {
   "cell_type": "markdown",
   "metadata": {},
   "source": [
    "We can precompute the sine term, because it does not change"
   ]
  },
  {
   "cell_type": "code",
   "execution_count": null,
   "metadata": {
    "tags": [
     "thebe-init"
    ]
   },
   "outputs": [],
   "source": [
    "dd = np.sin(theta)*2*N\n",
    "%timeit dst(fb/dd)"
   ]
  },
  {
   "cell_type": "markdown",
   "metadata": {},
   "source": [
    "The other two transforms are about equally fast"
   ]
  },
  {
   "cell_type": "code",
   "execution_count": null,
   "metadata": {
    "tags": [
     "thebe-init"
    ]
   },
   "outputs": [],
   "source": [
    "%timeit dct(fb/np.sin(theta)**2)/(ck*N)"
   ]
  },
  {
   "cell_type": "markdown",
   "metadata": {},
   "source": [
    "<!-- ======= Bibliography ======= -->"
   ]
  }
 ],
 "metadata": {
  "kernelspec": {
   "display_name": "Python 3",
   "language": "python",
   "name": "python3"
  },
  "language_info": {
   "file_extension": ".py",
   "mimetype": "text/x-python",
   "name": "python",
   "nbconvert_exporter": "python",
   "pygments_lexer": "ipython3",
   "version": "3.8.5"
  }
 },
 "nbformat": 4,
 "nbformat_minor": 4
}
