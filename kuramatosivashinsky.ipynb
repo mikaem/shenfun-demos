{
 "cells": [
  {
   "cell_type": "markdown",
   "metadata": {},
   "source": [
    "<!-- dom:TITLE: Demo - Kuramato-Sivashinsky equation -->\n",
    "# Demo - Kuramato-Sivashinsky equation\n",
    "<!-- dom:AUTHOR: Mikael Mortensen Email:mikaem@math.uio.no at Department of Mathematics, University of Oslo. -->\n",
    "<!-- Author: -->  \n",
    "**Mikael Mortensen** (email: `mikaem@math.uio.no`), Department of Mathematics, University of Oslo.\n",
    "\n",
    "Date: **Aug 18, 2020**\n",
    "\n",
    "Copyright 2020, Mikael Mortensen. Released under CC Attribution 4.0 license\n",
    "\n",
    "**Summary.** This is a demonstration of how the Python module [shenfun](https://github.com/spectralDNS/shenfun) can be used to solve the time-dependent,\n",
    "nonlinear Kuramato-Sivashinsky equation, in a doubly periodic domain. The demo is implemented in\n",
    "a single Python file [KuramatoSivashinsky.py](https://github.com/spectralDNS/shenfun/blob/master/demo/Kuramato_Sivashinsky.py), and it may be run\n",
    "in parallel using MPI.\n",
    "\n",
    "\n",
    "\n",
    "\n",
    "\n",
    "\n",
    "\n",
    "\n",
    "\n",
    "<!-- dom:MOVIE: [https://rawgit.com/spectralDNS/spectralutilities/master/movies/Kuramato_movie_128.gif] Movie showing the evolution of the solution $u$ from Eq. ([1](#eq:ks)). -->\n",
    "<!-- begin movie -->"
   ]
  },
  {
   "cell_type": "code",
   "execution_count": 1,
   "metadata": {
    "collapsed": false
   },
   "outputs": [],
   "source": [
    "from IPython.display import HTML\n",
    "_s = \"\"\"\n",
    "<embed src=\"https://rawgit.com/spectralDNS/spectralutilities/master/movies/Kuramato_movie_128.gif\"  autoplay=\"false\" loop=\"true\"></embed>\n",
    "<p><em>Movie showing the evolution of the solution $u$ from Eq. (ref{eq:ks}).</em></p>\n",
    "\"\"\"\n",
    "HTML(_s)"
   ]
  },
  {
   "cell_type": "markdown",
   "metadata": {},
   "source": [
    "<!-- end movie -->\n",
    "\n",
    "\n",
    "\n",
    "\n",
    "## The Kuramato-Sivashinsky equation\n",
    "\n",
    "The Kuramato-Sivashinsky (KS) equation is known for its chaotic bahaviour, and it is\n",
    "often used in study of turbulence or turbulent combustion. We will here solve\n",
    "the KS equation in a doubly periodic domain $[-30\\pi, 30\\pi]^2$, starting from a\n",
    "single Gaussian pulse"
   ]
  },
  {
   "cell_type": "markdown",
   "metadata": {},
   "source": [
    "<!-- Equation labels as ordinary links -->\n",
    "<a id=\"eq:ks\"></a>\n",
    "\n",
    "$$\n",
    "\\begin{equation}\n",
    "\\frac{\\partial u(\\boldsymbol{x},t)}{\\partial t} + \\nabla^2 u(\\boldsymbol{x},t) + \\nabla^4\n",
    "u(\\boldsymbol{x},t) + |\\nabla u(\\boldsymbol{x},t)|^2 = 0 \\quad \\text{for }\\, \\boldsymbol{x} \\in \\Omega=[-30 \\pi, 30\\pi]^2\n",
    "\\label{eq:ks} \\tag{1} \n",
    "\\end{equation}\n",
    "$$"
   ]
  },
  {
   "cell_type": "markdown",
   "metadata": {},
   "source": [
    "<!-- Equation labels as ordinary links -->\n",
    "<a id=\"_auto1\"></a>\n",
    "\n",
    "$$\n",
    "\\begin{equation}  \n",
    "u(\\boldsymbol{x}, 0) = \\exp(-0.01 \\boldsymbol{x} \\cdot \\boldsymbol{x}) \\notag\n",
    "\\label{_auto1} \\tag{2}\n",
    "\\end{equation}\n",
    "$$"
   ]
  },
  {
   "cell_type": "markdown",
   "metadata": {},
   "source": [
    "## Spectral Galerkin method\n",
    "\n",
    "<a id=\"sec:spectralgalerkin\"></a>\n",
    "The PDE in ([1](#eq:ks)) can be solved with many different\n",
    "numerical methods. We will here use the [shenfun](https://github.com/spectralDNS/shenfun) software and this software makes use of\n",
    "the spectral Galerkin method. Being a Galerkin method, we need to reshape the\n",
    "governing equations into proper variational forms, and this is done by\n",
    "multiplying  ([1](#eq:ks)) with the complex conjugate of a proper\n",
    "test function and then integrating\n",
    "over the domain. To this end we use testfunction $v\\in V(\\Omega)$, where $V(\\Omega)$\n",
    "is some suitable function space, and obtain"
   ]
  },
  {
   "cell_type": "markdown",
   "metadata": {},
   "source": [
    "<!-- Equation labels as ordinary links -->\n",
    "<a id=\"eq:du_var\"></a>\n",
    "\n",
    "$$\n",
    "\\begin{equation}\n",
    "\\frac{\\partial}{\\partial t} \\int_{\\Omega} u\\, \\overline{v}\\, w \\,dx = -\\int_{\\Omega}\n",
    "\\left(\\nabla^2 u + \\nabla^4 u \\ + |\\nabla u|^2 \\right) \\overline{v} \\, w \\,dx.\n",
    "\\label{eq:du_var} \\tag{3}\n",
    "\\end{equation}\n",
    "$$"
   ]
  },
  {
   "cell_type": "markdown",
   "metadata": {},
   "source": [
    "Note that the overline is used to indicate a complex conjugate, whereas $w$\n",
    "is a weight function. The function $u$\n",
    "is now to be considered a trial function, and the integrals over the\n",
    "domain are often referred to as inner products. With inner product notation"
   ]
  },
  {
   "cell_type": "markdown",
   "metadata": {},
   "source": [
    "$$\n",
    "\\left(u, v\\right) = \\int_{\\Omega} u \\, \\overline{v} \\, w \\, dx.\n",
    "$$"
   ]
  },
  {
   "cell_type": "markdown",
   "metadata": {},
   "source": [
    "the variational problem can be formulated as"
   ]
  },
  {
   "cell_type": "markdown",
   "metadata": {},
   "source": [
    "<!-- Equation labels as ordinary links -->\n",
    "<a id=\"eq:du_var2\"></a>\n",
    "\n",
    "$$\n",
    "\\begin{equation}\n",
    "\\frac{\\partial}{\\partial t} (u, v) = -\\left(\\nabla^2 u + \\nabla^4 u + |\\nabla u|^2,\n",
    "v \\right). \\label{eq:du_var2} \\tag{4}\n",
    "\\end{equation}\n",
    "$$"
   ]
  },
  {
   "cell_type": "markdown",
   "metadata": {},
   "source": [
    "The space and time discretizations are\n",
    "still left open. There are numerous different approaches that one could take for\n",
    "discretizing in time. Here we will use a fourth order exponential Runge-Kutta\n",
    "method.\n",
    "\n",
    "## Discretization\n",
    "\n",
    "We discretize the model equation in space using continuously differentiable\n",
    "Fourier basis functions"
   ]
  },
  {
   "cell_type": "markdown",
   "metadata": {},
   "source": [
    "<!-- Equation labels as ordinary links -->\n",
    "<a id=\"_auto2\"></a>\n",
    "\n",
    "$$\n",
    "\\begin{equation}\n",
    "\\phi_l(x) = e^{\\imath \\underline{l} x}, \\quad -\\infty < l < \\infty,\n",
    "\\label{_auto2} \\tag{5}\n",
    "\\end{equation}\n",
    "$$"
   ]
  },
  {
   "cell_type": "markdown",
   "metadata": {},
   "source": [
    "where $l$ is the wavenumber, and $\\underline{l}=\\frac{2\\pi}{L}l$ is the scaled wavenumber, scaled with domain\n",
    "length $L$ (here $60\\pi$). Since we want to solve these equations on a computer, we need to choose\n",
    "a finite number of test functions. A discrete function space $V^N$ can be defined as"
   ]
  },
  {
   "cell_type": "markdown",
   "metadata": {},
   "source": [
    "<!-- Equation labels as ordinary links -->\n",
    "<a id=\"eq:Vn\"></a>\n",
    "\n",
    "$$\n",
    "\\begin{equation}\n",
    "V^N(x) = \\text{span} \\{\\phi_l(x)\\}_{l\\in \\boldsymbol{l}}, \\label{eq:Vn} \\tag{6}\n",
    "\\end{equation}\n",
    "$$"
   ]
  },
  {
   "cell_type": "markdown",
   "metadata": {},
   "source": [
    "where $N$ is chosen as an even positive integer and $\\boldsymbol{l} = (-N/2,\n",
    "-N/2+1, \\ldots, N/2-1)$. And now, since $\\Omega$ is a\n",
    "two-dimensional domain, we can create a tensor product of two such one-dimensional\n",
    "spaces:"
   ]
  },
  {
   "cell_type": "markdown",
   "metadata": {},
   "source": [
    "<!-- Equation labels as ordinary links -->\n",
    "<a id=\"eq:Wn\"></a>\n",
    "\n",
    "$$\n",
    "\\begin{equation}\n",
    "W^{\\boldsymbol{N}}(x, y) = V^N(x) \\otimes V^N(y), \\label{eq:Wn} \\tag{7}\n",
    "\\end{equation}\n",
    "$$"
   ]
  },
  {
   "cell_type": "markdown",
   "metadata": {},
   "source": [
    "where $\\boldsymbol{N} = (N, N)$. Obviously, it is not necessary to use the\n",
    "same number ($N$) of basis functions for each direction, but it is done here\n",
    "for simplicity. A 2D tensor product basis function is now defined as"
   ]
  },
  {
   "cell_type": "markdown",
   "metadata": {},
   "source": [
    "<!-- Equation labels as ordinary links -->\n",
    "<a id=\"_auto3\"></a>\n",
    "\n",
    "$$\n",
    "\\begin{equation}\n",
    "\\Phi_{lm}(x,y) = e^{\\imath \\underline{l} x} e^{\\imath \\underline{m} y}\n",
    "= e^{\\imath (\\underline{l}x + \\underline{m}y )},\n",
    "\\label{_auto3} \\tag{8}\n",
    "\\end{equation}\n",
    "$$"
   ]
  },
  {
   "cell_type": "markdown",
   "metadata": {},
   "source": [
    "where the indices for $y$-direction are $\\underline{m}=\\frac{2\\pi}{L}m$, and\n",
    "$\\boldsymbol{m}$ is the same set as $\\boldsymbol{l}$ due to using the same number of basis functions for each direction. One\n",
    "distinction, though, is that for the $y$-direction expansion coefficients are only stored for\n",
    "$m=(0, 1, \\ldots, N/2)$ due to Hermitian symmetry (real input data).\n",
    "\n",
    "We now look for solutions of the form"
   ]
  },
  {
   "cell_type": "markdown",
   "metadata": {},
   "source": [
    "<!-- Equation labels as ordinary links -->\n",
    "<a id=\"_auto4\"></a>\n",
    "\n",
    "$$\n",
    "\\begin{equation}\n",
    "u(x, y) = \\sum_{l=-N/2}^{N/2-1}\\sum_{m=-N/2}^{N/2-1}\n",
    "\\hat{u}_{lm} \\Phi_{lm}(x,y).\n",
    "\\label{_auto4} \\tag{9}\n",
    "\\end{equation}\n",
    "$$"
   ]
  },
  {
   "cell_type": "markdown",
   "metadata": {},
   "source": [
    "The expansion coefficients $\\hat{u}_{lm}$ can be related directly to the solution $u(x,\n",
    "y)$ using Fast Fourier Transforms (FFTs) if we are satisfied with obtaining\n",
    "the solution in quadrature points corresponding to"
   ]
  },
  {
   "cell_type": "markdown",
   "metadata": {},
   "source": [
    "<!-- Equation labels as ordinary links -->\n",
    "<a id=\"_auto5\"></a>\n",
    "\n",
    "$$\n",
    "\\begin{equation}\n",
    " x_i = \\frac{60 \\pi i}{N}-30\\pi \\quad \\forall \\, i \\in \\boldsymbol{i},\n",
    "\\text{where}\\, \\boldsymbol{i}=(0,1,\\ldots,N-1), \n",
    "\\label{_auto5} \\tag{10}\n",
    "\\end{equation}\n",
    "$$"
   ]
  },
  {
   "cell_type": "markdown",
   "metadata": {},
   "source": [
    "<!-- Equation labels as ordinary links -->\n",
    "<a id=\"_auto6\"></a>\n",
    "\n",
    "$$\n",
    "\\begin{equation}  \n",
    " y_j = \\frac{60 \\pi j}{N}-30\\pi \\quad \\forall \\, j \\in \\boldsymbol{j},\n",
    "\\text{where}\\, \\boldsymbol{j}=(0,1,\\ldots,N-1).\n",
    "\\label{_auto6} \\tag{11}\n",
    "\\end{equation}\n",
    "$$"
   ]
  },
  {
   "cell_type": "markdown",
   "metadata": {},
   "source": [
    "Note that these points are different from the standard (like $2\\pi j/N$) since\n",
    "the domain\n",
    "is set to $[-30\\pi, 30\\pi]^2$ and not the more common $[0, 2\\pi]^2$. We now have"
   ]
  },
  {
   "cell_type": "markdown",
   "metadata": {},
   "source": [
    "<!-- Equation labels as ordinary links -->\n",
    "<a id=\"_auto7\"></a>\n",
    "\n",
    "$$\n",
    "\\begin{equation}\n",
    "u(x_i, y_j) =\n",
    "\\mathcal{F}_y^{-1}\\left(\\mathcal{F}_x^{-1}\\left(\\hat{u}\\right)\\right)\n",
    "\\, \\forall\\, (i,j)\\in\\boldsymbol{i} \\times \\boldsymbol{j},\n",
    "\\label{_auto7} \\tag{12}\n",
    "\\end{equation}\n",
    "$$"
   ]
  },
  {
   "cell_type": "markdown",
   "metadata": {},
   "source": [
    "where $\\mathcal{F}_x^{-1}$ is the inverse Fourier transform along direction\n",
    "$x$, for all $j \\in \\boldsymbol{j} $. Note that the two\n",
    "inverse FFTs are performed sequentially, one direction at the time, and that\n",
    "there is no scaling factor due\n",
    "the definition used for the inverse\n",
    "[Fourier transform](https://mpi4py-fft.readthedocs.io/en/latest/dft.html):"
   ]
  },
  {
   "cell_type": "markdown",
   "metadata": {},
   "source": [
    "<!-- Equation labels as ordinary links -->\n",
    "<a id=\"_auto8\"></a>\n",
    "\n",
    "$$\n",
    "\\begin{equation}\n",
    "u(x_j) = \\sum_{l=-N/2}^{N/2-1} \\hat{u}_l e^{\\imath \\underline{l}\n",
    "x_j}, \\quad \\,\\, \\forall \\, j \\in \\, \\boldsymbol{j}.\n",
    "\\label{_auto8} \\tag{13}\n",
    "\\end{equation}\n",
    "$$"
   ]
  },
  {
   "cell_type": "markdown",
   "metadata": {},
   "source": [
    "Note that this differs from the definition used by, e.g.,\n",
    "[Numpy](https://docs.scipy.org/doc/numpy-1.13.0/reference/routines.fft.html).\n",
    "\n",
    "The inner products used in Eq. ([4](#eq:du_var2)) may be\n",
    "computed using forward FFTs (using weight functions $w=1/L$):"
   ]
  },
  {
   "cell_type": "markdown",
   "metadata": {},
   "source": [
    "<!-- Equation labels as ordinary links -->\n",
    "<a id=\"_auto9\"></a>\n",
    "\n",
    "$$\n",
    "\\begin{equation}\n",
    "\\left(u, \\Phi_{lm}\\right) = \\hat{u}_{lm} =\n",
    "\\frac{1}{N^2}\n",
    "\\mathcal{F}_l\\left(\\mathcal{F}_m\\left({u}\\right)\\right)\n",
    "\\quad \\forall (l,m) \\in \\boldsymbol{l} \\times \\boldsymbol{m},\n",
    "\\label{_auto9} \\tag{14}\n",
    "\\end{equation}\n",
    "$$"
   ]
  },
  {
   "cell_type": "markdown",
   "metadata": {},
   "source": [
    "From this we see that the variational forms\n",
    "may be written in terms of the Fourier transformed $\\hat{u}$. Expanding the\n",
    "exact derivatives of the nabla operator, we have"
   ]
  },
  {
   "cell_type": "markdown",
   "metadata": {},
   "source": [
    "<!-- Equation labels as ordinary links -->\n",
    "<a id=\"_auto10\"></a>\n",
    "\n",
    "$$\n",
    "\\begin{equation}\n",
    "(\\nabla^2 u, v) =\n",
    "-(\\underline{l}^2+\\underline{m}^2)\\hat{u}_{lm}, \n",
    "\\label{_auto10} \\tag{15}\n",
    "\\end{equation}\n",
    "$$"
   ]
  },
  {
   "cell_type": "markdown",
   "metadata": {},
   "source": [
    "<!-- Equation labels as ordinary links -->\n",
    "<a id=\"_auto11\"></a>\n",
    "\n",
    "$$\n",
    "\\begin{equation}  \n",
    "(\\nabla^4 u, v) = (\\underline{l}^2+\\underline{m}^2)^2\\hat{u}_{lm}, \n",
    "\\label{_auto11} \\tag{16}\n",
    "\\end{equation}\n",
    "$$"
   ]
  },
  {
   "cell_type": "markdown",
   "metadata": {},
   "source": [
    "<!-- Equation labels as ordinary links -->\n",
    "<a id=\"_auto12\"></a>\n",
    "\n",
    "$$\n",
    "\\begin{equation}  \n",
    "(|\\nabla u|^2, v) = \\widehat{|\\nabla u|^2}_{lm}\n",
    "\\label{_auto12} \\tag{17}\n",
    "\\end{equation}\n",
    "$$"
   ]
  },
  {
   "cell_type": "markdown",
   "metadata": {},
   "source": [
    "and as such the equation to be solved for each wavenumber can be found directly as"
   ]
  },
  {
   "cell_type": "markdown",
   "metadata": {},
   "source": [
    "<!-- Equation labels as ordinary links -->\n",
    "<a id=\"eq:du_var3\"></a>\n",
    "\n",
    "$$\n",
    "\\begin{equation}\n",
    "\\frac{\\partial \\hat{u}_{lm}}{\\partial t}  =\n",
    "\\left(\\underline{l}^2+\\underline{m}^2 -\n",
    "(\\underline{l}^2+\\underline{m}^2)^2\\right)\\hat{u}_{lm} - \\widehat{|\\nabla u|^2}_{lm},\n",
    "\\label{eq:du_var3} \\tag{18}\n",
    "\\end{equation}\n",
    "$$"
   ]
  },
  {
   "cell_type": "markdown",
   "metadata": {},
   "source": [
    "## Implementation\n",
    "\n",
    "The model equation ([1](#eq:ks)) is implemented in shenfun using Fourier basis functions for\n",
    "both $x$ and $y$ directions. We start the solver by implementing necessary\n",
    "functionality from required modules like [Numpy](https://numpy.org), [Sympy](https://sympy.org)\n",
    "[matplotlib](https://matplotlib.org) and [mpi4py](https://bitbucket.org/mpi4py), in\n",
    "addition to [shenfun](https://github.com/spectralDNS/shenfun):"
   ]
  },
  {
   "cell_type": "code",
   "execution_count": 2,
   "metadata": {
    "collapsed": false
   },
   "outputs": [],
   "source": [
    "%matplotlib inline\n",
    "\n",
    "from sympy import symbols, exp, lambdify\n",
    "import numpy as np\n",
    "import matplotlib.pyplot as plt\n",
    "from shenfun import *"
   ]
  },
  {
   "cell_type": "markdown",
   "metadata": {},
   "source": [
    "The size of the problem (in real space) is then specified, before creating\n",
    "the `TensorProductSpace`, which is using a tensor product of two Fourier bases as\n",
    "basis functions. We also\n",
    "create a `VectorTensorProductSpace`, since this is required for computing the\n",
    "gradient of the scalar field `u`. The gradient is required for the nonlinear\n",
    "term."
   ]
  },
  {
   "cell_type": "code",
   "execution_count": 3,
   "metadata": {
    "collapsed": false
   },
   "outputs": [],
   "source": [
    "# Size of discretization\n",
    "N = (128, 128)\n",
    "\n",
    "K0 = FunctionSpace(N[0], 'F', domain=(-30*np.pi, 30*np.pi), dtype='D')\n",
    "K1 = FunctionSpace(N[1], 'F', domain=(-30*np.pi, 30*np.pi), dtype='d')\n",
    "T = TensorProductSpace(comm, (K0, K1), **{'planner_effort': 'FFTW_MEASURE'})\n",
    "TV = VectorTensorProductSpace([T, T])\n",
    "Tp = T.get_dealiased((1.5, 1.5))\n",
    "TVp = VectorTensorProductSpace(Tp)"
   ]
  },
  {
   "cell_type": "markdown",
   "metadata": {},
   "source": [
    "Test and trialfunctions are required for assembling the variational forms:"
   ]
  },
  {
   "cell_type": "code",
   "execution_count": 4,
   "metadata": {
    "collapsed": false
   },
   "outputs": [],
   "source": [
    "u = TrialFunction(T)\n",
    "v = TestFunction(T)"
   ]
  },
  {
   "cell_type": "markdown",
   "metadata": {},
   "source": [
    "and some arrays are required to hold the solution. We also create an array\n",
    "`gradu`, that will be used to compute the gradient in the nonlinear term.\n",
    "Finally, the wavenumbers are collected in list `K`. Here one feature is worth\n",
    "mentioning. The gradient in spectral space can be computed as `1j*K*U_hat`.\n",
    "However, since this is an odd derivative, and we are using an even number `N`\n",
    "for the size of the domain, the highest wavenumber must be set to zero. This is\n",
    "the purpose of the last keyword argument to `local_wavenumbers` below."
   ]
  },
  {
   "cell_type": "code",
   "execution_count": 5,
   "metadata": {
    "collapsed": false
   },
   "outputs": [],
   "source": [
    "x, y = symbols(\"x,y\", real=True)\n",
    "ue = exp(-0.01*(x**2+y**2))\n",
    "U = Array(T, buffer=ue)\n",
    "U_hat = Function(T)\n",
    "U_hat = U.forward(U_hat)\n",
    "mask = T.get_mask_nyquist()\n",
    "U_hat.mask_nyquist(mask)\n",
    "gradu = Array(TVp)\n",
    "K = np.array(T.local_wavenumbers(True, True, eliminate_highest_freq=True))\n",
    "X = T.local_mesh(True)"
   ]
  },
  {
   "cell_type": "markdown",
   "metadata": {},
   "source": [
    "Note that using this `K` in computing derivatives has the same effect as\n",
    "achieved by symmetrizing the Fourier series by replacing the first sum below\n",
    "with the second when computing odd derivatives."
   ]
  },
  {
   "cell_type": "markdown",
   "metadata": {},
   "source": [
    "<!-- Equation labels as ordinary links -->\n",
    "<a id=\"_auto13\"></a>\n",
    "\n",
    "$$\n",
    "\\begin{equation}\n",
    "u  = \\sum_{k=-N/2}^{N/2-1} \\hat{u} e^{\\imath k x}\n",
    "\\label{_auto13} \\tag{19}\n",
    "\\end{equation}\n",
    "$$"
   ]
  },
  {
   "cell_type": "markdown",
   "metadata": {},
   "source": [
    "<!-- Equation labels as ordinary links -->\n",
    "<a id=\"_auto14\"></a>\n",
    "\n",
    "$$\n",
    "\\begin{equation}  \n",
    "u  = \\sideset{}{'}\\sum_{k=-N/2}^{N/2} \\hat{u} e^{\\imath k x}\n",
    "\\label{_auto14} \\tag{20}\n",
    "\\end{equation}\n",
    "$$"
   ]
  },
  {
   "cell_type": "markdown",
   "metadata": {},
   "source": [
    "Here $\\sideset{}{'}\\sum$ means that the first and last items in the sum are\n",
    "divided by two. Note that the two sums are equal as they stand (due to aliasing), but only the\n",
    "latter (known as the Fourier interpolant) gives the correct (zero) derivative of\n",
    "the basis with the highest wavenumber.\n",
    "\n",
    "Shenfun has a few integrators implemented in the `integrators`\n",
    "submodule. Two such integrators are the 4th order explicit Runge-Kutta method\n",
    "`RK4`, and the exponential 4th order Runge-Kutta method `ETDRK4`. Both these\n",
    "integrators need two methods provided by the problem being solved, representing\n",
    "the linear and nonlinear terms in the problem equation. We define two methods\n",
    "below, called `LinearRHS` and `NonlinearRHS`"
   ]
  },
  {
   "cell_type": "code",
   "execution_count": 6,
   "metadata": {
    "collapsed": false
   },
   "outputs": [],
   "source": [
    "def LinearRHS(self, **params):\n",
    "    # Assemble diagonal bilinear forms\n",
    "    L = -(inner(div(grad(u))+div(grad(div(grad(u)))), v))\n",
    "    return L\n",
    "\n",
    "def NonlinearRHS(self, U, U_hat, dU, gradu, **params):\n",
    "    # Assemble nonlinear term\n",
    "    gradu = TVp.backward(1j*K*U_hat, gradu)\n",
    "    dU = Tp.forward(0.5*(gradu[0]*gradu[0]+gradu[1]*gradu[1]), dU)\n",
    "    dU.mask_nyquist(mask)\n",
    "    return -dU"
   ]
  },
  {
   "cell_type": "markdown",
   "metadata": {},
   "source": [
    "The code should, hopefully, be self-explanatory.\n",
    "\n",
    "All that remains now is to setup the\n",
    "integrator plus some plotting functionality for visualizing the results. Note\n",
    "that visualization is only nice when running the code in serial. For parallel,\n",
    "it is recommended to use `HDF5File`, to store intermediate results to the HDF5\n",
    "format, for later viewing in, e.g., Paraview.\n",
    "\n",
    "We create an update function for plotting intermediate results with a\n",
    "cool colormap:"
   ]
  },
  {
   "cell_type": "code",
   "execution_count": 7,
   "metadata": {
    "collapsed": false
   },
   "outputs": [],
   "source": [
    "# Integrate using an exponential time integrator\n",
    "def update(self, u, u_hat, t, tstep, **params):\n",
    "    if not hasattr(self, 'fig'):\n",
    "        self.fig = plt.figure()\n",
    "        self.cm = plt.get_cmap('hot')\n",
    "        self.image = plt.contourf(X[0], X[1], U, 256, cmap=self.cm)\n",
    "    if tstep % params['plot_step'] == 0 and params['plot_step'] > 0:\n",
    "        u = u_hat.backward(u)\n",
    "        self.image.ax.clear()\n",
    "        self.image.ax.contourf(X[0], X[1], u, 256, cmap=self.cm)\n",
    "        plt.pause(1e-6)\n",
    "        print('Energy =', dx(u**2))"
   ]
  },
  {
   "cell_type": "markdown",
   "metadata": {},
   "source": [
    "Now all that remains is to create the integrator and call it"
   ]
  },
  {
   "cell_type": "code",
   "execution_count": 8,
   "metadata": {
    "collapsed": false
   },
   "outputs": [],
   "source": [
    "par = {'plot_step': 100, 'gradu': gradu}\n",
    "dt = 0.01\n",
    "end_time = 100\n",
    "integrator = ETDRK4(T, L=LinearRHS, N=NonlinearRHS, update=update, **par)\n",
    "#integrator = RK4(T, L=LinearRHS, N=NonlinearRHS, update=update, **par)\n",
    "integrator.setup(dt)\n",
    "U_hat = integrator.solve(U, U_hat, dt, (0, end_time))"
   ]
  }
 ],
 "metadata": {},
 "nbformat": 4,
 "nbformat_minor": 4
}
