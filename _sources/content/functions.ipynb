{
 "cells": [
  {
   "cell_type": "markdown",
   "id": "f3038a60",
   "metadata": {
    "editable": true
   },
   "source": [
    "<!-- File automatically generated using DocOnce (https://github.com/doconce/doconce/):\n",
    "doconce format ipynb functions.do.txt  -->\n",
    "\n",
    "# Demo - Working with Functions\n",
    "**Mikael Mortensen** (email: `mikaem@math.uio.no`), Department of Mathematics, University of Oslo.\n",
    "\n",
    "Date: **August 7, 2020**\n",
    "\n",
    "**Summary.** This is a demonstration of how the Python module [shenfun](https://github.com/spectralDNS/shenfun) can be used to work with\n",
    "global spectral functions in one and several dimensions."
   ]
  },
  {
   "cell_type": "markdown",
   "id": "be63430d",
   "metadata": {
    "editable": true
   },
   "source": [
    "## Construction\n",
    "\n",
    "A global spectral function $u(x)$ can be represented on the real line as"
   ]
  },
  {
   "cell_type": "markdown",
   "id": "75869282",
   "metadata": {
    "editable": true
   },
   "source": [
    "$$\n",
    "u(x) = \\sum_{k=0}^{N-1} \\hat{u}_k \\psi_k(x), \\quad x \\in \\Omega = [a, b],\n",
    "$$"
   ]
  },
  {
   "cell_type": "markdown",
   "id": "174c39e0",
   "metadata": {
    "editable": true
   },
   "source": [
    "where the domain $\\Omega$ has to be defined such that $b > a$.\n",
    "The array $\\{\\hat{u}_k\\}_{k=0}^{N-1}$ contains the\n",
    "expansion coefficient for the series, often referred to as the\n",
    "degrees of freedom. There is one degree of freedom per basis function and\n",
    "$\\psi_k(x)$ is the $k$'th basis function.\n",
    "We can use any number of basis functions,\n",
    "and the span of the chosen basis is then a function space. Also part of the\n",
    "function space is the domain, which is\n",
    "specified when a function space is created. To create a function space\n",
    "$T=\\text{span}\\{T_k\\}_{k=0}^{N-1}$ for\n",
    "the first N Chebyshev polynomials of the first kind on the default domain $[-1, 1]$,\n",
    "do"
   ]
  },
  {
   "cell_type": "code",
   "execution_count": null,
   "id": "f17eb498",
   "metadata": {
    "editable": true,
    "tags": [
     "thebe-init"
    ]
   },
   "outputs": [],
   "source": [
    "from shenfun import *\n",
    "N = 8\n",
    "T = FunctionSpace(N, 'Chebyshev', domain=(-1, 1))"
   ]
  },
  {
   "cell_type": "markdown",
   "id": "51d18e17",
   "metadata": {
    "editable": true
   },
   "source": [
    "The function $u(x)$ can now be created with all N coefficients\n",
    "equal to zero as"
   ]
  },
  {
   "cell_type": "code",
   "execution_count": null,
   "id": "b77b3fc9",
   "metadata": {
    "editable": true,
    "tags": [
     "thebe-init"
    ]
   },
   "outputs": [],
   "source": [
    "u = Function(T)"
   ]
  },
  {
   "cell_type": "markdown",
   "id": "791e8067",
   "metadata": {
    "editable": true
   },
   "source": [
    "When using Chebyshev polynomials the computational domain is always\n",
    "$[-1, 1]$. However, we can still use a different physical domain,\n",
    "like"
   ]
  },
  {
   "cell_type": "code",
   "execution_count": null,
   "id": "8ec4daad",
   "metadata": {
    "editable": true,
    "tags": [
     "thebe-init"
    ]
   },
   "outputs": [],
   "source": [
    "T = FunctionSpace(N, 'Chebyshev', domain=(0, 1))"
   ]
  },
  {
   "cell_type": "markdown",
   "id": "c08835aa",
   "metadata": {
    "editable": true
   },
   "source": [
    "and under the hood shenfun will then map this domain to the reference\n",
    "domain through"
   ]
  },
  {
   "cell_type": "markdown",
   "id": "ab3b7822",
   "metadata": {
    "editable": true
   },
   "source": [
    "$$\n",
    "u(x) = \\sum_{k=0}^{N-1} \\hat{u}_k \\psi_k(2(x-0.5))\n",
    "$$"
   ]
  },
  {
   "cell_type": "markdown",
   "id": "ca3cb4d4",
   "metadata": {
    "editable": true
   },
   "source": [
    "## Approximating analytical functions\n",
    "\n",
    "The `u` function above was created with only zero\n",
    "valued coefficients, which is the default. Alternatively,\n",
    "a [Function](https://shenfun.readthedocs.io/en/latest/shenfun.forms.html#shenfun.forms.arguments.Function) may be initialized using a constant\n",
    "value"
   ]
  },
  {
   "cell_type": "code",
   "execution_count": null,
   "id": "761f5f53",
   "metadata": {
    "editable": true,
    "tags": [
     "thebe-init"
    ]
   },
   "outputs": [],
   "source": [
    "T = FunctionSpace(N, 'Chebyshev', domain=(-1, 1))\n",
    "u = Function(T, val=1)"
   ]
  },
  {
   "cell_type": "markdown",
   "id": "36f77fe7",
   "metadata": {
    "editable": true
   },
   "source": [
    "but that is not very useful. A third method to initialize\n",
    "a [Function](https://shenfun.readthedocs.io/en/latest/shenfun.forms.html#shenfun.forms.arguments.Function) is to interpolate using an analytical\n",
    "Sympy function."
   ]
  },
  {
   "cell_type": "code",
   "execution_count": null,
   "id": "b9ad36a9",
   "metadata": {
    "editable": true,
    "tags": [
     "thebe-init"
    ]
   },
   "outputs": [],
   "source": [
    "import sympy as sp\n",
    "x = sp.Symbol('x', real=True)\n",
    "u = Function(T, buffer=4*x**3-3*x)\n",
    "print(u)"
   ]
  },
  {
   "cell_type": "markdown",
   "id": "4a9048d9",
   "metadata": {
    "editable": true
   },
   "source": [
    "Here the analytical Sympy function will first be evaluated\n",
    "on the entire quadrature mesh of the `T` function space,\n",
    "and then forward transformed to get the coefficients. This\n",
    "corresponds to a finite-dimensional projection to `T`.\n",
    "The projection is\n",
    "\n",
    "Find $u_h \\in T$, such that"
   ]
  },
  {
   "cell_type": "markdown",
   "id": "27a6add1",
   "metadata": {
    "editable": true
   },
   "source": [
    "<!-- Equation labels as ordinary links -->\n",
    "<a id=\"eq:proj1\"></a>\n",
    "\n",
    "$$\n",
    "(u_h - u, v)^{N}_w = 0 \\quad \\forall v \\in T, \\label{eq:proj1} \\tag{1}\n",
    "$$"
   ]
  },
  {
   "cell_type": "markdown",
   "id": "e76306fe",
   "metadata": {
    "editable": true
   },
   "source": [
    "where $v$ is a test function and\n",
    "$u_h=\\sum_{k=0}^{N-1} \\hat{u}_k T_k$ is a trial function. The\n",
    "notation $(\\cdot, \\cdot)^N_w$ represents a discrete version of\n",
    "the weighted inner product $(u, v)_w$ defined as"
   ]
  },
  {
   "cell_type": "markdown",
   "id": "3ed95d25",
   "metadata": {
    "editable": true
   },
   "source": [
    "$$\n",
    "(u, v)_{\\omega} = \\int_{\\Omega} u \\overline{v} \\omega d\\Omega,\n",
    "$$"
   ]
  },
  {
   "cell_type": "markdown",
   "id": "a26f170f",
   "metadata": {
    "editable": true
   },
   "source": [
    "where $\\omega(x)$ is a weight functions and $\\overline{v}$ is the\n",
    "complex conjugate of $v$. If $v$ is\n",
    "a real function, then $\\overline{v}=v$.\n",
    "With quadrature we approximate the integral such that"
   ]
  },
  {
   "cell_type": "markdown",
   "id": "b801c1d1",
   "metadata": {
    "editable": true
   },
   "source": [
    "$$\n",
    "(u, v)_{\\omega} \\approx (u, v)^N_{\\omega} = \\sum_{j\\in\\mathcal{I}^N} u(x_j) v(x_j) w_j.\n",
    "$$"
   ]
  },
  {
   "cell_type": "markdown",
   "id": "c2a63677",
   "metadata": {
    "editable": true
   },
   "source": [
    "where the index set $\\mathcal{I}^N = \\{0, 1, \\ldots, N-1\\}$ and $\\{x_j\\}_{j\\in \\mathcal{I}^N}$ and $\\{w_j\\}_{j\\in \\mathcal{I}^N}$\n",
    "are the quadrature points and weights.\n",
    "\n",
    "A linear system of equations arise when inserting for the chosen\n",
    "basis functions in Eq. ([1](#eq:proj1)). We get"
   ]
  },
  {
   "cell_type": "markdown",
   "id": "aee62172",
   "metadata": {
    "editable": true
   },
   "source": [
    "$$\n",
    "\\sum_{k\\in \\mathcal{I}^N} \\left( T_k, T_i\\right)^N_{\\omega} \\hat{u}_k =\n",
    "\\left(u, T_i\\right)^N_{\\omega}\\, \\forall \\, i \\in \\mathcal{I}^N,\n",
    "$$"
   ]
  },
  {
   "cell_type": "markdown",
   "id": "0b6dffc4",
   "metadata": {
    "editable": true
   },
   "source": [
    "In matrix notation the solution becomes"
   ]
  },
  {
   "cell_type": "markdown",
   "id": "35773a2f",
   "metadata": {
    "editable": true
   },
   "source": [
    "$$\n",
    "\\boldsymbol{\\hat{u}} = A^{-1} \\boldsymbol{\\tilde{u}},\n",
    "$$"
   ]
  },
  {
   "cell_type": "markdown",
   "id": "09d7d46b",
   "metadata": {
    "editable": true
   },
   "source": [
    "where we use two column vectors $\\boldsymbol{\\hat{u}}=(\\hat{u}_i)^T_{i\\in \\mathcal{I}^N}$,\n",
    "$\\boldsymbol{\\tilde{u}}=\\left(\\tilde{u}_i\\right)^T_{i \\in \\mathcal{I}^N}$,\n",
    "$\\tilde{u}_i = (u, T_i)^N_{\\omega}$ and the matrix\n",
    "$A=(a_{ik}) \\in \\mathbb{R}^{N \\times N}$, that is diagonal with\n",
    "$a_{ik}=\\left( T_k, T_i\\right)^N_{\\omega}$. For the default\n",
    "Gauss-Chebyshev quadrature this matrix is $a_{ik} = c_i \\pi/2 \\delta_{ik}$,\n",
    "where $c_0=2$ and $c_i=1$ for $i>0$."
   ]
  },
  {
   "cell_type": "markdown",
   "id": "a93601a6",
   "metadata": {
    "editable": true
   },
   "source": [
    "## Adaptive function size\n",
    "\n",
    "The number of basis functions can also be left open during creation\n",
    "of the function space, through"
   ]
  },
  {
   "cell_type": "code",
   "execution_count": null,
   "id": "6b3431b4",
   "metadata": {
    "editable": true,
    "tags": [
     "thebe-init"
    ]
   },
   "outputs": [],
   "source": [
    "T = FunctionSpace(0, 'Chebyshev', domain=(-1, 1))"
   ]
  },
  {
   "cell_type": "markdown",
   "id": "b919c637",
   "metadata": {
    "editable": true
   },
   "source": [
    "This is useful if you want to approximate a function and\n",
    "are uncertain how many basis functions that are required.\n",
    "For example, you may want to approximate the function $\\cos(20 x)$.\n",
    "You can then find the required [Function](https://shenfun.readthedocs.io/en/latest/shenfun.forms.html#shenfun.forms.arguments.Function) using"
   ]
  },
  {
   "cell_type": "code",
   "execution_count": null,
   "id": "9a55e6d5",
   "metadata": {
    "editable": true,
    "tags": [
     "thebe-init"
    ]
   },
   "outputs": [],
   "source": [
    "u = Function(T, buffer=sp.cos(20*x))\n",
    "print(len(u))"
   ]
  },
  {
   "cell_type": "markdown",
   "id": "07d341ea",
   "metadata": {
    "editable": true
   },
   "source": [
    "We see that $N=45$ is required to resolve this function. This agrees\n",
    "well with what is reported also by [Chebfun](https://www.chebfun.org/docs/guide/guide01.html).\n",
    "Note that in this process a new [FunctionSpace()](https://shenfun.readthedocs.io/en/latest/shenfun.forms.html#shenfun.forms.arguments.FunctionSpace) has been\n",
    "created under the hood. The function space of `u` can be\n",
    "extracted using"
   ]
  },
  {
   "cell_type": "code",
   "execution_count": null,
   "id": "d6cdcdb9",
   "metadata": {
    "editable": true,
    "tags": [
     "thebe-init"
    ]
   },
   "outputs": [],
   "source": [
    "Tu = u.function_space()\n",
    "print(Tu.N)"
   ]
  },
  {
   "cell_type": "markdown",
   "id": "cd42b044",
   "metadata": {
    "editable": true
   },
   "source": [
    "To further show that shenfun is compatible with Chebfun we can also\n",
    "approximate the Bessel function"
   ]
  },
  {
   "cell_type": "code",
   "execution_count": null,
   "id": "f3f6e277",
   "metadata": {
    "editable": true,
    "tags": [
     "thebe-init"
    ]
   },
   "outputs": [],
   "source": [
    "T1 = FunctionSpace(0, 'Chebyshev', domain=(0, 100))\n",
    "u = Function(T1, buffer=sp.besselj(0, x))\n",
    "print(len(u))"
   ]
  },
  {
   "cell_type": "markdown",
   "id": "527bcff6",
   "metadata": {
    "editable": true
   },
   "source": [
    "which gives 83 basis functions, in close agreement with Chebfun (89).\n",
    "The difference lies only in the cut-off criteria. We cut frequencies\n",
    "with a relative tolerance of 1e-12 by default, but if we make this criteria\n",
    "a little bit stronger, then we will also arrive at a slightly higher number:"
   ]
  },
  {
   "cell_type": "code",
   "execution_count": null,
   "id": "f909dbb0",
   "metadata": {
    "editable": true,
    "tags": [
     "thebe-init"
    ]
   },
   "outputs": [],
   "source": [
    "u = Function(T1, buffer=sp.besselj(0, x), reltol=1e-14)\n",
    "print(len(u))"
   ]
  },
  {
   "cell_type": "markdown",
   "id": "631b5bda",
   "metadata": {
    "editable": true
   },
   "source": [
    "Plotting the function on its quadrature points looks\n",
    "a bit ragged, though:"
   ]
  },
  {
   "cell_type": "code",
   "execution_count": null,
   "id": "24ce622f",
   "metadata": {
    "editable": true,
    "tags": [
     "thebe-init"
    ]
   },
   "outputs": [],
   "source": [
    "%matplotlib inline\n",
    "\n",
    "import matplotlib.pyplot as plt\n",
    "Tu = u.function_space()\n",
    "plt.plot(Tu.mesh(), u.backward());"
   ]
  },
  {
   "cell_type": "markdown",
   "id": "0c9b4803",
   "metadata": {
    "editable": true
   },
   "source": [
    "To improve the quality of this plot we can instead evaluate the\n",
    "function on more points"
   ]
  },
  {
   "cell_type": "code",
   "execution_count": null,
   "id": "aa3f4008",
   "metadata": {
    "editable": true,
    "tags": [
     "thebe-init"
    ]
   },
   "outputs": [],
   "source": [
    "xj = np.linspace(0, 100, 1000)\n",
    "plt.plot(xj, u(xj));"
   ]
  },
  {
   "cell_type": "markdown",
   "id": "f56c9597",
   "metadata": {
    "editable": true
   },
   "source": [
    "Alternatively, we can refine the function, which simply\n",
    "pads zeros to $\\hat{u}$"
   ]
  },
  {
   "cell_type": "code",
   "execution_count": null,
   "id": "39cb107e",
   "metadata": {
    "editable": true,
    "tags": [
     "thebe-init"
    ]
   },
   "outputs": [],
   "source": [
    "up = u.refine(200)\n",
    "Tp = up.function_space()\n",
    "plt.plot(Tp.mesh(), up.backward());"
   ]
  },
  {
   "cell_type": "markdown",
   "id": "df254f80",
   "metadata": {
    "editable": true
   },
   "source": [
    "The padded expansion coefficients are now given as"
   ]
  },
  {
   "cell_type": "code",
   "execution_count": null,
   "id": "760bd263",
   "metadata": {
    "editable": true,
    "tags": [
     "thebe-init"
    ]
   },
   "outputs": [],
   "source": [
    "print(up)"
   ]
  },
  {
   "cell_type": "markdown",
   "id": "2773efbb",
   "metadata": {
    "editable": true
   },
   "source": [
    "## More features\n",
    "\n",
    "Since we have used a regular Chebyshev basis above, there\n",
    "are many more features that could be explored simply by going through\n",
    "[Numpy's Chebyshev module](https://numpy.org/doc/stable/reference/routines.polynomials.chebyshev.html).\n",
    "For example, we can create a Chebyshev series like"
   ]
  },
  {
   "cell_type": "code",
   "execution_count": null,
   "id": "ef085fb4",
   "metadata": {
    "editable": true,
    "tags": [
     "thebe-init"
    ]
   },
   "outputs": [],
   "source": [
    "import numpy.polynomial.chebyshev as cheb\n",
    "c = cheb.Chebyshev(u, domain=(0, 100))"
   ]
  },
  {
   "cell_type": "markdown",
   "id": "a07fd640",
   "metadata": {
    "editable": true
   },
   "source": [
    "The Chebyshev series in Numpy has a wide range of possibilities,\n",
    "see [here](https://numpy.org/doc/stable/reference/generated/numpy.polynomial.chebyshev.Chebyshev.html#numpy.polynomial.chebyshev.Chebyshev).\n",
    "However, we may also work directly with the Chebyshev\n",
    "coefficients already in `u`. To find the roots of the\n",
    "polynomial that approximates the Bessel function on\n",
    "domain $[0, 100]$, we can do"
   ]
  },
  {
   "cell_type": "code",
   "execution_count": null,
   "id": "66dcc5f2",
   "metadata": {
    "editable": true,
    "tags": [
     "thebe-init"
    ]
   },
   "outputs": [],
   "source": [
    "z = Tu.map_true_domain(cheb.chebroots(u))"
   ]
  },
  {
   "cell_type": "markdown",
   "id": "a20a2384",
   "metadata": {
    "editable": true
   },
   "source": [
    "Note that the roots are found on the reference domain $[-1, 1]$\n",
    "and as such we need to move the result to the physical domain using\n",
    "`map_true_domain`. The resulting roots `z` are both real and imaginary,\n",
    "so to extract the real roots we need to filter a little bit"
   ]
  },
  {
   "cell_type": "code",
   "execution_count": null,
   "id": "33dc7c82",
   "metadata": {
    "editable": true,
    "tags": [
     "thebe-init"
    ]
   },
   "outputs": [],
   "source": [
    "z2 = z[np.where((z.imag == 0)*(z.real > 0)*(z.real < 100))].real\n",
    "print(z2[:5])"
   ]
  },
  {
   "cell_type": "markdown",
   "id": "04171337",
   "metadata": {
    "editable": true
   },
   "source": [
    "Here `np.where` returns the indices where the condition is true. The condition\n",
    "is that the imaginary part is zero, whereas the real part is within the\n",
    "true domain $[0, 100]$.\n",
    "\n",
    "**Notice.**\n",
    "\n",
    "Using directly `cheb.chebroots(c)` does not seem to work (even though the\n",
    "series has been generated with the non-standard domain) because\n",
    "Numpy only looks for roots in the reference domain $[-1, 1]$.\n",
    "\n",
    "We could also use a function space with boundary conditions built\n",
    "in, like"
   ]
  },
  {
   "cell_type": "code",
   "execution_count": null,
   "id": "23287700",
   "metadata": {
    "editable": true,
    "tags": [
     "thebe-init"
    ]
   },
   "outputs": [],
   "source": [
    "Td = FunctionSpace(0, 'C', bc=(sp.besselj(0, 0), sp.besselj(0, 100)), domain=(0, 100))\n",
    "ud = Function(Td, buffer=sp.besselj(0, x))\n",
    "print(len(ud))"
   ]
  },
  {
   "cell_type": "markdown",
   "id": "28a0c752",
   "metadata": {
    "editable": true
   },
   "source": [
    "As we can see this leads to a function space of dimension\n",
    "very similar to the orthogonal space.\n",
    "\n",
    "The major advantages of working with a space with boundary conditions\n",
    "built in only comes to life when solving differential equations. As\n",
    "long as we are only interested in approximating functions, we are better off\n",
    "sticking to the orthogonal spaces. This goes for Legendre as\n",
    "well as Chebyshev."
   ]
  },
  {
   "cell_type": "markdown",
   "id": "cbfe6a4e",
   "metadata": {
    "editable": true
   },
   "source": [
    "## Multidimensional functions\n",
    "\n",
    "Multidimensional tensor product spaces are created\n",
    "by taking the tensor products of one-dimensional function spaces.\n",
    "For example"
   ]
  },
  {
   "cell_type": "code",
   "execution_count": null,
   "id": "00e8b329",
   "metadata": {
    "editable": true,
    "tags": [
     "thebe-init"
    ]
   },
   "outputs": [],
   "source": [
    "C0 = FunctionSpace(20, 'C')\n",
    "C1 = FunctionSpace(20, 'C')\n",
    "T = TensorProductSpace(comm, (C0, C1))\n",
    "u = Function(T)"
   ]
  },
  {
   "cell_type": "markdown",
   "id": "0ca369f5",
   "metadata": {
    "editable": true
   },
   "source": [
    "Here $\\text{T} = \\text{C0} \\otimes \\text{C1}$, the basis function is\n",
    "$T_i(x) T_j(y)$ and the Function `u` is"
   ]
  },
  {
   "cell_type": "markdown",
   "id": "c6501f71",
   "metadata": {
    "editable": true
   },
   "source": [
    "$$\n",
    "u(x, y) = \\sum_{i=0}^{N-1} \\sum_{j=0}^{N-1} \\hat{u}_{ij} T_i(x) T_j(y).\n",
    "$$"
   ]
  },
  {
   "cell_type": "markdown",
   "id": "9baa4116",
   "metadata": {
    "editable": true
   },
   "source": [
    "The multidimensional Functions work more or less exactly like for the\n",
    "1D case. We can here interpolate 2D Sympy functions"
   ]
  },
  {
   "cell_type": "code",
   "execution_count": null,
   "id": "f8c1a6c4",
   "metadata": {
    "editable": true,
    "tags": [
     "thebe-init"
    ]
   },
   "outputs": [],
   "source": [
    "y = sp.Symbol('y', real=True)\n",
    "u = Function(T, buffer=sp.cos(10*x)*sp.cos(10*y))\n",
    "X = T.local_mesh(True)\n",
    "plt.contourf(X[0], X[1], u.backward());"
   ]
  },
  {
   "cell_type": "markdown",
   "id": "99390331",
   "metadata": {
    "editable": true
   },
   "source": [
    "Like for 1D the coefficients are computed through projection,\n",
    "where the exact function is evaluated on all quadrature points\n",
    "in the mesh.\n",
    "\n",
    "The Cartesian mesh represents the quadrature points of the\n",
    "two function spaces, and can be visualized as follows"
   ]
  },
  {
   "cell_type": "code",
   "execution_count": null,
   "id": "6f50c502",
   "metadata": {
    "editable": true,
    "tags": [
     "thebe-init"
    ]
   },
   "outputs": [],
   "source": [
    "X = T.mesh()\n",
    "for xj in X[0]:\n",
    "    for yj in X[1]:\n",
    "        plt.plot((xj, xj), (X[1][0, 0], X[1][0, -1]), 'k')\n",
    "        plt.plot((X[0][0], X[0][-1]), (yj, yj), 'k')"
   ]
  },
  {
   "cell_type": "markdown",
   "id": "205be2c5",
   "metadata": {
    "editable": true
   },
   "source": [
    "We may alternatively plot on a uniform mesh"
   ]
  },
  {
   "cell_type": "code",
   "execution_count": null,
   "id": "f40fd289",
   "metadata": {
    "editable": true,
    "tags": [
     "thebe-init"
    ]
   },
   "outputs": [],
   "source": [
    "X = T.local_mesh(bcast=True, kind='uniform')\n",
    "plt.contourf(X[0], X[1], u.backward(mesh='uniform'));"
   ]
  },
  {
   "cell_type": "markdown",
   "id": "88538f19",
   "metadata": {
    "editable": true
   },
   "source": [
    "## Curvilinear coordinates\n",
    "\n",
    "With shenfun it is possible to use curvilinear coordinates,\n",
    "and not necessarily with orthogonal basis vectors. With\n",
    "curvilinear coordinates the computational coordinates are\n",
    "always straight lines, rectangles and cubes. But the physical\n",
    "coordinates can be very complex.\n",
    "\n",
    "Consider the unit disc with polar coordinates. Here\n",
    "the position vector $\\mathbf{r}$ is given by"
   ]
  },
  {
   "cell_type": "markdown",
   "id": "45580ada",
   "metadata": {
    "editable": true
   },
   "source": [
    "$$\n",
    "\\mathbf{r} = r\\cos \\theta \\mathbf{i} + r\\sin \\theta \\mathbf{j}.\n",
    "$$"
   ]
  },
  {
   "cell_type": "markdown",
   "id": "42e1822a",
   "metadata": {
    "editable": true
   },
   "source": [
    "The physical domain is $\\Omega = \\{(x, y): x^2 + y^2 < 1\\}$,\n",
    "whereas the computational domain is the Cartesian product\n",
    "$D = [0, 1] \\times [0, 2 \\pi] = \\{(r, \\theta) | r \\in [0, 1] \\text{ and } \\theta \\in [0, 2 \\pi]\\}$.\n",
    "\n",
    "We create this domain in shenfun through"
   ]
  },
  {
   "cell_type": "code",
   "execution_count": null,
   "id": "abe72e5b",
   "metadata": {
    "editable": true,
    "tags": [
     "thebe-init"
    ]
   },
   "outputs": [],
   "source": [
    "r, theta = psi = sp.symbols('x,y', real=True, positive=True)\n",
    "rv = (r*sp.cos(theta), r*sp.sin(theta))\n",
    "B0 = FunctionSpace(20, 'C', domain=(0, 1))\n",
    "F0 = FunctionSpace(20, 'F')\n",
    "T = TensorProductSpace(comm, (B0, F0), coordinates=(psi, rv))"
   ]
  },
  {
   "cell_type": "markdown",
   "id": "cf97987a",
   "metadata": {
    "editable": true
   },
   "source": [
    "Note that we are using a Fourier space for the azimuthal\n",
    "direction, since the solution here needs to be periodic.\n",
    "We can now create functions on the space using an\n",
    "analytical function in computational coordinates"
   ]
  },
  {
   "cell_type": "code",
   "execution_count": null,
   "id": "0a65ffc2",
   "metadata": {
    "editable": true,
    "tags": [
     "thebe-init"
    ]
   },
   "outputs": [],
   "source": [
    "u = Function(T, buffer=(1-r)*r*sp.sin(sp.cos(theta)))"
   ]
  },
  {
   "cell_type": "markdown",
   "id": "02962d83",
   "metadata": {
    "editable": true
   },
   "source": [
    "However, when this is plotted it may not be what you expect"
   ]
  },
  {
   "cell_type": "code",
   "execution_count": null,
   "id": "c32f1808",
   "metadata": {
    "editable": true,
    "tags": [
     "thebe-init"
    ]
   },
   "outputs": [],
   "source": [
    "X = T.local_mesh(True)\n",
    "plt.contourf(X[0], X[1], u.backward(), 100);"
   ]
  },
  {
   "cell_type": "markdown",
   "id": "4ef74e8d",
   "metadata": {
    "editable": true
   },
   "source": [
    "We see that the function has been plotted in computational coordinates,\n",
    "and not on the disc, as you probably expected. To plot on\n",
    "the disc we need the physical mesh, and not the computational"
   ]
  },
  {
   "cell_type": "code",
   "execution_count": null,
   "id": "a42a0a42",
   "metadata": {
    "editable": true,
    "tags": [
     "thebe-init"
    ]
   },
   "outputs": [],
   "source": [
    "X = T.local_cartesian_mesh()\n",
    "plt.contourf(X[0], X[1], u.backward(), 100);"
   ]
  },
  {
   "cell_type": "markdown",
   "id": "e45366c2",
   "metadata": {
    "editable": true
   },
   "source": [
    "**Notice.**\n",
    "\n",
    "The periodic plot does not wrap all around the circle. This is\n",
    "not wrong, we have simply not used the same point twice, but it\n",
    "does not look very good. To overcome this problem we can wrap the\n",
    "grid all the way around and re-plot."
   ]
  },
  {
   "cell_type": "code",
   "execution_count": null,
   "id": "b9f6cc53",
   "metadata": {
    "editable": true,
    "tags": [
     "thebe-init"
    ]
   },
   "outputs": [],
   "source": [
    "up = u.backward()\n",
    "xp, yp, up = wrap_periodic([X[0], X[1], up], axes=[1])\n",
    "plt.contourf(xp, yp, up, 100);"
   ]
  },
  {
   "cell_type": "markdown",
   "id": "39be30cc",
   "metadata": {
    "editable": true
   },
   "source": [
    "## Adaptive functions in multiple dimensions\n",
    "\n",
    "If you want to find a good resolution for a function in multiple\n",
    "dimensions, the procedure is exactly like in 1D. First create function\n",
    "spaces with 0 quadrature points, and then call [Function](https://shenfun.readthedocs.io/en/latest/shenfun.forms.html#shenfun.forms.arguments.Function)"
   ]
  },
  {
   "cell_type": "code",
   "execution_count": null,
   "id": "f896255d",
   "metadata": {
    "editable": true,
    "tags": [
     "thebe-init"
    ]
   },
   "outputs": [],
   "source": [
    "B0 = FunctionSpace(0, 'C', domain=(0, 1))\n",
    "F0 = FunctionSpace(0, 'F')\n",
    "T = TensorProductSpace(comm, (B0, F0), coordinates=(psi, rv))\n",
    "u = Function(T, buffer=((1-r)*r)**2*sp.sin(sp.cos(theta)))\n",
    "print(u.shape)"
   ]
  },
  {
   "cell_type": "markdown",
   "id": "d0e41011",
   "metadata": {
    "editable": true
   },
   "source": [
    "The algorithm used to find the approximation in multiple dimensions\n",
    "simply treat the problem one direction at the time. So in this case\n",
    "we would first find a space in the first direction by using\n",
    "a function ` ~ ((1-r)*r)**2`, and then along the second using\n",
    "a function ` ~ sp.sin(sp.cos(theta))`.\n",
    "\n",
    "<!-- ======= Bibliography ======= -->"
   ]
  }
 ],
 "metadata": {
  "kernelspec": {
   "display_name": "Python 3",
   "language": "python",
   "name": "python3"
  },
  "language_info": {
   "file_extension": ".py",
   "mimetype": "text/x-python",
   "name": "python",
   "nbconvert_exporter": "python",
   "pygments_lexer": "ipython3",
   "version": "3.8.5"
  }
 },
 "nbformat": 4,
 "nbformat_minor": 5
}
