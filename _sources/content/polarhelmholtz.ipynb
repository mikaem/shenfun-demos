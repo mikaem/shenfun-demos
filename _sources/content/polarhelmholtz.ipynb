{
 "cells": [
  {
   "cell_type": "markdown",
   "metadata": {},
   "source": [
    "<!-- dom:TITLE: Demo - Helmholtz equation in polar coordinates -->\n",
    "# Demo - Helmholtz equation in polar coordinates\n",
    "<!-- dom:AUTHOR: Mikael Mortensen Email:mikaem@math.uio.no at Department of Mathematics, University of Oslo. -->\n",
    "<!-- Author: -->  \n",
    "**Mikael Mortensen** (email: `mikaem@math.uio.no`), Department of Mathematics, University of Oslo.\n",
    "\n",
    "Date: **Aug 18, 2020**\n",
    "\n",
    "Copyright 2020, Mikael Mortensen. Released under CC Attribution 4.0 license\n",
    "\n",
    "**Summary.** This is a demonstration of how the Python module [shenfun](https://github.com/spectralDNS/shenfun) can be used to solve the\n",
    "Helmholtz equation on a circular disc, using polar coordinates. This demo is implemented in\n",
    "a single Python file [unitdisc_helmholtz.py](https://github.com/spectralDNS/shenfun/blob/master/demo/unitdisc_helmholtz.py),\n",
    "and the numerical method is described in more detail by J. Shen [[shen3]](#shen3).\n",
    "\n",
    "<!-- dom:FIGURE: [https://rawgit.com/spectralDNS/spectralutilities/master/figures/Helmholtzdisc.png, width=700 frac=1] Helmholtz on the unit disc. <a id=\"fig:helmholtz\"></a> -->\n",
    "<!-- begin figure -->\n",
    "<a id=\"fig:helmholtz\"></a>\n",
    "\n",
    "<p>Helmholtz on the unit disc.</p>\n",
    "<img src=\"https://rawgit.com/spectralDNS/spectralutilities/master/figures/Helmholtzdisc.png\" width=700>\n",
    "\n",
    "<!-- end figure -->\n",
    "\n",
    "\n",
    "\n",
    "\n",
    "\n",
    "\n",
    "\n",
    "\n",
    "\n",
    "\n",
    "\n",
    "## Helmholtz equation\n",
    "<a id=\"demo:polar_helmholtz\"></a>\n",
    "\n",
    "The Helmholtz equation is given as"
   ]
  },
  {
   "cell_type": "markdown",
   "metadata": {},
   "source": [
    "<!-- Equation labels as ordinary links -->\n",
    "<a id=\"eq:helmholtz\"></a>\n",
    "\n",
    "$$\n",
    "\\begin{equation}\n",
    "-\\nabla^2 u(\\boldsymbol{x}) + \\alpha u(\\boldsymbol{x}) = f(\\boldsymbol{x}) \\quad \\text{for }\\, \\boldsymbol{x}=(x, y) \\in \\Omega, \\label{eq:helmholtz} \\tag{1}\n",
    "\\end{equation}\n",
    "$$"
   ]
  },
  {
   "cell_type": "markdown",
   "metadata": {},
   "source": [
    "<!-- Equation labels as ordinary links -->\n",
    "<a id=\"_auto1\"></a>\n",
    "\n",
    "$$\n",
    "\\begin{equation}  \n",
    "u =0 \\text{ on } \\partial \\Omega,\n",
    "\\label{_auto1} \\tag{2}\n",
    "\\end{equation}\n",
    "$$"
   ]
  },
  {
   "cell_type": "markdown",
   "metadata": {},
   "source": [
    "where $u(\\boldsymbol{x})$ is the solution, $f(\\boldsymbol{x})$ is a function and $\\alpha$ a constant.\n",
    "The domain is a circular disc $\\Omega = \\{(x, y): x^2+y^2 < a^2\\}$ with radius $a$.\n",
    "We use polar coordinates $(\\theta, r)$, defined as"
   ]
  },
  {
   "cell_type": "markdown",
   "metadata": {},
   "source": [
    "<!-- Equation labels as ordinary links -->\n",
    "<a id=\"_auto2\"></a>\n",
    "\n",
    "$$\n",
    "\\begin{equation}\n",
    " x = r \\cos \\theta, \n",
    "\\label{_auto2} \\tag{3}\n",
    "\\end{equation}\n",
    "$$"
   ]
  },
  {
   "cell_type": "markdown",
   "metadata": {},
   "source": [
    "<!-- Equation labels as ordinary links -->\n",
    "<a id=\"_auto3\"></a>\n",
    "\n",
    "$$\n",
    "\\begin{equation}  \n",
    " y = r \\sin \\theta,\n",
    "\\label{_auto3} \\tag{4}\n",
    "\\end{equation}\n",
    "$$"
   ]
  },
  {
   "cell_type": "markdown",
   "metadata": {},
   "source": [
    "which leads to a Cartesian product mesh $(\\theta, r) \\in [0, 2\\pi) \\times [0, a]$\n",
    "suitable for numerical implementations. Note that the\n",
    "two directions are ordered with $\\theta$ first and then $r$, which is less common\n",
    "than $(r, \\theta)$. This has to do with the fact that we will need to\n",
    "solve linear equation systems along the radial direction, but not\n",
    "the $\\theta$-direction, since Fourier matrices are diagonal. When\n",
    "the radial direction is placed last, the data in the radial direction\n",
    "will be contigeous in a row-major C memory, leading to faster memory\n",
    "access where it is needed the most. Note that it takes very few\n",
    "changes in `shenfun` to switch the directions to $(r, \\theta)$ if this\n",
    "is still desired.\n",
    "\n",
    "We will use Chebyshev\n",
    "or Legendre basis functions $\\psi_j(r)$ for the radial direction and\n",
    "a periodic Fourier expansion in $\\exp(\\imath k \\theta)$ for the\n",
    "azimuthal direction. The polar basis functions are as such"
   ]
  },
  {
   "cell_type": "markdown",
   "metadata": {},
   "source": [
    "<!-- Equation labels as ordinary links -->\n",
    "<a id=\"_auto4\"></a>\n",
    "\n",
    "$$\n",
    "\\begin{equation}\n",
    "v_{kj}(\\theta, r) = \\exp(\\imath k \\theta) \\psi_j(r),\n",
    "\\label{_auto4} \\tag{5}\n",
    "\\end{equation}\n",
    "$$"
   ]
  },
  {
   "cell_type": "markdown",
   "metadata": {},
   "source": [
    "and we look for solutions"
   ]
  },
  {
   "cell_type": "markdown",
   "metadata": {},
   "source": [
    "<!-- Equation labels as ordinary links -->\n",
    "<a id=\"_auto5\"></a>\n",
    "\n",
    "$$\n",
    "\\begin{equation}\n",
    "u(\\theta, r) = \\sum_{k} \\sum_{j} \\hat{u}_{kj} v_{kj}(\\theta, r).\n",
    "\\label{_auto5} \\tag{6}\n",
    "\\end{equation}\n",
    "$$"
   ]
  },
  {
   "cell_type": "markdown",
   "metadata": {},
   "source": [
    "A discrete Fourier approximation space with $N$ basis functions is then"
   ]
  },
  {
   "cell_type": "markdown",
   "metadata": {},
   "source": [
    "<!-- Equation labels as ordinary links -->\n",
    "<a id=\"_auto6\"></a>\n",
    "\n",
    "$$\n",
    "\\begin{equation}\n",
    "V_F^N = \\text{span} \\{\\exp(\\imath k \\theta)\\}, \\text{ for } k \\in K,\n",
    "\\label{_auto6} \\tag{7}\n",
    "\\end{equation}\n",
    "$$"
   ]
  },
  {
   "cell_type": "markdown",
   "metadata": {},
   "source": [
    "where $K = \\{-N/2, -N/2+1, \\ldots, N/2-1\\}$. Since the solution $u(\\theta, r)$\n",
    "is real, there is Hermitian symmetry and $\\hat{u}_{k,j} = \\hat{u}_{k,-j}^*$\n",
    "(with $*$ denoting a complex conjugate).\n",
    "For this reason we use only $k \\in K=\\{0, 1, \\ldots, N/2\\}$ in solving for\n",
    "$\\hat{u}_{kj}$, and then use Hermitian symmetry to get the remaining\n",
    "unknowns.\n",
    "\n",
    "The radial basis is more tricky, because there is a nontrivial 'boundary'\n",
    "condition (pole condition) that needs to be applied at the center of the disc $(r=0)$"
   ]
  },
  {
   "cell_type": "markdown",
   "metadata": {},
   "source": [
    "<!-- Equation labels as ordinary links -->\n",
    "<a id=\"_auto7\"></a>\n",
    "\n",
    "$$\n",
    "\\begin{equation}\n",
    "\\frac{\\partial u(\\theta, 0)}{\\partial \\theta} = 0.\n",
    "\\label{_auto7} \\tag{8}\n",
    "\\end{equation}\n",
    "$$"
   ]
  },
  {
   "cell_type": "markdown",
   "metadata": {},
   "source": [
    "To apply this condition we split the solution into Fourier\n",
    "coefficients with wavenumber 0 and $K\\backslash \\{0\\}$,\n",
    "remembering that the Fourier basis function with $k=0$ is\n",
    "simply 1"
   ]
  },
  {
   "cell_type": "markdown",
   "metadata": {},
   "source": [
    "<!-- Equation labels as ordinary links -->\n",
    "<a id=\"_auto8\"></a>\n",
    "\n",
    "$$\n",
    "\\begin{equation}\n",
    "u(\\theta, r) = \\sum_{j} \\left( \\hat{u}_{0j} \\psi_{j}(r) + \\sum_{k=1}^{N/2} \\hat{u}_{kj} \\exp(\\imath k \\theta) \\psi_j(r) \\right).\n",
    "\\label{_auto8} \\tag{9}\n",
    "\\end{equation}\n",
    "$$"
   ]
  },
  {
   "cell_type": "markdown",
   "metadata": {},
   "source": [
    "We then apply a different radial basis for the two $\\psi$'s in\n",
    "the above equation (renaming the first $\\overline{\\psi}$)"
   ]
  },
  {
   "cell_type": "markdown",
   "metadata": {},
   "source": [
    "<!-- Equation labels as ordinary links -->\n",
    "<a id=\"_auto9\"></a>\n",
    "\n",
    "$$\n",
    "\\begin{equation}\n",
    "u(\\theta, r) = \\sum_{j} \\left( \\hat{u}_{0j} \\overline{\\psi}_{j}(r) + \\sum_{k=1}^{N/2} \\hat{u}_{kj} \\exp(\\imath k \\theta) \\psi_j(r) \\right).\n",
    "\\label{_auto9} \\tag{10}\n",
    "\\end{equation}\n",
    "$$"
   ]
  },
  {
   "cell_type": "markdown",
   "metadata": {},
   "source": [
    "Note that the first term $\\sum_{j} \\hat{u}_{0j} \\overline{\\psi}_{j}(r)$ is independent\n",
    "of $\\theta$. Now, to enforce conditions"
   ]
  },
  {
   "cell_type": "markdown",
   "metadata": {},
   "source": [
    "<!-- Equation labels as ordinary links -->\n",
    "<a id=\"_auto10\"></a>\n",
    "\n",
    "$$\n",
    "\\begin{equation}\n",
    "u(\\theta, a) = 0, \n",
    "\\label{_auto10} \\tag{11}\n",
    "\\end{equation}\n",
    "$$"
   ]
  },
  {
   "cell_type": "markdown",
   "metadata": {},
   "source": [
    "<!-- Equation labels as ordinary links -->\n",
    "<a id=\"_auto11\"></a>\n",
    "\n",
    "$$\n",
    "\\begin{equation}  \n",
    "\\frac{\\partial u(\\theta, 0)}{\\partial \\theta} = 0,\n",
    "\\label{_auto11} \\tag{12}\n",
    "\\end{equation}\n",
    "$$"
   ]
  },
  {
   "cell_type": "markdown",
   "metadata": {},
   "source": [
    "it is sufficient for the two bases ($\\overline{\\psi}$ and $\\psi$) to\n",
    "satisfy"
   ]
  },
  {
   "cell_type": "markdown",
   "metadata": {},
   "source": [
    "<!-- Equation labels as ordinary links -->\n",
    "<a id=\"_auto12\"></a>\n",
    "\n",
    "$$\n",
    "\\begin{equation}\n",
    "\\overline{\\psi}_j(a) = 0, \n",
    "\\label{_auto12} \\tag{13}\n",
    "\\end{equation}\n",
    "$$"
   ]
  },
  {
   "cell_type": "markdown",
   "metadata": {},
   "source": [
    "<!-- Equation labels as ordinary links -->\n",
    "<a id=\"_auto13\"></a>\n",
    "\n",
    "$$\n",
    "\\begin{equation}  \n",
    "\\psi_j(a) = 0,\n",
    "\\label{_auto13} \\tag{14}\n",
    "\\end{equation}\n",
    "$$"
   ]
  },
  {
   "cell_type": "markdown",
   "metadata": {},
   "source": [
    "<!-- Equation labels as ordinary links -->\n",
    "<a id=\"_auto14\"></a>\n",
    "\n",
    "$$\n",
    "\\begin{equation}  \n",
    "\\psi_j(0) = 0.\n",
    "\\label{_auto14} \\tag{15}\n",
    "\\end{equation}\n",
    "$$"
   ]
  },
  {
   "cell_type": "markdown",
   "metadata": {},
   "source": [
    "Bases that satisfy these conditions can be found both with Legendre and\n",
    "Chebyshev polynomials.\n",
    "If $\\phi_j(x)$ is used for either the Legendre polynomial $L_j(x)$ or the\n",
    "Chebyshev polynomial of the first kind $T_j(x)$, we can have"
   ]
  },
  {
   "cell_type": "markdown",
   "metadata": {},
   "source": [
    "<!-- Equation labels as ordinary links -->\n",
    "<a id=\"_auto15\"></a>\n",
    "\n",
    "$$\n",
    "\\begin{equation}\n",
    "\\overline{\\psi}_j(r) = \\phi_j(2r/a-1) - \\phi_{j+1}(2r/a-1), \\text{ for } j \\in 0, 1, \\ldots N-1, \n",
    "\\label{_auto15} \\tag{16}\n",
    "\\end{equation}\n",
    "$$"
   ]
  },
  {
   "cell_type": "markdown",
   "metadata": {},
   "source": [
    "<!-- Equation labels as ordinary links -->\n",
    "<a id=\"eq:psi\"></a>\n",
    "\n",
    "$$\n",
    "\\begin{equation}  \n",
    "\\psi_j(r) = \\phi_j(2r/a-1) - \\phi_{j+2}(2r/a-1), \\text{ for } j \\in 0, 1, \\ldots N-2.\n",
    "\\label{eq:psi} \\tag{17}\n",
    "\\end{equation}\n",
    "$$"
   ]
  },
  {
   "cell_type": "markdown",
   "metadata": {},
   "source": [
    "Define the following approximation spaces for the radial direction"
   ]
  },
  {
   "cell_type": "markdown",
   "metadata": {},
   "source": [
    "<!-- Equation labels as ordinary links -->\n",
    "<a id=\"_auto16\"></a>\n",
    "\n",
    "$$\n",
    "\\begin{equation}\n",
    "V_D^N = \\text{span} \\{\\psi_j\\}_{j=0}^{N-3} \n",
    "\\label{_auto16} \\tag{18}\n",
    "\\end{equation}\n",
    "$$"
   ]
  },
  {
   "cell_type": "markdown",
   "metadata": {},
   "source": [
    "<!-- Equation labels as ordinary links -->\n",
    "<a id=\"_auto17\"></a>\n",
    "\n",
    "$$\n",
    "\\begin{equation}  \n",
    "V_U^N = \\text{span} \\{\\overline{\\psi}_j\\}_{j=0}^{N-2} \n",
    "\\label{_auto17} \\tag{19}\n",
    "\\end{equation}\n",
    "$$"
   ]
  },
  {
   "cell_type": "markdown",
   "metadata": {},
   "source": [
    "<!-- Equation labels as ordinary links -->\n",
    "<a id=\"_auto18\"></a>\n",
    "\n",
    "$$\n",
    "\\begin{equation}  \n",
    "\\label{_auto18} \\tag{20}\n",
    "\\end{equation}\n",
    "$$"
   ]
  },
  {
   "cell_type": "markdown",
   "metadata": {},
   "source": [
    "and split the function space for the azimuthal direction into"
   ]
  },
  {
   "cell_type": "markdown",
   "metadata": {},
   "source": [
    "<!-- Equation labels as ordinary links -->\n",
    "<a id=\"_auto19\"></a>\n",
    "\n",
    "$$\n",
    "\\begin{equation}\n",
    "V_F^0 =  \\text{span}\\{1\\}, \n",
    "\\label{_auto19} \\tag{21}\n",
    "\\end{equation}\n",
    "$$"
   ]
  },
  {
   "cell_type": "markdown",
   "metadata": {},
   "source": [
    "<!-- Equation labels as ordinary links -->\n",
    "<a id=\"_auto20\"></a>\n",
    "\n",
    "$$\n",
    "\\begin{equation}  \n",
    "V_F^{1} = \\text{span} \\{\\exp(\\imath k \\theta)\\}, \\text{ for } k \\in K \\backslash \\{0\\}.\n",
    "\\label{_auto20} \\tag{22}\n",
    "\\end{equation}\n",
    "$$"
   ]
  },
  {
   "cell_type": "markdown",
   "metadata": {},
   "source": [
    "We then look for solutions"
   ]
  },
  {
   "cell_type": "markdown",
   "metadata": {},
   "source": [
    "<!-- Equation labels as ordinary links -->\n",
    "<a id=\"_auto21\"></a>\n",
    "\n",
    "$$\n",
    "\\begin{equation}\n",
    "u(\\theta, r) = u^0(r) + u^1(\\theta, r),\n",
    "\\label{_auto21} \\tag{23}\n",
    "\\end{equation}\n",
    "$$"
   ]
  },
  {
   "cell_type": "markdown",
   "metadata": {},
   "source": [
    "where"
   ]
  },
  {
   "cell_type": "markdown",
   "metadata": {},
   "source": [
    "<!-- Equation labels as ordinary links -->\n",
    "<a id=\"_auto22\"></a>\n",
    "\n",
    "$$\n",
    "\\begin{equation}\n",
    "u^0(r) = \\sum_{j=0}^{N-2} \\hat{u}^0_j \\overline{\\psi}_j(r), \n",
    "\\label{_auto22} \\tag{24}\n",
    "\\end{equation}\n",
    "$$"
   ]
  },
  {
   "cell_type": "markdown",
   "metadata": {},
   "source": [
    "<!-- Equation labels as ordinary links -->\n",
    "<a id=\"_auto23\"></a>\n",
    "\n",
    "$$\n",
    "\\begin{equation}  \n",
    "u^1(\\theta, r) = \\sum_{j=0}^{N-3}\\sum_{k=1}^{N/2} \\hat{u}^1_{kj} \\exp(\\imath k \\theta) \\psi_j(r) .\n",
    "\\label{_auto23} \\tag{25}\n",
    "\\end{equation}\n",
    "$$"
   ]
  },
  {
   "cell_type": "markdown",
   "metadata": {},
   "source": [
    "As such the Helmholtz problem is split in two smaller problems.\n",
    "The two problems read with the spectral Galerkin method:\n",
    "\n",
    "Find $u^0 \\in V_F^0 \\otimes V_U^N$ such that"
   ]
  },
  {
   "cell_type": "markdown",
   "metadata": {},
   "source": [
    "<!-- Equation labels as ordinary links -->\n",
    "<a id=\"eq:u0\"></a>\n",
    "\n",
    "$$\n",
    "\\begin{equation}\n",
    "   \\int_{\\Omega} (-\\nabla^2 u^0 + \\alpha u^0) v^0 w d\\sigma = \\int_{\\Omega} f v^0 w d\\sigma, \\quad \\forall \\, v^0 \\in V_F^0 \\otimes V_U^N.\n",
    "\\label{eq:u0} \\tag{26}\n",
    "   \\end{equation}\n",
    "$$"
   ]
  },
  {
   "cell_type": "markdown",
   "metadata": {},
   "source": [
    "Find $u^1 \\in V_F^1 \\otimes V_D^N$ such that"
   ]
  },
  {
   "cell_type": "markdown",
   "metadata": {},
   "source": [
    "<!-- Equation labels as ordinary links -->\n",
    "<a id=\"eq:u1\"></a>\n",
    "\n",
    "$$\n",
    "\\begin{equation}\n",
    "   \\int_{\\Omega} (-\\nabla^2 u^1 + \\alpha u^1) v^1 w d\\sigma = \\int_{\\Omega} f v^1 w d\\sigma, \\quad \\forall \\, v^1 \\in V_F^1 \\otimes V_D^N.\n",
    "\\label{eq:u1} \\tag{27}\n",
    "   \\end{equation}\n",
    "$$"
   ]
  },
  {
   "cell_type": "markdown",
   "metadata": {},
   "source": [
    "Note that integration over the domain is done using\n",
    "polar coordinates with an integral measure of $d\\sigma=rdrd\\theta$.\n",
    "However, the integral in the radial direction needs to be mapped\n",
    "to $t=2r/a-1$, where $t \\in [-1, 1]$, which suits the basis functions used,\n",
    "see ([17](#eq:psi)). This leads to a measure of $0.5(t+1)adtd\\theta$.\n",
    "Furthermore, the weight $w(t)$ will be unity for the Legendre basis and\n",
    "$(1-t^2)^{-0.5}$ for the Chebyshev bases.\n",
    "\n",
    "## Implementation\n",
    "<a id=\"demo:polarimplementation\"></a>\n",
    "\n",
    "A complete implementation is found in the file [unitdisc_helmholtz.py](https://github.com/spectralDNS/shenfun/blob/master/demo/unitdisc_helmholtz.py).\n",
    "Here we give a brief explanation for the implementation. Start by\n",
    "importing all functionality from [shenfun](https://github.com/spectralDNS/shenfun)\n",
    "and [sympy](https://sympy.org), where Sympy is required for handeling the\n",
    "polar coordinates."
   ]
  },
  {
   "cell_type": "code",
   "execution_count": 1,
   "metadata": {
    "collapsed": false
   },
   "outputs": [],
   "source": [
    "from shenfun import *\n",
    "import sympy as sp\n",
    "\n",
    "# Define polar coordinates using angle along first axis and radius second\n",
    "theta, r = psi = sp.symbols('x,y', real=True, positive=True)\n",
    "rv = (r*sp.cos(theta), r*sp.sin(theta)) # Map to Cartesian (x, y)"
   ]
  },
  {
   "cell_type": "markdown",
   "metadata": {},
   "source": [
    "Note that Sympy symbols are both positive and real, $\\theta$ is\n",
    "chosen to be along the first axis and $r$ second. This has to agree with\n",
    "the next step, which is the creation of tensorproductspaces\n",
    "$V_F^0 \\otimes V_U^N$ and $V_F^1 \\otimes V_D^N$. We use\n",
    "`domain=(0, 1)` for the radial direction to get a unit disc, whereas\n",
    "the default domain for the Fourier bases is already the\n",
    "required $(0, 2\\pi)$."
   ]
  },
  {
   "cell_type": "code",
   "execution_count": 2,
   "metadata": {
    "collapsed": false
   },
   "outputs": [],
   "source": [
    "N = 32\n",
    "F = FunctionSpace(N, 'F', dtype='d')\n",
    "F0 = FunctionSpace(1, 'F', dtype='d')\n",
    "L = FunctionSpace(N, 'L', bc='Dirichlet', domain=(0, 1))\n",
    "L0 = FunctionSpace(N, 'L', bc='UpperDirichlet', domain=(0, 1))\n",
    "T = TensorProductSpace(comm, (F, L), axes=(1, 0), coordinates=(psi, rv))\n",
    "T0 = TensorProductSpace(MPI.COMM_SELF, (F0, L0), axes=(1, 0), coordinates=(psi, rv))"
   ]
  },
  {
   "cell_type": "markdown",
   "metadata": {},
   "source": [
    "Note that since `F0` only has one component we could actually use\n",
    "`L0` without creating `T0`. But the code turns out to be simpler\n",
    "if we use `T0`, much because the additional $\\theta$-direction is\n",
    "required for the polar coordinates to apply. Using one single basis\n",
    "function for the $\\theta$ direction is as such a generic way to handle\n",
    "polar 1D problems (i.e., problems that are only functions of the\n",
    "radial direction, but still using polar coordinates).\n",
    "Also note that `F` is created using the entire range of wavenumbers\n",
    "even though it should not include wavenumber 0.\n",
    "As such we need to make sure that the coefficient created for\n",
    "$k=0$ (i.e., $\\hat{u}^1_{0,j}$) will be exactly zero.\n",
    "Finally, note that\n",
    "`T0` is not distributed with MPI, which is accomplished using\n",
    "`MPI.COMM_SELF` instead of `comm` (which equals `MPI.COMM_WORLD`).\n",
    "The purely radial problem ([26](#eq:u0)) is only solved on the one\n",
    "processor with rank = 0.\n",
    "\n",
    "Polar coordinates are ensured by feeding `coordinates=(psi, rv)`\n",
    "to `TensorProductSpace`. Operators like `div`\n",
    "`grad` and  `curl` will now work on\n",
    "items of `Function`, `TestFunction` and\n",
    "`TrialFunction` using a polar coordinate system.\n",
    "\n",
    "To define the equations ([26](#eq:u0)) and ([27](#eq:u1)) we first declare\n",
    "these test- and trialfunctions, and then use code that\n",
    "is remarkably similar to the mathematics."
   ]
  },
  {
   "cell_type": "code",
   "execution_count": 3,
   "metadata": {
    "collapsed": false
   },
   "outputs": [],
   "source": [
    "v = TestFunction(T)\n",
    "u = TrialFunction(T)\n",
    "v0 = TestFunction(T0)\n",
    "u0 = TrialFunction(T0)\n",
    "alpha = 1\n",
    "\n",
    "mats = inner(v, -div(grad(u))+alpha*u)\n",
    "if comm.Get_rank() == 0:\n",
    "    mats0 = inner(v0, -div(grad(u0))+alpha*u0)"
   ]
  },
  {
   "cell_type": "markdown",
   "metadata": {},
   "source": [
    "Here `mats` and `mats0` will contain several tensor product\n",
    "matrices in the form of\n",
    "`TPMatrix`. Since there is only one non-periodic direction\n",
    "the matrices can be easily solved using `SolverGeneric1ND`.\n",
    "But first we need to define the function $f(\\theta, r)$.\n",
    "To this end we use sympy and the method of\n",
    "manufactured solution to define a possible solution `ue`,\n",
    "and then compute `f` exactly using exact differentiation"
   ]
  },
  {
   "cell_type": "code",
   "execution_count": 4,
   "metadata": {
    "collapsed": false
   },
   "outputs": [],
   "source": [
    "\n",
    "# Manufactured solution\n",
    "ue = (r*(1-r))**2*sp.cos(8*theta)-0.1*(r-1)\n",
    "#f = -ue.diff(r, 2) - (1/r)*ue.diff(r, 1) - (1/r**2)*ue.diff(theta, 2) + alpha*ue\n",
    "f = (-div(grad(u))+alpha*u).tosympy(basis=ue, psi=psi)\n",
    "\n",
    "# Compute the right hand side on the quadrature mesh\n",
    "fj = Array(T, buffer=f)\n",
    "\n",
    "# Take scalar product\n",
    "f_hat = Function(T)\n",
    "f_hat = inner(v, fj, output_array=f_hat)\n",
    "if T.local_slice(True)[0].start == 0: # The processor that owns k=0\n",
    "    f_hat[0] = 0\n",
    "\n",
    "# For k=0 we solve only a 1D equation. Do the scalar product for Fourier\n",
    "# coefficient 0 by hand (or sympy).\n",
    "if comm.Get_rank() == 0:\n",
    "    f0_hat = Function(T0)\n",
    "    gt = sp.lambdify(r, sp.integrate(f, (theta, 0, 2*sp.pi))/2/sp.pi)(L0.mesh())\n",
    "    f0_hat = T0.scalar_product(gt, f0_hat)"
   ]
  },
  {
   "cell_type": "markdown",
   "metadata": {},
   "source": [
    "Note that for $u^0$ we perform the interal in the $\\theta$ direction\n",
    "exactly using sympy. This is necessary since one Fourier coefficient\n",
    "is not sufficient to do this integral numerically. For the $u^1$\n",
    "case we do the integral numerically as part of the `inner` product.\n",
    "With the correct right hand side assembled we can solve the\n",
    "linear system of equations"
   ]
  },
  {
   "cell_type": "code",
   "execution_count": 5,
   "metadata": {
    "collapsed": false
   },
   "outputs": [],
   "source": [
    "u_hat = Function(T)\n",
    "Sol1 = la.SolverGeneric1ND(mats)\n",
    "u_hat = Sol1(f_hat, u_hat)\n",
    "\n",
    "# case k = 0\n",
    "u0_hat = Function(T0)\n",
    "if comm.Get_rank() == 0:\n",
    "    Sol0 = la.SolverGeneric1ND(mats0)\n",
    "    u0_hat = Sol0(f0_hat, u0_hat)\n",
    "comm.Bcast(u0_hat, root=0)"
   ]
  },
  {
   "cell_type": "markdown",
   "metadata": {},
   "source": [
    "Having found the solution in spectral space all that is\n",
    "left is to transform it back to real space."
   ]
  },
  {
   "cell_type": "code",
   "execution_count": 6,
   "metadata": {
    "collapsed": false
   },
   "outputs": [],
   "source": [
    "# Transform back to real space. Broadcast 1D solution\n",
    "sl = T.local_slice(False)\n",
    "uj = u_hat.backward() + u0_hat.backward()[:, sl[1]]"
   ]
  },
  {
   "cell_type": "markdown",
   "metadata": {},
   "source": [
    "## Postprocessing\n",
    "The solution can now be compared with the exact solution\n",
    "through"
   ]
  },
  {
   "cell_type": "code",
   "execution_count": 7,
   "metadata": {
    "collapsed": false
   },
   "outputs": [],
   "source": [
    "uq = Array(T, buffer=ue)\n",
    "print('Error =', np.linalg.norm(uj-uq))"
   ]
  },
  {
   "cell_type": "markdown",
   "metadata": {},
   "source": [
    "We can also get the gradient of the solution. For this we need\n",
    "a space without boundary conditions, and a vector space"
   ]
  },
  {
   "cell_type": "code",
   "execution_count": 8,
   "metadata": {
    "collapsed": false
   },
   "outputs": [],
   "source": [
    "TT = T.get_orthogonal()\n",
    "V = VectorTensorProductSpace(TT)"
   ]
  },
  {
   "cell_type": "markdown",
   "metadata": {},
   "source": [
    "Notice that we do not have the solution in one single space\n",
    "in spectral space, since it is a combination of `u_hat` and\n",
    "`u0_hat`. For this reason we first transform the solution from\n",
    "real space `uj` to the new orthogonal space `TT`"
   ]
  },
  {
   "cell_type": "code",
   "execution_count": 9,
   "metadata": {
    "collapsed": false
   },
   "outputs": [],
   "source": [
    "ua = Array(TT, buffer=uj)\n",
    "uh = ua.forward()"
   ]
  },
  {
   "cell_type": "markdown",
   "metadata": {},
   "source": [
    "With the solution as a `Function` we can simply project\n",
    "the gradient to `V`"
   ]
  },
  {
   "cell_type": "code",
   "execution_count": 10,
   "metadata": {
    "collapsed": false
   },
   "outputs": [],
   "source": [
    "dv = project(grad(uh), V)\n",
    "du = dv.backward()"
   ]
  },
  {
   "cell_type": "markdown",
   "metadata": {},
   "source": [
    "Note that the gradient `du` now contains the contravariant components\n",
    "of the covariant basis vector `b`. The basis vector `b` is not normalized\n",
    "(it's length is not unity)."
   ]
  },
  {
   "cell_type": "code",
   "execution_count": 11,
   "metadata": {
    "collapsed": false
   },
   "outputs": [],
   "source": [
    "b = T.coors.get_covariant_basis()"
   ]
  },
  {
   "cell_type": "markdown",
   "metadata": {},
   "source": [
    "The basis vectors are, in fact"
   ]
  },
  {
   "cell_type": "markdown",
   "metadata": {},
   "source": [
    "$$\n",
    "\\mathbf{b}_{\\theta}=- r \\sin{\\left(\\theta \\right)}\\,\\mathbf{i}+r \\cos{\\left(\\theta \\right)}\\,\\mathbf{j} \\\\ \\mathbf{b}_{r}=\\cos{\\left(\\theta \\right)}\\,\\mathbf{i}+\\sin{\\left(\\theta \\right)}\\,\\mathbf{j}\n",
    "$$"
   ]
  },
  {
   "cell_type": "markdown",
   "metadata": {},
   "source": [
    "and we see that they are given in terms of the Cartesian unit vectors.\n",
    "The gradient we have computed is (and yes, it should be $r^2$ because we\n",
    "do not have unit vectors)"
   ]
  },
  {
   "cell_type": "markdown",
   "metadata": {},
   "source": [
    "<!-- Equation labels as ordinary links -->\n",
    "<a id=\"eq:gradu\"></a>\n",
    "\n",
    "$$\n",
    "\\begin{equation}\n",
    "\\nabla u = \\underbrace{\\frac{1}{r^2}\\frac{\\partial u}{\\partial \\theta}}_{du[0]}\\mathbf{b}_{\\theta} + \\underbrace{\\frac{\\partial u}{\\partial r}}_{du[1]} \\mathbf{b}_{r}\n",
    "\\label{eq:gradu} \\tag{28}\n",
    "\\end{equation}\n",
    "$$"
   ]
  },
  {
   "cell_type": "markdown",
   "metadata": {},
   "source": [
    "Now it makes sense to plot the solution and its gradient in Cartesian\n",
    "instead of computational coordinates. To this end we need to\n",
    "project the gradient to a Cartesian basis"
   ]
  },
  {
   "cell_type": "markdown",
   "metadata": {},
   "source": [
    "$$\n",
    "\\begin{align*}\n",
    "\\frac{\\partial u}{\\partial x} &= \\nabla u \\cdot \\mathbf{i},\\\\ \n",
    "\\frac{\\partial u}{\\partial y} &= \\nabla u \\cdot \\mathbf{j}.\n",
    "\\end{align*}\n",
    "$$"
   ]
  },
  {
   "cell_type": "markdown",
   "metadata": {},
   "source": [
    "We compute the Cartesian gradient by assembling ([28](#eq:gradu))\n",
    "on the computational grid"
   ]
  },
  {
   "cell_type": "code",
   "execution_count": 12,
   "metadata": {
    "collapsed": false
   },
   "outputs": [],
   "source": [
    "ui, vi = TT.local_mesh(True)\n",
    "bij = np.array(sp.lambdify(psi, b)(ui, vi))\n",
    "gradu = du[0]*bij[0] + du[1]*bij[1]"
   ]
  },
  {
   "cell_type": "markdown",
   "metadata": {},
   "source": [
    "Because of the way the vectors are stored, `gradu[0]` will now\n",
    "contain $\\nabla u \\cdot \\mathbf{i}$ and\n",
    "`gradu[1]` will contain $\\nabla u \\cdot \\mathbf{j}$.\n",
    "To validate we compute the exact gradient and compute\n",
    "the error norm"
   ]
  },
  {
   "cell_type": "code",
   "execution_count": 13,
   "metadata": {
    "collapsed": false
   },
   "outputs": [],
   "source": [
    "gradue = Array(V, buffer=list(b[0]*ue.diff(theta, 1)/r**2 + b[1]*ue.diff(r, 1)))\n",
    "#or alternatively\n",
    "#gradue = Array(V, buffer=grad(u).tosympy(basis=ue, psi=psi))\n",
    "print('Error gradient', np.linalg.norm(gradu-gradue))"
   ]
  },
  {
   "cell_type": "markdown",
   "metadata": {},
   "source": [
    "We now refine the solution to make it look better,\n",
    "and plot on the unit disc."
   ]
  },
  {
   "cell_type": "code",
   "execution_count": 14,
   "metadata": {
    "collapsed": false
   },
   "outputs": [],
   "source": [
    "%matplotlib inline\n",
    "\n",
    "u_hat2 = u_hat.refine([N*3, N*3])\n",
    "u0_hat2 = u0_hat.refine([1, N*3])\n",
    "sl = u_hat2.function_space().local_slice(False)\n",
    "ur = u_hat2.backward() + u0_hat2.backward()[:, sl[1]]\n",
    "\n",
    "# Wrap periodic plot around since it looks nicer\n",
    "xx, yy = u_hat2.function_space().local_curvilinear_mesh()\n",
    "xp = np.vstack([xx, xx[0]])\n",
    "yp = np.vstack([yy, yy[0]])\n",
    "up = np.vstack([ur, ur[0]])\n",
    "# For vector no need to wrap around and no need to refine:\n",
    "xi, yi = TT.local_curvilinear_mesh()\n",
    "\n",
    "# plot\n",
    "import matplotlib.pyplot as plt\n",
    "plt.figure()\n",
    "plt.contourf(xp, yp, up)\n",
    "plt.quiver(xi, yi, gradu[0], gradu[1], scale=40, pivot='mid', color='white')\n",
    "plt.colorbar()\n",
    "plt.title('Helmholtz - unitdisc')\n",
    "plt.xticks([])\n",
    "plt.yticks([])\n",
    "plt.axis('off')\n",
    "plt.show()"
   ]
  },
  {
   "cell_type": "markdown",
   "metadata": {},
   "source": [
    "<!-- ======= Bibliography ======= -->\n",
    "\n",
    "\n",
    "\n",
    "1. <a id=\"shen3\"></a> **J. Shen**. \n",
    "    Efficient Spectral-Galerkin Methods III: Polar and Cylindrical Geometries,\n",
    "    *SIAM Journal on Scientific Computing*,\n",
    "    18(6),\n",
    "    pp. 1583-1604,\n",
    "    [doi: 10.1137/S1064827595295301](http://dx.doi.org/10.1137/S1064827595295301),\n",
    "    1997."
   ]
  }
 ],
 "metadata": {},
 "nbformat": 4,
 "nbformat_minor": 4
}
