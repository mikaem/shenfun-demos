{
 "cells": [
  {
   "cell_type": "markdown",
   "id": "cda75300",
   "metadata": {
    "editable": true
   },
   "source": [
    "<!-- File automatically generated using DocOnce (https://github.com/doconce/doconce/):\n",
    "doconce format ipynb drivencavity.do.txt  -->\n",
    "\n",
    "# Demo - Lid driven cavity\n",
    "**Mikael Mortensen** (email: `mikaem@math.uio.no`), Department of Mathematics, University of Oslo.\n",
    "\n",
    "Date: **May 6, 2019**\n",
    "\n",
    "**Summary.** The lid driven cavity is a classical benchmark for Navier Stokes solvers.\n",
    "This is a demonstration of how the Python module [shenfun](https://github.com/spectralDNS/shenfun) can be used to solve the lid\n",
    "driven cavity problem with full spectral accuracy using a mixed (coupled) basis\n",
    "in a 2D tensor product domain. The demo also shows how to use mixed\n",
    "tensor product spaces for vector valued equations. Note that the regular\n",
    "lid driven cavity, where the top wall has constant velocity and the\n",
    "remaining three walls are stationary, has a singularity at the two\n",
    "upper corners, where the velocity is discontinuous.\n",
    "Due to their global nature, spectral methods\n",
    "are usually not very good at handling problems with discontinuities, and\n",
    "for this reason we will also look at a regularized lid driven cavity,\n",
    "where the top lid moves according to $(1-x)^2(1+x)^2$, thus removing\n",
    "the corner discontinuities.\n",
    "\n",
    "<h1 id=\"table_of_contents\">\n",
    "\n",
    "Table of contents</h1>\n",
    "\n",
    "<a class='toc'>\n",
    "<p><a href=\"#demo:navierstokes\"> Navier Stokes equations </a></p>\n",
    "<p><a href=\"#sec:bases\"> Tensor product spaces </a></p>\n",
    "<p><a href=\"#sec:mixedform\"> Mixed variational form </a></p>\n",
    "<p><a href=\"#Implementation-of-solver\"> Implementation of solver </a></p>\n",
    "<p><a href=\"#sec:nscomplete\"> Complete solver </a></p>\n",
    "</a>\n",
    "<br>\n",
    "\n",
    "<!-- dom:FIGURE: [https://raw.githack.com/spectralDNS/spectralutilities/master/figures/DrivenCavity.png] Velocity vectors for the lid driven cavity at Reynolds number 100.   <a id=\"fig:drivencavity\"></a> -->\n",
    "<!-- begin figure -->\n",
    "<a id=\"fig:drivencavity\"></a>\n",
    "\n",
    "<img src=\"https://raw.githack.com/spectralDNS/spectralutilities/master/figures/DrivenCavity.png\" ><p style=\"font-size: 0.9em\"><i>Figure 1: Velocity vectors for the lid driven cavity at Reynolds number 100.</i></p>\n",
    "<!-- end figure -->"
   ]
  },
  {
   "cell_type": "markdown",
   "id": "ccc2c58f",
   "metadata": {
    "editable": true
   },
   "source": [
    "## Navier Stokes equations\n",
    "<a id=\"demo:navierstokes\"></a>\n",
    "\n",
    "The nonlinear steady Navier Stokes equations are given in strong form as"
   ]
  },
  {
   "cell_type": "markdown",
   "id": "b4df9404",
   "metadata": {
    "editable": true
   },
   "source": [
    "$$\n",
    "\\begin{align*}\n",
    "\\nu \\nabla^2 \\boldsymbol{u} - \\nabla p &= \\nabla \\cdot \\boldsymbol{u} \\boldsymbol{u} \\quad \\text{in }  \\Omega , \\\\ \n",
    "\\nabla \\cdot \\boldsymbol{u} &= 0 \\quad \\text{in } \\Omega  \\\\ \n",
    "\\int_{\\Omega} p dx &= 0 \\\\ \n",
    "\\boldsymbol{u}(x, y=1) = (1, 0) \\, &\\text{ or }\\, \\boldsymbol{u}(x, y=1) = ((1-x)^2(1+x)^2, 0) \\\\ \n",
    "\\boldsymbol{u}(x, y=-1) &= (0, 0) \\\\ \n",
    "\\boldsymbol{u}(x=\\pm 1, y) &= (0, 0)\n",
    "\\end{align*}\n",
    "$$"
   ]
  },
  {
   "cell_type": "markdown",
   "id": "938d2245",
   "metadata": {
    "editable": true
   },
   "source": [
    "where $\\boldsymbol{u}, p$ and $\\nu$ are, respectively, the\n",
    "fluid velocity vector, pressure and kinematic viscosity. The domain\n",
    "$\\Omega = [-1, 1]^2$ and the nonlinear term $\\boldsymbol{u} \\boldsymbol{u}$ is the\n",
    "outer product of vector $\\boldsymbol{u}$ with itself. Note that the final\n",
    "$\\int_{\\Omega} p dx = 0$ is there because there is no Dirichlet boundary\n",
    "condition on the pressure and the system of equations would otherwise be\n",
    "ill conditioned.\n",
    "\n",
    "We want to solve these steady nonlinear Navier Stokes equations with the Galerkin\n",
    "method, using the [shenfun](https://github.com/spectralDNS/shenfun) Python\n",
    "package. The first thing we need to do then is to import all of shenfun's\n",
    "functionality"
   ]
  },
  {
   "cell_type": "code",
   "execution_count": null,
   "id": "c1538a28",
   "metadata": {
    "editable": true,
    "tags": [
     "thebe-init"
    ]
   },
   "outputs": [],
   "source": [
    "%matplotlib inline\n",
    "\n",
    "import matplotlib.pyplot as plt\n",
    "from shenfun import *"
   ]
  },
  {
   "cell_type": "markdown",
   "id": "20810621",
   "metadata": {
    "editable": true
   },
   "source": [
    "Note that MPI for Python ([mpi4py](https://bitbucket.org/mpi4py/mpi4py))\n",
    "is a requirement for shenfun, but the current solver cannot be used with more\n",
    "than one processor."
   ]
  },
  {
   "cell_type": "markdown",
   "id": "4dafdfba",
   "metadata": {
    "editable": true
   },
   "source": [
    "## Tensor product spaces\n",
    "<a id=\"sec:bases\"></a>\n",
    "\n",
    "With the Galerkin method we need function spaces for both velocity and\n",
    "pressure, as well as for the\n",
    "nonlinear right hand side. A Dirichlet space will be used for velocity,\n",
    "whereas there is no boundary restriction on the pressure space. For both\n",
    "two-dimensional spaces we will use one basis function for the $x$-direction,\n",
    "$\\mathcal{X}_k(x)$, and one for the $y$-direction, $\\mathcal{Y}_l(y)$. And\n",
    "then we create two-dimensional basis functions like"
   ]
  },
  {
   "cell_type": "markdown",
   "id": "5db8628e",
   "metadata": {
    "editable": true
   },
   "source": [
    "<!-- Equation labels as ordinary links -->\n",
    "<a id=\"eq:nstestfunction\"></a>\n",
    "\n",
    "$$\n",
    "\\begin{equation}\n",
    "v_{kl}(x, y) = \\mathcal{X}_k(x) \\mathcal{Y}_l(y),  \\label{eq:nstestfunction} \\tag{1}\n",
    "\\end{equation}\n",
    "$$"
   ]
  },
  {
   "cell_type": "markdown",
   "id": "d02e1a14",
   "metadata": {
    "editable": true
   },
   "source": [
    "and solutions (trial functions) as"
   ]
  },
  {
   "cell_type": "markdown",
   "id": "617e11aa",
   "metadata": {
    "editable": true
   },
   "source": [
    "<!-- Equation labels as ordinary links -->\n",
    "<a id=\"eq:nstrialfunction\"></a>\n",
    "\n",
    "$$\n",
    "\\begin{equation}\n",
    "    u(x, y) = \\sum_{k}\\sum_{l} \\hat{u}_{kl} v_{kl}(x, y). \\label{eq:nstrialfunction} \\tag{2}\n",
    "\\end{equation}\n",
    "$$"
   ]
  },
  {
   "cell_type": "markdown",
   "id": "e1732af2",
   "metadata": {
    "editable": true
   },
   "source": [
    "For the homogeneous Dirichlet boundary condition the basis functions\n",
    "$\\mathcal{X}_k(x)$ and $\\mathcal{Y}_l(y)$ are chosen as composite\n",
    "Legendre polynomials (we could also use Chebyshev):"
   ]
  },
  {
   "cell_type": "markdown",
   "id": "c0eeb7b3",
   "metadata": {
    "editable": true
   },
   "source": [
    "<!-- Equation labels as ordinary links -->\n",
    "<a id=\"eq:D0\"></a>\n",
    "\n",
    "$$\n",
    "\\begin{equation}\n",
    "\\mathcal{X}_k(x) = L_k(x) - L_{k+2}(x), \\quad \\forall \\, k \\in \\boldsymbol{k}^{N_0-2}, \\label{eq:D0} \\tag{3} \n",
    "\\end{equation}\n",
    "$$"
   ]
  },
  {
   "cell_type": "markdown",
   "id": "c68d679a",
   "metadata": {
    "editable": true
   },
   "source": [
    "<!-- Equation labels as ordinary links -->\n",
    "<a id=\"eq:D1\"></a>\n",
    "\n",
    "$$\n",
    "\\begin{equation}  \n",
    "\\mathcal{Y}_l(y) = L_l(y) - L_{l+2}(y), \\quad \\forall \\, l \\in \\boldsymbol{l}^{N_1-2}, \\label{eq:D1} \\tag{4}\n",
    "\\end{equation}\n",
    "$$"
   ]
  },
  {
   "cell_type": "markdown",
   "id": "c0509dc0",
   "metadata": {
    "editable": true
   },
   "source": [
    "where $\\boldsymbol{k}^{N_0-2} = (0, 1, \\ldots, N_0-3)$, $\\boldsymbol{l}^{N_1-2} = (0, 1, \\ldots, N_1-3)$\n",
    "and $N = (N_0, N_1)$ is the number\n",
    "of quadrature points in each direction. Note that $N_0$ and $N_1$ do not need\n",
    "to be the same. The basis funciton ([3](#eq:D0)) satisfies\n",
    "the homogeneous Dirichlet boundary conditions at $x=\\pm 1$ and ([4](#eq:D1)) the same\n",
    "at $y=\\pm 1$. As such, the basis function $v_{kl}(x, y)$ satisfies the homogeneous Dirichlet boundary\n",
    "condition for the entire domain.\n",
    "\n",
    "With shenfun we create these homogeneous spaces, $D_0^{N_0}(x)=\\text{span}\\{L_k-L_{k+2}\\}_{k=0}^{N_0-2}$ and\n",
    "$D_0^{N_1}(y)=\\text{span}\\{L_l-L_{l+2}\\}_{l=0}^{N_1-2}$ as"
   ]
  },
  {
   "cell_type": "code",
   "execution_count": null,
   "id": "0123b563",
   "metadata": {
    "editable": true,
    "tags": [
     "thebe-init"
    ]
   },
   "outputs": [],
   "source": [
    "N = (45, 45)\n",
    "family = 'Legendre' # or use 'Chebyshev'\n",
    "quad = 'GL'         # for Chebyshev use 'GC' or 'GL'\n",
    "D0X = FunctionSpace(N[0], family, quad=quad, bc=(0, 0))\n",
    "D0Y = FunctionSpace(N[1], family, quad=quad, bc=(0, 0))"
   ]
  },
  {
   "cell_type": "markdown",
   "id": "7eaea227",
   "metadata": {
    "editable": true
   },
   "source": [
    "The spaces are here the same, but we will use `D0X` in the $x$-direction and\n",
    "`D0Y` in the $y$-direction. But before we use these bases in\n",
    "tensor product spaces, they remain identical as long as $N_0 = N_1$.\n",
    "\n",
    "Special attention is required by the moving lid. To get a solution\n",
    "with nonzero boundary condition at $y=1$ we need to add one more basis function\n",
    "that satisfies that solution. In general, a nonzero boundary condition\n",
    "can be added on both sides of the domain using the following basis"
   ]
  },
  {
   "cell_type": "markdown",
   "id": "98f50346",
   "metadata": {
    "editable": true
   },
   "source": [
    "<!-- Equation labels as ordinary links -->\n",
    "<a id=\"_auto1\"></a>\n",
    "\n",
    "$$\n",
    "\\begin{equation}\n",
    "\\mathcal{Y}_l(y) = L_l(y) - L_{l+2}(y), \\quad \\forall \\, l \\in \\boldsymbol{l}^{N_1-2}. \n",
    "\\label{_auto1} \\tag{5}\n",
    "\\end{equation}\n",
    "$$"
   ]
  },
  {
   "cell_type": "markdown",
   "id": "b5b08351",
   "metadata": {
    "editable": true
   },
   "source": [
    "<!-- Equation labels as ordinary links -->\n",
    "<a id=\"_auto2\"></a>\n",
    "\n",
    "$$\n",
    "\\begin{equation}  \n",
    "\\mathcal{Y}_{N_1-2}(y) = (L_0+L_1)/2 \\quad \\left(=(1+y)/2\\right), \n",
    "\\label{_auto2} \\tag{6}\n",
    "\\end{equation}\n",
    "$$"
   ]
  },
  {
   "cell_type": "markdown",
   "id": "f979bcb4",
   "metadata": {
    "editable": true
   },
   "source": [
    "<!-- Equation labels as ordinary links -->\n",
    "<a id=\"_auto3\"></a>\n",
    "\n",
    "$$\n",
    "\\begin{equation}  \n",
    "\\mathcal{Y}_{N_1-1}(y) = (L_0-L_1)/2 \\quad \\left(=(1-y)/2\\right).\n",
    "\\label{_auto3} \\tag{7}\n",
    "\\end{equation}\n",
    "$$"
   ]
  },
  {
   "cell_type": "markdown",
   "id": "bbdfbd07",
   "metadata": {
    "editable": true
   },
   "source": [
    "And then the unknown component $N_1-2$ decides the value at $y=1$, whereas\n",
    "the unknown at $N_1-1$ decides the value at $y=-1$. Here we only need to\n",
    "add the $N_1-2$ component, but for generality this is implemented in shenfun\n",
    "using both additional basis functions. We create the space\n",
    "$D_1^{N_1}(y)=\\text{span}\\{\\mathcal{Y}_l(y)\\}_{l=0}^{N_1-1}$ as"
   ]
  },
  {
   "cell_type": "code",
   "execution_count": null,
   "id": "bd0f7c31",
   "metadata": {
    "editable": true,
    "tags": [
     "thebe-init"
    ]
   },
   "outputs": [],
   "source": [
    "D1Y = FunctionSpace(N[1], family, quad=quad, bc=(0, 1))"
   ]
  },
  {
   "cell_type": "markdown",
   "id": "0648da62",
   "metadata": {
    "editable": true
   },
   "source": [
    "where `bc=(1, 0)` fixes the values for $y=1$ and $y=-1$, respectively.\n",
    "For a regularized lid driven cavity the velocity of the top lid is\n",
    "$(1-x)^2(1+x)^2$ and not unity. To implement this boundary condition\n",
    "instead, we can make use of [sympy](https://www.sympy.org) and\n",
    "quite straight forward do"
   ]
  },
  {
   "cell_type": "code",
   "execution_count": null,
   "id": "b9f2f57c",
   "metadata": {
    "editable": true,
    "tags": [
     "thebe-init"
    ]
   },
   "outputs": [],
   "source": [
    "import sympy\n",
    "x = sympy.symbols('x')\n",
    "#D1Y = FunctionSpace(N[1], family, quad=quad, bc=(0, (1-x)**2*(1+x)**2))"
   ]
  },
  {
   "cell_type": "markdown",
   "id": "f4a220a4",
   "metadata": {
    "editable": true
   },
   "source": [
    "Uncomment the last line to run the regularized boundary conditions.\n",
    "Otherwise, there is no difference at all between the regular and the\n",
    "regularized lid driven cavity implementations.\n",
    "\n",
    "The pressure basis that comes with no restrictions for the boundary is a\n",
    "little trickier. The reason for this has to do with\n",
    "inf-sup stability. The obvious choice of basis functions are the\n",
    "regular Legendre polynomials $L_k(x)$ in $x$ and $L_l(y)$ in the\n",
    "$y$-directions. The problem is that for the natural choice of\n",
    "$(k, l) \\in \\boldsymbol{k}^{N_0} \\times \\boldsymbol{l}^{N_1}$\n",
    "there are nullspaces and the problem is not well-defined. It turns out\n",
    "that the proper choice for the pressure basis is simply the regular\n",
    "Legendre basis functions, but for\n",
    "$(k, l) \\in \\boldsymbol{k}^{N_0-2} \\times \\boldsymbol{l}^{N_1-2}$.\n",
    "The bases $P^{N_0}(x)=\\text{span}\\{L_k(x)\\}_{k=0}^{N_0-3}$ and\n",
    "$P^{N_1}(y)=\\text{span}\\{L_l(y)\\}_{l=0}^{N_1-3}$ are created as"
   ]
  },
  {
   "cell_type": "code",
   "execution_count": null,
   "id": "049abbb6",
   "metadata": {
    "editable": true,
    "tags": [
     "thebe-init"
    ]
   },
   "outputs": [],
   "source": [
    "PX = FunctionSpace(N[0], family, quad=quad)\n",
    "PY = FunctionSpace(N[1], family, quad=quad)\n",
    "PX.slice = lambda: slice(0, N[0]-2)\n",
    "PY.slice = lambda: slice(0, N[1]-2)"
   ]
  },
  {
   "cell_type": "markdown",
   "id": "70f93a02",
   "metadata": {
    "editable": true
   },
   "source": [
    "Note that we still use these spaces with the same $N_0 \\cdot N_1$\n",
    "quadrature points in real space, but the two highest frequencies have\n",
    "been set to zero.\n",
    "\n",
    "We have now created all relevant function spaces for the problem at hand.\n",
    "It remains to combine these spaces into tensor product spaces, and to\n",
    "combine tensor product spaces into mixed (coupled) tensor product\n",
    "spaces. From the Dirichlet bases we create two different tensor\n",
    "product spaces, whereas one is enough for the pressure"
   ]
  },
  {
   "cell_type": "markdown",
   "id": "77f088e9",
   "metadata": {
    "editable": true
   },
   "source": [
    "<!-- Equation labels as ordinary links -->\n",
    "<a id=\"_auto4\"></a>\n",
    "\n",
    "$$\n",
    "\\begin{equation}\n",
    "V_{1}^{\\boldsymbol{N}}(\\boldsymbol{x}) = D_0^{N_0}(x) \\otimes D_1^{N_1}(y), \n",
    "\\label{_auto4} \\tag{8}\n",
    "\\end{equation}\n",
    "$$"
   ]
  },
  {
   "cell_type": "markdown",
   "id": "130e2959",
   "metadata": {
    "editable": true
   },
   "source": [
    "<!-- Equation labels as ordinary links -->\n",
    "<a id=\"_auto5\"></a>\n",
    "\n",
    "$$\n",
    "\\begin{equation}  \n",
    "V_{0}^{\\boldsymbol{N}}(\\boldsymbol{x}) = D_0^{N_0}(x) \\otimes D_0^{N_1}(y), \n",
    "\\label{_auto5} \\tag{9}\n",
    "\\end{equation}\n",
    "$$"
   ]
  },
  {
   "cell_type": "markdown",
   "id": "7d18b5d2",
   "metadata": {
    "editable": true
   },
   "source": [
    "<!-- Equation labels as ordinary links -->\n",
    "<a id=\"_auto6\"></a>\n",
    "\n",
    "$$\n",
    "\\begin{equation}  \n",
    "P^{\\boldsymbol{N}}(\\boldsymbol{x}) = P^{N_0}(x) \\otimes P^{N_1}(y).\n",
    "\\label{_auto6} \\tag{10}\n",
    "\\end{equation}\n",
    "$$"
   ]
  },
  {
   "cell_type": "markdown",
   "id": "2b0b1192",
   "metadata": {
    "editable": true
   },
   "source": [
    "With shenfun the tensor product spaces are created as"
   ]
  },
  {
   "cell_type": "code",
   "execution_count": null,
   "id": "d1fc2141",
   "metadata": {
    "editable": true,
    "tags": [
     "thebe-init"
    ]
   },
   "outputs": [],
   "source": [
    "V1 = TensorProductSpace(comm, (D0X, D1Y))\n",
    "V0 = TensorProductSpace(comm, (D0X, D0Y))\n",
    "P = TensorProductSpace(comm, (PX, PY), modify_spaces_inplace=True)"
   ]
  },
  {
   "cell_type": "markdown",
   "id": "a80a6167",
   "metadata": {
    "editable": true
   },
   "source": [
    "These tensor product spaces are all scalar valued.\n",
    "The velocity is a vector, and a vector requires a mixed vector basis like\n",
    "$W_1^{\\boldsymbol{N}} = V_1^{\\boldsymbol{N}} \\times V_0^{\\boldsymbol{N}}$. The vector basis is created\n",
    "in shenfun as"
   ]
  },
  {
   "cell_type": "code",
   "execution_count": null,
   "id": "769a777f",
   "metadata": {
    "editable": true,
    "tags": [
     "thebe-init"
    ]
   },
   "outputs": [],
   "source": [
    "W1 = VectorSpace([V1, V0])\n",
    "W0 = VectorSpace([V0, V0])"
   ]
  },
  {
   "cell_type": "markdown",
   "id": "8a8f02dc",
   "metadata": {
    "editable": true
   },
   "source": [
    "Note that the second vector basis, $W_0^{\\boldsymbol{N}} = V_0^{\\boldsymbol{N}} \\times V_0^{\\boldsymbol{N}}$, uses\n",
    "homogeneous boundary conditions throughout."
   ]
  },
  {
   "cell_type": "markdown",
   "id": "536b70dc",
   "metadata": {
    "editable": true
   },
   "source": [
    "## Mixed variational form\n",
    "<a id=\"sec:mixedform\"></a>\n",
    "\n",
    "We now formulate a variational problem using the\n",
    "Galerkin method: Find\n",
    "$\\boldsymbol{u} \\in W_1^{\\boldsymbol{N}}$ and $p \\in P^{\\boldsymbol{N}}$ such that"
   ]
  },
  {
   "cell_type": "markdown",
   "id": "55f7aa59",
   "metadata": {
    "editable": true
   },
   "source": [
    "<!-- Equation labels as ordinary links -->\n",
    "<a id=\"eq:nsvarform\"></a>\n",
    "\n",
    "$$\n",
    "\\begin{equation}\n",
    "\\int_{\\Omega} (\\nu \\nabla^2 \\boldsymbol{u} - \\nabla p ) \\cdot \\boldsymbol{v} \\, dxdy = \\int_{\\Omega} (\\nabla \\cdot \\boldsymbol{u}\\boldsymbol{u}) \\cdot \\boldsymbol{v}\\, dxdy \\quad\\forall \\boldsymbol{v} \\, \\in \\, W_0^{\\boldsymbol{N}}, \\label{eq:nsvarform} \\tag{11} \n",
    "\\end{equation}\n",
    "$$"
   ]
  },
  {
   "cell_type": "markdown",
   "id": "5245e8f8",
   "metadata": {
    "editable": true
   },
   "source": [
    "<!-- Equation labels as ordinary links -->\n",
    "<a id=\"_auto7\"></a>\n",
    "\n",
    "$$\n",
    "\\begin{equation}  \n",
    "\\int_{\\Omega} \\nabla \\cdot \\boldsymbol{u} \\, q \\, dxdy = 0 \\quad\\forall q \\, \\in \\, P^{\\boldsymbol{N}}.\n",
    "\\label{_auto7} \\tag{12}\n",
    "\\end{equation}\n",
    "$$"
   ]
  },
  {
   "cell_type": "markdown",
   "id": "ca2fcb06",
   "metadata": {
    "editable": true
   },
   "source": [
    "Note that we are using test functions $\\boldsymbol{v}$ with homogeneous\n",
    "boundary conditions.\n",
    "\n",
    "The first obvious issue with Eq ([11](#eq:nsvarform)) is the nonlinearity.\n",
    "In other words we will\n",
    "need to linearize and iterate to be able to solve these equations with\n",
    "the Galerkin method. To this end we will introduce the solution on\n",
    "iteration $k \\in [0, 1, \\ldots]$ as $\\boldsymbol{u}^k$ and compute the nonlinearity\n",
    "using only known solutions\n",
    "$\\int_{\\Omega} (\\nabla \\cdot \\boldsymbol{u}^k\\boldsymbol{u}^k) \\cdot \\boldsymbol{v}\\, dxdy$.\n",
    "Using further integration by parts we end up with the equations to solve\n",
    "for iteration number $k+1$ (using $\\boldsymbol{u} = \\boldsymbol{u}^{k+1}$ and $p=p^{k+1}$\n",
    "for simplicity)"
   ]
  },
  {
   "cell_type": "markdown",
   "id": "41ce852b",
   "metadata": {
    "editable": true
   },
   "source": [
    "<!-- Equation labels as ordinary links -->\n",
    "<a id=\"eq:nsvarform2\"></a>\n",
    "\n",
    "$$\n",
    "\\begin{equation}\n",
    "-\\int_{\\Omega} \\nu \\nabla \\boldsymbol{u} \\, \\colon \\nabla \\boldsymbol{v} \\, dxdy + \\int_{\\Omega} p \\nabla \\cdot \\boldsymbol{v} \\, dxdy = \\int_{\\Omega} (\\nabla \\cdot \\boldsymbol{u}^k\\boldsymbol{u}^k) \\cdot \\boldsymbol{v}\\, dxdy \\quad\\forall \\boldsymbol{v} \\, \\in \\, W_0^{\\boldsymbol{N}}, \\label{eq:nsvarform2} \\tag{13} \n",
    "\\end{equation}\n",
    "$$"
   ]
  },
  {
   "cell_type": "markdown",
   "id": "19536780",
   "metadata": {
    "editable": true
   },
   "source": [
    "<!-- Equation labels as ordinary links -->\n",
    "<a id=\"_auto8\"></a>\n",
    "\n",
    "$$\n",
    "\\begin{equation}  \n",
    "\\int_{\\Omega} \\nabla \\cdot \\boldsymbol{u} \\, q \\, dxdy = 0 \\quad\\forall q \\, \\in \\, P^{\\boldsymbol{N}}.\n",
    "\\label{_auto8} \\tag{14}\n",
    "\\end{equation}\n",
    "$$"
   ]
  },
  {
   "cell_type": "markdown",
   "id": "295605f1",
   "metadata": {
    "editable": true
   },
   "source": [
    "Note that the nonlinear term may also be integrated by parts and\n",
    "evaluated as $\\int_{\\Omega}-\\boldsymbol{u}^k\\boldsymbol{u}^k  \\, \\colon \\nabla \\boldsymbol{v} \\, dxdy$. All\n",
    "boundary integrals disappear since we are using test functions with\n",
    "homogeneous boundary conditions.\n",
    "\n",
    "Since we are to solve for $\\boldsymbol{u}$ and $p$ at the same time, we formulate a\n",
    "mixed (coupled) problem: find $(\\boldsymbol{u}, p) \\in W_1^{\\boldsymbol{N}} \\times P^{\\boldsymbol{N}}$\n",
    "such that"
   ]
  },
  {
   "cell_type": "markdown",
   "id": "bdc179cc",
   "metadata": {
    "editable": true
   },
   "source": [
    "<!-- Equation labels as ordinary links -->\n",
    "<a id=\"_auto9\"></a>\n",
    "\n",
    "$$\n",
    "\\begin{equation}\n",
    "a((\\boldsymbol{u}, p), (\\boldsymbol{v}, q)) = L((\\boldsymbol{v}, q)) \\quad \\forall (\\boldsymbol{v}, q) \\in W_0^{\\boldsymbol{N}} \\times P^{\\boldsymbol{N}},\n",
    "\\label{_auto9} \\tag{15}\n",
    "\\end{equation}\n",
    "$$"
   ]
  },
  {
   "cell_type": "markdown",
   "id": "409ef865",
   "metadata": {
    "editable": true
   },
   "source": [
    "where bilinear ($a$) and linear ($L$) forms are given as"
   ]
  },
  {
   "cell_type": "markdown",
   "id": "f92c253d",
   "metadata": {
    "editable": true
   },
   "source": [
    "<!-- Equation labels as ordinary links -->\n",
    "<a id=\"_auto10\"></a>\n",
    "\n",
    "$$\n",
    "\\begin{equation}\n",
    "    a((\\boldsymbol{u}, p), (\\boldsymbol{v}, q)) = -\\int_{\\Omega} \\nu \\nabla \\boldsymbol{u} \\, \\colon \\nabla \\boldsymbol{v} \\, dxdy + \\int_{\\Omega} p \\nabla \\cdot \\boldsymbol{v} \\, dxdy + \\int_{\\Omega} \\nabla \\cdot \\boldsymbol{u} \\, q \\, dxdy, \n",
    "\\label{_auto10} \\tag{16}\n",
    "\\end{equation}\n",
    "$$"
   ]
  },
  {
   "cell_type": "markdown",
   "id": "0ada2a34",
   "metadata": {
    "editable": true
   },
   "source": [
    "<!-- Equation labels as ordinary links -->\n",
    "<a id=\"_auto11\"></a>\n",
    "\n",
    "$$\n",
    "\\begin{equation}  \n",
    "    L((\\boldsymbol{v}, q); \\boldsymbol{u}^{k}) = \\int_{\\Omega} (\\nabla \\cdot \\boldsymbol{u}^{k}\\boldsymbol{u}^{k}) \\cdot \\boldsymbol{v}\\, dxdy.\n",
    "\\label{_auto11} \\tag{17}\n",
    "\\end{equation}\n",
    "$$"
   ]
  },
  {
   "cell_type": "markdown",
   "id": "0329d759",
   "metadata": {
    "editable": true
   },
   "source": [
    "Note that the bilinear form will assemble to a block matrix, whereas the right hand side\n",
    "linear form will assemble to a block vector. The bilinear form does not change\n",
    "with the solution and as such it does not need to be reassembled inside\n",
    "an iteration loop.\n",
    "\n",
    "The algorithm used to solve the equations are:\n",
    "\n",
    "  * Set $k = 0$\n",
    "\n",
    "  * Guess $\\boldsymbol{u}^0 = (0, 0)$\n",
    "\n",
    "  * while not converged:\n",
    "\n",
    "    * assemble $L((\\boldsymbol{v}, q); \\boldsymbol{u}^{k})$\n",
    "\n",
    "    * solve $a((\\boldsymbol{u}, p), (\\boldsymbol{v}, q)) = L((\\boldsymbol{v}, q); \\boldsymbol{u}^{k})$ for $\\boldsymbol{u}^{k+1}, p^{k+1}$\n",
    "\n",
    "    * compute error = $\\int_{\\Omega} (\\boldsymbol{u}^{k+1}-\\boldsymbol{u}^{k})^2 \\, dxdy$\n",
    "\n",
    "    * if error $<$ some tolerance then converged = True\n",
    "\n",
    "    * $k$ += $1$"
   ]
  },
  {
   "cell_type": "markdown",
   "id": "5b11fc19",
   "metadata": {
    "editable": true
   },
   "source": [
    "## Implementation of solver\n",
    "\n",
    "We will now implement the coupled variational problem described in previous\n",
    "sections. First of all, since we want to solve for the velocity and pressure\n",
    "in a coupled solver, we have to\n",
    "create a mixed tensor product space $VQ = W_1^{\\boldsymbol{N}} \\times P^{\\boldsymbol{N}}$ that\n",
    "couples velocity and pressure"
   ]
  },
  {
   "cell_type": "code",
   "execution_count": null,
   "id": "e39644ed",
   "metadata": {
    "editable": true,
    "tags": [
     "thebe-init"
    ]
   },
   "outputs": [],
   "source": [
    "VQ = CompositeSpace([W1, P])    # Coupling velocity and pressure"
   ]
  },
  {
   "cell_type": "markdown",
   "id": "742a457f",
   "metadata": {
    "editable": true
   },
   "source": [
    "We can now create test- and trialfunctions for the coupled space $VQ$,\n",
    "and then split them up into components afterwards:"
   ]
  },
  {
   "cell_type": "code",
   "execution_count": null,
   "id": "e1189632",
   "metadata": {
    "editable": true,
    "tags": [
     "thebe-init"
    ]
   },
   "outputs": [],
   "source": [
    "up = TrialFunction(VQ)\n",
    "vq = TestFunction(VQ)\n",
    "u, p = up\n",
    "v, q = vq"
   ]
  },
  {
   "cell_type": "markdown",
   "id": "d8d83d55",
   "metadata": {
    "editable": true
   },
   "source": [
    "**Notice.**\n",
    "\n",
    "The test function `v` is using homogeneous Dirichlet boundary conditions even\n",
    "though it is derived from `VQ`, which contains `W1`. It is currently not (and will\n",
    "probably never be) possible to use test functions with inhomogeneous\n",
    "boundary conditions.\n",
    "\n",
    "With the basisfunctions in place we may assemble the different blocks of the\n",
    "final coefficient matrix. For this we also need to specify the kinematic\n",
    "viscosity, which is given here in terms of the Reynolds number:"
   ]
  },
  {
   "cell_type": "code",
   "execution_count": null,
   "id": "67c370f9",
   "metadata": {
    "editable": true,
    "tags": [
     "thebe-init"
    ]
   },
   "outputs": [],
   "source": [
    "Re = 100.\n",
    "nu = 2./Re\n",
    "if family.lower() == 'legendre':\n",
    "    A = inner(grad(v), -nu*grad(u))\n",
    "    G = inner(div(v), p)\n",
    "else:\n",
    "    A = inner(v, nu*div(grad(u)))\n",
    "    G = inner(v, -grad(p))\n",
    "D = inner(q, div(u))"
   ]
  },
  {
   "cell_type": "markdown",
   "id": "3fe5f824",
   "metadata": {
    "editable": true
   },
   "source": [
    "The assembled subsystems `A, G` and `D` are lists containg the different blocks of\n",
    "the complete, coupled, coefficient matrix. `A` actually contains 4\n",
    "tensor product matrices of type [TPMatrix](https://shenfun.readthedocs.io/en/latest/shenfun.html#shenfun.matrixbase.TPMatrix). The first two\n",
    "matrices are for vector component zero of the test function `v[0]` and\n",
    "trial function `u[0]`, the\n",
    "matrices 2 and 3 are for components 1. The first two matrices are as such for"
   ]
  },
  {
   "cell_type": "markdown",
   "id": "4ebf0314",
   "metadata": {
    "editable": true
   },
   "source": [
    "          A[0:2] = inner(grad(v[0]), -nu*grad(u[0]))\n"
   ]
  },
  {
   "cell_type": "markdown",
   "id": "0fca873e",
   "metadata": {
    "editable": true
   },
   "source": [
    "Breaking it down the inner product is mathematically"
   ]
  },
  {
   "cell_type": "markdown",
   "id": "76051f6c",
   "metadata": {
    "editable": true
   },
   "source": [
    "<!-- Equation labels as ordinary links -->\n",
    "<a id=\"eq:partialeq1\"></a>\n",
    "\n",
    "$$\n",
    "\\begin{equation}\n",
    "\\label{eq:partialeq1} \\tag{18}\n",
    "\\int_{\\Omega}-\\nu \\left(\\frac{\\partial \\boldsymbol{v}[0]}{\\partial x}, \\frac{\\partial \\boldsymbol{v}[0]}{\\partial y}\\right) \\cdot \\left(\\frac{\\partial \\boldsymbol{u}[0]}{\\partial x}, \\frac{\\partial \\boldsymbol{u}[0]}{\\partial y}\\right) dx dy .\n",
    "\\end{equation}\n",
    "$$"
   ]
  },
  {
   "cell_type": "markdown",
   "id": "ef6c43f8",
   "metadata": {
    "editable": true
   },
   "source": [
    "We can now insert for test function $\\boldsymbol{v}[0]$"
   ]
  },
  {
   "cell_type": "markdown",
   "id": "d40f0579",
   "metadata": {
    "editable": true
   },
   "source": [
    "<!-- Equation labels as ordinary links -->\n",
    "<a id=\"_auto12\"></a>\n",
    "\n",
    "$$\n",
    "\\begin{equation}\n",
    "\\boldsymbol{v}[0]_{kl} = \\mathcal{X}_k \\mathcal{Y}_l, \\quad (k, l) \\in \\boldsymbol{k}^{N_0-2} \\times \\boldsymbol{l}^{N_1-2}\n",
    "\\label{_auto12} \\tag{19}\n",
    "\\end{equation}\n",
    "$$"
   ]
  },
  {
   "cell_type": "markdown",
   "id": "4e420511",
   "metadata": {
    "editable": true
   },
   "source": [
    "and trialfunction"
   ]
  },
  {
   "cell_type": "markdown",
   "id": "636f0f4d",
   "metadata": {
    "editable": true
   },
   "source": [
    "<!-- Equation labels as ordinary links -->\n",
    "<a id=\"_auto13\"></a>\n",
    "\n",
    "$$\n",
    "\\begin{equation}\n",
    "\\boldsymbol{u}[0]_{mn} = \\sum_{m=0}^{N_0-3} \\sum_{n=0}^{N_1-1} \\hat{\\boldsymbol{u}}[0]_{mn} \\mathcal{X}_m \\mathcal{Y}_n,\n",
    "\\label{_auto13} \\tag{20}\n",
    "\\end{equation}\n",
    "$$"
   ]
  },
  {
   "cell_type": "markdown",
   "id": "0d700c12",
   "metadata": {
    "editable": true
   },
   "source": [
    "where $\\hat{\\boldsymbol{u}}$ are the unknown degrees of freedom for the velocity vector.\n",
    "Notice that the sum over the second\n",
    "index runs all the way to $N_1-1$, whereas the other indices runs to either\n",
    "$N_0-3$ or $N_1-3$. This is because of the additional basis functions required\n",
    "for the inhomogeneous boundary condition.\n",
    "\n",
    "Inserting for these basis functions into ([18](#eq:partialeq1)), we obtain after a few trivial\n",
    "manipulations"
   ]
  },
  {
   "cell_type": "markdown",
   "id": "71c62d62",
   "metadata": {
    "editable": true
   },
   "source": [
    "<!-- Equation labels as ordinary links -->\n",
    "<a id=\"_auto14\"></a>\n",
    "\n",
    "$$\n",
    "\\begin{equation}\n",
    " -\\sum_{m=0}^{N_0-3} \\sum_{n=0}^{N_1-1} \\nu \\Big( \\underbrace{\\int_{-1}^{1} \\frac{\\partial \\mathcal{X}_k}{\\partial x} \\frac{\\partial \\mathcal{X}_m}{\\partial x} dx \\int_{-1}^{1} \\mathcal{Y}_l \\mathcal{Y}_n dy}_{A[0]} +  \\underbrace{\\int_{-1}^{1} \\mathcal{X}_k X_m dx \\int_{-1}^{1} \\frac{\\partial \\mathcal{Y}_l}{\\partial y} \\frac{\\partial \\mathcal{Y}_n}{\\partial y} dy}_{A[1]}  \\Big) \\hat{\\boldsymbol{u}}[0]_{mn}.\n",
    "\\label{_auto14} \\tag{21}\n",
    "\\end{equation}\n",
    "$$"
   ]
  },
  {
   "cell_type": "markdown",
   "id": "05cf050d",
   "metadata": {
    "editable": true
   },
   "source": [
    "We see that each tensor product matrix (both A[0] and A[1]) is composed as\n",
    "outer products of two smaller matrices, one for each dimension.\n",
    "The first tensor product matrix, A[0], is"
   ]
  },
  {
   "cell_type": "markdown",
   "id": "b8b9514e",
   "metadata": {
    "editable": true
   },
   "source": [
    "<!-- Equation labels as ordinary links -->\n",
    "<a id=\"_auto15\"></a>\n",
    "\n",
    "$$\n",
    "\\begin{equation}\n",
    "    \\underbrace{\\int_{-1}^{1} \\frac{\\partial \\mathcal{X}_k}{\\partial x} \\frac{\\partial \\mathcal{X}_m}{\\partial x} dx}_{c_{km}} \\underbrace{\\int_{-1}^{1} \\mathcal{Y}_l \\mathcal{Y}_n dy}_{f_{ln}}\n",
    "\\label{_auto15} \\tag{22}\n",
    "\\end{equation}\n",
    "$$"
   ]
  },
  {
   "cell_type": "markdown",
   "id": "8d06bcfb",
   "metadata": {
    "editable": true
   },
   "source": [
    "where $C\\in \\mathbb{R}^{N_0-2 \\times N_1-2}$ and $F \\in \\mathbb{R}^{N_0-2 \\times N_1}$.\n",
    "Note that due to the inhomogeneous boundary conditions this last matrix $F$\n",
    "is actually not square. However, remember that all contributions from the two highest\n",
    "degrees of freedom ($\\hat{\\boldsymbol{u}}[0]_{m,N_1-2}$ and $\\hat{\\boldsymbol{u}}[0]_{m,N_1-1}$) are already\n",
    "known and they can, as such, be  moved directly over to the right hand side of the\n",
    "linear algebra system that is to be solved. More precisely, we can split the\n",
    "tensor product matrix into two contributions and obtain"
   ]
  },
  {
   "cell_type": "markdown",
   "id": "52eaacd7",
   "metadata": {
    "editable": true
   },
   "source": [
    "$$\n",
    "\\sum_{m=0}^{N_0-3}\\sum_{n=0}^{N_1-1} c_{km}f_{ln} \\hat{\\boldsymbol{u}}[0]_{m, n} = \\sum_{m=0}^{N_0-3}\\sum_{n=0}^{N_1-3}c_{km}f_{ln}\\hat{\\boldsymbol{u}}[0]_{m, n} + \\sum_{m=0}^{N_0-3}\\sum_{n=N_1-2}^{N_1-1}c_{km}f_{ln}\\hat{\\boldsymbol{u}}[0]_{m, n}, \\quad \\forall (k, l) \\in \\boldsymbol{k}^{N_0-2} \\times \\boldsymbol{l}^{N_1-2},\n",
    "$$"
   ]
  },
  {
   "cell_type": "markdown",
   "id": "abb04307",
   "metadata": {
    "editable": true
   },
   "source": [
    "where the first term on the right hand side is square and the second term is known and\n",
    "can be moved to the right hand side of the linear algebra equation system.\n",
    "\n",
    "At this point all matrices, both regular and boundary matrices, are\n",
    "contained within the three lists A, G and D. We can now create a solver\n",
    "for block matrices that incorporates these boundary conditions\n",
    "automatically"
   ]
  },
  {
   "cell_type": "code",
   "execution_count": null,
   "id": "6503067c",
   "metadata": {
    "editable": true,
    "tags": [
     "thebe-init"
    ]
   },
   "outputs": [],
   "source": [
    "sol = la.BlockMatrixSolver(A+G+D)"
   ]
  },
  {
   "cell_type": "markdown",
   "id": "5b9d2387",
   "metadata": {
    "editable": true
   },
   "source": [
    "In the solver `sol` there is now a regular block matrix found in\n",
    "`sol.mat`, which is the symmetric"
   ]
  },
  {
   "cell_type": "markdown",
   "id": "6024a5f8",
   "metadata": {
    "editable": true
   },
   "source": [
    "$$\n",
    "\\begin{bmatrix}\n",
    "      A[0]+A[1] & 0 & G[0] \\\\ \n",
    "      0 & A[2]+A[3] & G[1] \\\\ \n",
    "      D[0] & D[1] & 0\n",
    "  \\end{bmatrix}\n",
    "$$"
   ]
  },
  {
   "cell_type": "markdown",
   "id": "f2a091f8",
   "metadata": {
    "editable": true
   },
   "source": [
    "The boundary matrices are similarly collected in a boundary block matrix\n",
    "in `sol.bc_mat`. This matrix is used under the hood to modify the\n",
    "right hand side.\n",
    "\n",
    "We now have all the matrices we need in order to solve the Navier Stokes equations.\n",
    "However, we also need some work arrays for iterations"
   ]
  },
  {
   "cell_type": "code",
   "execution_count": null,
   "id": "a2ec4a89",
   "metadata": {
    "editable": true,
    "tags": [
     "thebe-init"
    ]
   },
   "outputs": [],
   "source": [
    "# Create Function to hold solution. Use set_boundary_dofs to fix the degrees\n",
    "# of freedom in uh_hat that determines the boundary conditions.\n",
    "uh_hat = Function(VQ).set_boundary_dofs()\n",
    "ui_hat = uh_hat[0]\n",
    "\n",
    "# New solution (iterative)\n",
    "uh_new = Function(VQ).set_boundary_dofs()\n",
    "ui_new = uh_new[0]"
   ]
  },
  {
   "cell_type": "markdown",
   "id": "7bc61793",
   "metadata": {
    "editable": true
   },
   "source": [
    "The nonlinear right hand side also requires some additional attention.\n",
    "Nonlinear terms are usually computed in physical space before transforming\n",
    "to spectral. For this we need to evaluate the velocity vector on the\n",
    "quadrature mesh. We also need a rank 2 Array to hold the outer\n",
    "product $\\boldsymbol{u}\\boldsymbol{u}$. The required arrays and spaces are\n",
    "created as"
   ]
  },
  {
   "cell_type": "code",
   "execution_count": null,
   "id": "c480ce94",
   "metadata": {
    "editable": true,
    "tags": [
     "thebe-init"
    ]
   },
   "outputs": [],
   "source": [
    "bh_hat = Function(VQ)\n",
    "\n",
    "# Create arrays to hold velocity vector solution\n",
    "ui = Array(W1)\n",
    "\n",
    "# Create work arrays for nonlinear part\n",
    "QT = CompositeSpace([W1, W0])  # for uiuj\n",
    "uiuj = Array(QT)\n",
    "uiuj_hat = Function(QT)"
   ]
  },
  {
   "cell_type": "markdown",
   "id": "1fb54d21",
   "metadata": {
    "editable": true
   },
   "source": [
    "The right hand side $L((\\boldsymbol{v}, q);\\boldsymbol{u}^{k});$ is computed in its\n",
    "own function `compute_rhs` as"
   ]
  },
  {
   "cell_type": "code",
   "execution_count": null,
   "id": "5094d465",
   "metadata": {
    "editable": true,
    "tags": [
     "thebe-init"
    ]
   },
   "outputs": [],
   "source": [
    "def compute_rhs(ui_hat, bh_hat):\n",
    "    global ui, uiuj, uiuj_hat, V1, bh_hat0\n",
    "    bh_hat.fill(0)\n",
    "    ui = W1.backward(ui_hat, ui)\n",
    "    uiuj = outer(ui, ui, uiuj)\n",
    "    uiuj_hat = uiuj.forward(uiuj_hat)\n",
    "    bi_hat = bh_hat[0]\n",
    "    bi_hat = inner(v, div(uiuj_hat), output_array=bi_hat)\n",
    "    #bi_hat = inner(grad(v), -uiuj_hat, output_array=bi_hat)\n",
    "    return bh_hat"
   ]
  },
  {
   "cell_type": "markdown",
   "id": "ed55d721",
   "metadata": {
    "editable": true
   },
   "source": [
    "Here [outer()](https://shenfun.readthedocs.io/en/latest/shenfun.utilities.html#shenfun.utilities.outer) is a shenfun function that computes the\n",
    "outer product of two vectors and returns the product in a rank two\n",
    "array (here `uiuj`). With `uiuj` forward transformed to `uiuj_hat`\n",
    "we can assemble the linear form either as `inner(v, div(uiuj_hat)` or\n",
    "`inner(grad(v), -uiuj_hat)`.\n",
    "\n",
    "Now all that remains is to guess an initial solution and solve\n",
    "iteratively until convergence. For initial solution we simply set the\n",
    "velocity and pressure to zero. With an initial solution we are ready\n",
    "to start iterating.\n",
    "However, for convergence it is necessary to add some underrelaxation $\\alpha$,\n",
    "and update the solution each time step as"
   ]
  },
  {
   "cell_type": "markdown",
   "id": "029d7fcf",
   "metadata": {
    "editable": true
   },
   "source": [
    "$$\n",
    "\\begin{align*}\n",
    "\\hat{\\boldsymbol{u}}^{k+1} &= \\alpha \\hat{\\boldsymbol{u}}^* + (1-\\alpha)\\hat{\\boldsymbol{u}}^{k},\\\\ \n",
    "\\hat{p}^{k+1} &= \\alpha \\hat{p}^* + (1-\\alpha)\\hat{p}^{k},\n",
    "\\end{align*}\n",
    "$$"
   ]
  },
  {
   "cell_type": "markdown",
   "id": "a0e1f7da",
   "metadata": {
    "editable": true
   },
   "source": [
    "where $\\hat{\\boldsymbol{u}}^*$ and $\\hat{p}^*$ are the newly computed velocity\n",
    "and pressure returned from `M.solve`. Without underrelaxation the solution\n",
    "will quickly blow up. The iteration loop goes as follows"
   ]
  },
  {
   "cell_type": "code",
   "execution_count": null,
   "id": "a5d9aa4f",
   "metadata": {
    "editable": true,
    "tags": [
     "thebe-init"
    ]
   },
   "outputs": [],
   "source": [
    "converged = False\n",
    "count = 0\n",
    "alfa = 0.5\n",
    "while not converged:\n",
    "    count += 1\n",
    "    bh_hat = compute_rhs(ui_hat, bh_hat)\n",
    "    uh_new = sol(bh_hat, u=uh_new, constraints=((2, 0, 0),))\n",
    "    error = np.linalg.norm(ui_hat-ui_new)\n",
    "    uh_hat[:] = alfa*uh_new + (1-alfa)*uh_hat\n",
    "    converged = abs(error) < 1e-8 or count >= 100\n",
    "    print('Iteration %d Error %2.4e' %(count, error))\n",
    "\n",
    "up = uh_hat.backward()\n",
    "u, p = up\n",
    "\n",
    "X = V0.local_mesh(True)\n",
    "plt.figure()\n",
    "plt.quiver(X[0], X[1], u[0], u[1])"
   ]
  },
  {
   "cell_type": "markdown",
   "id": "c1ecbb46",
   "metadata": {
    "editable": true
   },
   "source": [
    "Note that the `constraints=((2, 0, 0),)` keyword argument\n",
    "ensures that the pressure integrates to zero, i.e., $\\int_{\\Omega} p \\omega dxdy=0$.\n",
    "Here the number 2 tells us that block component 2 in the mixed space\n",
    "(the pressure) should be integrated, dof 0 should be fixed, and it\n",
    "should be fixed to 0.\n",
    "\n",
    "The last three lines plots velocity vectors, like also seen in the [figure 1](#fig:drivencavity)\n",
    "in the top of this demo. The solution is apparently nice\n",
    "and smooth, but hidden underneath are Gibbs oscillations from the\n",
    "corner discontinuities. This is painfully obvious when switching from\n",
    "Legendre to Chebyshev polynomials. With Chebyshev the same plot looks\n",
    "like the [Figure 2](#fig:drivencavitycheb) below. However, choosing instead the\n",
    "regularized lid, with no discontinuities, the solutions will be nice and\n",
    "smooth, both for Legendre and Chebyshev polynomials.\n",
    "\n",
    "<!-- dom:FIGURE: [https://raw.githack.com/spectralDNS/spectralutilities/master/figures/DrivenCavityCheb.png] Velocity vectors for Re=100 using Chebyshev.   <a id=\"fig:drivencavitycheb\"></a> -->\n",
    "<!-- begin figure -->\n",
    "<a id=\"fig:drivencavitycheb\"></a>\n",
    "\n",
    "<img src=\"https://raw.githack.com/spectralDNS/spectralutilities/master/figures/DrivenCavityCheb.png\" ><p style=\"font-size: 0.9em\"><i>Figure 2: Velocity vectors for Re=100 using Chebyshev.</i></p>\n",
    "<!-- end figure -->"
   ]
  },
  {
   "cell_type": "markdown",
   "id": "d637f4c4",
   "metadata": {
    "editable": true
   },
   "source": [
    "## Complete solver\n",
    "<a id=\"sec:nscomplete\"></a>\n",
    "\n",
    "A complete solver can be found in demo [NavierStokesDrivenCavity.py](https://github.com/spectralDNS/shenfun/blob/master/demo/NavierStokesDrivenCavity.py)."
   ]
  }
 ],
 "metadata": {
  "kernelspec": {
   "display_name": "Python 3",
   "language": "python",
   "name": "python3"
  },
  "language_info": {
   "file_extension": ".py",
   "mimetype": "text/x-python",
   "name": "python",
   "nbconvert_exporter": "python",
   "pygments_lexer": "ipython3",
   "version": "3.8.5"
  }
 },
 "nbformat": 4,
 "nbformat_minor": 5
}
