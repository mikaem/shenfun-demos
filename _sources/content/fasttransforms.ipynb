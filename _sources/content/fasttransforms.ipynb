{
 "cells": [
  {
   "cell_type": "markdown",
   "id": "eb3dab17",
   "metadata": {
    "editable": true
   },
   "source": [
    "<!-- File automatically generated using DocOnce (https://github.com/doconce/doconce/):\n",
    "doconce format ipynb fasttransforms.do.txt  -->\n",
    "\n",
    "# Demo - Some fast transforms\n",
    "**Mikael Mortensen** (email: `mikaem@math.uio.no`), Department of Mathematics, University of Oslo.\n",
    "\n",
    "Date: **May 27, 2021**\n",
    "\n",
    "**Summary.** This demo will show how to compute fast forward transforms for the three\n",
    "different Dirichlet bases that are implemented for Chebyshev\n",
    "polynomials in Shenfun."
   ]
  },
  {
   "cell_type": "markdown",
   "id": "1f1c21dd",
   "metadata": {
    "editable": true
   },
   "source": [
    "## Forward and backward transforms\n",
    "\n",
    "A function $u(x)$ can be approximated in a finite global spectral\n",
    "expansion $u_N(x)$ as"
   ]
  },
  {
   "cell_type": "markdown",
   "id": "e844df9d",
   "metadata": {
    "editable": true
   },
   "source": [
    "<!-- Equation labels as ordinary links -->\n",
    "<a id=\"eq:expansion\"></a>\n",
    "\n",
    "$$\n",
    "\\label{eq:expansion} \\tag{1}\n",
    "u_N(x) = \\sum_{k=0}^{N-1} \\hat{u}_k \\phi_k(x), \\quad \\forall \\, x \\, \\in [-1, 1],\n",
    "$$"
   ]
  },
  {
   "cell_type": "markdown",
   "id": "dbbc1c94",
   "metadata": {
    "editable": true
   },
   "source": [
    "where $\\phi_k(x)$ are the basis functions and $\\boldsymbol{\\hat{u}} = \\{\\hat{u}_k\\}_{k=0}^{N-1}$\n",
    "are the expansion coefficients. The function $u_N(x)$ is continuous\n",
    "on the interval domain $[-1, 1]$. The span of the basis functions\n",
    "$V_N = \\text{span} \\{\\phi_k\\}_{k=0}^{N-1}$ represents a functionspace.\n",
    "Associated with this functionspace is a set of quadrature points\n",
    "$\\{x_k\\}_{k=0}^{N-1}$ that, along with quadrature weights $\\{\\omega_k\\}_{k=0}^{N-1}$, can be used\n",
    "for efficient integration. We can also evaluate the function $u_N(x)$ at\n",
    "these quadrature points to get the sequence\n",
    "$\\boldsymbol{u} = \\{u_N(x_k)\\}_{k=0}^{N-1}$. If $\\boldsymbol{\\hat{u}}=\\{\\hat{u}_k\\}_{k=0}^{N-1}$ are *known*,\n",
    "then $\\boldsymbol{u}$ can be evaluated directly from\n",
    "Eq. ([1](#eq:expansion))"
   ]
  },
  {
   "cell_type": "markdown",
   "id": "22237799",
   "metadata": {
    "editable": true
   },
   "source": [
    "<!-- Equation labels as ordinary links -->\n",
    "<a id=\"eq:expansionQ\"></a>\n",
    "\n",
    "$$\n",
    "\\label{eq:expansionQ} \\tag{2}\n",
    "u_N(x_j) = \\sum_{k=0}^{N-1} \\hat{u}_k \\phi_k(x_j), \\quad \\forall \\, j=0,1, \\ldots, N-1.\n",
    "$$"
   ]
  },
  {
   "cell_type": "markdown",
   "id": "5ddcf911",
   "metadata": {
    "editable": true
   },
   "source": [
    "This would correspond to a *backward* transform according to\n",
    "the Shenfun terminology. A direct evaluation of the backward\n",
    "([2](#eq:expansionQ)) transform takes $\\mathcal{O}(N^2)$\n",
    "operations since it requires a double sum (over both $j$\n",
    "and $k$). A *fast* transform is\n",
    "a transform that can be computed in $\\mathcal{O}(N \\log N)$ operations.\n",
    "This is what the Fast Fourier Transform (FFT) does. It computes a double\n",
    "sum, like ([2](#eq:expansionQ)), in $\\mathcal{O}(N \\log N)$ operations.\n",
    "\n",
    "The other way around, computing $\\{\\hat{u}_k\\}_{k=0}^{N-1}$ from the\n",
    "*known* $\\{u_N(x_k)\\}_{k=0}^{N-1}$ corresponds to a *forward* transform.\n",
    "The forward transform is computed using a projection of $u$\n",
    "into $V_N$, which is formulated as: find $u_N \\in V_N$ such that"
   ]
  },
  {
   "cell_type": "markdown",
   "id": "318a3464",
   "metadata": {
    "editable": true
   },
   "source": [
    "<!-- Equation labels as ordinary links -->\n",
    "<a id=\"eq:projection\"></a>\n",
    "\n",
    "$$\n",
    "\\label{eq:projection} \\tag{3}\n",
    "(u_N-u, v)_{\\omega^{\\sigma}} = 0, \\quad \\forall \\, v \\in V_{N},\n",
    "$$"
   ]
  },
  {
   "cell_type": "markdown",
   "id": "2a79faeb",
   "metadata": {
    "editable": true
   },
   "source": [
    "where $(a, b)_{\\omega^{\\sigma}} = \\int_{I} a b \\omega^{\\sigma} dx$ is the\n",
    "inner product in $L^2_{\\omega^{\\sigma}}(I)$, and $\\omega^{\\sigma}(x)=(1-x^2)^{\\sigma}$  is a weight function.\n",
    "For Chebyshev polynomials the weight function is usually $\\omega^{-1/2}=(1-x^2)^{-1/2}$.\n",
    "Inserting for $u_N$ and $v=\\phi_k$, we get"
   ]
  },
  {
   "cell_type": "markdown",
   "id": "2893abba",
   "metadata": {
    "editable": true
   },
   "source": [
    "<!-- Equation labels as ordinary links -->\n",
    "<a id=\"_auto1\"></a>\n",
    "\n",
    "$$\n",
    "\\begin{equation}\n",
    "\\sum_{j=0}^{N-1}(\\phi_j, \\phi_k)_{\\omega^{\\sigma}} \\hat{u}_{j} = (u, \\phi_k)_{\\omega^{\\sigma}}, \n",
    "\\label{_auto1} \\tag{4}\n",
    "\\end{equation}\n",
    "$$"
   ]
  },
  {
   "cell_type": "markdown",
   "id": "3e41ce1b",
   "metadata": {
    "editable": true
   },
   "source": [
    "<!-- Equation labels as ordinary links -->\n",
    "<a id=\"_auto2\"></a>\n",
    "\n",
    "$$\n",
    "\\begin{equation}  \n",
    "B \\boldsymbol{\\hat{u}} = \\boldsymbol{\\tilde{u}}, \n",
    "\\label{_auto2} \\tag{5}\n",
    "\\end{equation}\n",
    "$$"
   ]
  },
  {
   "cell_type": "markdown",
   "id": "117382bf",
   "metadata": {
    "editable": true
   },
   "source": [
    "<!-- Equation labels as ordinary links -->\n",
    "<a id=\"_auto3\"></a>\n",
    "\n",
    "$$\n",
    "\\begin{equation}  \n",
    "\\boldsymbol{\\hat{u}} = B^{-1} \\boldsymbol{\\tilde{u}},\n",
    "\\label{_auto3} \\tag{6}\n",
    "\\end{equation}\n",
    "$$"
   ]
  },
  {
   "cell_type": "markdown",
   "id": "c04ea2a5",
   "metadata": {
    "editable": true
   },
   "source": [
    "where\n",
    "$\\boldsymbol{\\tilde{u}} = \\{(u, \\phi_k)_{\\omega^{\\sigma}}\\}_{k=0}^{N-1}$ and the mass matrix\n",
    "$B = (b_{kj})_{k,j=0}^{N-1}$, with $b_{kj}=(\\phi_j, \\phi_k)_{\\omega^{\\sigma}}$.\n",
    "\n",
    "Note that the forward transform requires both an inner product\n",
    "$\\boldsymbol{\\tilde{u}}$ and a matrix inversion. By a *fast* forward transform\n",
    "we mean a transform that can be computed in $\\mathcal{O}(N \\log N)$\n",
    "operations. If $B$ is a diagonal or banded matrix, the matrix inversion costs $\\mathcal{O}(N)$,\n",
    "and the limiting factor is then the inner product. Like for the backward transform,\n",
    "the inner product, computed with quadrature, is a double sum"
   ]
  },
  {
   "cell_type": "markdown",
   "id": "d8d4b07d",
   "metadata": {
    "editable": true
   },
   "source": [
    "$$\n",
    "(u, \\phi_k)_{\\omega^{\\sigma}} = \\sum_{j=0}^{N-1} u(x_j) \\phi_k(x_j) \\omega_j, \\quad \\forall \\, k = 0, 1, \\ldots, N-1,\n",
    "$$"
   ]
  },
  {
   "cell_type": "markdown",
   "id": "92c83faa",
   "metadata": {
    "editable": true
   },
   "source": [
    "where $\\{\\omega_j\\}_{j=0}^{N-1}$ are the quadrature weights.\n",
    "\n",
    "A naive implementation of the inner product\n",
    "takes $\\mathcal{O}(N^2)$ operations. However,\n",
    "for Chebyshev polynomials we can compute the double loop with\n",
    "fast $\\mathcal{O}(N \\log N)$ discrete sine or cosine transforms,\n",
    "that are versions of the FFT. To see this, assume that the basis functions are $\\phi_k(x) =T_k(x)$, where\n",
    "$T_k(x)$ is the $k$'th Chebyshev polynomial of the first kind,\n",
    "and the weight function is $\\omega^{-1/2}$.\n",
    "We then choose Gauss-Chebyshev points $x_j = \\cos(\\theta_j)$,\n",
    "where $\\theta_j=\\pi (2j+1)/(2N)$, and the associated quadrature weights\n",
    "that are constant $\\omega_j = \\pi/N$. The Chebyshev polynomials evaluated\n",
    "on the quadrature points can now\n",
    "alternatively be written as $T_k(x_j) = \\cos(k \\theta_j)$,\n",
    "and the inner product becomes"
   ]
  },
  {
   "cell_type": "markdown",
   "id": "b6a84a81",
   "metadata": {
    "editable": true
   },
   "source": [
    "$$\n",
    "(u, T_k)_{\\omega^{-1/2}} = \\sum_{j=0}^{N-1} u(x_j) \\cos(k \\theta_j) \\pi/N, \\quad \\forall \\, k = 0, 1, \\ldots, N-1.\n",
    "$$"
   ]
  },
  {
   "cell_type": "markdown",
   "id": "7620883f",
   "metadata": {
    "editable": true
   },
   "source": [
    "From the [FFTW documentation](http://www.fftw.org/fftw3_doc/1d-Real_002deven-DFTs-_0028DCTs_0029.html#g_t1d-Real_002deven-DFTs-_0028DCTs_0029)\n",
    "we recognise this sum as half a DCT-II (the FFTW DCT-II has a factor\n",
    "2 in front of the sum) of $\\boldsymbol{u}\\pi/N$. Hence, we can compute the inner product as"
   ]
  },
  {
   "cell_type": "markdown",
   "id": "a705bbdf",
   "metadata": {
    "editable": true
   },
   "source": [
    "$$\n",
    "(u, T_k)_{\\omega^{-1/2}} = \\frac{\\pi}{2N} \\text{dct}^{II}(\\boldsymbol{u})_k, \\quad k = 0, 1, \\ldots, N-1.\n",
    "$$"
   ]
  },
  {
   "cell_type": "markdown",
   "id": "6119e325",
   "metadata": {
    "editable": true
   },
   "source": [
    "## Dirichlet bases\n",
    "\n",
    "The basis function $T_k$ satisfies $T_k(\\pm 1) = (\\pm 1)^k$ at the\n",
    "boundaries of the domain, and the space $S_N=\\text{span}\\{T_k\\}_{k=0}^{N-1}$,\n",
    "of dimension $N$,\n",
    "is thus not associated with any specific set of boundary conditions.\n",
    "A functionspace for homogeneous Dirichlet boundary conditions is\n",
    "given as $V_N=\\{v\\in S_N | v(\\pm 1)=0 \\}$. Because of the two restrictions\n",
    "the space has dimension $N-2$.\n",
    "\n",
    "There are several different choices of basis functions\n",
    "for $V_N$.\n",
    "The most interesting we name $\\phi_k^n$, for integer $n$, and\n",
    "define them as"
   ]
  },
  {
   "cell_type": "markdown",
   "id": "06461d7a",
   "metadata": {
    "editable": true
   },
   "source": [
    "<!-- Equation labels as ordinary links -->\n",
    "<a id=\"_auto4\"></a>\n",
    "\n",
    "$$\n",
    "\\begin{equation}\n",
    "\\phi^n_k = \\omega T^{(n)}_{k+n} = (1-x^2) T^{(n)}_{k+n},\n",
    "\\label{_auto4} \\tag{7}\n",
    "\\end{equation}\n",
    "$$"
   ]
  },
  {
   "cell_type": "markdown",
   "id": "cc58e4e2",
   "metadata": {
    "editable": true
   },
   "source": [
    "where $T^{(n)}_{k+n}$ is the $n$'th derivative of $T_{k+n}$. We have\n",
    "for any integer $n$ that $V_N=\\text{span}\\{\\phi^n_k\\}_{k=0}^{N-3}$, and an\n",
    "expansion in any of these basis functions is"
   ]
  },
  {
   "cell_type": "markdown",
   "id": "332487b3",
   "metadata": {
    "editable": true
   },
   "source": [
    "<!-- Equation labels as ordinary links -->\n",
    "<a id=\"eq:uNgeneric\"></a>\n",
    "\n",
    "$$\n",
    "\\begin{equation}\n",
    "\\label{eq:uNgeneric} \\tag{8}\n",
    "    u_N = \\sum_{k=0}^{N-3} \\hat{u}^n_k \\phi^n_k.\n",
    "\\end{equation}\n",
    "$$"
   ]
  },
  {
   "cell_type": "markdown",
   "id": "261f6567",
   "metadata": {
    "editable": true
   },
   "source": [
    "We can find the sequence $\\{\\hat{u}^n_{k}\\}_{k=0}^{N-3}$ for any $n$\n",
    "using a projection into the space $V_N$. The projection is computed\n",
    "by using Eq. ([8](#eq:uNgeneric)) and $v=\\phi^n_k$ in\n",
    "Eq. ([3](#eq:projection))"
   ]
  },
  {
   "cell_type": "markdown",
   "id": "2cdf9eef",
   "metadata": {
    "editable": true
   },
   "source": [
    "<!-- Equation labels as ordinary links -->\n",
    "<a id=\"eq:projortho\"></a>\n",
    "\n",
    "$$\n",
    "\\begin{equation}\n",
    "\\label{eq:projortho} \\tag{9}\n",
    "   \\sum_{j=0}^{N-3} ( T^{(n)}_{j+n},  T^{(n)}_{k+n})_{\\omega^{\\sigma+2}} \\hat{u}^{n}_j = (u, T^{(n)}_{k+n})_{\\omega^{\\sigma+1}}.\n",
    "\\end{equation}\n",
    "$$"
   ]
  },
  {
   "cell_type": "markdown",
   "id": "31f53f39",
   "metadata": {
    "editable": true
   },
   "source": [
    "Now how can this projection be computed as efficiently as possible?\n",
    "The Chebyshev polynomials and their derivatives are known to satisfy\n",
    "the following orthogonality relation"
   ]
  },
  {
   "cell_type": "markdown",
   "id": "926b452e",
   "metadata": {
    "editable": true
   },
   "source": [
    "<!-- Equation labels as ordinary links -->\n",
    "<a id=\"eq:orthon\"></a>\n",
    "\n",
    "$$\n",
    "\\begin{equation}\n",
    "\\label{eq:orthon} \\tag{10}\n",
    "  (T^{(n)}_j, T^{(n)}_k)_{\\omega^{n-1/2}} = \\alpha^{n}_k \\delta_{kj}, \\quad \\text{for}\\, n \\ge 0,\n",
    "\\end{equation}\n",
    "$$"
   ]
  },
  {
   "cell_type": "markdown",
   "id": "b5118d93",
   "metadata": {
    "editable": true
   },
   "source": [
    "where $\\delta_{kj}$ is the Kronecker delta function and"
   ]
  },
  {
   "cell_type": "markdown",
   "id": "210d9874",
   "metadata": {
    "editable": true
   },
   "source": [
    "<!-- Equation labels as ordinary links -->\n",
    "<a id=\"_auto5\"></a>\n",
    "\n",
    "$$\n",
    "\\begin{equation}\n",
    "    \\alpha^n_k = \\frac{c_{k+n}\\pi k (k+n-1)!}{2(k-n)!},\n",
    "\\label{_auto5} \\tag{11}\n",
    "\\end{equation}\n",
    "$$"
   ]
  },
  {
   "cell_type": "markdown",
   "id": "0cfa71ad",
   "metadata": {
    "editable": true
   },
   "source": [
    "where $c_0=2$ and $c_k=1$ for $k>0$. This can be used in\n",
    "computing ([9](#eq:projortho)), because we just\n",
    "need to choose the $\\sigma$ that leads to a diagonal mass matrix.\n",
    "For $n=(0, 1, 2)$ this will be $\\sigma=-5/2, -3/2$ and $-1/2$,\n",
    "respectively. So, choosing $\\sigma=-5/2, -3/2$ and $-1/2$\n",
    "for $n=0, 1$ and 2, respectively, will lead to a diagonal\n",
    "mass matrix $( T^{(n)}_{j+n},  T^{(n)}_{k+n})_{\\omega^{\\sigma+2}}$.\n",
    "Using these $\\sigma$'s we can invert the diagonal mass matrices\n",
    "in Eq. ([9](#eq:projortho)) to get"
   ]
  },
  {
   "cell_type": "markdown",
   "id": "a6f3c873",
   "metadata": {
    "editable": true
   },
   "source": [
    "<!-- Equation labels as ordinary links -->\n",
    "<a id=\"_auto6\"></a>\n",
    "\n",
    "$$\n",
    "\\begin{equation}\n",
    "    \\hat{u}^n_k = \\frac{1}{\\alpha^n_{k+n}}(u, T^{(n)}_{k+n})_{\\omega^{\\sigma+1}}, \\quad k=0, 1, \\ldots, N-3, \\text{ for } n \\in (0, 1, 2).\n",
    "\\label{_auto6} \\tag{12}\n",
    "\\end{equation}\n",
    "$$"
   ]
  },
  {
   "cell_type": "markdown",
   "id": "0689af09",
   "metadata": {
    "editable": true
   },
   "source": [
    "Using now quadrature, $1-x^2_i=\\sin^2 \\theta_i$ and the\n",
    "fast transforms $(u, T_k)_{\\omega^{-1/2}} = \\pi/2/N \\text{dct}^{II}(\\boldsymbol{u})_k$\n",
    "and  $(u, U_k)_{\\omega^{-1/2}} = \\pi/2/N \\text{dst}^{II}(\\boldsymbol{u}/\\sin \\boldsymbol{\\theta})_k$,\n",
    "where $\\boldsymbol{u}/\\sin \\boldsymbol{\\theta}$ implies element-wise division,\n",
    "we get"
   ]
  },
  {
   "cell_type": "markdown",
   "id": "d935d85e",
   "metadata": {
    "editable": true
   },
   "source": [
    "<!-- Equation labels as ordinary links -->\n",
    "<a id=\"eq:fast1\"></a>\n",
    "\n",
    "$$\n",
    "\\begin{equation}\n",
    "    \\hat{u}^0_k = \\frac{1}{c_k N} \\text{dct}^{II}(\\boldsymbol{u}/\\sin^2 \\boldsymbol{\\theta})_k, \\quad k = 0, 1, \\ldots, N-3, \\label{eq:fast1} \\tag{13} \n",
    "\\end{equation}\n",
    "$$"
   ]
  },
  {
   "cell_type": "markdown",
   "id": "eb0ab223",
   "metadata": {
    "editable": true
   },
   "source": [
    "<!-- Equation labels as ordinary links -->\n",
    "<a id=\"eq:fast2\"></a>\n",
    "\n",
    "$$\n",
    "\\begin{equation}  \n",
    "    \\hat{u}^1_k = \\frac{1}{(k+1)N}\\text{dst}^{II}(\\boldsymbol{u}/\\sin \\boldsymbol{\\theta})_k, \\quad k = 0, 1, \\ldots, N-3, \\label{eq:fast2} \\tag{14}\n",
    "\\end{equation}\n",
    "$$"
   ]
  },
  {
   "cell_type": "markdown",
   "id": "8b67ddd9",
   "metadata": {
    "editable": true
   },
   "source": [
    "<!-- Equation labels as ordinary links -->\n",
    "<a id=\"eq:fast3\"></a>\n",
    "\n",
    "$$\n",
    "\\begin{equation}  \n",
    "    \\hat{u}^2_k = \\frac{1}{2(k+2)}\\left(\\hat{u}^1_k - \\hat{u}^1_{k+2} \\right), \\quad k=0, 1, \\ldots, N-3. \\label{eq:fast3} \\tag{15}\n",
    "\\end{equation}\n",
    "$$"
   ]
  },
  {
   "cell_type": "markdown",
   "id": "33154122",
   "metadata": {
    "editable": true
   },
   "source": [
    "The last one requires some work, using the identity\n",
    "$\\phi^2_k=(1-x^2)T''_{k+2}=0.5(k+2)(k+3)(U_k - (k+1)/(k+3)U_{k+2})$."
   ]
  },
  {
   "cell_type": "markdown",
   "id": "a575b640",
   "metadata": {
    "editable": true
   },
   "source": [
    "## Verification\n",
    "\n",
    "To validate all the fast methods we compute the projection first regularly\n",
    "using the Shenfun function [project](https://github.com/spectralDNS/shenfun/blob/master/shenfun/forms/project.py),\n",
    "which is using $\\sigma=-1/2$, and then the fast methods above. The two\n",
    "projections should be the same, but they will not give identical results.\n",
    "In general, the fast transforms above should be both faster and more\n",
    "accurate, because they only take a discrete transform and merely a diagonal\n",
    "mass matrix inversion.\n",
    "\n",
    "We start the implementation by importing necessary modules from Shenfun\n",
    "and mpi4py-fft"
   ]
  },
  {
   "cell_type": "code",
   "execution_count": null,
   "id": "e70535bf",
   "metadata": {
    "editable": true,
    "tags": [
     "thebe-init"
    ]
   },
   "outputs": [],
   "source": [
    "from shenfun import *\n",
    "from mpi4py_fft import fftw"
   ]
  },
  {
   "cell_type": "markdown",
   "id": "f06826c1",
   "metadata": {
    "editable": true
   },
   "source": [
    "The three bases $\\{\\phi^n_k\\}_{k=0}^{N-3}$ are implemented\n",
    "with slightly different scaling in shenfun.\n",
    "The first, with $n=0$, is obtained with no special scaling using"
   ]
  },
  {
   "cell_type": "code",
   "execution_count": null,
   "id": "054494d1",
   "metadata": {
    "editable": true,
    "tags": [
     "thebe-init"
    ]
   },
   "outputs": [],
   "source": [
    "N = 20\n",
    "D0 = FunctionSpace(N, 'C', bc=(0, 0), basis='Heinrichs')"
   ]
  },
  {
   "cell_type": "markdown",
   "id": "890663bc",
   "metadata": {
    "editable": true
   },
   "source": [
    "The second basis is implemented in Shenfun as $\\phi_k = \\frac{2}{k+1}\\phi^1_k$,\n",
    "which can be simplified as"
   ]
  },
  {
   "cell_type": "markdown",
   "id": "5537e262",
   "metadata": {
    "editable": true
   },
   "source": [
    "<!-- Equation labels as ordinary links -->\n",
    "<a id=\"eq:ft:shen\"></a>\n",
    "\n",
    "$$\n",
    "\\label{eq:ft:shen} \\tag{16}\n",
    "\\phi_k(x) = T_k-T_{k+2}, \\quad k=0,1, \\ldots, N-3,\n",
    "$$"
   ]
  },
  {
   "cell_type": "markdown",
   "id": "839b6ce3",
   "metadata": {
    "editable": true
   },
   "source": [
    "and implemented as"
   ]
  },
  {
   "cell_type": "code",
   "execution_count": null,
   "id": "be48a74f",
   "metadata": {
    "editable": true,
    "tags": [
     "thebe-init"
    ]
   },
   "outputs": [],
   "source": [
    "D1 = FunctionSpace(N, 'C', bc=(0, 0)) # this is the default basis"
   ]
  },
  {
   "cell_type": "markdown",
   "id": "6d0f5705",
   "metadata": {
    "editable": true
   },
   "source": [
    "Because of the scaling the expansion coefficients for $\\phi_k$  are\n",
    "$\\hat{u}^{\\phi}_k=\\frac{k+1}{2}\\hat{u}^1_k$. Using ([14](#eq:fast2)) we get"
   ]
  },
  {
   "cell_type": "markdown",
   "id": "2f7145ec",
   "metadata": {
    "editable": true
   },
   "source": [
    "$$\n",
    "\\hat{u}^{\\phi}_k = \\frac{1}{2N}\\text{dst}^{II}(\\boldsymbol{u}/\\sin \\boldsymbol{\\theta})_k, \\quad k = 0, 1, \\ldots, N-3.\n",
    "$$"
   ]
  },
  {
   "cell_type": "markdown",
   "id": "1039ea10",
   "metadata": {
    "editable": true
   },
   "source": [
    "The third basis is also scaled and implemented in Shenfun as $\\psi_k = \\frac{2}{(k+3)(k+2)}\\phi^2_k$,\n",
    "which can be simplified using Chebyshev polynomials of the second\n",
    "kind $U_k$"
   ]
  },
  {
   "cell_type": "markdown",
   "id": "0d30d448",
   "metadata": {
    "editable": true
   },
   "source": [
    "<!-- Equation labels as ordinary links -->\n",
    "<a id=\"eq:ft:dirichletU\"></a>\n",
    "\n",
    "$$\n",
    "\\label{eq:ft:dirichletU} \\tag{17}\n",
    "\\psi_k(x) = U_k-\\frac{k+1}{k+3}U_{k+2}, \\quad k=0,1, \\ldots, N-3.\n",
    "$$"
   ]
  },
  {
   "cell_type": "markdown",
   "id": "2ddae654",
   "metadata": {
    "editable": true
   },
   "source": [
    "We get the basis using"
   ]
  },
  {
   "cell_type": "code",
   "execution_count": null,
   "id": "36a2dad9",
   "metadata": {
    "editable": true,
    "tags": [
     "thebe-init"
    ]
   },
   "outputs": [],
   "source": [
    "D2 = FunctionSpace(N, 'U', bc=(0, 0), quad='GC') # quad='GU' is default for U"
   ]
  },
  {
   "cell_type": "markdown",
   "id": "ae4be673",
   "metadata": {
    "editable": true
   },
   "source": [
    "and the expansion coefficients are found as\n",
    "$\\hat{u}^{\\psi}_k = \\frac{(k+3)(k+2)}{2} \\hat{u}^2_k$.\n",
    "\n",
    "For verification of all the fast transforms we first create a vector\n",
    "consisting of random expansion coefficients, and then transform\n",
    "it backwards to physical space"
   ]
  },
  {
   "cell_type": "code",
   "execution_count": null,
   "id": "dcb53b1d",
   "metadata": {
    "editable": true,
    "tags": [
     "thebe-init"
    ]
   },
   "outputs": [],
   "source": [
    "f = Function(D0, buffer=np.random.random(N))\n",
    "f[-2:] = 0\n",
    "fb = f.backward().copy()"
   ]
  },
  {
   "cell_type": "markdown",
   "id": "fa9b80db",
   "metadata": {
    "editable": true
   },
   "source": [
    "Next, we perform the regular projections into the three spaces\n",
    "`D0`, `D1` and `D2`, using the default inner product\n",
    "in $L^2_{\\omega^{-1/2}}$ for `D0` and `D1`, whereas $L^2_{\\omega^{1/2}}$\n",
    "is used for `D2`. Now `u0`, `u1` and `u2` will be the\n",
    "three solution vectors\n",
    "$\\boldsymbol{\\hat{u}}^{\\varphi}$, $\\boldsymbol{\\hat{u}}^{\\phi}$\n",
    "and $\\boldsymbol{\\hat{u}}^{\\psi}$, respectively."
   ]
  },
  {
   "cell_type": "code",
   "execution_count": null,
   "id": "cf607fe6",
   "metadata": {
    "editable": true,
    "tags": [
     "thebe-init"
    ]
   },
   "outputs": [],
   "source": [
    "u0 = project(fb, D0)\n",
    "u1 = project(fb, D1)\n",
    "u2 = project(fb, D2)"
   ]
  },
  {
   "cell_type": "markdown",
   "id": "454d59ec",
   "metadata": {
    "editable": true
   },
   "source": [
    "Now compute the fast transforms and assert that they are equal to `u0`, `u1` and `u2`"
   ]
  },
  {
   "cell_type": "code",
   "execution_count": null,
   "id": "e96b2a1a",
   "metadata": {
    "editable": true,
    "tags": [
     "thebe-init"
    ]
   },
   "outputs": [],
   "source": [
    "theta = np.pi*(2*np.arange(N)+1)/(2*N)\n",
    "# Test for n=0\n",
    "dct = fftw.dctn(fb.copy(), type=2)\n",
    "ck = np.ones(N); ck[0] = 2\n",
    "d0 = dct(fb/np.sin(theta)**2)/(ck*N)\n",
    "assert np.linalg.norm(d0-u0) < 1e-8, np.linalg.norm(d0-f0)\n",
    "# Test for n=1\n",
    "dst = fftw.dstn(fb.copy(), type=2)\n",
    "d1 = dst(fb/np.sin(theta))/(2*N)\n",
    "assert np.linalg.norm(d1-u1) < 1e-8\n",
    "# Test for n=2\n",
    "ut = d1\n",
    "k = np.arange(N)\n",
    "d2 = Function(D2)\n",
    "d2[:-2] = (k[:-2]+3)/2/(k[:-2]+1)*ut[:-2]\n",
    "d2[:-2] = d2[:-2] - 0.5*ut[2:]\n",
    "assert np.linalg.norm(d2-u2) < 1e-8"
   ]
  },
  {
   "cell_type": "markdown",
   "id": "1ea8cce8",
   "metadata": {
    "editable": true
   },
   "source": [
    "That's it! If you make it to here with no errors, then the three tests pass, and the fast transforms are equal to the slow ones, at least within given precision.\n",
    "\n",
    "Let's try some timings"
   ]
  },
  {
   "cell_type": "code",
   "execution_count": null,
   "id": "b60b16e3",
   "metadata": {
    "editable": true,
    "tags": [
     "thebe-init"
    ]
   },
   "outputs": [],
   "source": [
    "%timeit project(fb, D1)"
   ]
  },
  {
   "cell_type": "code",
   "execution_count": null,
   "id": "cdeffde3",
   "metadata": {
    "editable": true,
    "tags": [
     "thebe-init"
    ]
   },
   "outputs": [],
   "source": [
    "%timeit dst(fb/np.sin(theta))/(2*N)"
   ]
  },
  {
   "cell_type": "markdown",
   "id": "45d7b829",
   "metadata": {
    "editable": true
   },
   "source": [
    "We can precompute the sine term, because it does not change"
   ]
  },
  {
   "cell_type": "code",
   "execution_count": null,
   "id": "91bfc6ac",
   "metadata": {
    "editable": true,
    "tags": [
     "thebe-init"
    ]
   },
   "outputs": [],
   "source": [
    "dd = np.sin(theta)*2*N\n",
    "%timeit dst(fb/dd)"
   ]
  },
  {
   "cell_type": "markdown",
   "id": "fb315a8a",
   "metadata": {
    "editable": true
   },
   "source": [
    "The other two transforms are approximately the same speed."
   ]
  },
  {
   "cell_type": "code",
   "execution_count": null,
   "id": "bf711630",
   "metadata": {
    "editable": true,
    "tags": [
     "thebe-init"
    ]
   },
   "outputs": [],
   "source": [
    "%timeit dct(fb/np.sin(theta)**2)/(ck*N)"
   ]
  },
  {
   "cell_type": "markdown",
   "id": "aeee35cc",
   "metadata": {
    "editable": true
   },
   "source": [
    "<!-- ======= Bibliography ======= -->"
   ]
  }
 ],
 "metadata": {
  "kernelspec": {
   "display_name": "Python 3",
   "language": "python",
   "name": "python3"
  },
  "language_info": {
   "file_extension": ".py",
   "mimetype": "text/x-python",
   "name": "python",
   "nbconvert_exporter": "python",
   "pygments_lexer": "ipython3",
   "version": "3.8.5"
  }
 },
 "nbformat": 4,
 "nbformat_minor": 5
}
