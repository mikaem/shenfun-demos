{
 "cells": [
  {
   "cell_type": "markdown",
   "metadata": {},
   "source": [
    "<!-- dom:TITLE: Demo - Some fast transforms -->\n",
    "# Demo - Some fast transforms\n",
    "<!-- dom:AUTHOR: Mikael Mortensen Email:mikaem@math.uio.no at Department of Mathematics, University of Oslo. -->\n",
    "<!-- Author: -->  \n",
    "**Mikael Mortensen** (email: `mikaem@math.uio.no`), Department of Mathematics, University of Oslo.\n",
    "\n",
    "Date: **Jun 18, 2021**\n",
    "\n",
    "Copyright 2021, Mikael Mortensen. Released under CC Attribution 4.0 license\n",
    "\n",
    "**Summary.** This demo shows how to compute fast forward transforms for three\n",
    "different Dirichlet bases.\n",
    "\n",
    "\n",
    "\n",
    "\n",
    "\n",
    "\n",
    "\n",
    "\n",
    "\n",
    "\n",
    "\n",
    "\n",
    "## The fast transforms\n",
    "\n",
    "We will consider the fast forward transforms for the three\n",
    "Chebyshev Dirichlet basis functions"
   ]
  },
  {
   "cell_type": "markdown",
   "metadata": {},
   "source": [
    "<!-- Equation labels as ordinary links -->\n",
    "<a id=\"eq:shen\"></a>\n",
    "\n",
    "$$\n",
    "\\label{eq:shen} \\tag{1}\n",
    "\\phi_k = T_k-T_{k+2}, \\quad k=0,1, \\ldots, N-3,\n",
    "$$"
   ]
  },
  {
   "cell_type": "markdown",
   "metadata": {},
   "source": [
    "<!-- Equation labels as ordinary links -->\n",
    "<a id=\"eq:heinrichs\"></a>\n",
    "\n",
    "$$\n",
    "\\label{eq:heinrichs} \\tag{2}\n",
    "\\varphi_k = (1-x^2)T_k, \\quad k=0,1, \\ldots, N-3,\n",
    "$$"
   ]
  },
  {
   "cell_type": "markdown",
   "metadata": {},
   "source": [
    "<!-- Equation labels as ordinary links -->\n",
    "<a id=\"eq:dirichletU\"></a>\n",
    "\n",
    "$$\n",
    "\\label{eq:dirichletU} \\tag{3}\n",
    "\\psi_k = U_k-\\frac{k+1}{k+3}U_{k+2}, \\quad k=0,1, \\ldots, N-3,\n",
    "$$"
   ]
  },
  {
   "cell_type": "markdown",
   "metadata": {},
   "source": [
    "That is, we test fast methods for projection of a function\n",
    "$u(x)$ into spaces $V_{\\phi} = \\text{span}\\{\\phi_k\\}_{k=0}^{N-3}$,\n",
    "$V_{\\varphi} = \\text{span}\\{\\varphi_k\\}_{k=0}^{N-3}$ and\n",
    "$V_{\\psi} = \\text{span}\\{\\psi_k\\}_{k=0}^{N-3}$.\n",
    "For each space the projection is:\n",
    "find $u_N \\in V_{\\alpha}$ such that"
   ]
  },
  {
   "cell_type": "markdown",
   "metadata": {},
   "source": [
    "<!-- Equation labels as ordinary links -->\n",
    "<a id=\"eq:projection\"></a>\n",
    "\n",
    "$$\n",
    "\\label{eq:projection} \\tag{4}\n",
    "(u_N-u, v)_{\\omega} = 0, \\quad \\forall \\, v \\in V_{\\alpha},\n",
    "$$"
   ]
  },
  {
   "cell_type": "markdown",
   "metadata": {},
   "source": [
    "where $\\alpha \\in (\\phi, \\varphi, \\psi)$. The solutions we are after are thus"
   ]
  },
  {
   "cell_type": "markdown",
   "metadata": {},
   "source": [
    "<!-- Equation labels as ordinary links -->\n",
    "<a id=\"_auto1\"></a>\n",
    "\n",
    "$$\n",
    "\\begin{equation}\n",
    "u(x) = \\sum_{k=0}^{N-3} \\hat{u}_k^{\\alpha} \\alpha_k(x),\n",
    "\\label{_auto1} \\tag{5}\n",
    "\\end{equation}\n",
    "$$"
   ]
  },
  {
   "cell_type": "markdown",
   "metadata": {},
   "source": [
    "where $\\alpha_k$ can be any of the three basis functions $(\\phi_k, \\varphi_k, \\psi_k)$.\n",
    "\n",
    "A direct method to solve Eq. ([4](#eq:projection)) is to insert for\n",
    "$u_N = \\sum_{j=0}^{N-3}\\hat{u}_j^{\\alpha} \\alpha_j$ and $v = \\alpha_k$ to obtain"
   ]
  },
  {
   "cell_type": "markdown",
   "metadata": {},
   "source": [
    "<!-- Equation labels as ordinary links -->\n",
    "<a id=\"eq:genericproj\"></a>\n",
    "\n",
    "$$\n",
    "\\begin{equation}\n",
    "\\label{eq:genericproj} \\tag{6}\n",
    "(\\alpha_j, \\alpha_k)_{\\omega} \\hat{u}_j^{\\alpha} = (u, \\alpha_k)_{\\omega},\n",
    "\\end{equation}\n",
    "$$"
   ]
  },
  {
   "cell_type": "markdown",
   "metadata": {},
   "source": [
    "which on algebraic form is"
   ]
  },
  {
   "cell_type": "markdown",
   "metadata": {},
   "source": [
    "$$\n",
    "\\begin{align*}\n",
    "B \\hat{\\boldsymbol{u}} &= \\tilde{\\boldsymbol{u}}, \\\\ \n",
    "\\hat{\\boldsymbol{u}} &= B^{-1} \\tilde{\\boldsymbol{u}},\n",
    "\\end{align*}\n",
    "$$"
   ]
  },
  {
   "cell_type": "markdown",
   "metadata": {},
   "source": [
    "where the mass matrix $B \\in \\mathbb{R}^{N-2 \\times N-2} = \\{(\\alpha_j, \\alpha_k)_{\\omega}\\}_{k,j=0}^{N-3}$, $\\tilde{\\boldsymbol{u}} = \\{(u, \\alpha_k)_{\\omega}\\}_{k=0}^{N-3}$ and $\\boldsymbol{u} = \\{\\hat{u}_k^{\\alpha}\\}_{k=0}^{N-3}$.\n",
    "A fast method is found if $B$ is diagonal, so that the inversion $B^{-1}$ is trivial. In this case the projection becomes orthogonal.\n",
    "It can be shown that the three bases are orthogonal using weights $\\omega = (1-x^2)^{\\sigma}$,\n",
    "where $\\sigma = -3/2, -5/2$ and $-1/2$, for ([1](#eq:shen)), ([2](#eq:heinrichs)) and ([3](#eq:dirichletU)), respectively.\n",
    "\n",
    "In the following all methods will make use of Gauss-Chebyshev\n",
    "quadrature with Gauss-Chebyshev collocation points\n",
    "$\\boldsymbol{x}=\\{x_i\\}_{i=0}^{N-1}$, where\n",
    "$x_i = \\cos(\\theta_i)$, $\\theta_i=\\pi (2i+1)/(2N)$ and\n",
    "$\\boldsymbol{\\theta}=\\{\\theta_i\\}_{i=0}^{N-1}$. The quadrature weights\n",
    "are then constant $w_i = \\pi/N$ for $i=0,1, \\ldots, N-1$.\n",
    "\n",
    "\n",
    "## Fast transform for $T_k-T_{k+2}$\n",
    "\n",
    "The basis function $\\phi_k=T_k-T_{k+2}$ can be written as $\\phi_k=2(1-x^2)U_k$ because of the\n",
    "recurrence formulas $T_{k+2}=xT_{k+1}-(1-x^2)U_{k}$ and $T_{k+2}=2xT_{k+1}-T_k$.\n",
    "Using $\\phi_k=2(1-x^2)U_k$ for both test and trial functions in ([6](#eq:genericproj)),\n",
    "we get"
   ]
  },
  {
   "cell_type": "markdown",
   "metadata": {},
   "source": [
    "<!-- Equation labels as ordinary links -->\n",
    "<a id=\"eq:projectionSD3\"></a>\n",
    "\n",
    "$$\n",
    "\\begin{equation}\n",
    "\\label{eq:projectionSD3} \\tag{7}\n",
    "    \\int_I 2U_jU_k \\omega^{1/2}dx \\hat{u}_j^{\\phi} = \\int_I U_k u \\omega^{-1/2}dx,\n",
    "\\end{equation}\n",
    "$$"
   ]
  },
  {
   "cell_type": "markdown",
   "metadata": {},
   "source": [
    "where $I=[-1, 1]$ and the integral on the left equals $\\pi\\delta_{kj}$.\n",
    "The integral on the right is solved through Gauss-Chebyshev quadrature\n",
    "using the identity $U_k(\\cos \\theta_i) = \\sin((k+1)\\theta_i)/\\sin \\theta_i$,\n",
    "which reduces the problem to one single discrete sine transform of type 2.\n",
    "We get for the integral on the right"
   ]
  },
  {
   "cell_type": "markdown",
   "metadata": {},
   "source": [
    "<!-- Equation labels as ordinary links -->\n",
    "<a id=\"_auto2\"></a>\n",
    "\n",
    "$$\n",
    "\\begin{equation}\n",
    "\\int_I U_k u \\omega^{-1/2}dx \\approx \\sum_{i=0}^{N-1} u(x_i) \\sin((k+1)\\theta_i)/\\sin \\theta_i,\n",
    "\\label{_auto2} \\tag{8}\n",
    "\\end{equation}\n",
    "$$"
   ]
  },
  {
   "cell_type": "markdown",
   "metadata": {},
   "source": [
    "which can be computed using the discrete sine transform (DST) of type 2,\n",
    "see [FFTW](http://www.fftw.org/fftw3_doc/1d-Real_002dodd-DFTs-_0028DSTs_0029.html).\n",
    "Inserting this DST in ([7](#eq:projectionSD3)) we get the final expression\n",
    "for the fast forward transform"
   ]
  },
  {
   "cell_type": "markdown",
   "metadata": {},
   "source": [
    "<!-- Equation labels as ordinary links -->\n",
    "<a id=\"eq:proju0\"></a>\n",
    "\n",
    "$$\n",
    "\\begin{equation}\n",
    "\\label{eq:proju0} \\tag{9}\n",
    "    \\hat{u}_k^{\\phi} = \\frac{1}{2N} \\text{dst}^{II}(u(\\boldsymbol{x})/\\sin \\boldsymbol{\\theta})_k, \\quad k=0, 1, \\ldots, N-3.\n",
    "\\end{equation}\n",
    "$$"
   ]
  },
  {
   "cell_type": "markdown",
   "metadata": {},
   "source": [
    "Note that we only use the first $N-2$ components of the sine transform, but the two\n",
    "highest frequencies are identically 0, so we would not make an error or do anything differently by\n",
    "using the entire array. Also note that the division of the two arrays $u(\\boldsymbol{x})/\\sin \\boldsymbol{\\theta}$ is elementwise.\n",
    "\n",
    "## Fast transform for $(1-x^2)T_k$\n",
    "\n",
    "The orthogonal projection of $u(x)$ for basis ([2](#eq:heinrichs))\n",
    "in $L^2_{\\omega^{-5/2}}(I)$ reads"
   ]
  },
  {
   "cell_type": "markdown",
   "metadata": {},
   "source": [
    "<!-- Equation labels as ordinary links -->\n",
    "<a id=\"_auto3\"></a>\n",
    "\n",
    "$$\n",
    "\\begin{equation}\n",
    "    \\int_I T_j T_k \\omega^{-1/2} dx \\hat{u}_j^{\\varphi} = \\int_I T_k u \\omega^{-3/2} dx.\n",
    "\\label{_auto3} \\tag{10}\n",
    "\\end{equation}\n",
    "$$"
   ]
  },
  {
   "cell_type": "markdown",
   "metadata": {},
   "source": [
    "The left hand side is simply the diagonal $(T_j, T_k)_{\\omega^{-1/2}} = c_k\\pi/2 \\delta_{kj}$.\n",
    "For the integral on the right we use the Gauss-Chebyshev quadrature rule for\n",
    "integration with weight $(1-x^2)^{-1/2}$, and rewrite using\n",
    "$1-x_i^2=\\sin^2\\theta_i$ and $T_k(x_i) = \\cos(k\\theta_i)$"
   ]
  },
  {
   "cell_type": "markdown",
   "metadata": {},
   "source": [
    "<!-- Equation labels as ordinary links -->\n",
    "<a id=\"_auto4\"></a>\n",
    "\n",
    "$$\n",
    "\\begin{equation}\n",
    "    \\frac{c_k \\pi}{2} \\hat{u}_k^{\\varphi} = \\frac{\\pi}{N} \\sum_{i=0}^{N-1} \\cos (k \\theta_i) u(x_i)/\\sin^2\\theta_i.\n",
    "\\label{_auto4} \\tag{11}\n",
    "\\end{equation}\n",
    "$$"
   ]
  },
  {
   "cell_type": "markdown",
   "metadata": {},
   "source": [
    "The sum can be seen to be a discrete cosine transform of type 2. We get the\n",
    "final expression for the fast transform"
   ]
  },
  {
   "cell_type": "markdown",
   "metadata": {},
   "source": [
    "<!-- Equation labels as ordinary links -->\n",
    "<a id=\"_auto5\"></a>\n",
    "\n",
    "$$\n",
    "\\begin{equation}\n",
    "    \\hat{u}_k^{\\varphi} = \\frac{1}{c_k N} \\text{dct}^{II} (u(\\boldsymbol{x})/\\sin^2 \\boldsymbol{\\theta})_k, \\quad k=0, 1, \\ldots, N-3.\n",
    "\\label{_auto5} \\tag{12}\n",
    "\\end{equation}\n",
    "$$"
   ]
  },
  {
   "cell_type": "markdown",
   "metadata": {},
   "source": [
    "## Fast transform for $U_k-\\frac{k+1}{k+3}U_{k+2}$\n",
    "\n",
    "The orthogonal projection for basis $\\{\\psi_k\\}_{k=0}^{N-3}$ in\n",
    "$L^2_{\\omega^{-1/2}}(I)$ can be computed using the alternative form"
   ]
  },
  {
   "cell_type": "markdown",
   "metadata": {},
   "source": [
    "<!-- Equation labels as ordinary links -->\n",
    "<a id=\"eq:elbarbary\"></a>\n",
    "\n",
    "$$\n",
    "\\begin{equation}\n",
    "   \\psi_k = \\frac{2(1-x^2)}{(k+2)(k+3)}T^{ ''}_{k+2}, \\quad k = 0, 1, \\ldots, N-3.\n",
    "\\label{eq:elbarbary} \\tag{13}\n",
    "\\end{equation}\n",
    "$$"
   ]
  },
  {
   "cell_type": "markdown",
   "metadata": {},
   "source": [
    "Using ([13](#eq:elbarbary)) for the two basis functions in $(\\psi_j, \\psi_k)_{\\omega^{-1/2}}$,\n",
    "and ([3](#eq:dirichletU)) in the linear form we get"
   ]
  },
  {
   "cell_type": "markdown",
   "metadata": {},
   "source": [
    "<!-- Equation labels as ordinary links -->\n",
    "<a id=\"eq:proj3\"></a>\n",
    "\n",
    "$$\n",
    "\\begin{equation}\n",
    "\\label{eq:proj3} \\tag{14}\n",
    "    \\frac{4}{(k+2)^2(k+3)^2}\\int_I T^{''}_j T^{''}_k \\omega^{3/2}dx \\hat{u}_j^{\\psi} = \\int_I (U_k - \\frac{k+1}{k+3}U_{k+2})u \\omega^{-1/2} dx.\n",
    "\\end{equation}\n",
    "$$"
   ]
  },
  {
   "cell_type": "markdown",
   "metadata": {},
   "source": [
    "Using the orthogonal $\\int_I T^{''}_j T^{''}_k \\omega^{3/2}dx = \\pi (j+1)(j+2)^2(j+3)/2 \\delta_{kj}$ from Lemma 3\n",
    "in [[elbarbary08]](#elbarbary08), Eq. ([14](#eq:proj3)) simplifies to"
   ]
  },
  {
   "cell_type": "markdown",
   "metadata": {},
   "source": [
    "<!-- Equation labels as ordinary links -->\n",
    "<a id=\"_auto6\"></a>\n",
    "\n",
    "$$\n",
    "\\begin{equation}\n",
    "     \\frac{2 \\pi (k+1)}{(k+3)} \\hat{u}_k^{\\psi}  = \\int_I (U_k - \\frac{k+1}{k+3}U_{k+2})u \\omega^{-1/2} dx.\n",
    "\\label{_auto6} \\tag{15}\n",
    "\\end{equation}\n",
    "$$"
   ]
  },
  {
   "cell_type": "markdown",
   "metadata": {},
   "source": [
    "The right hand side can now be rewritten using the same sine transform as in ([9](#eq:proju0)).\n",
    "We get after some rearrangements"
   ]
  },
  {
   "cell_type": "markdown",
   "metadata": {},
   "source": [
    "<!-- Equation labels as ordinary links -->\n",
    "<a id=\"_auto7\"></a>\n",
    "\n",
    "$$\n",
    "\\begin{equation}\n",
    "    \\hat{u}_k^{\\psi} = \\frac{k+3}{2(k+1)}\\hat{u}_k^{\\phi} - \\frac{1}{2}\\hat{u}_{k+2}^{\\phi}, \\quad k=0, 1, \\ldots, N-3.\n",
    "\\label{_auto7} \\tag{16}\n",
    "\\end{equation}\n",
    "$$"
   ]
  },
  {
   "cell_type": "markdown",
   "metadata": {},
   "source": [
    "## Implementation\n",
    "\n",
    "To validate these methods we compute the projection first regularly\n",
    "using the Shenfun function [project](https://github.com/spectralDNS/shenfun/blob/master/shenfun/forms/project.py),\n",
    "which is using $\\sigma=-1/2$, and then the fast methods above. The two\n",
    "projections should be the same, but they will not give identical results.\n",
    "In general, the fast transforms above should be both faster and more\n",
    "accurate, because they only take a discrete transform and no\n",
    "mass matrix inversion.\n",
    "\n",
    "Start by importing necessary modules from Shenfun and mpi4py-fft"
   ]
  },
  {
   "cell_type": "code",
   "execution_count": null,
   "metadata": {
    "tags": [
     "thebe-init"
    ]
   },
   "outputs": [],
   "source": [
    "from shenfun import *\n",
    "from mpi4py_fft import fftw"
   ]
  },
  {
   "cell_type": "markdown",
   "metadata": {},
   "source": [
    "Create function spaces for all three Dirichlet bases. Decide on a number of quadrature points (not important), and just use default quadrature scheme, which is the Gauss-Chebyshev points."
   ]
  },
  {
   "cell_type": "code",
   "execution_count": null,
   "metadata": {
    "tags": [
     "thebe-init"
    ]
   },
   "outputs": [],
   "source": [
    "N = 20\n",
    "D0 = FunctionSpace(N, 'C', basis='ShenDirichlet')\n",
    "D1 = FunctionSpace(N, 'C', basis='Heinrichs')\n",
    "D2 = FunctionSpace(N, 'C', basis='DirichletU')"
   ]
  },
  {
   "cell_type": "markdown",
   "metadata": {},
   "source": [
    "Create a random vector that we will use for testing."
   ]
  },
  {
   "cell_type": "code",
   "execution_count": null,
   "metadata": {
    "tags": [
     "thebe-init"
    ]
   },
   "outputs": [],
   "source": [
    "f = Function(D0, buffer=np.random.random(N))\n",
    "f[-2:] = 0\n",
    "f[:] = f.backward().forward()\n",
    "fb = f.backward().copy()"
   ]
  },
  {
   "cell_type": "markdown",
   "metadata": {},
   "source": [
    "Do the regular projection. Now `f0`, `f1` and `f2` will be the three solution vectors $\\boldsymbol{\\hat{u}}^{\\phi}$, $\\boldsymbol{\\hat{u}}^{\\varphi}$ and $\\boldsymbol{\\hat{u}}^{\\psi}$."
   ]
  },
  {
   "cell_type": "code",
   "execution_count": null,
   "metadata": {
    "tags": [
     "thebe-init"
    ]
   },
   "outputs": [],
   "source": [
    "f0 = project(fb, D0)\n",
    "f1 = project(fb, D1)\n",
    "f2 = project(fb, D2)"
   ]
  },
  {
   "cell_type": "markdown",
   "metadata": {},
   "source": [
    "Now compute the fast transforms and assert that they are equal to `f0`, `f1` and `f2`"
   ]
  },
  {
   "cell_type": "code",
   "execution_count": null,
   "metadata": {
    "tags": [
     "thebe-init"
    ]
   },
   "outputs": [],
   "source": [
    "theta = np.pi*(2*np.arange(N)+1)/(2*N)\n",
    "dst = fftw.dstn(fb, type=2)\n",
    "d0 = dst(fb/np.sin(theta))/(2*N)\n",
    "assert np.linalg.norm(d0-f0) < 1e-8\n",
    "dct = fftw.dctn(fb, type=2)\n",
    "ck = np.ones(N); ck[0] = 2\n",
    "d1 = dct(fb/np.sin(theta)**2)/(ck*N)\n",
    "assert np.linalg.norm(d1-f1) < 1e-8, np.linalg.norm(d1-f1)\n",
    "ut = d0\n",
    "k = np.arange(N)\n",
    "d2 = Function(D2)\n",
    "d2[:-2] = (k[:-2]+3)/2/(k[:-2]+1)*ut[:-2]\n",
    "d2[:-2] = d2[:-2] - 0.5*ut[2:]\n",
    "assert np.linalg.norm(d2-f2) < 1e-8"
   ]
  },
  {
   "cell_type": "markdown",
   "metadata": {},
   "source": [
    "That's it! If you make it to here with no errors, then the three tests pass, and the fast transforms are equal to the slow ones, at least within given precision.\n",
    "\n",
    "Let's try some timings"
   ]
  },
  {
   "cell_type": "code",
   "execution_count": null,
   "metadata": {
    "tags": [
     "thebe-init"
    ]
   },
   "outputs": [],
   "source": [
    "%timeit project(fb, D0)"
   ]
  },
  {
   "cell_type": "code",
   "execution_count": null,
   "metadata": {
    "tags": [
     "thebe-init"
    ]
   },
   "outputs": [],
   "source": [
    "%timeit dst(fb/np.sin(theta))/(2*N)"
   ]
  },
  {
   "cell_type": "markdown",
   "metadata": {},
   "source": [
    "We can precompute the sine term, because it does not change"
   ]
  },
  {
   "cell_type": "code",
   "execution_count": null,
   "metadata": {
    "tags": [
     "thebe-init"
    ]
   },
   "outputs": [],
   "source": [
    "dd = np.sin(theta)*2*N\n",
    "%timeit dst(fb/dd)"
   ]
  },
  {
   "cell_type": "markdown",
   "metadata": {},
   "source": [
    "The other two transforms are about equally fast"
   ]
  },
  {
   "cell_type": "code",
   "execution_count": null,
   "metadata": {
    "tags": [
     "thebe-init"
    ]
   },
   "outputs": [],
   "source": [
    "%timeit dct(fb/np.sin(theta)**2)/(ck*N)"
   ]
  },
  {
   "cell_type": "markdown",
   "metadata": {},
   "source": [
    "<!-- ======= Bibliography ======= -->\n",
    "\n",
    "\n",
    "\n",
    "1. <a id=\"elbarbary08\"></a> **E. M. E. Elbarbary**. \n",
    "    Efficient Chebyshev-Petrov-Galerkin Method for Solving Second-Order Equations,\n",
    "    *Journal of Scientific Computing*,\n",
    "    34(2),\n",
    "    pp. 113-126,\n",
    "    [doi: 10.1007/s10915-007-9161-9](http://dx.doi.org/10.1007/s10915-007-9161-9),\n",
    "    2008."
   ]
  }
 ],
 "metadata": {
  "kernelspec": {
   "display_name": "Python 3",
   "language": "python",
   "name": "python3"
  },
  "language_info": {
   "file_extension": ".py",
   "mimetype": "text/x-python",
   "name": "python",
   "nbconvert_exporter": "python",
   "pygments_lexer": "ipython3",
   "version": "3.8.5"
  }
 },
 "nbformat": 4,
 "nbformat_minor": 4
}
