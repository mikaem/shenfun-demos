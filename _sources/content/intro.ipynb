{
 "cells": [
  {
   "cell_type": "markdown",
   "metadata": {},
   "source": [
    "# Shenfun executable demos\n",
    "\n",
    "These documented demo programs are published with the awesome [jupyter book](https://jupyterbook.org). This allows you to modify and run the demo programs, while never having to leave the comfort of the html format. Notice that in the top right corner of any demo there will be four buttons, where the most interesting will probably be the one shaped like a rocket. You do not have to press this button if you are happy with reading the documentation without interacting with it. However, if you do want interaction, then the rocket leaves you with two options: either launch [Binder](https://mybinder.org) or [Thebe](https://thebelab.readthedocs.io/en/latest/). \n",
    "\n",
    "   * **Binder**  - The Binder option will take you to a new window, where a tailored jupyter environment will be installed in a Binder image. You may there run any of the demos from this book, just like you would with any notebook. The environment will be ready, with [shenfun](https://github.com/mikaem/shenfun) installed. \n",
    "    \n",
    "   * **Thebe** - The Thebe option will make the code in this very html come alive, and you can actually modify code cells online and, e.g., experiment with running the programs with different parameters. Please note that each html-page then works much like a single notebook, and you may have to run more than one cell to make the program work. \n",
    "\n",
    "Also, on the bottom of each demopage there is a comments section that you should feel free to use. We welcome comments on the demo, but we also encourage you to post questions about the underlying code, or to simply report mistakes that we have made.\n",
    "\n",
    "```{figure} ../seashell3.png\n",
    "---\n",
    "scale: 50%\n",
    "align: center\n",
    "---\n",
    "```\n"
   ]
  },
  {
   "cell_type": "code",
   "execution_count": null,
   "metadata": {
    "tags": [
     "hide-input",
     "thebe-init"
    ]
   },
   "outputs": [],
   "source": [
    "import plotly.io as pio\n",
    "pio.renderers.default = 'sphinx_gallery'"
   ]
  }
 ],
 "metadata": {
  "celltoolbar": "Tags",
  "kernelspec": {
   "display_name": "Python 3",
   "language": "python",
   "name": "python3"
  },
  "language_info": {
   "file_extension": ".py",
   "mimetype": "text/x-python",
   "name": "python",
   "nbconvert_exporter": "python",
   "pygments_lexer": "ipython3",
   "version": "3.8.5"
  },
  "toc": {
   "base_numbering": 1,
   "nav_menu": {},
   "number_sections": false,
   "sideBar": true,
   "skip_h1_title": false,
   "title_cell": "Table of Contents",
   "title_sidebar": "Contents",
   "toc_cell": false,
   "toc_position": {},
   "toc_section_display": true,
   "toc_window_display": false
  }
 },
 "nbformat": 4,
 "nbformat_minor": 4
}
