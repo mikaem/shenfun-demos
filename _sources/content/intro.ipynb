{
 "cells": [
  {
   "cell_type": "markdown",
   "metadata": {},
   "source": [
    "# Shenfun executable demos\n",
    "\n",
    "These documented demo programs are published with [jupyter book](https://jupyterbook.org). This allows you to modify and run the program, while never leaving the comfort of the html format. In the top right corner of any demo there are four buttons. The most interesting is probably the one shaped like a rocket. The rocket leaves you with two options, either launch [Binder](https://mybinder.org), or launch [Thebe](https://thebelab.readthedocs.io/en/latest/). The first option will take you to a jupyter environment in a Binder image, and you can there run the demos like in any notebook. The environment will be ready, with [shenfun](https://github.com/mikaem/shenfun) installed. The second option will make the code in the html live, and you can actually modify code cells online and, e.g., experiment with running the programs with different parameters. Please note that each html-page then works much like a single notebook, and you may have to run more than one cell to make the program work. Unfortunately, there's to my knowledge no restart and run-all button avalable for html yet. So keep that in mind.\n",
    "\n",
    "![](../seashell3.png)\n"
   ]
  },
  {
   "cell_type": "code",
   "execution_count": null,
   "metadata": {
    "tags": [
     "thebe-init"
    ]
   },
   "outputs": [],
   "source": []
  }
 ],
 "metadata": {
  "celltoolbar": "Tags",
  "kernelspec": {
   "display_name": "Python 3",
   "language": "python",
   "name": "python3"
  },
  "language_info": {
   "file_extension": ".py",
   "mimetype": "text/x-python",
   "name": "python",
   "nbconvert_exporter": "python",
   "pygments_lexer": "ipython3",
   "version": "3.8.5"
  },
  "toc": {
   "base_numbering": 1,
   "nav_menu": {},
   "number_sections": false,
   "sideBar": true,
   "skip_h1_title": false,
   "title_cell": "Table of Contents",
   "title_sidebar": "Contents",
   "toc_cell": false,
   "toc_position": {},
   "toc_section_display": true,
   "toc_window_display": false
  }
 },
 "nbformat": 4,
 "nbformat_minor": 4
}
