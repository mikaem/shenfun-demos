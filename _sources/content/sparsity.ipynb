{
 "cells": [
  {
   "cell_type": "markdown",
   "id": "b73d2dde",
   "metadata": {},
   "source": [
    "<!-- dom:TITLE: Demo - Sparse Chebyshev-Petrov-Galerkin methods for differentiation -->\n",
    "# Demo - Sparse Chebyshev-Petrov-Galerkin methods for differentiation\n",
    "<!-- dom:AUTHOR: Mikael Mortensen Email:mikaem@math.uio.no at Department of Mathematics, University of Oslo. -->\n",
    "<!-- Author: -->  \n",
    "**Mikael Mortensen** (email: `mikaem@math.uio.no`), Department of Mathematics, University of Oslo.\n",
    "\n",
    "Date: **October 26, 2021**\n",
    "\n",
    "**Summary.** This demo explores how to use sparse Chebyshev-Petrov-Galerkin methods for finding Chebyshev coefficients of\n",
    "the derivatives of smooth functions. We will compare the methods to the more commonly adopted\n",
    "recursion methods that are found in most spectral textbooks.\n",
    "\n",
    "\n",
    "\n",
    "\n",
    "\n",
    "\n",
    "\n",
    "\n",
    "\n",
    "\n",
    "\n",
    "\n",
    "## Introduction\n",
    "\n",
    "The Chebyshev polynomials of the first kind can be defined as"
   ]
  },
  {
   "cell_type": "markdown",
   "id": "71c759de",
   "metadata": {},
   "source": [
    "<!-- Equation labels as ordinary links -->\n",
    "<a id=\"eq:chebTU\"></a>\n",
    "\n",
    "$$\n",
    "\\begin{equation}\n",
    "\\label{eq:chebTU} \\tag{1}\n",
    "    T_k(x) = \\cos(k\\theta),\n",
    "\\end{equation}\n",
    "$$"
   ]
  },
  {
   "cell_type": "markdown",
   "id": "a615b24a",
   "metadata": {},
   "source": [
    "where $\\theta = \\cos^{-1} x$, $k$ is a positive integer and $x \\in [-1, 1]$.\n",
    "The Chebyshev polynomials span the discrete space $S_N = \\text{span}\\{T_k\\}_{k=0}^{N-1}$,\n",
    "and a function $u(x)$ can be approximated in this space as"
   ]
  },
  {
   "cell_type": "markdown",
   "id": "a69e6e16",
   "metadata": {},
   "source": [
    "<!-- Equation labels as ordinary links -->\n",
    "<a id=\"eq:uT\"></a>\n",
    "\n",
    "$$\n",
    "\\begin{equation}\n",
    "u_N(x) = \\sum_{k=0}^{N-1} \\hat{u}_k T_k(x).\n",
    "\\label{eq:uT} \\tag{2}\n",
    "\\end{equation}\n",
    "$$"
   ]
  },
  {
   "cell_type": "markdown",
   "id": "355d0921",
   "metadata": {},
   "source": [
    "Consider the expansion of the function $u(x)=\\sin(\\pi x)$, created in `shenfun` as"
   ]
  },
  {
   "cell_type": "code",
   "execution_count": null,
   "id": "c1da94d2",
   "metadata": {
    "tags": [
     "thebe-init"
    ]
   },
   "outputs": [],
   "source": [
    "from shenfun import *\n",
    "import sympy as sp\n",
    "x = sp.Symbol('x')\n",
    "ue = sp.sin(sp.pi*x)\n",
    "N = 16\n",
    "SN = FunctionSpace(N, 'C')\n",
    "uN = Function(SN, buffer=ue)\n",
    "uN"
   ]
  },
  {
   "cell_type": "markdown",
   "id": "47fab5f7",
   "metadata": {},
   "source": [
    "The Python Function `uN` represents the expansion ([2](#eq:uT)), and the printed\n",
    "values represent $\\boldsymbol{\\hat{u}} = \\{\\hat{u}_k\\}_{k=0}^{N-1}$. The expansion is fairly well resolved since\n",
    "the highest values of $\\{\\hat{u}_k\\}_{k=0}^{N-1}$ approach 0.\n",
    "Note that the coefficients obtained are the discrete coefficients based on interpolation at\n",
    "quadrature points and they do not agree completely with the coefficients truncated from a\n",
    "series $u(x) = \\sum_{k=0}^{\\infty} \\hat{u}_k T_k$.\n",
    "Under the hood the coefficients are found by projection using quadrature for the integrals:\n",
    "find $u_N \\in S_N$ such that"
   ]
  },
  {
   "cell_type": "markdown",
   "id": "5f96ced6",
   "metadata": {},
   "source": [
    "$$\n",
    "(u_N-u, v)_{\\omega^{-1/2}} = 0, \\quad \\forall v \\in S_N,\n",
    "$$"
   ]
  },
  {
   "cell_type": "markdown",
   "id": "31d0fef8",
   "metadata": {},
   "source": [
    "where $\\omega = (1-x^2)$ and the scalar product notation\n",
    "$(a, b)_{\\omega^{-1/2}} = \\sum_{j=0}^{N-1} a(x_j)b(x_j)\\omega_j \\approx \\int_{-1}^{1} a(x)b(x) \\omega(x)^{-1/2} dx$,\n",
    "where $\\{\\omega_j\\}_{j=0}^{N-1}$ are the quadrature weights. The quadrature approach ensures\n",
    "that $u(x_j) = u_N(x_j)$ for all quadrature points $\\{x_j\\}_{j=0}^{N-1}$.\n",
    "In `shenfun` we compute the following under the hood: insert for $u_N = \\sum_{j=0}^{N-1} \\hat{u}_j T_j$,\n",
    "$u=\\sin(\\pi x)$ and $v = T_k$ to get"
   ]
  },
  {
   "cell_type": "markdown",
   "id": "eb38cd06",
   "metadata": {},
   "source": [
    "$$\n",
    "\\sum_{j=0}^{N-1}(T_j, T_k)_{\\omega^{-1/2}} \\hat{u}_j = (\\sin(\\pi x), T_k)_{\\omega^{-1/2}},\n",
    "$$"
   ]
  },
  {
   "cell_type": "markdown",
   "id": "e7599271",
   "metadata": {},
   "source": [
    "This has now become a linear algebra problem, and we recognise the matrix $d^{(0)}_{kj} = (T_j, T_k)_{\\omega^{-1/2}}=c_k \\pi /2 \\delta_{kj}$,\n",
    "where $\\delta_{kj}$ is the Kronecker delta function, and $c_0=2$ and $c_k=1$ for $k>0$.\n",
    "The problem is solved trivially since $d^{(0)}_{kj}$ is diagonal,\n",
    "and thus"
   ]
  },
  {
   "cell_type": "markdown",
   "id": "7c468dcb",
   "metadata": {},
   "source": [
    "$$\n",
    "\\hat{u}_k = \\frac{2}{c_k \\pi} (\\sin(\\pi x), T_k)_{\\omega^{-1/2}}, \\quad \\forall \\, k\\in I^N,\n",
    "$$"
   ]
  },
  {
   "cell_type": "markdown",
   "id": "25acf1f9",
   "metadata": {},
   "source": [
    "where $I^N = \\{0, 1, \\ldots, N-1\\}$.\n",
    "We can compare this to the exact coefficients, where the integral $(\\sin(\\pi x), T_k)_{\\omega^{-1/2}}$\n",
    "is computed with high precision. To this end we could use adaptive quadrature, or symbolic integration\n",
    "with sympy, but it is sufficient to use a large enough number of polynomials to fully resolve the\n",
    "function. Below we find this number to be 22 and we see that the absolute error in $\\hat{u}_{N-1} \\approx 10^{-11}$."
   ]
  },
  {
   "cell_type": "code",
   "execution_count": null,
   "id": "a63ad3cb",
   "metadata": {
    "tags": [
     "thebe-init"
    ]
   },
   "outputs": [],
   "source": [
    "SM = FunctionSpace(0, 'C')\n",
    "uM = Function(SM, buffer=ue, abstol=1e-16, reltol=1e-16)\n",
    "print(uM[:N] - uN[:N])\n",
    "print(len(uM))"
   ]
  },
  {
   "cell_type": "markdown",
   "id": "09136153",
   "metadata": {},
   "source": [
    "## Differentiation\n",
    "\n",
    "Let us now consider the $n$'th derivative of $u(x)$ instead, denoted here as $u^{(n)}$,\n",
    "and attempt to find $u^{(n)}$ in the space $S_N$, i.e.,"
   ]
  },
  {
   "cell_type": "markdown",
   "id": "b4b5d053",
   "metadata": {},
   "source": [
    "$$\n",
    "u_N^{(n)} = \\sum_{k=0}^{N-1} \\hat{u}^{(n)}_k T_k.\n",
    "$$"
   ]
  },
  {
   "cell_type": "markdown",
   "id": "6eea9d4b",
   "metadata": {},
   "source": [
    "We note that this is not the same as $(u_N)^{(n)}$, which is"
   ]
  },
  {
   "cell_type": "markdown",
   "id": "dc8a5367",
   "metadata": {},
   "source": [
    "$$\n",
    "(u_N)^{(n)} = \\sum_{k=0}^{N-1} \\hat{u}_k T^{(n)}_k,\n",
    "$$"
   ]
  },
  {
   "cell_type": "markdown",
   "id": "81cc9b1f",
   "metadata": {},
   "source": [
    "where $T^{(n)}_k$ is the $n$'th derivative of $T_k$, a polynomial of order $k-n$.\n",
    "Again use projection to find $u_N^{(n)} \\in S_N$ such that"
   ]
  },
  {
   "cell_type": "markdown",
   "id": "4a8fab51",
   "metadata": {},
   "source": [
    "$$\n",
    "(u_N^{(n)}-u^{(n)}, v)_{\\omega^{-1/2}} = 0, \\quad \\forall v \\in S_N.\n",
    "$$"
   ]
  },
  {
   "cell_type": "markdown",
   "id": "659a7ce3",
   "metadata": {},
   "source": [
    "Inserting for $u_N^{(n)}$ and $u^{(n)} = (u_N)^{(n)}$ we get"
   ]
  },
  {
   "cell_type": "markdown",
   "id": "09cecc98",
   "metadata": {},
   "source": [
    "<!-- Equation labels as ordinary links -->\n",
    "<a id=\"_auto1\"></a>\n",
    "\n",
    "$$\n",
    "\\begin{equation}\n",
    "    \\sum_{j=0}^{N-1}(T_j, T_k)_{\\omega^{-1/2}} \\hat{u}_j^{(n)} = (T_j^{(n)}, T_k)_{\\omega^{-1/2}} \\hat{u}_j, \n",
    "\\label{_auto1} \\tag{3}\n",
    "\\end{equation}\n",
    "$$"
   ]
  },
  {
   "cell_type": "markdown",
   "id": "12f248b7",
   "metadata": {},
   "source": [
    "<!-- Equation labels as ordinary links -->\n",
    "<a id=\"_auto2\"></a>\n",
    "\n",
    "$$\n",
    "\\begin{equation}  \n",
    "    \\sum_{j=0}^{N-1} d^{(0)}_{kj} \\hat{u}_j^{(n)}  = \\sum_{j=0}^{N-1} d^{(n)}_{kj} \\hat{u}_j,\n",
    "\\label{_auto2} \\tag{4}\n",
    "\\end{equation}\n",
    "$$"
   ]
  },
  {
   "cell_type": "markdown",
   "id": "dcea5c2f",
   "metadata": {},
   "source": [
    "where $d^{(n)}_{kj} = (T_j^{(n)}, T_k)_{\\omega^{-1/2}}$.\n",
    "We compute $\\hat{u}_k^{(n)}$ by inverting the diagonal $d^{(0)_{kj}}$"
   ]
  },
  {
   "cell_type": "markdown",
   "id": "50c00a6e",
   "metadata": {},
   "source": [
    "<!-- Equation labels as ordinary links -->\n",
    "<a id=\"eq:fhat\"></a>\n",
    "\n",
    "$$\n",
    "\\begin{equation}\n",
    "\\hat{u}_k^{(n)} = \\frac{2}{c_k \\pi} \\sum_{j=0}^{N-1} d^{(n)}_{kj} \\hat{u}_j, \\quad \\forall \\, k \\in I^{N}.\n",
    "\\label{eq:fhat} \\tag{5}\n",
    "\\end{equation}\n",
    "$$"
   ]
  },
  {
   "cell_type": "markdown",
   "id": "f82e3576",
   "metadata": {},
   "source": [
    "The matrix $d^{(n)}_{kj}$ is upper triangular, and the last $n$ rows are zero. Since $d^{(n)}_{kj}$ is\n",
    "dense the matrix vector product $\\sum_{j=0}^{N-1} d^{(n)}_{kj} \\hat{u}_j$ is costly\n",
    "and also susceptible to roundoff errors if the structure of the matrix is\n",
    "not taken advantage of. But computing it in shenfun\n",
    "is straightforward, for $n=1$ and $2$:"
   ]
  },
  {
   "cell_type": "code",
   "execution_count": null,
   "id": "0fee23f3",
   "metadata": {
    "tags": [
     "thebe-init"
    ]
   },
   "outputs": [],
   "source": [
    "uN1 = project(Dx(uN, 0, 1), SN)\n",
    "uN2 = project(Dx(uN, 0, 2), SN)\n",
    "uN1"
   ]
  },
  {
   "cell_type": "markdown",
   "id": "acdf76db",
   "metadata": {},
   "source": [
    "where `uN1` $=u_N^{(1)} $ and `uN2` $=u_N^{(2)}$.\n",
    "Alternatively, doing all the work that goes on under the hood"
   ]
  },
  {
   "cell_type": "code",
   "execution_count": null,
   "id": "897acbdd",
   "metadata": {
    "tags": [
     "thebe-init"
    ]
   },
   "outputs": [],
   "source": [
    "u = TrialFunction(SN)\n",
    "v = TestFunction(SN)\n",
    "D0 = inner(u, v)\n",
    "D1 = inner(Dx(u, 0, 1), v)\n",
    "D2 = inner(Dx(u, 0, 2), v)\n",
    "w0 = Function(SN) # work array\n",
    "uN1 = Function(SN)\n",
    "uN2 = Function(SN)\n",
    "uN1 = D0.solve(D1.matvec(uN, w0), uN1)\n",
    "uN2 = D0.solve(D2.matvec(uN, w0), uN2)\n",
    "uN1"
   ]
  },
  {
   "cell_type": "markdown",
   "id": "f3d99609",
   "metadata": {},
   "source": [
    "We can look at the sparsity patterns of $(d^{(1)}_{kj})$ and $(d^{(2)}_{kj})$"
   ]
  },
  {
   "cell_type": "code",
   "execution_count": null,
   "id": "06b4efb1",
   "metadata": {
    "tags": [
     "thebe-init"
    ]
   },
   "outputs": [],
   "source": [
    "%matplotlib inline\n",
    "\n",
    "import matplotlib.pyplot as plt\n",
    "fig, (ax1, ax2) = plt.subplots(1, 2)\n",
    "ax1.spy(D1.diags(), markersize=2, color='r')\n",
    "ax2.spy(D2.diags(), markersize=2, color='b')"
   ]
  },
  {
   "cell_type": "markdown",
   "id": "1d4e274b",
   "metadata": {},
   "source": [
    "just to see that they are upper triangular. We now ask is there a better and faster\n",
    "way to get `uN1` and `uN2`? A better approach would involve only sparse\n",
    "matrices, like the diagonal $(d^{(0)}_{kj})$. But how do we get there?\n",
    "Most textbooks on spectral methods use recursive methods to\n",
    "find $\\{\\hat{u}_N^{(n)}\\}$. Here we will show a Galerkin approach.\n",
    "\n",
    "It turns out that a simple change of test space/function will be sufficient.\n",
    "Let us first replace the test space $S_N$ with\n",
    "the Dirichlet space $D_N=\\{v \\in S_N | v(\\pm 1) = 0\\}$ using basis\n",
    "functions $v=T_k-T_{k+2}$ and see\n",
    "what happens. Because of the two boundary conditions,\n",
    "the number of degrees of freedom is reduced by two, and we need to use a\n",
    "space with $N+2$ quadrature points in order to get a square matrix system.\n",
    "The method now becomes classified as Chebyshev-Petrov-Galerkin, as we\n",
    "wish to find $u_N^{(1)} \\in S_N$ such that"
   ]
  },
  {
   "cell_type": "markdown",
   "id": "5e000a00",
   "metadata": {},
   "source": [
    "$$\n",
    "(u_N^{(n)}-u^{(n)}, v)_{\\omega^{-1/2}} = 0, \\quad \\forall v \\in D_{N+2}.\n",
    "$$"
   ]
  },
  {
   "cell_type": "markdown",
   "id": "6f5ef0c0",
   "metadata": {},
   "source": [
    "The implementation is straightforward"
   ]
  },
  {
   "cell_type": "code",
   "execution_count": null,
   "id": "9c2b9132",
   "metadata": {
    "tags": [
     "thebe-init"
    ]
   },
   "outputs": [],
   "source": [
    "SD = FunctionSpace(N+2, 'C', bc=(0, 0))\n",
    "v = TestFunction(SD)\n",
    "D0 = inner(u, v)\n",
    "D1 = inner(Dx(u, 0, 1), v)\n",
    "uN11 = Function(SN)\n",
    "uN11 = D0.solve(D1.matvec(uN, w0), uN11)\n",
    "print(uN11-uN1)"
   ]
  },
  {
   "cell_type": "markdown",
   "id": "37ef4270",
   "metadata": {},
   "source": [
    "and since `uN11 = uN1` we see that we have achived the same result as in\n",
    "the regular projection. However, the matrices in use now look like"
   ]
  },
  {
   "cell_type": "code",
   "execution_count": null,
   "id": "6f265d7a",
   "metadata": {
    "tags": [
     "thebe-init"
    ]
   },
   "outputs": [],
   "source": [
    "fig, (ax1, ax2) = plt.subplots(1, 2)\n",
    "ax1.spy(D0.diags(), markersize=2, color='r')\n",
    "ax2.spy(D1.diags(), markersize=2, color='b')"
   ]
  },
  {
   "cell_type": "markdown",
   "id": "c6635467",
   "metadata": {},
   "source": [
    "So $(d^{(0)}_{kj})$ now contains two nonzero diagonals, whereas $(d^{(1)}_{kj})$ is\n",
    "a matrix with one single diagonal. There is no longer a `full` differentiation\n",
    "matrix, and we can easily perform this projection for millions of degrees of freedom.\n",
    "What about $(d^{(2)}_{kj})$? We can now use biharmonic test functions that\n",
    "satisfy four boundary conditions in the space $B_N = \\{v \\in S_N | v(\\pm 1) = v'(\\pm 1) =0\\}$,\n",
    "and continue in a similar fashion:"
   ]
  },
  {
   "cell_type": "code",
   "execution_count": null,
   "id": "5bf75f9a",
   "metadata": {
    "tags": [
     "thebe-init"
    ]
   },
   "outputs": [],
   "source": [
    "SB = FunctionSpace(N+4, 'C', bc=(0, 0, 0, 0))\n",
    "v = TestFunction(SB)\n",
    "D0 = inner(u, v)\n",
    "D2 = inner(Dx(u, 0, 2), v)\n",
    "uN22 = Function(SN)\n",
    "uN22 = D0.solve(D2.matvec(uN, w0), uN22)\n",
    "print(uN22-uN2)"
   ]
  },
  {
   "cell_type": "markdown",
   "id": "8dc78f64",
   "metadata": {},
   "source": [
    "We get that `uN22 = uN2`, so the Chebyshev-Petrov-Galerkin projection works. The matrices involved are now"
   ]
  },
  {
   "cell_type": "code",
   "execution_count": null,
   "id": "3097a5a8",
   "metadata": {
    "tags": [
     "thebe-init"
    ]
   },
   "outputs": [],
   "source": [
    "fig, (ax1, ax2) = plt.subplots(1, 2)\n",
    "ax1.spy(D0.diags(), markersize=2, color='r')\n",
    "ax2.spy(D2.diags(), markersize=2, color='b')"
   ]
  },
  {
   "cell_type": "markdown",
   "id": "cba1645a",
   "metadata": {},
   "source": [
    "So there are now three nonzero diagonals in $(d^{(0)}_{kj})$, whereas the differentiation matrix\n",
    "$(d^{(2)}_{kj})$ contains only one nonzero diagonal.\n",
    "\n",
    "Why does this work? The Chebyshev polynomials and their derivatives satisfy the following orthogonality relation"
   ]
  },
  {
   "cell_type": "markdown",
   "id": "08d185eb",
   "metadata": {},
   "source": [
    "<!-- Equation labels as ordinary links -->\n",
    "<a id=\"eq:orthon\"></a>\n",
    "\n",
    "$$\n",
    "\\begin{equation}\n",
    "\\label{eq:orthon} \\tag{6}\n",
    "  \\int_{-1}^{1} T^{(n)}_j T^{(n)}_k \\omega^{n-1/2} dx = \\alpha^{n}_k \\delta_{kj}, \\quad \\text{for}\\, n \\ge 0,\n",
    "\\end{equation}\n",
    "$$"
   ]
  },
  {
   "cell_type": "markdown",
   "id": "dcc0afd2",
   "metadata": {},
   "source": [
    "where"
   ]
  },
  {
   "cell_type": "markdown",
   "id": "a47b93a8",
   "metadata": {},
   "source": [
    "<!-- Equation labels as ordinary links -->\n",
    "<a id=\"_auto3\"></a>\n",
    "\n",
    "$$\n",
    "\\begin{equation}\n",
    "    \\alpha^n_k = \\frac{c_{k+n}\\pi k (k+n-1)!}{2(k-n)!}.\n",
    "\\label{_auto3} \\tag{7}\n",
    "\\end{equation}\n",
    "$$"
   ]
  },
  {
   "cell_type": "markdown",
   "id": "a5827ad1",
   "metadata": {},
   "source": [
    "So when we choose a test function that is $\\omega^n T^{(n)}_k$, we get the diagonal differentiation matrix"
   ]
  },
  {
   "cell_type": "markdown",
   "id": "2a64da8e",
   "metadata": {},
   "source": [
    "<!-- Equation labels as ordinary links -->\n",
    "<a id=\"_auto4\"></a>\n",
    "\n",
    "$$\n",
    "\\begin{equation}\n",
    "  d^{(n)}_{kj} = \\int_{-1}^{1} T^{(n)}_j (\\omega^n T^{(n)}_k) \\omega^{-1/2} dx = \\alpha^{n}_k \\delta_{kj}, \\quad \\text{for}\\, n \\ge 0.\n",
    "\\label{_auto4} \\tag{8}\n",
    "\\end{equation}\n",
    "$$"
   ]
  },
  {
   "cell_type": "markdown",
   "id": "70c10de7",
   "metadata": {},
   "source": [
    "The two chosen test functions above are both proportional to $\\omega^n T^{(n)}_k$. More precisely,\n",
    "$T_k-T_{k+2} = \\frac{2}{k+1} \\omega T^{(1)}_{k+1}$ and the biharmonic test function is\n",
    "$T_k-\\frac{2(k+2)}{k+3}T_{k+2} + \\frac{k+1}{k+3}T_{k+4} = \\frac{4 \\omega^2T^{(2)}_{k+2}}{(k+2)(k+3)}$.\n",
    "Using these very specific test functions correponds closely to using the Chebyshev\n",
    "recursion formulas that are found in most textbooks. Here they are adapted to\n",
    "a Chebyshev-Petrov-Galerkin method, where we simply choose test and trial functions and everything\n",
    "else falls into place in a few lines of code.\n",
    "\n",
    "## Recursion\n",
    "\n",
    "Let us for completion show how to\n",
    "find $\\hat{u}_N^{(1)}$ with a recursive approach. The Chebyshev polynomials\n",
    "satisfy"
   ]
  },
  {
   "cell_type": "markdown",
   "id": "e22411f0",
   "metadata": {},
   "source": [
    "<!-- Equation labels as ordinary links -->\n",
    "<a id=\"eq:Trec1\"></a>\n",
    "\n",
    "$$\n",
    "\\begin{equation}\n",
    "2T_k = \\frac{1}{k+1}T'_{k+1}- \\frac{1}{k-1} T'_{k-1}, \\quad k \\ge 1.\n",
    "\\label{eq:Trec1} \\tag{9}\n",
    "\\end{equation}\n",
    "$$"
   ]
  },
  {
   "cell_type": "markdown",
   "id": "dc83215e",
   "metadata": {},
   "source": [
    "By using this and setting $u' = \\sum_{k=0}^{\\infty} \\hat{u}^{(1)}_k T_k = \\sum_{k=0}^{\\infty} \\hat{u}_k T'_k$\n",
    "we get"
   ]
  },
  {
   "cell_type": "markdown",
   "id": "dc65dd57",
   "metadata": {},
   "source": [
    "<!-- Equation labels as ordinary links -->\n",
    "<a id=\"eq:Trec2\"></a>\n",
    "\n",
    "$$\n",
    "\\begin{equation}\n",
    "2k\\hat{u}_k = c_{k-1}\\hat{u}^{(1)}_{k-1} - \\hat{u}^{(1)}_{k+1}, \\quad k \\ge 1.\n",
    "\\label{eq:Trec2} \\tag{10}\n",
    "\\end{equation}\n",
    "$$"
   ]
  },
  {
   "cell_type": "markdown",
   "id": "568caee0",
   "metadata": {},
   "source": [
    "Using this recursion together with $\\hat{u}^{(1)}_{N-1} = 0$ we get ([[canuto]](#canuto))"
   ]
  },
  {
   "cell_type": "markdown",
   "id": "47fa85fc",
   "metadata": {},
   "source": [
    "<!-- Equation labels as ordinary links -->\n",
    "<a id=\"eq:Trec3\"></a>\n",
    "\n",
    "$$\n",
    "\\begin{equation}\n",
    "c_k \\hat{u}^{(1)}_k = \\hat{u}^{(1)}_{k+2} + 2(k+1)\\hat{u}_{k+1}, \\quad 0 \\le k \\le N-2,\n",
    "\\label{eq:Trec3} \\tag{11}\n",
    "\\end{equation}\n",
    "$$"
   ]
  },
  {
   "cell_type": "markdown",
   "id": "95ba9b0e",
   "metadata": {},
   "source": [
    "which is easily implemented in a (slow) for-loop"
   ]
  },
  {
   "cell_type": "code",
   "execution_count": null,
   "id": "d9a5fcc7",
   "metadata": {
    "tags": [
     "thebe-init"
    ]
   },
   "outputs": [],
   "source": [
    "f1 = np.zeros(N+1)\n",
    "ck = np.ones(N); ck[0] = 2\n",
    "for k in range(N-2, -1, -1):\n",
    "    f1[k] = (f1[k+2]+2*(k+1)*uN[k+1])/ck[k]\n",
    "print(f1[:-1]-uN1)"
   ]
  },
  {
   "cell_type": "markdown",
   "id": "8b39c374",
   "metadata": {},
   "source": [
    "which evidently is exactly the same result. It turns out that this is not strange. If we multiply\n",
    "([11](#eq:Trec3)) by $\\pi/2$ and rearrange a little bit we get"
   ]
  },
  {
   "cell_type": "markdown",
   "id": "dd2d376f",
   "metadata": {},
   "source": [
    "<!-- Equation labels as ordinary links -->\n",
    "<a id=\"_auto5\"></a>\n",
    "\n",
    "$$\n",
    "\\begin{equation}\n",
    "c_k \\pi/2 \\hat{u}^{(1)}_k -  \\pi/2 \\hat{u}^{(1)}_{k+2} = (k+1)\\pi \\hat{u}_{k+1} \n",
    "\\label{_auto5} \\tag{12}\n",
    "\\end{equation}\n",
    "$$"
   ]
  },
  {
   "cell_type": "markdown",
   "id": "5c3b922e",
   "metadata": {},
   "source": [
    "<!-- Equation labels as ordinary links -->\n",
    "<a id=\"_auto6\"></a>\n",
    "\n",
    "$$\n",
    "\\begin{equation}  \n",
    "\\underbrace{(c_k \\pi/2 \\delta_{kj} - \\pi/2 \\delta_{k, j-2})}_{(D^0)_{kj}} \\hat{u}^{(1)}_j = \\underbrace{(k+1)\\pi \\delta_{k,j-1}}_{(D^1)_{kj}} \\hat{u}_{j} \n",
    "\\label{_auto6} \\tag{13}\n",
    "\\end{equation}\n",
    "$$"
   ]
  },
  {
   "cell_type": "markdown",
   "id": "f505d2ac",
   "metadata": {},
   "source": [
    "<!-- Equation labels as ordinary links -->\n",
    "<a id=\"_auto7\"></a>\n",
    "\n",
    "$$\n",
    "\\begin{equation}  \n",
    "D^0 \\boldsymbol{\\hat{u}} = D^1 \\boldsymbol{\\hat{u}} \n",
    "\\label{_auto7} \\tag{14}\n",
    "\\end{equation}\n",
    "$$"
   ]
  },
  {
   "cell_type": "markdown",
   "id": "e997ed23",
   "metadata": {},
   "source": [
    "<!-- Equation labels as ordinary links -->\n",
    "<a id=\"_auto8\"></a>\n",
    "\n",
    "$$\n",
    "\\begin{equation}  \n",
    "\\boldsymbol{\\hat{u}^{(1)}} = (D^0)^{-1} D^1 \\boldsymbol{\\hat{u}}\n",
    "\\label{_auto8} \\tag{15}\n",
    "\\end{equation}\n",
    "$$"
   ]
  },
  {
   "cell_type": "markdown",
   "id": "36084e8f",
   "metadata": {},
   "source": [
    "which is exactly how $\\boldsymbol{\\hat{u}^{(1)}}$ was computed above with the Chebyshev-Petrov-Galerkin approach\n",
    "(`uN11 = D0.solve(D1.matvec(uN, w0), uN11)`). Not convinced? Check that the matrices\n",
    "`D0` and `D1` are truly as stated above. The matrices below are printed as dictionaries with diagonal\n",
    "number as key (main is 0, first upper is 1 etc) and diagonal values as values:"
   ]
  },
  {
   "cell_type": "code",
   "execution_count": null,
   "id": "1d7c27a6",
   "metadata": {
    "tags": [
     "thebe-init"
    ]
   },
   "outputs": [],
   "source": [
    "import pprint\n",
    "SD = FunctionSpace(N+2, 'C', bc=(0, 0))\n",
    "v = TestFunction(SD)\n",
    "D0 = inner(u, v)\n",
    "D1 = inner(Dx(u, 0, 1), v)\n",
    "pprint.pprint(dict(D0))\n",
    "pprint.pprint(dict(D1))"
   ]
  },
  {
   "cell_type": "markdown",
   "id": "1e5b0988",
   "metadata": {},
   "source": [
    "In conclusion, we have shown that we can use an efficient Chebyshev-Petrov-Galerkin approach to obtain\n",
    "the discrete Chebyshev coefficients for the derivatives\n",
    "of a function. By inspection, it turns out that this approach is identical to the common methods based on\n",
    "well-known Chebyshev recursion formulas.\n",
    "\n",
    "<!-- ======= Bibliography ======= -->\n",
    "\n",
    "\n",
    "\n",
    "1. <a id=\"canuto\"></a> **C. Canuto, M. Hussaini, A. Quarteroni and J. T. A.**. \n",
    "    *Spectral Methods in Fluid Dynamics*,\n",
    "    *Scientific Computation*,\n",
    "    Springer,\n",
    "    2012."
   ]
  }
 ],
 "metadata": {
  "kernelspec": {
   "display_name": "Python 3",
   "language": "python",
   "name": "python3"
  },
  "language_info": {
   "file_extension": ".py",
   "mimetype": "text/x-python",
   "name": "python",
   "nbconvert_exporter": "python",
   "pygments_lexer": "ipython3",
   "version": "3.8.5"
  }
 },
 "nbformat": 4,
 "nbformat_minor": 5
}
