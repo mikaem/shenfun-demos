{
 "cells": [
  {
   "cell_type": "markdown",
   "id": "10000931",
   "metadata": {
    "editable": true
   },
   "source": [
    "<!-- File automatically generated using DocOnce (https://github.com/doconce/doconce/):\n",
    "doconce format ipynb mixingbases.do.txt  -->\n",
    "\n",
    "# Demo - Mixed bases for the Helmholtz problem\n",
    "**Mikael Mortensen** (email: `mikaem@math.uio.no`), Department of Mathematics, University of Oslo.\n",
    "\n",
    "Date: **March 22, 2021**\n",
    "\n",
    "**Summary.** This demo shows how to solve the Helmholtz equation using different\n",
    "bases for test and trial spaces. The use of different bases leads for\n",
    "some optimal combinations to highly sparse and well-conditioned\n",
    "coefficient matrices.\n",
    "\n",
    "<h1 id=\"table_of_contents\">\n",
    "\n",
    "Table of contents</h1>\n",
    "\n",
    "<a class='toc'>\n",
    "<p><a href=\"#The-Helmholtz-problem\"> The Helmholtz problem </a></p>\n",
    "<p><a href=\"#Implementation\"> Implementation </a></p>\n",
    "</a>\n",
    "<br>"
   ]
  },
  {
   "cell_type": "markdown",
   "id": "813567f5",
   "metadata": {
    "editable": true
   },
   "source": [
    "## The Helmholtz problem\n",
    "\n",
    "We will consider Helmholtz equation with homogeneous Dirichlet boundary conditions"
   ]
  },
  {
   "cell_type": "markdown",
   "id": "3b18d047",
   "metadata": {
    "editable": true
   },
   "source": [
    "<!-- Equation labels as ordinary links -->\n",
    "<a id=\"_auto1\"></a>\n",
    "\n",
    "$$\n",
    "\\begin{equation}\n",
    "    \\alpha u -  u^{''} = f \\quad \\text{in} \\, {I}=(-1, 1), \\quad u(\\pm 1) = 0,\n",
    "\\label{_auto1} \\tag{1}\n",
    "\\end{equation}\n",
    "$$"
   ]
  },
  {
   "cell_type": "markdown",
   "id": "2ff19b58",
   "metadata": {
    "editable": true
   },
   "source": [
    "where $\\alpha \\in \\mathbb{R^+}$. The relevant function space for the Dirichlet problem is"
   ]
  },
  {
   "cell_type": "markdown",
   "id": "bdb53f26",
   "metadata": {
    "editable": true
   },
   "source": [
    "<!-- Equation labels as ordinary links -->\n",
    "<a id=\"_auto2\"></a>\n",
    "\n",
    "$$\n",
    "\\begin{equation}\n",
    "    S_N=\\text{span}\\{T_k\\}_{k=0}^{N-1}, \\quad V_{N} = \\{v \\in {S}_N\\,|\\, v(\\pm 1) = 0\\},\n",
    "\\label{_auto2} \\tag{2}\n",
    "\\end{equation}\n",
    "$$"
   ]
  },
  {
   "cell_type": "markdown",
   "id": "96b54326",
   "metadata": {
    "editable": true
   },
   "source": [
    "and the Chebyshev-Galerkin (CG) method is to find $u_N \\in V_N$ such that"
   ]
  },
  {
   "cell_type": "markdown",
   "id": "2d52749b",
   "metadata": {
    "editable": true
   },
   "source": [
    "<!-- Equation labels as ordinary links -->\n",
    "<a id=\"eq:dirGalerkin\"></a>\n",
    "\n",
    "$$\n",
    "\\begin{equation}\n",
    "\\label{eq:dirGalerkin} \\tag{3}\n",
    "    \\alpha (u_N, v)_{\\omega^{\\sigma}} -(u^{''}_N, v)_{\\omega^{\\sigma}} = (f, v)_{\\omega^{\\sigma}}, \\forall \\, v \\in V_N,\n",
    "\\end{equation}\n",
    "$$"
   ]
  },
  {
   "cell_type": "markdown",
   "id": "387a9d39",
   "metadata": {
    "editable": true
   },
   "source": [
    "where $(u,v)_{\\omega^{\\sigma}}=\\int_{{I}}uv\\omega^{\\sigma} dx$ is the scalar product in the weighted space $L^2_{\\omega^{\\sigma}}({I})$.\n",
    "\n",
    "Shenfun has implemented three different Chebyshev Dirichlet\n",
    "basis functions"
   ]
  },
  {
   "cell_type": "markdown",
   "id": "5d8ae451",
   "metadata": {
    "editable": true
   },
   "source": [
    "<!-- Equation labels as ordinary links -->\n",
    "<a id=\"eq:shen\"></a>\n",
    "\n",
    "$$\n",
    "\\label{eq:shen} \\tag{4}\n",
    "\\phi_k = T_k-T_{k+2}, \\quad k=0,1, \\ldots, N-3,\n",
    "$$"
   ]
  },
  {
   "cell_type": "markdown",
   "id": "8d5a199a",
   "metadata": {
    "editable": true
   },
   "source": [
    "<!-- Equation labels as ordinary links -->\n",
    "<a id=\"eq:heinrichs\"></a>\n",
    "\n",
    "$$\n",
    "\\label{eq:heinrichs} \\tag{5}\n",
    "\\varphi_k = (1-x^2)T_k, \\quad k=0,1, \\ldots, N-3,\n",
    "$$"
   ]
  },
  {
   "cell_type": "markdown",
   "id": "2295de18",
   "metadata": {
    "editable": true
   },
   "source": [
    "<!-- Equation labels as ordinary links -->\n",
    "<a id=\"eq:dirichletU\"></a>\n",
    "\n",
    "$$\n",
    "\\label{eq:dirichletU} \\tag{6}\n",
    "\\psi_k = U_k-\\frac{k+1}{k+3}U_{k+2}, \\quad k=0,1, \\ldots, N-3.\n",
    "$$"
   ]
  },
  {
   "cell_type": "markdown",
   "id": "88f32223",
   "metadata": {
    "editable": true
   },
   "source": [
    "These three bases are all linearly dependent and they are all bases\n",
    "for $V_N$."
   ]
  },
  {
   "cell_type": "markdown",
   "id": "2cd525e1",
   "metadata": {
    "editable": true
   },
   "source": [
    "## Implementation\n",
    "\n",
    "We can get all three function spaces as"
   ]
  },
  {
   "cell_type": "code",
   "execution_count": null,
   "id": "79e20725",
   "metadata": {
    "editable": true,
    "tags": [
     "thebe-init"
    ]
   },
   "outputs": [],
   "source": [
    "from shenfun import *\n",
    "N = 40\n",
    "V0 = FunctionSpace(N, 'C', basis='ShenDirichlet')\n",
    "V1 = FunctionSpace(N, 'C', basis='Heinrichs')\n",
    "V2 = FunctionSpace(N, 'U', basis='CompactDirichlet')"
   ]
  },
  {
   "cell_type": "markdown",
   "id": "983bfe3a",
   "metadata": {
    "editable": true
   },
   "source": [
    "where $V0 = \\text{span}\\{\\phi_k\\}_{k=0}^{N-3}$,\n",
    "$V1 = \\text{span}\\{\\varphi_k\\}_{k=0}^{N-3}$ and\n",
    "$V2 = \\text{span}\\{\\psi_k\\}_{k=0}^{N-3}$. Now, to solve the Helmholtz problem we simply need to choose\n",
    "test and trial bases. Shen's original method is using\n",
    "`V0` for both. To assemble the stiffness and mass matrices\n",
    "for this choice do"
   ]
  },
  {
   "cell_type": "code",
   "execution_count": null,
   "id": "6567738b",
   "metadata": {
    "editable": true,
    "tags": [
     "thebe-init"
    ]
   },
   "outputs": [],
   "source": [
    "u = TrialFunction(V0)\n",
    "v = TestFunction(V0)\n",
    "A = inner(v, div(grad(u)))\n",
    "B = inner(v, u)"
   ]
  },
  {
   "cell_type": "markdown",
   "id": "90e22110",
   "metadata": {
    "editable": true
   },
   "source": [
    "A manufactured solution can be chosen using [Sympy](https://www.sympy.org)\n",
    "We choose"
   ]
  },
  {
   "cell_type": "markdown",
   "id": "f13815cb",
   "metadata": {
    "editable": true
   },
   "source": [
    "<!-- Equation labels as ordinary links -->\n",
    "<a id=\"_auto3\"></a>\n",
    "\n",
    "$$\n",
    "\\begin{equation}\n",
    "u(x) = \\sin \\left( 2 \\pi \\cos \\left( 2 \\pi x \\right) \\right)\n",
    "\\label{_auto3} \\tag{7}\n",
    "\\end{equation}\n",
    "$$"
   ]
  },
  {
   "cell_type": "markdown",
   "id": "655d67b6",
   "metadata": {
    "editable": true
   },
   "source": [
    "implemented as"
   ]
  },
  {
   "cell_type": "code",
   "execution_count": null,
   "id": "934ab250",
   "metadata": {
    "editable": true,
    "tags": [
     "thebe-init"
    ]
   },
   "outputs": [],
   "source": [
    "import sympy as sp\n",
    "x = sp.Symbol('x', real=True)\n",
    "ue = sp.sin(2*sp.pi*sp.cos(2*sp.pi*x))"
   ]
  },
  {
   "cell_type": "markdown",
   "id": "0beb8ec4",
   "metadata": {
    "editable": true
   },
   "source": [
    "The right hand side $f$ of Helmholtz equation is"
   ]
  },
  {
   "cell_type": "code",
   "execution_count": null,
   "id": "2cc67f0f",
   "metadata": {
    "editable": true,
    "tags": [
     "thebe-init"
    ]
   },
   "outputs": [],
   "source": [
    "alpha = 1\n",
    "f = sp.simplify(alpha*ue-ue.diff(x, 2))"
   ]
  },
  {
   "cell_type": "markdown",
   "id": "acd8282d",
   "metadata": {
    "editable": true
   },
   "source": [
    "To solve the problem we can do"
   ]
  },
  {
   "cell_type": "code",
   "execution_count": null,
   "id": "c4501592",
   "metadata": {
    "editable": true,
    "tags": [
     "thebe-init"
    ]
   },
   "outputs": [],
   "source": [
    "fj = Array(V0, buffer=f)  # Get f on quadrature mesh\n",
    "f_hat = inner(v, fj)      # Compute right hand side\n",
    "M = alpha*B - A           # Get coefficient matrix\n",
    "u_hat = Function(V0)      # Container for the solution\n",
    "sol = la.Solver(M)        # Solver\n",
    "u_hat = sol(f_hat, u_hat) # Solve"
   ]
  },
  {
   "cell_type": "markdown",
   "id": "2f6a1e2f",
   "metadata": {
    "editable": true
   },
   "source": [
    "Compare with exact solution."
   ]
  },
  {
   "cell_type": "code",
   "execution_count": null,
   "id": "17a4f724",
   "metadata": {
    "editable": true,
    "tags": [
     "thebe-init"
    ]
   },
   "outputs": [],
   "source": [
    "uj = Array(V0, buffer=ue)\n",
    "error = inner(1, (u_hat.backward()-uj)**2)\n",
    "print('Error =', error)"
   ]
  },
  {
   "cell_type": "markdown",
   "id": "76015035",
   "metadata": {
    "editable": true
   },
   "source": [
    "Now that was the solution for test and trial bases from the same\n",
    "basis ([4](#eq:shen)). Let us create a function that takes any\n",
    "test and any trial basis, any manufactured solution and any $\\alpha$\n",
    "in the Helmholtz equation. We let the function return either\n",
    "the L2-error norm, the condition number of the Helmholtz\n",
    "coefficient matrix, or the matrix itself."
   ]
  },
  {
   "cell_type": "code",
   "execution_count": null,
   "id": "a193f62b",
   "metadata": {
    "editable": true,
    "tags": [
     "thebe-init"
    ]
   },
   "outputs": [],
   "source": [
    "def main(N, test, trial, alpha=1, method=0, ue=sp.sin(2*sp.pi*sp.cos(2*sp.pi*x))):\n",
    "    \"\"\"Solve Helmholtz problem and return L2-error, condition number or matrix\n",
    "\n",
    "    Parameters\n",
    "    ----------\n",
    "    N : int\n",
    "        Number of quadrature points\n",
    "    test, trial : int\n",
    "        Test and trial functions.\n",
    "        0 = :math:`T_k-T_{k+2}`\n",
    "        1 = :math:`(1-x^2)T_k`\n",
    "        2 = :math:`U_k-\\frac{k+1}{k+3}U_{k+2}`\n",
    "    alpha : Helmholtz parameter\n",
    "    method : int\n",
    "        0 = Return L2-error norm\n",
    "        1 = Return condition number of matrix\n",
    "        2 = Return Helmholtz matrix\n",
    "    ue : Sympy function, optional\n",
    "        The manufactured solution with homogeneous boundary conditions.\n",
    "\n",
    "    Note\n",
    "    ----\n",
    "    Inhomogeneous boundary conditions require a small rewrite, but is\n",
    "    not difficult.\n",
    "\n",
    "    \"\"\"\n",
    "    bases = {0: ('C', 'ShenDirichlet'), 1: ('C', 'Heinrichs'), 2: ('U', 'CompactDirichlet')}\n",
    "    test = FunctionSpace(N, bases[test][0], basis=bases[test][1])\n",
    "    trial= FunctionSpace(N, bases[trial][0], basis=bases[trial][1])\n",
    "    # Check that boundary conditions are homogeneous\n",
    "    assert abs(ue.subs(x, -1)) < 1e-8 and abs(ue.subs(x, 1)) < 1e-8\n",
    "    u = TrialFunction(trial)\n",
    "    v = TestFunction(test)\n",
    "    f = sp.simplify(alpha*ue-ue.diff(x, 2))\n",
    "    fj = Array(test, buffer=f) # Get f on quadrature mesh\n",
    "    f_hat = inner(v, fj)      # Compute right hand side\n",
    "    B = inner(v, u)\n",
    "    A = inner(v, div(grad(u)))\n",
    "    M = alpha*B-A\n",
    "    if method == 1:\n",
    "        return np.linalg.cond(M.diags('csr').toarray())\n",
    "    if method == 2:\n",
    "        return M\n",
    "\n",
    "    u_hat = Function(trial)\n",
    "    sol = la.Solver(M)\n",
    "    u_hat = sol(f_hat, u_hat)\n",
    "    uj = Array(trial, buffer=ue)\n",
    "    error = np.sqrt(inner(1, (u_hat.backward()-uj)**2))\n",
    "    return error"
   ]
  },
  {
   "cell_type": "markdown",
   "id": "b7adbd3d",
   "metadata": {
    "editable": true
   },
   "source": [
    "Let us first try basis ([4](#eq:shen)) as test function and\n",
    "([5](#eq:heinrichs)) as trial function. Use otherwise\n",
    "default parameters."
   ]
  },
  {
   "cell_type": "code",
   "execution_count": null,
   "id": "4b1410ce",
   "metadata": {
    "editable": true,
    "tags": [
     "thebe-init"
    ]
   },
   "outputs": [],
   "source": [
    "error = main(100, 0, 1)\n",
    "print(error)"
   ]
  },
  {
   "cell_type": "markdown",
   "id": "5d9c0523",
   "metadata": {
    "editable": true
   },
   "source": [
    "So the error is small in deed. Perhaps more interesting, let's\n",
    "look at the sparsity pattern of the coefficient matrix"
   ]
  },
  {
   "cell_type": "code",
   "execution_count": null,
   "id": "9b9c71ad",
   "metadata": {
    "editable": true,
    "tags": [
     "thebe-init"
    ]
   },
   "outputs": [],
   "source": [
    "M = main(100, 0, 1, method=2)\n",
    "import plotly.express as px\n",
    "z = np.where(abs(M.diags().toarray()) > 1e-6, 0, 1).astype(bool)\n",
    "fig = px.imshow(z, binary_string=True)\n",
    "fig.show()\n",
    "#plt.spy(M.diags(), markersize=0.2) # or use matplotlib"
   ]
  },
  {
   "cell_type": "markdown",
   "id": "4c180fab",
   "metadata": {
    "editable": true
   },
   "source": [
    "The coefficient matrix has 4 non-zero diagonals. You can now experiment\n",
    "with different test and trial functions, but you will not get a better\n",
    "result than that. Try basis ([5](#eq:heinrichs)) for both test and trial\n",
    "function, and you'll get 5 nonzero diagonals.\n",
    "\n",
    "To see the convergence rate call `main` for a range of\n",
    "different mesh sizes"
   ]
  },
  {
   "cell_type": "code",
   "execution_count": null,
   "id": "43076470",
   "metadata": {
    "editable": true,
    "tags": [
     "thebe-init"
    ]
   },
   "outputs": [],
   "source": [
    "error = []\n",
    "N = (2**4, 2**6, 2**8, 2**10)\n",
    "for n in N:\n",
    "    error.append(main(n, 0, 1))\n",
    "fig = px.line(x=N, y=error, log_y=True)\n",
    "fig.update_layout(yaxis=dict(showexponent='all', exponentformat='e'))\n",
    "fig.show()"
   ]
  },
  {
   "cell_type": "markdown",
   "id": "3cff94a6",
   "metadata": {
    "editable": true
   },
   "source": [
    "<!-- ======= Bibliography ======= -->"
   ]
  }
 ],
 "metadata": {
  "kernelspec": {
   "display_name": "Python 3",
   "language": "python",
   "name": "python3"
  },
  "language_info": {
   "file_extension": ".py",
   "mimetype": "text/x-python",
   "name": "python",
   "nbconvert_exporter": "python",
   "pygments_lexer": "ipython3",
   "version": "3.8.5"
  }
 },
 "nbformat": 4,
 "nbformat_minor": 5
}
