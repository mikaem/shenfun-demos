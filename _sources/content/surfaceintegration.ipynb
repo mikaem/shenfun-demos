{
 "cells": [
  {
   "cell_type": "markdown",
   "id": "1d4d5185",
   "metadata": {},
   "source": [
    "<!-- dom:TITLE: Demo - Integration of functions -->\n",
    "# Demo - Integration of functions\n",
    "<!-- dom:AUTHOR: Mikael Mortensen Email:mikaem@math.uio.no at Department of Mathematics, University of Oslo. -->\n",
    "<!-- Author: -->  \n",
    "**Mikael Mortensen** (email: `mikaem@math.uio.no`), Department of Mathematics, University of Oslo.\n",
    "\n",
    "Date: **August 7, 2020**\n",
    "\n",
    "**Summary.** This is a demonstration of how the Python module [shenfun](https://github.com/spectralDNS/shenfun) can be used to\n",
    "integrate over 1D curves and 2D surfaces in 3D space.\n",
    "We make use of\n",
    "curvilinear coordinates, and reproduce some integrals\n",
    "performed by Behnam Hashemi with [Chebfun](http://www.chebfun.org/examples/approx3/SurfaceIntegral3D.html).\n",
    "\n",
    "**Notice.**\n",
    "\n",
    "For all the examples below we could just as well\n",
    "use Legendre polynomials instead of Chebyshev.\n",
    "Just replace 'C' with 'L' when creating function spaces.\n",
    "The accuracy ought to be similar.\n",
    "\n",
    "\n",
    "\n",
    "\n",
    "\n",
    "\n",
    "\n",
    "\n",
    "\n",
    "\n",
    "\n",
    "\n",
    "\n",
    "\n",
    "## The inner product\n",
    "\n",
    "A lesser known fact about [shenfun](https://github.com/spectralDNS/shenfun) is\n",
    "that it can be used to perform regular, unweighted, integrals with\n",
    "spectral accuracy. With the newly added curvilinear coordinates\n",
    "feature, we can now also integrate over highly complex lines and surfaces\n",
    "embedded in a higher dimensional space.\n",
    "\n",
    "To integrate over a domain in shenfun we use the\n",
    "[inner()](https://shenfun.readthedocs.io/en/latest/shenfun.forms.html#shenfun.forms.inner.inner)\n",
    "function, with a constant test function. The [inner()](https://shenfun.readthedocs.io/en/latest/shenfun.forms.html#shenfun.forms.inner.inner)\n",
    "function in shenfun is defined as an integral over the\n",
    "entire domain $\\Omega$ in question"
   ]
  },
  {
   "cell_type": "markdown",
   "id": "0c10b83a",
   "metadata": {},
   "source": [
    "$$\n",
    "(u, v)_w = \\int_{\\Omega} u \\overline{v} w d\\Omega,\n",
    "$$"
   ]
  },
  {
   "cell_type": "markdown",
   "id": "071ac4eb",
   "metadata": {},
   "source": [
    "for trial function $u$, test function $v$ and weight $w$.\n",
    "Also, $\\overline{v}$ represents the complex conjugate of $v$, in case\n",
    "we are working with complex functions (like Fourier exponentials).\n",
    "\n",
    "The functions and weights take on different form, but if\n",
    "the test function $v$ is chosen to be a constant, e.g., $v=1$,\n",
    "then the weight is also constant, $w=1$, and the inner product becomes\n",
    "an unweighted integral of $u$ over the domain"
   ]
  },
  {
   "cell_type": "markdown",
   "id": "2bba3464",
   "metadata": {},
   "source": [
    "$$\n",
    "(u, 1)_w = \\int_{\\Omega} u d\\Omega\n",
    "$$"
   ]
  },
  {
   "cell_type": "markdown",
   "id": "44793f55",
   "metadata": {},
   "source": [
    "### Curve integrals\n",
    "\n",
    "For example, if we create some function space on the line from\n",
    "0 to 1, then we can get the length of this domain using `inner`"
   ]
  },
  {
   "cell_type": "code",
   "execution_count": null,
   "id": "957bd3d1",
   "metadata": {
    "tags": [
     "thebe-init"
    ]
   },
   "outputs": [],
   "source": [
    "from shenfun import *\n",
    "B = FunctionSpace(10, 'C', domain=(0, 1))\n",
    "u = Array(B, val=1)\n",
    "length = inner(u, 1)\n",
    "print('Length of domain =', length)"
   ]
  },
  {
   "cell_type": "markdown",
   "id": "90af58bb",
   "metadata": {},
   "source": [
    "Note that we cannot simply do `inner(1, 1)`, because the\n",
    "`inner` function does not know about the domain, which is part\n",
    "of the [FunctionSpace](https://shenfun.readthedocs.io/en/latest/shenfun.forms.html#shenfun.forms.arguments.FunctionSpace). So to integrate `u=1`, we need to\n",
    "create `u` as an [Array](https://shenfun.readthedocs.io/en/latest/shenfun.forms.html#shenfun.forms.arguments.Array) with the constant value 1.\n",
    "\n",
    "Since the function space `B` is Cartesian the computed\n",
    "length is simply the domain length.\n",
    "Not very impressive, but the same goes for multidimensional\n",
    "tensor product domains"
   ]
  },
  {
   "cell_type": "code",
   "execution_count": null,
   "id": "fcb6d17a",
   "metadata": {
    "tags": [
     "thebe-init"
    ]
   },
   "outputs": [],
   "source": [
    "F = FunctionSpace(10, 'F', domain=(0, 2*np.pi))\n",
    "T = TensorProductSpace(comm, (B, F))\n",
    "area = inner(1, Array(T, val=1))\n",
    "print('Area of domain =', area)"
   ]
  },
  {
   "cell_type": "markdown",
   "id": "c1260b71",
   "metadata": {},
   "source": [
    "Still not very impressive, but moving to curvilinear coordinates\n",
    "it all starts to become more interesting. Lets\n",
    "look at a spiral $C$ embedded in $\\mathbb{R}^3$, parametrized\n",
    "by one single parameter $t$"
   ]
  },
  {
   "cell_type": "markdown",
   "id": "1374b47a",
   "metadata": {},
   "source": [
    "$$\n",
    "\\begin{align*}\n",
    "x(t) &= \\sin 2t \\\\ \n",
    "y(t) &= \\cos 2t \\\\ \n",
    "z(t) &= \\frac{t}{2} \\\\ \n",
    "0 \\le & t \\le 2\\pi\n",
    "\\end{align*}\n",
    "$$"
   ]
  },
  {
   "cell_type": "markdown",
   "id": "f728335e",
   "metadata": {},
   "source": [
    "What is the length of this spiral? The spiral can be\n",
    "seen as the red curve in the figure a few cells below.\n",
    "\n",
    "The integral over the parametrized curve $C$ can\n",
    "be written as"
   ]
  },
  {
   "cell_type": "markdown",
   "id": "85157533",
   "metadata": {},
   "source": [
    "$$\n",
    "\\int_C ds = \\int_{t=0}^{2\\pi} \\sqrt{\\left(\\frac{d x}{d t}\\right)^2 + \\left(\\frac{d y}{d t}\\right)^2 + \\left(\\frac{d z}{d t}\\right)^2} dt.\n",
    "$$"
   ]
  },
  {
   "cell_type": "markdown",
   "id": "e9c59713",
   "metadata": {},
   "source": [
    "We can find this integral easily using shenfun. Create\n",
    "a function space in curvilinear coordinates, providing\n",
    "the position vector $\\mathbf{r} = x(t)\\mathbf{i} + y(t) \\mathbf{j} + z(t) \\mathbf{k}$\n",
    "as input. Also, choose to work with covariant basis vectors, which\n",
    "is really not important unless you work with vector equations. The\n",
    "alternative is the default 'normal', where the basis vectors\n",
    "are normalized to unit length."
   ]
  },
  {
   "cell_type": "code",
   "execution_count": null,
   "id": "8be7191e",
   "metadata": {
    "tags": [
     "thebe-init"
    ]
   },
   "outputs": [],
   "source": [
    "import sympy as sp\n",
    "from shenfun import *\n",
    "config['basisvectors'] = 'covariant'\n",
    "t = sp.Symbol('x', real=True, positive=True)\n",
    "rv = (sp.sin(2*t), sp.cos(2*t), 0.5*t)\n",
    "C = FunctionSpace(100, 'C', domain=(0, 2*np.pi), coordinates=((t,), rv))"
   ]
  },
  {
   "cell_type": "markdown",
   "id": "1de9a763",
   "metadata": {},
   "source": [
    "Then compute the arclength using [inner()](https://shenfun.readthedocs.io/en/latest/shenfun.forms.html#shenfun.forms.inner.inner), again by using a constant\n",
    "testfunction 1, and a constant [Array](https://shenfun.readthedocs.io/en/latest/shenfun.forms.html#shenfun.forms.arguments.Array) `u=1`"
   ]
  },
  {
   "cell_type": "code",
   "execution_count": null,
   "id": "7fcf117b",
   "metadata": {
    "tags": [
     "thebe-init"
    ]
   },
   "outputs": [],
   "source": [
    "length = inner(1, Array(C, val=1))\n",
    "print('Length of spiral =', length)"
   ]
  },
  {
   "cell_type": "markdown",
   "id": "9fb9e925",
   "metadata": {},
   "source": [
    "The arclength is found to be slightly longer than $4 \\pi$. Looking at the\n",
    "spiral below, the result looks reasonable."
   ]
  },
  {
   "cell_type": "code",
   "execution_count": null,
   "id": "4dc86648",
   "metadata": {
    "tags": [
     "thebe-init"
    ]
   },
   "outputs": [],
   "source": [
    "%matplotlib inline\n",
    "\n",
    "import matplotlib.pyplot as plt\n",
    "fig = plt.figure(figsize=(4, 3))\n",
    "X = C.cartesian_mesh(uniform=True)\n",
    "ax = fig.add_subplot(111, projection='3d')\n",
    "p = ax.plot(X[0], X[1], X[2], 'r')\n",
    "hx = ax.set_xticks(np.linspace(-1, 1, 5))\n",
    "hy = ax.set_yticks(np.linspace(-1, 1, 5))"
   ]
  },
  {
   "cell_type": "markdown",
   "id": "6389d8eb",
   "metadata": {},
   "source": [
    "The term $\\sqrt{\\left(\\frac{d x}{d t}\\right)^2 + \\left(\\frac{d y}{d t}\\right)^2 + \\left(\\frac{d z}{d t}\\right)^2}$\n",
    "is actually here a constant $\\sqrt{4.25}$, found in shenfun as"
   ]
  },
  {
   "cell_type": "code",
   "execution_count": null,
   "id": "776d63c3",
   "metadata": {
    "tags": [
     "thebe-init"
    ]
   },
   "outputs": [],
   "source": [
    "C.coors.sg"
   ]
  },
  {
   "cell_type": "markdown",
   "id": "4a4b8821",
   "metadata": {},
   "source": [
    "We could also integrate a non-constant function over the spiral.\n",
    "For example, lets integrate the function $f(x, y, z)= \\sin^2 x$"
   ]
  },
  {
   "cell_type": "markdown",
   "id": "c13ee81b",
   "metadata": {},
   "source": [
    "$$\n",
    "\\int_C \\sin^2 x ds = \\int_{t=0}^{2\\pi} \\sin^2 (\\sin 2t) \\sqrt{\\left(\\frac{d x}{d t}\\right)^2 + \\left(\\frac{d y}{d t}\\right)^2 + \\left(\\frac{d z}{d t}\\right)^2} dt\n",
    "$$"
   ]
  },
  {
   "cell_type": "code",
   "execution_count": null,
   "id": "99e9f915",
   "metadata": {
    "tags": [
     "thebe-init"
    ]
   },
   "outputs": [],
   "source": [
    "inner(1, Array(C, buffer=sp.sin(rv[0])**2))"
   ]
  },
  {
   "cell_type": "markdown",
   "id": "def72b17",
   "metadata": {},
   "source": [
    "which can be easily verified using, e.g., Wolfram Alpha"
   ]
  },
  {
   "cell_type": "code",
   "execution_count": null,
   "id": "b14a783d",
   "metadata": {
    "tags": [
     "thebe-init"
    ]
   },
   "outputs": [],
   "source": [
    "from IPython.display import IFrame\n",
    "IFrame(\"https://www.wolframalpha.com/input/?i=integrate+sin%5E2%28sin%282t%29%29+sqrt%284.25%29+from+t%3D0+to+2pi\", width=\"500px\", height=\"350px\")"
   ]
  },
  {
   "cell_type": "markdown",
   "id": "49c30128",
   "metadata": {},
   "source": [
    "### Surface integrals\n",
    "\n",
    "Consider a 3D function $f(x,y,z) \\in \\mathbb{R}^3$ and\n",
    "a 2D surface (not neccessarily plane) $S(u, v)$,\n",
    "parametrized in two new coordinates $u$ and $v$. A position\n",
    "vector $\\mathbf{r}$ can be used to parametrize $S$"
   ]
  },
  {
   "cell_type": "markdown",
   "id": "8ba49522",
   "metadata": {},
   "source": [
    "$$\n",
    "\\mathbf{r} = x(u, v) \\,\\mathbf{i} + y(u, v) \\,\\mathbf{j} + z(u, v) \\,\\mathbf{k},\n",
    "$$"
   ]
  },
  {
   "cell_type": "markdown",
   "id": "75a29431",
   "metadata": {},
   "source": [
    "where $\\mathbf{i}, \\mathbf{j}, \\mathbf{k}$ are the Cartesian unit vectors.\n",
    "The two new coordinates $u$ and $v$ are functions of $x, y, z$,\n",
    "and they each have a one-dimensional domain"
   ]
  },
  {
   "cell_type": "markdown",
   "id": "f7aa66f4",
   "metadata": {},
   "source": [
    "$$\n",
    "u \\in D_u \\quad v \\in D_v.\n",
    "$$"
   ]
  },
  {
   "cell_type": "markdown",
   "id": "24b9b230",
   "metadata": {},
   "source": [
    "The exact size of the domain depends on the problem at hand. The computational\n",
    "domain of the surface $S$ is $D=D_u \\times D_v$.\n",
    "\n",
    "A surface integral of $f$ over $S$ can now be written"
   ]
  },
  {
   "cell_type": "markdown",
   "id": "e971800c",
   "metadata": {},
   "source": [
    "$$\n",
    "\\int_S f(x, y, z) dS = \\int_D f(x(u, v), y(u, v), z(u, v)) \\left|\\frac{\\partial \\mathbf{r}}{\\partial u} \\times \\frac{\\partial \\mathbf{r}}{\\partial v} \\right| dudv,\n",
    "$$"
   ]
  },
  {
   "cell_type": "markdown",
   "id": "79e137e1",
   "metadata": {},
   "source": [
    "where $dS$ is a surface area element. With shenfun such integrals\n",
    "are trivial, even for highly complex domains.\n",
    "\n",
    "## Example 1\n",
    "\n",
    "Consider first the surface integral of $f(x,y,z)=x^2$\n",
    "over the unit sphere. We use regular spherical coordinates,"
   ]
  },
  {
   "cell_type": "markdown",
   "id": "9e494485",
   "metadata": {},
   "source": [
    "$$\n",
    "\\begin{align*}\n",
    "0 &\\le \\theta \\le \\pi \\\\ \n",
    "0 &\\le \\phi \\le 2\\pi \\\\ \n",
    "x(\\theta, \\phi) &= \\sin \\theta \\cos \\phi \\\\ \n",
    "y(\\theta, \\phi) &= \\sin \\theta \\sin \\phi \\\\ \n",
    "z(\\theta, \\phi) &= \\cos \\theta\n",
    "\\end{align*}\n",
    "$$"
   ]
  },
  {
   "cell_type": "markdown",
   "id": "a2034b32",
   "metadata": {},
   "source": [
    "The straight forward implementation of a function space for\n",
    "the unit sphere reads"
   ]
  },
  {
   "cell_type": "code",
   "execution_count": null,
   "id": "3d1d592e",
   "metadata": {
    "tags": [
     "thebe-init"
    ]
   },
   "outputs": [],
   "source": [
    "import sympy as sp\n",
    "\n",
    "theta, phi = psi =sp.symbols('x,y', real=True, positive=True)\n",
    "rv = (sp.sin(theta)*sp.cos(phi), sp.sin(theta)*sp.sin(phi), sp.cos(theta))\n",
    "\n",
    "B0 = FunctionSpace(0, 'C', domain=(0, np.pi))\n",
    "B1 = FunctionSpace(0, 'F', dtype='d')\n",
    "T = TensorProductSpace(comm, (B0, B1), coordinates=(psi, rv, sp.Q.positive(sp.sin(theta))))"
   ]
  },
  {
   "cell_type": "markdown",
   "id": "b52d7f96",
   "metadata": {},
   "source": [
    "where `sp.Q.positive(sp.sin(theta))` is a restriction that\n",
    "helps `Sympy` in computing the Jacobian required for the integral.\n",
    "We can now approximate the function $f$ on this surface"
   ]
  },
  {
   "cell_type": "code",
   "execution_count": null,
   "id": "5a888d55",
   "metadata": {
    "tags": [
     "thebe-init"
    ]
   },
   "outputs": [],
   "source": [
    "f = Array(T, buffer=rv[0]**2)"
   ]
  },
  {
   "cell_type": "markdown",
   "id": "26c6d50c",
   "metadata": {},
   "source": [
    "and we can integrate over $S$"
   ]
  },
  {
   "cell_type": "code",
   "execution_count": null,
   "id": "6b255ced",
   "metadata": {
    "tags": [
     "thebe-init"
    ]
   },
   "outputs": [],
   "source": [
    "I = inner(1, f)"
   ]
  },
  {
   "cell_type": "markdown",
   "id": "d6fcd9d9",
   "metadata": {},
   "source": [
    "and finally compare to the exact result, which is $4 \\pi / 3$"
   ]
  },
  {
   "cell_type": "code",
   "execution_count": null,
   "id": "55684b58",
   "metadata": {
    "tags": [
     "thebe-init"
    ]
   },
   "outputs": [],
   "source": [
    "print('Error =', abs(I-4*np.pi/3))"
   ]
  },
  {
   "cell_type": "markdown",
   "id": "3910d307",
   "metadata": {},
   "source": [
    "Note that we can here achieve better accuracy by using\n",
    "more quadrature points. For example by refining `f`"
   ]
  },
  {
   "cell_type": "code",
   "execution_count": null,
   "id": "c33aab23",
   "metadata": {
    "tags": [
     "thebe-init"
    ]
   },
   "outputs": [],
   "source": [
    "T = T.get_refined(2*np.array(f.global_shape))\n",
    "f = Array(T, buffer=rv[0]**2)\n",
    "print('Error =', abs(inner(1, f)-4*np.pi/3))"
   ]
  },
  {
   "cell_type": "markdown",
   "id": "def5522e",
   "metadata": {},
   "source": [
    "Not bad at all:-)\n",
    "\n",
    "To go a little deeper into the integral, we can get the\n",
    "term $\\left|\\frac{\\partial \\mathbf{r}}{\\partial u} \\times \\frac{\\partial \\mathbf{r}}{\\partial v} \\right|$\n",
    "as"
   ]
  },
  {
   "cell_type": "code",
   "execution_count": null,
   "id": "6e1503b0",
   "metadata": {
    "tags": [
     "thebe-init"
    ]
   },
   "outputs": [],
   "source": [
    "print(T.coors.sg)"
   ]
  },
  {
   "cell_type": "markdown",
   "id": "e66479a7",
   "metadata": {},
   "source": [
    "Here the printed variable is `x`, but this is because `theta`\n",
    "is named `x` internally by `Sympy`. This is because of the definition\n",
    "used above: `theta, phi = sp.symbols('x,y', real=True, positive=True)`.\n",
    "\n",
    "Note that $\\mathbf{b}_u = \\frac{\\partial \\mathbf{r}}{\\partial u}$ and\n",
    "$\\mathbf{b}_v = \\frac{\\partial \\mathbf{r}}{\\partial v}$ are the two\n",
    "basis vectors used by shenfun for the surface $S$. The basis\n",
    "vectors are obtainable as `T.coors.b`, and can also be printed\n",
    "in latex using:"
   ]
  },
  {
   "cell_type": "code",
   "execution_count": null,
   "id": "febf23b3",
   "metadata": {
    "tags": [
     "thebe-init"
    ]
   },
   "outputs": [],
   "source": [
    "from IPython.display import Math\n",
    "Math(T.coors.latex_basis_vectors(symbol_names={theta: '\\\\theta', phi: '\\\\phi'}))"
   ]
  },
  {
   "cell_type": "markdown",
   "id": "137a8672",
   "metadata": {},
   "source": [
    "where we tell latex to print `theta` as $\\theta$, and not `x`:-)\n",
    "\n",
    "From the basis vectors it should be easy to see that $\\left| \\mathbf{b}_{\\theta} \\times \\mathbf{b}_{\\phi} \\right| = \\sin \\theta$.\n",
    "\n",
    "## Example 2\n",
    "\n",
    "Next, we solve [Example 5](http://www.math24.net/surface-integrals-of-first-kind.html)\n",
    "from the online resources at math24.net. Here"
   ]
  },
  {
   "cell_type": "markdown",
   "id": "269619f4",
   "metadata": {},
   "source": [
    "$$\n",
    "f = \\sqrt{1+x^2+y^2}\n",
    "$$"
   ]
  },
  {
   "cell_type": "markdown",
   "id": "4f71ba69",
   "metadata": {},
   "source": [
    "and the surface is defined by"
   ]
  },
  {
   "cell_type": "markdown",
   "id": "1f208d80",
   "metadata": {},
   "source": [
    "$$\n",
    "\\mathbf{r} = u \\cos v \\mathbf{i} + u \\sin v \\mathbf{j} + v \\mathbf{k}\n",
    "$$"
   ]
  },
  {
   "cell_type": "markdown",
   "id": "4c4e339f",
   "metadata": {},
   "source": [
    "with $0 \\le u \\le 2, 0 \\le v \\le 2\\pi$.\n",
    "\n",
    "The implementation is only a few lines, and we end by comparing\n",
    "to the exact solution $14 \\pi /3$"
   ]
  },
  {
   "cell_type": "code",
   "execution_count": null,
   "id": "644a09fd",
   "metadata": {
    "tags": [
     "thebe-init"
    ]
   },
   "outputs": [],
   "source": [
    "u, v = psi =sp.symbols('x,y', real=True, positive=True)\n",
    "rv = (u*sp.cos(v), u*sp.sin(v), v)\n",
    "B0 = FunctionSpace(0, 'C', domain=(0, 2))\n",
    "B1 = FunctionSpace(0, 'C', domain=(0, np.pi))\n",
    "T = TensorProductSpace(comm, (B0, B1), coordinates=(psi, rv))\n",
    "f = Array(T, buffer=sp.sqrt(1+rv[0]**2+rv[1]**2))\n",
    "print('Error =', abs(inner(1, f)-14*np.pi/3))"
   ]
  },
  {
   "cell_type": "markdown",
   "id": "5aa4ea0d",
   "metadata": {},
   "source": [
    "In this case the integral measure is"
   ]
  },
  {
   "cell_type": "code",
   "execution_count": null,
   "id": "534ca7ce",
   "metadata": {
    "tags": [
     "thebe-init"
    ]
   },
   "outputs": [],
   "source": [
    "print(T.coors.sg)"
   ]
  },
  {
   "cell_type": "markdown",
   "id": "03d2f4a0",
   "metadata": {},
   "source": [
    "## Example 3\n",
    "\n",
    "In this third example we use a surface that\n",
    "looks like a seashell. Again, the example is taken from\n",
    "[chebfun](http://www.chebfun.org/examples/approx3/SurfaceIntegral3D.html).\n",
    "\n",
    "The surface of the seashell is parametrized with position\n",
    "vector"
   ]
  },
  {
   "cell_type": "markdown",
   "id": "2906686f",
   "metadata": {},
   "source": [
    "$$\n",
    "\\begin{align*}\n",
    "\\mathbf{r} &= \\left(\\left(\\frac{5}{4}-\\frac{5 v}{8 \\pi}\\right)  \\cos 2v(1+\\cos u) + \\cos 2v \\right) \\mathbf{i} \\\\ \n",
    "  &+\\left(\\left(\\frac{5}{4}-\\frac{5 v}{8 \\pi}\\right) \\sin 2v (1+\\cos u) + \\sin 2v \\right) \\mathbf{j},\\\\ \n",
    "  &+\\left(\\frac{10 v}{2 \\pi} + \\left(\\frac{5}{4}-\\frac{5 v}{8 \\pi}\\right) \\sin u + 15\\right) \\mathbf{k}\n",
    "\\end{align*}\n",
    "$$"
   ]
  },
  {
   "cell_type": "markdown",
   "id": "9270ec54",
   "metadata": {},
   "source": [
    "for $0 \\le u \\le 2 \\pi, -2 \\pi \\le v \\le 2 \\pi$.\n",
    "\n",
    "The function $f$ is now defined as"
   ]
  },
  {
   "cell_type": "markdown",
   "id": "ba989c2b",
   "metadata": {},
   "source": [
    "$$\n",
    "f(x,y,z) = x+y+z\n",
    "$$"
   ]
  },
  {
   "cell_type": "markdown",
   "id": "07bd3fc3",
   "metadata": {},
   "source": [
    "The implementation is"
   ]
  },
  {
   "cell_type": "code",
   "execution_count": null,
   "id": "678abd4b",
   "metadata": {
    "tags": [
     "thebe-init"
    ]
   },
   "outputs": [],
   "source": [
    "rv = (5*(1-v/(2*sp.pi))*sp.cos(2*v)*(1+sp.cos(u))/4 + sp.cos(2*v),\n",
    "      5*(1-v/(2*sp.pi))*sp.sin(2*v)*(1+sp.cos(u))/4 + sp.sin(2*v),\n",
    "      10*v/(2*sp.pi) + 5*(1-v/(2*sp.pi))*sp.sin(u)/4 + 15)\n",
    "\n",
    "B0 = FunctionSpace(100, 'C', domain=(0, 2*np.pi))\n",
    "B1 = FunctionSpace(100, 'C', domain=(-2*np.pi, 2*np.pi))\n",
    "T = TensorProductSpace(comm, (B0, B1), coordinates=(psi, rv, sp.Q.positive(v-2*sp.pi)))\n",
    "\n",
    "f = rv[0]+rv[1]+rv[2]\n",
    "fb = Array(T, buffer=f)\n",
    "I = inner(1, fb)\n",
    "print(I)"
   ]
  },
  {
   "cell_type": "markdown",
   "id": "8ae1049d",
   "metadata": {},
   "source": [
    "which agrees very well with chebfun's result. The basis vectors\n",
    "for the surface of the seashell are"
   ]
  },
  {
   "cell_type": "code",
   "execution_count": null,
   "id": "cf67cdde",
   "metadata": {
    "tags": [
     "thebe-init"
    ]
   },
   "outputs": [],
   "source": [
    "Math(T.coors.latex_basis_vectors(symbol_names={u: 'u', v: 'v'}))"
   ]
  },
  {
   "cell_type": "markdown",
   "id": "415e66a2",
   "metadata": {},
   "source": [
    "which, if nothing else, shows the power of symbolic\n",
    "computing in Sympy.\n",
    "\n",
    "We can plot the\n",
    "seashell using either plotly or mayavi. Here we choose\n",
    "plotly since it integrates well with the executable\n",
    "jupyter book."
   ]
  },
  {
   "cell_type": "code",
   "execution_count": null,
   "id": "d3d097ff",
   "metadata": {
    "tags": [
     "thebe-init"
    ]
   },
   "outputs": [],
   "source": [
    "import plotly\n",
    "fig = surf3D(fb, colorscale=plotly.colors.sequential.Jet)\n",
    "fig.update_layout(scene_camera_eye=dict(x=1.6, y=-1.4, z=0))\n",
    "fig.show()"
   ]
  },
  {
   "cell_type": "markdown",
   "id": "21ed6d8c",
   "metadata": {},
   "source": [
    "<!-- ======= Bibliography ======= -->"
   ]
  }
 ],
 "metadata": {
  "kernelspec": {
   "display_name": "Python 3",
   "language": "python",
   "name": "python3"
  },
  "language_info": {
   "file_extension": ".py",
   "mimetype": "text/x-python",
   "name": "python",
   "nbconvert_exporter": "python",
   "pygments_lexer": "ipython3",
   "version": "3.8.5"
  }
 },
 "nbformat": 4,
 "nbformat_minor": 5
}
