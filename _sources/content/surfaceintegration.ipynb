{
 "cells": [
  {
   "cell_type": "markdown",
   "id": "4230cf2d",
   "metadata": {},
   "source": [
    "<!-- dom:TITLE: Demo - Integration of functions -->\n",
    "# Demo - Integration of functions\n",
    "<!-- dom:AUTHOR: Mikael Mortensen Email:mikaem@math.uio.no at Department of Mathematics, University of Oslo. -->\n",
    "<!-- Author: -->  \n",
    "**Mikael Mortensen** (email: `mikaem@math.uio.no`), Department of Mathematics, University of Oslo.\n",
    "\n",
    "Date: **August 7, 2020**\n",
    "\n",
    "**Summary.** This is a demonstration of how the Python module [shenfun](https://github.com/spectralDNS/shenfun) can be used to\n",
    "integrate over 1D curves and 2D surfaces in 3D space.\n",
    "We make use of\n",
    "curvilinear coordinates, and reproduce some integrals\n",
    "performed by Behnam Hashemi with [Chebfun](http://www.chebfun.org/examples/approx3/SurfaceIntegral3D.html).\n",
    "\n",
    "**Notice.**\n",
    "\n",
    "For all the examples below we could just as well\n",
    "use Legendre polynomials instead of Chebyshev.\n",
    "Just replace 'C' with 'L' when creating function spaces.\n",
    "The accuracy ought to be similar.\n",
    "\n",
    "\n",
    "\n",
    "\n",
    "\n",
    "\n",
    "\n",
    "\n",
    "\n",
    "\n",
    "\n",
    "\n",
    "\n",
    "\n",
    "## The inner product\n",
    "\n",
    "A lesser known fact about [shenfun](https://github.com/spectralDNS/shenfun) is\n",
    "that it can be used to perform regular, unweighted, integrals with\n",
    "spectral accuracy. With the newly added curvilinear coordinates\n",
    "feature, we can now also integrate over highly complex lines and surfaces\n",
    "embedded in a higher dimensional space.\n",
    "\n",
    "To integrate over a domain in shenfun we use the\n",
    "[inner()](https://shenfun.readthedocs.io/en/latest/shenfun.forms.html#shenfun.forms.inner.inner)\n",
    "function, with a constant test function. The [inner()](https://shenfun.readthedocs.io/en/latest/shenfun.forms.html#shenfun.forms.inner.inner)\n",
    "function in shenfun is defined as an integral over the\n",
    "entire domain $\\Omega$ in question"
   ]
  },
  {
   "cell_type": "markdown",
   "id": "fc5be26e",
   "metadata": {},
   "source": [
    "$$\n",
    "(u, v)_w = \\int_{\\Omega} u \\overline{v} w d\\Omega,\n",
    "$$"
   ]
  },
  {
   "cell_type": "markdown",
   "id": "68213e4d",
   "metadata": {},
   "source": [
    "for trial function $u$, test function $v$ and weight $w$.\n",
    "Also, $\\overline{v}$ represents the complex conjugate of $v$, in case\n",
    "we are working with complex functions (like Fourier exponentials).\n",
    "\n",
    "The functions and weights take on different form, but if\n",
    "the test function $v$ is chosen to be a constant, e.g., $v=1$,\n",
    "then the weight is also constant, $w=1$, and the inner product becomes\n",
    "an unweighted integral of $u$ over the domain"
   ]
  },
  {
   "cell_type": "markdown",
   "id": "045a82db",
   "metadata": {},
   "source": [
    "$$\n",
    "(u, 1)_w = \\int_{\\Omega} u d\\Omega\n",
    "$$"
   ]
  },
  {
   "cell_type": "markdown",
   "id": "3e1c6713",
   "metadata": {},
   "source": [
    "### Curve integrals\n",
    "\n",
    "For example, if we create some function space on the line from\n",
    "0 to 1, then we can get the length of this domain using `inner`"
   ]
  },
  {
   "cell_type": "code",
   "execution_count": null,
   "id": "208bd748",
   "metadata": {
    "tags": [
     "thebe-init"
    ]
   },
   "outputs": [],
   "source": [
    "from shenfun import *\n",
    "B = FunctionSpace(10, 'C', domain=(0, 1))\n",
    "u = Array(B, val=1)\n",
    "length = inner(u, 1)\n",
    "print('Length of domain =', length)"
   ]
  },
  {
   "cell_type": "markdown",
   "id": "b69e168c",
   "metadata": {},
   "source": [
    "Note that we cannot simply do `inner(1, 1)`, because the\n",
    "`inner` function does not know about the domain, which is part\n",
    "of the [FunctionSpace](https://shenfun.readthedocs.io/en/latest/shenfun.forms.html#shenfun.forms.arguments.FunctionSpace). So to integrate `u=1`, we need to\n",
    "create `u` as an [Array](https://shenfun.readthedocs.io/en/latest/shenfun.forms.html#shenfun.forms.arguments.Array) with the constant value 1.\n",
    "\n",
    "Since the function space `B` is Cartesian the computed\n",
    "length is simply the domain length.\n",
    "Not very impressive, but the same goes for multidimensional\n",
    "tensor product domains"
   ]
  },
  {
   "cell_type": "code",
   "execution_count": null,
   "id": "6ff35d4d",
   "metadata": {
    "tags": [
     "thebe-init"
    ]
   },
   "outputs": [],
   "source": [
    "F = FunctionSpace(10, 'F', domain=(0, 2*np.pi))\n",
    "T = TensorProductSpace(comm, (B, F))\n",
    "area = inner(1, Array(T, val=1))\n",
    "print('Area of domain =', area)"
   ]
  },
  {
   "cell_type": "markdown",
   "id": "dc544cf4",
   "metadata": {},
   "source": [
    "Still not very impressive, but moving to curvilinear coordinates\n",
    "it all starts to become more interesting. Lets\n",
    "look at a spiral $C$ embedded in $\\mathbb{R}^3$, parametrized\n",
    "by one single parameter $t$"
   ]
  },
  {
   "cell_type": "markdown",
   "id": "da113314",
   "metadata": {},
   "source": [
    "$$\n",
    "\\begin{align*}\n",
    "x(t) &= \\sin 2t \\\\ \n",
    "y(t) &= \\cos 2t \\\\ \n",
    "z(t) &= \\frac{t}{2} \\\\ \n",
    "0 \\le & t \\le 2\\pi\n",
    "\\end{align*}\n",
    "$$"
   ]
  },
  {
   "cell_type": "markdown",
   "id": "2277e6e1",
   "metadata": {},
   "source": [
    "What is the length of this spiral? The spiral can be\n",
    "seen as the red curve in the figure a few cells below.\n",
    "\n",
    "The integral over the parametrized curve $C$ can\n",
    "be written as"
   ]
  },
  {
   "cell_type": "markdown",
   "id": "0a32f8ab",
   "metadata": {},
   "source": [
    "$$\n",
    "\\int_C ds = \\int_{t=0}^{2\\pi} \\sqrt{\\left(\\frac{d x}{d t}\\right)^2 + \\left(\\frac{d y}{d t}\\right)^2 + \\left(\\frac{d z}{d t}\\right)^2} dt.\n",
    "$$"
   ]
  },
  {
   "cell_type": "markdown",
   "id": "44b25b84",
   "metadata": {},
   "source": [
    "We can find this integral easily using shenfun. Create\n",
    "a function space in curvilinear coordinates, providing\n",
    "the position vector $\\mathbf{r} = x(t)\\mathbf{i} + y(t) \\mathbf{j} + z(t) \\mathbf{k}$\n",
    "as input. Also, choose to work with covariant basis vectors, which\n",
    "is really not important unless you work with vector equations. The\n",
    "alternative is the default 'normal', where the basis vectors\n",
    "are normalized to unit length."
   ]
  },
  {
   "cell_type": "code",
   "execution_count": null,
   "id": "80ae1078",
   "metadata": {
    "tags": [
     "thebe-init"
    ]
   },
   "outputs": [],
   "source": [
    "import sympy as sp\n",
    "from shenfun import *\n",
    "config['basisvectors'] = 'covariant'\n",
    "t = sp.Symbol('x', real=True, positive=True)\n",
    "rv = (sp.sin(2*t), sp.cos(2*t), 0.5*t)\n",
    "C = FunctionSpace(100, 'C', domain=(0, 2*np.pi), coordinates=((t,), rv))"
   ]
  },
  {
   "cell_type": "markdown",
   "id": "64bd5c1f",
   "metadata": {},
   "source": [
    "Then compute the arclength using [inner()](https://shenfun.readthedocs.io/en/latest/shenfun.forms.html#shenfun.forms.inner.inner), again by using a constant\n",
    "testfunction 1, and a constant [Array](https://shenfun.readthedocs.io/en/latest/shenfun.forms.html#shenfun.forms.arguments.Array) `u=1`"
   ]
  },
  {
   "cell_type": "code",
   "execution_count": null,
   "id": "9cbcc9db",
   "metadata": {
    "tags": [
     "thebe-init"
    ]
   },
   "outputs": [],
   "source": [
    "length = inner(1, Array(C, val=1))\n",
    "print('Length of spiral =', length)"
   ]
  },
  {
   "cell_type": "markdown",
   "id": "4834cf5a",
   "metadata": {},
   "source": [
    "The arclength is found to be slightly longer than $4 \\pi$. Looking at the\n",
    "spiral below, the result looks reasonable."
   ]
  },
  {
   "cell_type": "code",
   "execution_count": null,
   "id": "601287df",
   "metadata": {
    "tags": [
     "thebe-init"
    ]
   },
   "outputs": [],
   "source": [
    "%matplotlib inline\n",
    "\n",
    "import matplotlib.pyplot as plt\n",
    "fig = plt.figure(figsize=(4, 3))\n",
    "X = C.cartesian_mesh(uniform=True)\n",
    "ax = fig.add_subplot(111, projection='3d')\n",
    "p = ax.plot(X[0], X[1], X[2], 'r')\n",
    "hx = ax.set_xticks(np.linspace(-1, 1, 5))\n",
    "hy = ax.set_yticks(np.linspace(-1, 1, 5))"
   ]
  },
  {
   "cell_type": "markdown",
   "id": "e78054a7",
   "metadata": {},
   "source": [
    "The term $\\sqrt{\\left(\\frac{d x}{d t}\\right)^2 + \\left(\\frac{d y}{d t}\\right)^2 + \\left(\\frac{d z}{d t}\\right)^2}$\n",
    "is actually here a constant $\\sqrt{4.25}$, found in shenfun as"
   ]
  },
  {
   "cell_type": "code",
   "execution_count": null,
   "id": "c29477b6",
   "metadata": {
    "tags": [
     "thebe-init"
    ]
   },
   "outputs": [],
   "source": [
    "C.coors.sg"
   ]
  },
  {
   "cell_type": "markdown",
   "id": "c4a9c3bd",
   "metadata": {},
   "source": [
    "We could also integrate a non-constant function over the spiral.\n",
    "For example, lets integrate the function $f(x, y, z)= \\sin^2 x$"
   ]
  },
  {
   "cell_type": "markdown",
   "id": "28a97fef",
   "metadata": {},
   "source": [
    "$$\n",
    "\\int_C \\sin^2 x ds = \\int_{t=0}^{2\\pi} \\sin^2 (\\sin 2t) \\sqrt{\\left(\\frac{d x}{d t}\\right)^2 + \\left(\\frac{d y}{d t}\\right)^2 + \\left(\\frac{d z}{d t}\\right)^2} dt\n",
    "$$"
   ]
  },
  {
   "cell_type": "code",
   "execution_count": null,
   "id": "30fe9842",
   "metadata": {
    "tags": [
     "thebe-init"
    ]
   },
   "outputs": [],
   "source": [
    "inner(1, Array(C, buffer=sp.sin(rv[0])**2))"
   ]
  },
  {
   "cell_type": "markdown",
   "id": "805d1e24",
   "metadata": {},
   "source": [
    "which can be easily verified using, e.g., Wolfram Alpha"
   ]
  },
  {
   "cell_type": "code",
   "execution_count": null,
   "id": "2cae9de4",
   "metadata": {
    "tags": [
     "thebe-init"
    ]
   },
   "outputs": [],
   "source": [
    "from IPython.display import IFrame\n",
    "IFrame(\"https://www.wolframalpha.com/input/?i=integrate+sin%5E2%28sin%282t%29%29+sqrt%284.25%29+from+t%3D0+to+2pi\", width=\"500px\", height=\"350px\")"
   ]
  },
  {
   "cell_type": "markdown",
   "id": "7980704f",
   "metadata": {},
   "source": [
    "### Surface integrals\n",
    "\n",
    "Consider a 3D function $f(x,y,z) \\in \\mathbb{R}^3$ and\n",
    "a 2D surface (not neccessarily plane) $S(u, v)$,\n",
    "parametrized in two new coordinates $u$ and $v$. A position\n",
    "vector $\\mathbf{r}$ can be used to parametrize $S$"
   ]
  },
  {
   "cell_type": "markdown",
   "id": "757d2ac6",
   "metadata": {},
   "source": [
    "$$\n",
    "\\mathbf{r} = x(u, v) \\,\\mathbf{i} + y(u, v) \\,\\mathbf{j} + z(u, v) \\,\\mathbf{k},\n",
    "$$"
   ]
  },
  {
   "cell_type": "markdown",
   "id": "d342ce6a",
   "metadata": {},
   "source": [
    "where $\\mathbf{i}, \\mathbf{j}, \\mathbf{k}$ are the Cartesian unit vectors.\n",
    "The two new coordinates $u$ and $v$ are functions of $x, y, z$,\n",
    "and they each have a one-dimensional domain"
   ]
  },
  {
   "cell_type": "markdown",
   "id": "9a8977d2",
   "metadata": {},
   "source": [
    "$$\n",
    "u \\in D_u \\quad v \\in D_v.\n",
    "$$"
   ]
  },
  {
   "cell_type": "markdown",
   "id": "7f5ff97b",
   "metadata": {},
   "source": [
    "The exact size of the domain depends on the problem at hand. The computational\n",
    "domain of the surface $S$ is $D=D_u \\times D_v$.\n",
    "\n",
    "A surface integral of $f$ over $S$ can now be written"
   ]
  },
  {
   "cell_type": "markdown",
   "id": "597cb24c",
   "metadata": {},
   "source": [
    "$$\n",
    "\\int_S f(x, y, z) dS = \\int_D f(x(u, v), y(u, v), z(u, v)) \\left|\\frac{\\partial \\mathbf{r}}{\\partial u} \\times \\frac{\\partial \\mathbf{r}}{\\partial v} \\right| dudv,\n",
    "$$"
   ]
  },
  {
   "cell_type": "markdown",
   "id": "2938106f",
   "metadata": {},
   "source": [
    "where $dS$ is a surface area element. With shenfun such integrals\n",
    "are trivial, even for highly complex domains.\n",
    "\n",
    "## Example 1\n",
    "\n",
    "Consider first the surface integral of $f(x,y,z)=x^2$\n",
    "over the unit sphere. We use regular spherical coordinates,"
   ]
  },
  {
   "cell_type": "markdown",
   "id": "be539729",
   "metadata": {},
   "source": [
    "$$\n",
    "\\begin{align*}\n",
    "0 &\\le \\theta \\le \\pi \\\\ \n",
    "0 &\\le \\phi \\le 2\\pi \\\\ \n",
    "x(\\theta, \\phi) &= \\sin \\theta \\cos \\phi \\\\ \n",
    "y(\\theta, \\phi) &= \\sin \\theta \\sin \\phi \\\\ \n",
    "z(\\theta, \\phi) &= \\cos \\theta\n",
    "\\end{align*}\n",
    "$$"
   ]
  },
  {
   "cell_type": "markdown",
   "id": "26629954",
   "metadata": {},
   "source": [
    "The straight forward implementation of a function space for\n",
    "the unit sphere reads"
   ]
  },
  {
   "cell_type": "code",
   "execution_count": null,
   "id": "7022b773",
   "metadata": {
    "tags": [
     "thebe-init"
    ]
   },
   "outputs": [],
   "source": [
    "import sympy as sp\n",
    "\n",
    "theta, phi = psi =sp.symbols('x,y', real=True, positive=True)\n",
    "rv = (sp.sin(theta)*sp.cos(phi), sp.sin(theta)*sp.sin(phi), sp.cos(theta))\n",
    "\n",
    "B0 = FunctionSpace(0, 'C', domain=(0, np.pi))\n",
    "B1 = FunctionSpace(0, 'F', dtype='d')\n",
    "T = TensorProductSpace(comm, (B0, B1), coordinates=(psi, rv, sp.Q.positive(sp.sin(theta))))"
   ]
  },
  {
   "cell_type": "markdown",
   "id": "3e0e3122",
   "metadata": {},
   "source": [
    "where `sp.Q.positive(sp.sin(theta))` is a restriction that\n",
    "helps `Sympy` in computing the Jacobian required for the integral.\n",
    "We can now approximate the function $f$ on this surface"
   ]
  },
  {
   "cell_type": "code",
   "execution_count": null,
   "id": "e8f4a8b8",
   "metadata": {
    "tags": [
     "thebe-init"
    ]
   },
   "outputs": [],
   "source": [
    "f = Array(T, buffer=rv[0]**2)"
   ]
  },
  {
   "cell_type": "markdown",
   "id": "f905f999",
   "metadata": {},
   "source": [
    "and we can integrate over $S$"
   ]
  },
  {
   "cell_type": "code",
   "execution_count": null,
   "id": "f82ba666",
   "metadata": {
    "tags": [
     "thebe-init"
    ]
   },
   "outputs": [],
   "source": [
    "I = inner(1, f)"
   ]
  },
  {
   "cell_type": "markdown",
   "id": "6c183575",
   "metadata": {},
   "source": [
    "and finally compare to the exact result, which is $4 \\pi / 3$"
   ]
  },
  {
   "cell_type": "code",
   "execution_count": null,
   "id": "f1ac0486",
   "metadata": {
    "tags": [
     "thebe-init"
    ]
   },
   "outputs": [],
   "source": [
    "print('Error =', abs(I-4*np.pi/3))"
   ]
  },
  {
   "cell_type": "markdown",
   "id": "ad335050",
   "metadata": {},
   "source": [
    "Note that we can here achieve better accuracy by using\n",
    "more quadrature points. For example by refining `f`"
   ]
  },
  {
   "cell_type": "code",
   "execution_count": null,
   "id": "72a5043b",
   "metadata": {
    "tags": [
     "thebe-init"
    ]
   },
   "outputs": [],
   "source": [
    "T = T.get_refined(2*np.array(f.global_shape))\n",
    "f = Array(T, buffer=rv[0]**2)\n",
    "print('Error =', abs(inner(1, f)-4*np.pi/3))"
   ]
  },
  {
   "cell_type": "markdown",
   "id": "fb791b73",
   "metadata": {},
   "source": [
    "Not bad at all:-)\n",
    "\n",
    "To go a little deeper into the integral, we can get the\n",
    "term $\\left|\\frac{\\partial \\mathbf{r}}{\\partial u} \\times \\frac{\\partial \\mathbf{r}}{\\partial v} \\right|$\n",
    "as"
   ]
  },
  {
   "cell_type": "code",
   "execution_count": null,
   "id": "38b588d8",
   "metadata": {
    "tags": [
     "thebe-init"
    ]
   },
   "outputs": [],
   "source": [
    "print(T.coors.sg)"
   ]
  },
  {
   "cell_type": "markdown",
   "id": "6ab0b256",
   "metadata": {},
   "source": [
    "Here the printed variable is `x`, but this is because `theta`\n",
    "is named `x` internally by `Sympy`. This is because of the definition\n",
    "used above: `theta, phi = sp.symbols('x,y', real=True, positive=True)`.\n",
    "\n",
    "Note that $\\mathbf{b}_u = \\frac{\\partial \\mathbf{r}}{\\partial u}$ and\n",
    "$\\mathbf{b}_v = \\frac{\\partial \\mathbf{r}}{\\partial v}$ are the two\n",
    "basis vectors used by shenfun for the surface $S$. The basis\n",
    "vectors are obtainable as `T.coors.b`, and can also be printed\n",
    "in latex using:"
   ]
  },
  {
   "cell_type": "code",
   "execution_count": null,
   "id": "4e56ed92",
   "metadata": {
    "tags": [
     "thebe-init"
    ]
   },
   "outputs": [],
   "source": [
    "from IPython.display import Math\n",
    "Math(T.coors.latex_basis_vectors(symbol_names={theta: '\\\\theta', phi: '\\\\phi'}))"
   ]
  },
  {
   "cell_type": "markdown",
   "id": "d4074e29",
   "metadata": {},
   "source": [
    "where we tell latex to print `theta` as $\\theta$, and not `x`:-)\n",
    "\n",
    "From the basis vectors it should be easy to see that $\\left| \\mathbf{b}_{\\theta} \\times \\mathbf{b}_{\\phi} \\right| = \\sin \\theta$.\n",
    "\n",
    "## Example 2\n",
    "\n",
    "Next, we solve [Example 5](http://www.math24.net/surface-integrals-of-first-kind.html)\n",
    "from the online resources at math24.net. Here"
   ]
  },
  {
   "cell_type": "markdown",
   "id": "e8d78a88",
   "metadata": {},
   "source": [
    "$$\n",
    "f = \\sqrt{1+x^2+y^2}\n",
    "$$"
   ]
  },
  {
   "cell_type": "markdown",
   "id": "6a6a3372",
   "metadata": {},
   "source": [
    "and the surface is defined by"
   ]
  },
  {
   "cell_type": "markdown",
   "id": "80c3bd58",
   "metadata": {},
   "source": [
    "$$\n",
    "\\mathbf{r} = u \\cos v \\mathbf{i} + u \\sin v \\mathbf{j} + v \\mathbf{k}\n",
    "$$"
   ]
  },
  {
   "cell_type": "markdown",
   "id": "174cb405",
   "metadata": {},
   "source": [
    "with $0 \\le u \\le 2, 0 \\le v \\le 2\\pi$.\n",
    "\n",
    "The implementation is only a few lines, and we end by comparing\n",
    "to the exact solution $14 \\pi /3$"
   ]
  },
  {
   "cell_type": "code",
   "execution_count": null,
   "id": "9182a6fe",
   "metadata": {
    "tags": [
     "thebe-init"
    ]
   },
   "outputs": [],
   "source": [
    "u, v = psi =sp.symbols('x,y', real=True, positive=True)\n",
    "rv = (u*sp.cos(v), u*sp.sin(v), v)\n",
    "B0 = FunctionSpace(0, 'C', domain=(0, 2))\n",
    "B1 = FunctionSpace(0, 'C', domain=(0, np.pi))\n",
    "T = TensorProductSpace(comm, (B0, B1), coordinates=(psi, rv))\n",
    "f = Array(T, buffer=sp.sqrt(1+rv[0]**2+rv[1]**2))\n",
    "print('Error =', abs(inner(1, f)-14*np.pi/3))"
   ]
  },
  {
   "cell_type": "markdown",
   "id": "e1656128",
   "metadata": {},
   "source": [
    "In this case the integral measure is"
   ]
  },
  {
   "cell_type": "code",
   "execution_count": null,
   "id": "1a63acfe",
   "metadata": {
    "tags": [
     "thebe-init"
    ]
   },
   "outputs": [],
   "source": [
    "print(T.coors.sg)"
   ]
  },
  {
   "cell_type": "markdown",
   "id": "5dd03c8c",
   "metadata": {},
   "source": [
    "## Example 3\n",
    "\n",
    "In this third example we use a surface that\n",
    "looks like a seashell. Again, the example is taken from\n",
    "[chebfun](http://www.chebfun.org/examples/approx3/SurfaceIntegral3D.html).\n",
    "\n",
    "The surface of the seashell is parametrized with position\n",
    "vector"
   ]
  },
  {
   "cell_type": "markdown",
   "id": "9924d22a",
   "metadata": {},
   "source": [
    "$$\n",
    "\\begin{align*}\n",
    "\\mathbf{r} &= \\left(\\left(\\frac{5}{4}-\\frac{5 v}{8 \\pi}\\right)  \\cos 2v(1+\\cos u) + \\cos 2v \\right) \\mathbf{i} \\\\ \n",
    "  &+\\left(\\left(\\frac{5}{4}-\\frac{5 v}{8 \\pi}\\right) \\sin 2v (1+\\cos u) + \\sin 2v \\right) \\mathbf{j},\\\\ \n",
    "  &+\\left(\\frac{10 v}{2 \\pi} + \\left(\\frac{5}{4}-\\frac{5 v}{8 \\pi}\\right) \\sin u + 15\\right) \\mathbf{k}\n",
    "\\end{align*}\n",
    "$$"
   ]
  },
  {
   "cell_type": "markdown",
   "id": "cf0de8a7",
   "metadata": {},
   "source": [
    "for $0 \\le u \\le 2 \\pi, -2 \\pi \\le v \\le 2 \\pi$.\n",
    "\n",
    "The function $f$ is now defined as"
   ]
  },
  {
   "cell_type": "markdown",
   "id": "bd6a43d9",
   "metadata": {},
   "source": [
    "$$\n",
    "f(x,y,z) = x+y+z\n",
    "$$"
   ]
  },
  {
   "cell_type": "markdown",
   "id": "26d58c84",
   "metadata": {},
   "source": [
    "The implementation is"
   ]
  },
  {
   "cell_type": "code",
   "execution_count": null,
   "id": "aefb63ea",
   "metadata": {
    "tags": [
     "thebe-init"
    ]
   },
   "outputs": [],
   "source": [
    "rv = (5*(1-v/(2*sp.pi))*sp.cos(2*v)*(1+sp.cos(u))/4 + sp.cos(2*v),\n",
    "      5*(1-v/(2*sp.pi))*sp.sin(2*v)*(1+sp.cos(u))/4 + sp.sin(2*v),\n",
    "      10*v/(2*sp.pi) + 5*(1-v/(2*sp.pi))*sp.sin(u)/4 + 15)\n",
    "\n",
    "B0 = FunctionSpace(100, 'C', domain=(0, 2*np.pi))\n",
    "B1 = FunctionSpace(100, 'C', domain=(-2*np.pi, 2*np.pi))\n",
    "T = TensorProductSpace(comm, (B0, B1), coordinates=(psi, rv, sp.Q.positive(v-2*sp.pi)))\n",
    "\n",
    "f = rv[0]+rv[1]+rv[2]\n",
    "fb = Array(T, buffer=f)\n",
    "I = inner(1, fb)\n",
    "print(I)"
   ]
  },
  {
   "cell_type": "markdown",
   "id": "992e8c8c",
   "metadata": {},
   "source": [
    "which agrees very well with chebfun's result. The basis vectors\n",
    "for the surface of the seashell are"
   ]
  },
  {
   "cell_type": "code",
   "execution_count": null,
   "id": "1ddc6263",
   "metadata": {
    "tags": [
     "thebe-init"
    ]
   },
   "outputs": [],
   "source": [
    "Math(T.coors.latex_basis_vectors(symbol_names={u: 'u', v: 'v'}))"
   ]
  },
  {
   "cell_type": "markdown",
   "id": "dc6001df",
   "metadata": {},
   "source": [
    "which, if nothing else, shows the power of symbolic\n",
    "computing in Sympy.\n",
    "\n",
    "We can plot the\n",
    "seashell using either plotly or mayavi. Here we choose\n",
    "plotly since it integrates well with the executable\n",
    "jupyter book."
   ]
  },
  {
   "cell_type": "code",
   "execution_count": null,
   "id": "f3c67c6e",
   "metadata": {
    "tags": [
     "thebe-init"
    ]
   },
   "outputs": [],
   "source": [
    "import plotly\n",
    "fig = surf3D(fb, colorscale=plotly.colors.sequential.Jet)\n",
    "fig.update_layout(scene_camera_eye=dict(x=1.6, y=-1.4, z=0))\n",
    "fig.show()"
   ]
  },
  {
   "cell_type": "markdown",
   "id": "8bedf77d",
   "metadata": {},
   "source": [
    "<!-- ======= Bibliography ======= -->"
   ]
  }
 ],
 "metadata": {
  "kernelspec": {
   "display_name": "Python 3",
   "language": "python",
   "name": "python3"
  },
  "language_info": {
   "file_extension": ".py",
   "mimetype": "text/x-python",
   "name": "python",
   "nbconvert_exporter": "python",
   "pygments_lexer": "ipython3",
   "version": "3.8.5"
  }
 },
 "nbformat": 4,
 "nbformat_minor": 5
}
