{
 "cells": [
  {
   "cell_type": "markdown",
   "metadata": {},
   "source": [
    "<!-- dom:TITLE: Demo - 1D Poisson's equation -->\n",
    "# Demo - 1D Poisson's equation\n",
    "<!-- dom:AUTHOR: Mikael Mortensen Email:mikaem@math.uio.no at Department of Mathematics, University of Oslo. -->\n",
    "<!-- Author: -->  \n",
    "**Mikael Mortensen** (email: `mikaem@math.uio.no`), Department of Mathematics, University of Oslo.\n",
    "\n",
    "Date: **Aug 18, 2020**\n",
    "\n",
    "Copyright 2020, Mikael Mortensen. Released under CC Attribution 4.0 license\n",
    "\n",
    "**Summary.** This is a demonstration of how the Python module [shenfun](https://github.com/spectralDNS/shenfun) can be used to solve Poisson's\n",
    "equation with Dirichlet boundary conditions in one dimension. Spectral convergence, as\n",
    "shown in the figure below, is demonstrated.\n",
    "The demo is implemented in\n",
    "a single Python file [dirichlet_poisson1D.py](https://github.com/spectralDNS/shenfun/blob/master/demo/dirichlet_poisson1D.py), and\n",
    "the numerical method is is described in more detail by J. Shen [[shen1]](#shen1) and [[shen95]](#shen95).\n",
    "\n",
    "<!-- dom:FIGURE: [https://rawgit.com/spectralDNS/spectralutilities/master/figures/poisson1D_errornorm.png] Convergence of 1D Poisson solvers for both Legendre and Chebyshev modified basis function. <a id=\"fig:ct0\"></a> -->\n",
    "<!-- begin figure -->\n",
    "<a id=\"fig:ct0\"></a>\n",
    "\n",
    "<p>Convergence of 1D Poisson solvers for both Legendre and Chebyshev modified basis function.</p>\n",
    "<img src=\"https://rawgit.com/spectralDNS/spectralutilities/master/figures/poisson1D_errornorm.png\" >\n",
    "\n",
    "<!-- end figure -->\n",
    "\n",
    "\n",
    "\n",
    "\n",
    "\n",
    "\n",
    "\n",
    "\n",
    "\n",
    "\n",
    "\n",
    "\n",
    "## Poisson's equation\n",
    "\n",
    "Poisson's equation is given as"
   ]
  },
  {
   "cell_type": "markdown",
   "metadata": {},
   "source": [
    "<!-- Equation labels as ordinary links -->\n",
    "<a id=\"eq:poisson\"></a>\n",
    "\n",
    "$$\n",
    "\\begin{equation}\n",
    "\\nabla^2 u(x) = f(x) \\quad \\text{for }\\, x \\in [-1, 1], \\label{eq:poisson} \\tag{1}\n",
    "\\end{equation}\n",
    "$$"
   ]
  },
  {
   "cell_type": "markdown",
   "metadata": {},
   "source": [
    "<!-- Equation labels as ordinary links -->\n",
    "<a id=\"_auto1\"></a>\n",
    "\n",
    "$$\n",
    "\\begin{equation}  \n",
    "u(-1)=a, u(1)=b, \\notag\n",
    "\\label{_auto1} \\tag{2}\n",
    "\\end{equation}\n",
    "$$"
   ]
  },
  {
   "cell_type": "markdown",
   "metadata": {},
   "source": [
    "where $u(x)$ is the solution, $f(x)$ is a function and $a, b$ are two possibly\n",
    "non-zero constants.\n",
    "\n",
    "To solve Eq. ([1](#eq:poisson)) with the Galerkin method we need smooth continuously\n",
    "differentiable basis functions, $v_k$, that satisfy the given boundary conditions.\n",
    "And then we look for solutions like"
   ]
  },
  {
   "cell_type": "markdown",
   "metadata": {},
   "source": [
    "<!-- Equation labels as ordinary links -->\n",
    "<a id=\"eq:u\"></a>\n",
    "\n",
    "$$\n",
    "\\begin{equation}\n",
    "u(x) = \\sum_{k=0}^{N-1} \\hat{u}_k v_k(x), \\label{eq:u} \\tag{3}\n",
    "\\end{equation}\n",
    "$$"
   ]
  },
  {
   "cell_type": "markdown",
   "metadata": {},
   "source": [
    "where $N$ is the size of the discretized problem,\n",
    "$\\hat{\\mathbf{u}} = \\{\\hat{u}_k\\}_{k=0}^{N-1}$ are the unknown expansion\n",
    "coefficients, and the function space is $\\text{span}\\{v_k\\}_{k=0}^{N-1}$.\n",
    "\n",
    "The basis functions of the function space can, for example,  be constructed from\n",
    "[Chebyshev](https://en.wikipedia.org/wiki/Chebyshev_polynomials), $T_k(x)$, or\n",
    "[Legendre](https://en.wikipedia.org/wiki/Legendre_polynomials), $L_k(x)$, polynomials\n",
    "and we use the common notation $\\phi_k(x)$ to represent either one of them. It turns out that\n",
    "it is easiest to use basis functions with homogeneous Dirichlet boundary conditions"
   ]
  },
  {
   "cell_type": "markdown",
   "metadata": {},
   "source": [
    "<!-- Equation labels as ordinary links -->\n",
    "<a id=\"_auto2\"></a>\n",
    "\n",
    "$$\n",
    "\\begin{equation}\n",
    "v_k(x) = \\phi_k(x) - \\phi_{k+2}(x),\n",
    "\\label{_auto2} \\tag{4}\n",
    "\\end{equation}\n",
    "$$"
   ]
  },
  {
   "cell_type": "markdown",
   "metadata": {},
   "source": [
    "for $k=0, 1, \\ldots N-3$. This gives the function space\n",
    "$V^N_0 = \\text{span}\\{v_k(x)\\}_{k=0}^{N-3}$.\n",
    "We can then add two more linear basis functions (that belong to the kernel of Poisson's equation)"
   ]
  },
  {
   "cell_type": "markdown",
   "metadata": {},
   "source": [
    "<!-- Equation labels as ordinary links -->\n",
    "<a id=\"_auto3\"></a>\n",
    "\n",
    "$$\n",
    "\\begin{equation}\n",
    "v_{N-2} = \\frac{1}{2}(\\phi_0 - \\phi_1), \n",
    "\\label{_auto3} \\tag{5}\n",
    "\\end{equation}\n",
    "$$"
   ]
  },
  {
   "cell_type": "markdown",
   "metadata": {},
   "source": [
    "<!-- Equation labels as ordinary links -->\n",
    "<a id=\"_auto4\"></a>\n",
    "\n",
    "$$\n",
    "\\begin{equation}  \n",
    "v_{N-1} = \\frac{1}{2}(\\phi_0 + \\phi_1).\n",
    "\\label{_auto4} \\tag{6}\n",
    "\\end{equation}\n",
    "$$"
   ]
  },
  {
   "cell_type": "markdown",
   "metadata": {},
   "source": [
    "which gives the inhomogeneous space $V^N = \\text{span}\\{v_k\\}_{k=0}^{N-1}$.\n",
    "With the two linear basis functions it is easy to see that the last two degrees\n",
    "of freedom, $\\hat{u}_{N-2}$ and $\\hat{u}_{N-1}$, now are given as"
   ]
  },
  {
   "cell_type": "markdown",
   "metadata": {},
   "source": [
    "<!-- Equation labels as ordinary links -->\n",
    "<a id=\"eq:dirichleta\"></a>\n",
    "\n",
    "$$\n",
    "\\begin{equation}\n",
    "u(-1) = \\sum_{k=0}^{N-1} \\hat{u}_k v_k(-1) = \\hat{u}_{N-2} = a,\n",
    "\\label{eq:dirichleta} \\tag{7} \n",
    "\\end{equation}\n",
    "$$"
   ]
  },
  {
   "cell_type": "markdown",
   "metadata": {},
   "source": [
    "<!-- Equation labels as ordinary links -->\n",
    "<a id=\"eq:dirichletb\"></a>\n",
    "\n",
    "$$\n",
    "\\begin{equation}  \n",
    "u(+1) = \\sum_{k=0}^{N-1} \\hat{u}_k v_k(+1) = \\hat{u}_{N-1} = b,\n",
    "\\label{eq:dirichletb} \\tag{8}\n",
    "\\end{equation}\n",
    "$$"
   ]
  },
  {
   "cell_type": "markdown",
   "metadata": {},
   "source": [
    "and, as such, we only have to solve for $\\{\\hat{u}_k\\}_{k=0}^{N-3}$, just like\n",
    "for a problem with homogeneous boundary conditions (for homogeneous boundary condition\n",
    "we simply have $\\hat{u}_{N-2} = \\hat{u}_{N-1} = 0$).\n",
    "We now formulate a variational problem using the Galerkin method: Find $u \\in V^N$ such that"
   ]
  },
  {
   "cell_type": "markdown",
   "metadata": {},
   "source": [
    "<!-- Equation labels as ordinary links -->\n",
    "<a id=\"eq:varform\"></a>\n",
    "\n",
    "$$\n",
    "\\begin{equation}\n",
    "\\int_{-1}^1 \\nabla^2 u \\, v \\, w\\, dx = \\int_{-1}^1 f \\, v\\, w\\, dx \\quad \\forall v \\, \\in \\, V^N_0. \\label{eq:varform} \\tag{9}\n",
    "\\end{equation}\n",
    "$$"
   ]
  },
  {
   "cell_type": "markdown",
   "metadata": {},
   "source": [
    "Note that since we only have $N-3$ unknowns we are only using the homogeneous test\n",
    "functions from $V^N_0$.\n",
    "\n",
    "The weighted integrals, weighted by $w(x)$, are called inner products, and a\n",
    "common notation is"
   ]
  },
  {
   "cell_type": "markdown",
   "metadata": {},
   "source": [
    "<!-- Equation labels as ordinary links -->\n",
    "<a id=\"_auto5\"></a>\n",
    "\n",
    "$$\n",
    "\\begin{equation}\n",
    "\\int_{-1}^1 u \\, v \\, w\\, dx = \\left( u, v\\right)_w.\n",
    "\\label{_auto5} \\tag{10}\n",
    "\\end{equation}\n",
    "$$"
   ]
  },
  {
   "cell_type": "markdown",
   "metadata": {},
   "source": [
    "The integral can either be computed exactly, or with quadrature. The advantage\n",
    "of the latter is that it is generally faster, and that non-linear terms may be\n",
    "computed just as quickly as linear. For a linear problem, it does not make much\n",
    "of a difference, if any at all. Approximating the integral with quadrature, we\n",
    "obtain"
   ]
  },
  {
   "cell_type": "markdown",
   "metadata": {},
   "source": [
    "$$\n",
    "\\begin{align*}\n",
    "\\int_{-1}^1 u \\, v \\, w\\, dx &\\approx \\left( u, v \\right)_w^N, \\\\ \n",
    "&\\approx \\sum_{j=0}^{N-1} u(x_j) v(x_j) w(x_j),\n",
    "\\end{align*}\n",
    "$$"
   ]
  },
  {
   "cell_type": "markdown",
   "metadata": {},
   "source": [
    "where $\\{w(x_j)\\}_{j=0}^{N-1}$ are quadrature weights.\n",
    "The quadrature points $\\{x_j\\}_{j=0}^{N-1}$\n",
    "are specific to the chosen basis, and even within basis there are two different\n",
    "choices based on which quadrature rule is selected, either Gauss or Gauss-Lobatto.\n",
    "\n",
    "Inserting for test and trialfunctions, we get the following bilinear form and\n",
    "matrix $A\\in\\mathbb{R}^{N-3\\times N-3}$ for the Laplacian (using the\n",
    "summation convention in step 2)"
   ]
  },
  {
   "cell_type": "markdown",
   "metadata": {},
   "source": [
    "$$\n",
    "\\begin{align*}\n",
    "\\left( \\nabla^2u, v \\right)_w^N &= \\left( \\nabla^2\\sum_{k=0}^{N-3}\\hat{u}_k v_{k}, v_j \\right)_w^N, \\quad j=0,1,\\ldots, N-3\\\\ \n",
    "    &= \\left(\\nabla^2 v_{k}, v_j \\right)_w^N \\hat{u}_k, \\\\ \n",
    "    &= a_{jk} \\hat{u}_k.\n",
    "\\end{align*}\n",
    "$$"
   ]
  },
  {
   "cell_type": "markdown",
   "metadata": {},
   "source": [
    "Note that the sum in $a_{jk} \\hat{u}_{k}$ runs over $k=0, 1, \\ldots, N-3$ since\n",
    "the second derivatives of $v_{N-1}$ and $v_{N}$ are zero.\n",
    "The right hand side linear form and vector is computed as $\\tilde{f}_j = (f,\n",
    "v_j)_w^N$, for $j=0,1,\\ldots, N-3$, where a tilde is used because this is not\n",
    "a complete transform of the function $f$, but only an inner product.\n",
    "\n",
    "The linear system of equations to solve for the expansion coefficients\n",
    "of $u(x)$ is given as"
   ]
  },
  {
   "cell_type": "markdown",
   "metadata": {},
   "source": [
    "<!-- Equation labels as ordinary links -->\n",
    "<a id=\"_auto6\"></a>\n",
    "\n",
    "$$\n",
    "\\begin{equation}\n",
    "A \\hat{\\mathbf{u}} = \\tilde{\\mathbf{f}}.\n",
    "\\label{_auto6} \\tag{11}\n",
    "\\end{equation}\n",
    "$$"
   ]
  },
  {
   "cell_type": "markdown",
   "metadata": {},
   "source": [
    "Now, when the expansion coefficients $\\hat{\\mathbf{u}}$ are found by\n",
    "solving this linear system, they may be\n",
    "transformed to real space $u(x)$ using ([3](#eq:u)), and here the contributions\n",
    "from $\\hat{u}_{N-2}$ and $\\hat{u}_{N-1}$ must be accounted for. Note that the matrix\n",
    "$A$ (different for Legendre or Chebyshev) has a very special structure that\n",
    "allows for a solution to be found very efficiently in order of $\\mathcal{O}(N)$\n",
    "operations, see [[shen1]](#shen1) and [[shen95]](#shen95). These solvers are implemented in\n",
    "shenfun for both bases.\n",
    "\n",
    "## Method of manufactured solutions\n",
    "\n",
    "In this demo we will use the method of manufactured\n",
    "solutions to demonstrate spectral accuracy of the `shenfun` Dirichlet bases. To\n",
    "this end we choose an analytical function that satisfies the given boundary\n",
    "conditions:"
   ]
  },
  {
   "cell_type": "markdown",
   "metadata": {},
   "source": [
    "<!-- Equation labels as ordinary links -->\n",
    "<a id=\"eq:u_e\"></a>\n",
    "\n",
    "$$\n",
    "\\begin{equation}\n",
    "u_e(x) = \\sin(k\\pi x)(1-x^2) + a(1-x)/2 + b(1+x)/2, \\label{eq:u_e} \\tag{12}\n",
    "\\end{equation}\n",
    "$$"
   ]
  },
  {
   "cell_type": "markdown",
   "metadata": {},
   "source": [
    "where $k$ is an integer and $a$ and $b$ are constants. Now, feeding $u_e$ through\n",
    "the Laplace operator, we see that the last two linear terms disappear, whereas the\n",
    "first term results in"
   ]
  },
  {
   "cell_type": "markdown",
   "metadata": {},
   "source": [
    "<!-- Equation labels as ordinary links -->\n",
    "<a id=\"_auto7\"></a>\n",
    "\n",
    "$$\n",
    "\\begin{equation}\n",
    " \\nabla^2 u_e(x) = \\frac{d^2 u_e}{dx^2},  \n",
    "\\label{_auto7} \\tag{13}\n",
    "\\end{equation}\n",
    "$$"
   ]
  },
  {
   "cell_type": "markdown",
   "metadata": {},
   "source": [
    "<!-- Equation labels as ordinary links -->\n",
    "<a id=\"eq:solution\"></a>\n",
    "\n",
    "$$\n",
    "\\begin{equation}  \n",
    "                  = -4k \\pi x \\cos(k\\pi x) - 2\\sin(k\\pi x) - k^2 \\pi^2 (1 -\n",
    "x^2) \\sin(k \\pi x). \\label{eq:solution} \\tag{14}\n",
    "\\end{equation}\n",
    "$$"
   ]
  },
  {
   "cell_type": "markdown",
   "metadata": {},
   "source": [
    "Now, setting $f_e(x) = \\nabla^2 u_e(x)$ and solving for $\\nabla^2 u(x) = f_e(x)$,\n",
    "we can compare the numerical solution $u(x)$ with the analytical solution $u_e(x)$\n",
    "and compute error norms.\n",
    "\n",
    "## Implementation\n",
    "\n",
    "### Preamble\n",
    "\n",
    "We will solve Poisson's equation using the [shenfun](https://github.com/spectralDNS/shenfun) Python module. The first thing needed\n",
    "is then to import some of this module's functionality\n",
    "plus some other helper modules, like [Numpy](https://numpy.org) and [Sympy](https://sympy.org):"
   ]
  },
  {
   "cell_type": "code",
   "execution_count": 1,
   "metadata": {
    "collapsed": false
   },
   "outputs": [],
   "source": [
    "from shenfun import inner, div, grad, TestFunction, TrialFunction, Function, \\\n",
    "    project, Dx, Array, FunctionSpace, dx\n",
    "import numpy as np\n",
    "from sympy import symbols, cos, sin, exp, lambdify"
   ]
  },
  {
   "cell_type": "markdown",
   "metadata": {},
   "source": [
    "We use `Sympy` for the manufactured solution and `Numpy` for testing.\n",
    "\n",
    "### Manufactured solution\n",
    "\n",
    "The exact solution $u_e(x)$ and the right hand side $f_e(x)$ are created using\n",
    "`Sympy` as follows"
   ]
  },
  {
   "cell_type": "code",
   "execution_count": 2,
   "metadata": {
    "collapsed": false
   },
   "outputs": [],
   "source": [
    "a = -1\n",
    "b = 1\n",
    "k = 4\n",
    "x = symbols(\"x\")\n",
    "ue = sin(k*np.pi*x)*(1-x**2) + a*(1 - x)/2. + b*(1 + x)/2.\n",
    "fe = ue.diff(x, 2)"
   ]
  },
  {
   "cell_type": "markdown",
   "metadata": {},
   "source": [
    "These solutions are now valid for a continuous domain. The next step is thus to\n",
    "discretize, using a discrete mesh $\\{x_j\\}_{j=0}^{N-1}$ and a finite number of\n",
    "basis functions.\n",
    "\n",
    "Note that it is not mandatory to use `Sympy` for the manufactured solution. Since the\n",
    "solution is known ([14](#eq:solution)), we could just as well simply use `Numpy`\n",
    "to compute $f_e$ at $\\{x_j\\}_{j=0}^{N-1}$. However, with `Sympy` it is much\n",
    "easier to experiment and quickly change the solution.\n",
    "\n",
    "### Discretization\n",
    "\n",
    "We create a basis with a given number of basis functions, and extract the computational\n",
    "mesh from the basis itself"
   ]
  },
  {
   "cell_type": "code",
   "execution_count": 3,
   "metadata": {
    "collapsed": false
   },
   "outputs": [],
   "source": [
    "N = 32\n",
    "SD = FunctionSpace(N, 'Chebyshev', bc=(a, b))\n",
    "#SD = FunctionSpace(N, 'Legendre', bc=(a, b))\n",
    "X = SD.mesh(N)"
   ]
  },
  {
   "cell_type": "markdown",
   "metadata": {},
   "source": [
    "Note that we can either choose a Legendre or a Chebyshev basis.\n",
    "\n",
    "### Variational formulation\n",
    "\n",
    "The variational problem ([9](#eq:varform)) can be assembled using `shenfun`'s\n",
    "`TrialFunction`, `TestFunction` and `inner` functions."
   ]
  },
  {
   "cell_type": "code",
   "execution_count": 4,
   "metadata": {
    "collapsed": false
   },
   "outputs": [],
   "source": [
    "u = TrialFunction(SD)\n",
    "v = TestFunction(SD)\n",
    "# Assemble left hand side matrix\n",
    "A = inner(v, div(grad(u)))\n",
    "# Assemble right hand side\n",
    "fj = Array(SD, buffer=fe)\n",
    "f_hat = Function(SD)\n",
    "f_hat = inner(v, fj, output_array=f_hat)"
   ]
  },
  {
   "cell_type": "markdown",
   "metadata": {},
   "source": [
    "Note that the `sympy` function `fe` can be used to initialize the `Array`\n",
    "`fj`. We wrap this Numpy array in an `Array` class\n",
    "(`fj = Array(SD, buffer=fe)`), because an Array\n",
    "is required as input to the `inner` function.\n",
    "\n",
    "### Solve linear equations\n",
    "\n",
    "Finally, solve linear equation system and transform solution from spectral\n",
    "$\\{\\hat{u}_k\\}_{k=0}^{N-1}$ vector to the real space $\\{u(x_j)\\}_{j=0}^{N-1}$\n",
    "and then check how the solution corresponds with the exact solution $u_e$.\n",
    "To this end we compute the $L_2$-errornorm using the `shenfun` function\n",
    "`dx`"
   ]
  },
  {
   "cell_type": "code",
   "execution_count": 5,
   "metadata": {
    "collapsed": false
   },
   "outputs": [],
   "source": [
    "u_hat = A.solve(f_hat)\n",
    "uj = SD.backward(u_hat)\n",
    "ue = Array(SD, buffer=ue)\n",
    "\n",
    "print(\"Error=%2.16e\" %(np.sqrt(dx((uj-ue)**2))))\n",
    "assert np.allclose(uj, ue)"
   ]
  },
  {
   "cell_type": "markdown",
   "metadata": {},
   "source": [
    "### Convergence test\n",
    "\n",
    "A complete solver is given in Sec. [Complete solver](#sec:complete). This solver is created\n",
    "such that it takes in two commandline arguments and prints out the\n",
    "$L_2$-errornorm of the solution in the end. We can use this to write a short\n",
    "script that performs a convergence test. The solver is run like"
   ]
  },
  {
   "cell_type": "markdown",
   "metadata": {},
   "source": [
    "        >>> python dirichlet_poisson1D.py 32 legendre\n",
    "        Error=1.8132185245826562e-10\n"
   ]
  },
  {
   "cell_type": "markdown",
   "metadata": {},
   "source": [
    "for a discretization of size $N=32$ and for the Legendre basis. Alternatively,\n",
    "change `legendre` to `chebyshev` for the Chebyshev basis.\n",
    "\n",
    "We set up the solver to run for a list of $N=[12, 16, \\ldots, 48]$, and collect\n",
    "the errornorms in arrays to be plotted. Such a script can be easily created\n",
    "with the [subprocess](https://docs.python.org/3/library/subprocess.html) module"
   ]
  },
  {
   "cell_type": "markdown",
   "metadata": {},
   "source": [
    "```Python\n",
    "        import subprocess\n",
    "        \n",
    "        N = range(12, 50, 4)\n",
    "        error = {}\n",
    "        for basis in ('legendre', 'chebyshev'):\n",
    "            error[basis] = []\n",
    "            for i in range(len(N)):\n",
    "                output = subprocess.check_output(\"python dirichlet_poisson1D.py {} {}\".format(N[i], basis), shell=True)\n",
    "                exec(output) # Error is printed as \"Error=%2.16e\"%(np.linalg.norm(uj-ua))\n",
    "                error[basis].append(Error)\n",
    "```"
   ]
  },
  {
   "cell_type": "markdown",
   "metadata": {},
   "source": [
    "The error can be plotted using [matplotlib](https://matplotlib.org), and the generated figure is shown in the summary's Fig. [fig:ct0](#fig:ct0). The spectral convergence is evident and we can see that after $N=40$ roundoff errors dominate as the errornorm trails off around $10^{-14}$."
   ]
  },
  {
   "cell_type": "markdown",
   "metadata": {},
   "source": [
    "```Python\n",
    "        %matplotlib inline\n",
    "        \n",
    "        import matplotlib.pyplot as plt\n",
    "        plt.figure(figsize=(6, 4))\n",
    "        for basis, col in zip(('legendre', 'chebyshev'), ('r', 'b')):\n",
    "            plt.semilogy(N, error[basis], col, linewidth=2)\n",
    "        plt.title('Convergence of Poisson solvers 1D')\n",
    "        plt.xlabel('N')\n",
    "        plt.ylabel('Error norm')\n",
    "        plt.savefig('poisson1D_errornorm.png')\n",
    "        plt.legend(('Legendre', 'Chebyshev'))\n",
    "        plt.show()\n",
    "```"
   ]
  },
  {
   "cell_type": "markdown",
   "metadata": {},
   "source": [
    "<!-- FIGURE: [poisson1D_errornorm.png] Convergence test of Legendre and Chebyshev 1D Poisson solvers. <a id=\"fig:ct\"></a> -->\n",
    "\n",
    "\n",
    "## Complete solver\n",
    "<a id=\"sec:complete\"></a>\n",
    "\n",
    "A complete solver, that can use either Legendre or Chebyshev bases, chosen as a\n",
    "command-line argument, can be found [here](https://github.com/spectralDNS/shenfun/blob/master/demo/dirichlet_poisson1D.py).\n",
    "\n",
    "\n",
    "<!-- ======= Bibliography ======= -->\n",
    "\n",
    "\n",
    "\n",
    "1. <a id=\"shen1\"></a> **J. Shen**. \n",
    "    Efficient Spectral-Galerkin Method I. Direct Solvers of Second- and Fourth-Order Equations Using Legendre Polynomials,\n",
    "    *SIAM Journal on Scientific Computing*,\n",
    "    15(6),\n",
    "    pp. 1489-1505,\n",
    "    [doi: 10.1137/0915089](http://dx.doi.org/10.1137/0915089),\n",
    "    1994.\n",
    "\n",
    "2. <a id=\"shen95\"></a> **J. Shen**. \n",
    "    Efficient Spectral-Galerkin Method II. Direct Solvers of Second- and Fourth-Order Equations Using Chebyshev Polynomials,\n",
    "    *SIAM Journal on Scientific Computing*,\n",
    "    16(1),\n",
    "    pp. 74-87,\n",
    "    [doi: 10.1137/0916006](http://dx.doi.org/10.1137/0916006),\n",
    "    1995."
   ]
  }
 ],
 "metadata": {},
 "nbformat": 4,
 "nbformat_minor": 4
}
